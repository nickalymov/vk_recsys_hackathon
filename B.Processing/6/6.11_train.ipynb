{
 "cells": [
  {
   "cell_type": "code",
   "execution_count": 1,
   "id": "3e70abd3",
   "metadata": {
    "ExecuteTime": {
     "end_time": "2024-12-06T04:34:11.760439700Z",
     "start_time": "2024-12-06T04:34:11.737439900Z"
    },
    "collapsed": false,
    "execution": {
     "iopub.execute_input": "2024-12-06T07:42:27.673031Z",
     "iopub.status.busy": "2024-12-06T07:42:27.672706Z",
     "iopub.status.idle": "2024-12-06T07:42:27.680767Z",
     "shell.execute_reply": "2024-12-06T07:42:27.680172Z"
    },
    "jupyter": {
     "outputs_hidden": false
    },
    "papermill": {
     "duration": 0.014041,
     "end_time": "2024-12-06T07:42:27.682235",
     "exception": false,
     "start_time": "2024-12-06T07:42:27.668194",
     "status": "completed"
    },
    "tags": []
   },
   "outputs": [],
   "source": [
    "CONFIG = {\n",
    "    'data_folder' : '/kaggle/input/vkrecsys/',\n",
    "    'models_folder' : '/kaggle/working/',\n",
    "    \n",
    "    'train_path' : 'train_interactions.parquet',\n",
    "    'items_meta_path' : 'items_meta.parquet',\n",
    "    'users_meta_path' : 'users_meta.parquet',\n",
    "    'model_path' : '6.11.pth',\n",
    "    \n",
    "    'user_emb_size' : 256, # 183404\n",
    "    'item_emb_size' : 256, # 337727\n",
    "    'source_emb_size' : 256, # 19613\n",
    "    'age_emb_size' : 256, # 43\n",
    "    'duration_emb_size' : 256, # ~175   \n",
    "    'gender_emb_size' : 256, # 3\n",
    "    'timespent_emb_size' : 256, # 43\n",
    "    'torch_precision' : 40, # number of decimal places for printing numbers\n",
    "    \n",
    "    'DEVICE' : 'cuda',\n",
    "    'SEED' : 42,\n",
    "    'BATCH_SIZE' : 16384,\n",
    "    'LR' : 0.001,\n",
    "    'EPOCHS' : 3,\n",
    "    'output_dim' : 3\n",
    "    \n",
    "}"
   ]
  },
  {
   "cell_type": "code",
   "execution_count": 2,
   "id": "0757df2d",
   "metadata": {
    "ExecuteTime": {
     "end_time": "2024-12-06T04:34:13.156688700Z",
     "start_time": "2024-12-06T04:34:11.762440100Z"
    },
    "collapsed": false,
    "execution": {
     "iopub.execute_input": "2024-12-06T07:42:27.688660Z",
     "iopub.status.busy": "2024-12-06T07:42:27.688250Z",
     "iopub.status.idle": "2024-12-06T07:42:31.407299Z",
     "shell.execute_reply": "2024-12-06T07:42:31.406417Z"
    },
    "jupyter": {
     "outputs_hidden": false
    },
    "papermill": {
     "duration": 3.724312,
     "end_time": "2024-12-06T07:42:31.409247",
     "exception": false,
     "start_time": "2024-12-06T07:42:27.684935",
     "status": "completed"
    },
    "tags": []
   },
   "outputs": [],
   "source": [
    "# Import libs\n",
    "import numpy as np\n",
    "from tqdm import tqdm\n",
    "import pandas as pd\n",
    "import torch\n",
    "import torch.nn as nn\n",
    "from torch.optim import Adam"
   ]
  },
  {
   "cell_type": "code",
   "execution_count": 3,
   "id": "fe8bb9b5",
   "metadata": {
    "ExecuteTime": {
     "end_time": "2024-12-06T04:34:13.794085Z",
     "start_time": "2024-12-06T04:34:13.777071100Z"
    },
    "collapsed": false,
    "execution": {
     "iopub.execute_input": "2024-12-06T07:42:31.416081Z",
     "iopub.status.busy": "2024-12-06T07:42:31.415707Z",
     "iopub.status.idle": "2024-12-06T07:42:31.477343Z",
     "shell.execute_reply": "2024-12-06T07:42:31.476479Z"
    },
    "jupyter": {
     "outputs_hidden": false
    },
    "papermill": {
     "duration": 0.066964,
     "end_time": "2024-12-06T07:42:31.479036",
     "exception": false,
     "start_time": "2024-12-06T07:42:31.412072",
     "status": "completed"
    },
    "tags": []
   },
   "outputs": [],
   "source": [
    "# Device and seed\n",
    "device = torch.device(CONFIG['DEVICE'] if torch.cuda.is_available() else \"cpu\")\n",
    "torch.set_printoptions(precision=CONFIG['torch_precision']) \n",
    "\n",
    "torch.manual_seed(CONFIG['SEED'])  \n",
    "torch.cuda.manual_seed_all(CONFIG['SEED'])  \n",
    "np.random.seed(CONFIG['SEED'])  "
   ]
  },
  {
   "cell_type": "code",
   "execution_count": 4,
   "id": "6cdbec72",
   "metadata": {
    "ExecuteTime": {
     "end_time": "2024-12-06T04:34:18.286382800Z",
     "start_time": "2024-12-06T04:34:13.801085400Z"
    },
    "collapsed": false,
    "execution": {
     "iopub.execute_input": "2024-12-06T07:42:31.486143Z",
     "iopub.status.busy": "2024-12-06T07:42:31.485630Z",
     "iopub.status.idle": "2024-12-06T07:42:46.175398Z",
     "shell.execute_reply": "2024-12-06T07:42:46.174635Z"
    },
    "jupyter": {
     "outputs_hidden": false
    },
    "papermill": {
     "duration": 14.695387,
     "end_time": "2024-12-06T07:42:46.177473",
     "exception": false,
     "start_time": "2024-12-06T07:42:31.482086",
     "status": "completed"
    },
    "tags": []
   },
   "outputs": [],
   "source": [
    "# Loading data\n",
    "train = pd.read_parquet(f\"{CONFIG['data_folder']}{CONFIG['train_path']}\", engine='pyarrow')\n",
    "train['target'] = train['like'] + train['dislike'].replace({1: -1})\n",
    "train.drop(columns=['like', 'dislike'], inplace=True)\n",
    "train['target'] = train['target'].astype('int8')\n",
    "train['target'] = train['target'].replace({-1:0, 0:1, 1:2})\n",
    "train['timespent'] = train['timespent'] - 1\n",
    "\n",
    "items_meta = pd.read_parquet(f\"{CONFIG['data_folder']}{CONFIG['items_meta_path']}\", engine='pyarrow')\n",
    "items_meta['duration'] = items_meta['duration'] - 5\n",
    "items_meta['item_id'] = items_meta['item_id'].astype('category')\n",
    "items_meta['source_id'] = items_meta['source_id'].astype('category')\n",
    "items_meta['duration'] = items_meta['duration'].astype('category')\n",
    "items_meta.set_index('item_id', inplace=True)\n",
    "\n",
    "users_meta = pd.read_parquet(f\"{CONFIG['data_folder']}{CONFIG['users_meta_path']}\", engine='pyarrow')\n",
    "users_meta['age'] = users_meta['age'] - 18\n",
    "users_meta['gender'] = users_meta['gender'].replace({1:0, 2:1})\n",
    "users_meta['user_id'] = users_meta['user_id'].astype('category')\n",
    "users_meta['gender'] = users_meta['gender'].astype('category')\n",
    "users_meta['age'] = users_meta['age'].astype('category')\n",
    "users_meta.set_index('user_id', inplace=True)"
   ]
  },
  {
   "cell_type": "code",
   "execution_count": 5,
   "id": "a2819830",
   "metadata": {
    "ExecuteTime": {
     "end_time": "2024-12-06T04:34:26.817598200Z",
     "start_time": "2024-12-06T04:34:25.110141200Z"
    },
    "collapsed": false,
    "execution": {
     "iopub.execute_input": "2024-12-06T07:42:46.184750Z",
     "iopub.status.busy": "2024-12-06T07:42:46.184498Z",
     "iopub.status.idle": "2024-12-06T07:42:46.969115Z",
     "shell.execute_reply": "2024-12-06T07:42:46.968424Z"
    },
    "jupyter": {
     "outputs_hidden": false
    },
    "papermill": {
     "duration": 0.790704,
     "end_time": "2024-12-06T07:42:46.971149",
     "exception": false,
     "start_time": "2024-12-06T07:42:46.180445",
     "status": "completed"
    },
    "tags": []
   },
   "outputs": [],
   "source": [
    "class AFMModel(nn.Module):\n",
    "    def __init__(self, \n",
    "                 input_dim, \n",
    "                 num_users=users_meta.index.nunique(), \n",
    "                 num_items=items_meta.index.nunique(), \n",
    "                 num_sources=items_meta['source_id'].nunique(),\n",
    "                 num_ages=users_meta['age'].nunique(),\n",
    "                 num_durations=items_meta['duration'].nunique(),\n",
    "                 num_genders=users_meta['gender'].nunique(), \n",
    "                 num_timespents=train['timespent'].nunique(),\n",
    "                 output_dim=CONFIG['output_dim']): \n",
    "        super(AFMModel, self).__init__()\n",
    "        \n",
    "        # Embedding layers for each feature\n",
    "        self.user_embedding = nn.Embedding(num_users, CONFIG['user_emb_size'])\n",
    "        self.item_embedding = nn.Embedding(num_items, CONFIG['item_emb_size'])\n",
    "        self.source_embedding = nn.Embedding(num_sources, CONFIG['source_emb_size'])\n",
    "        self.age_embedding = nn.Embedding(num_ages, CONFIG['age_emb_size'])\n",
    "        self.duration_embedding = nn.Embedding(num_durations, CONFIG['duration_emb_size'])\n",
    "        self.gender_embedding = nn.Embedding(num_genders, CONFIG['gender_emb_size'])\n",
    "        self.timespent_embedding = nn.Embedding(num_timespents, CONFIG['timespent_emb_size'])\n",
    "\n",
    "        # Transformations for embeddings\n",
    "        self.user_emb_transform = nn.Linear(CONFIG['user_emb_size'], 32)\n",
    "        self.item_emb_transform = nn.Linear(CONFIG['item_emb_size'], 32)\n",
    "        self.source_emb_transform = nn.Linear(CONFIG['source_emb_size'], 32)\n",
    "        self.age_emb_transform = nn.Linear(CONFIG['age_emb_size'], 32)\n",
    "        self.duration_emb_transform = nn.Linear(CONFIG['duration_emb_size'], 32)\n",
    "        self.gender_emb_transform = nn.Linear(CONFIG['gender_emb_size'], 32)\n",
    "        self.timespent_emb_transform = nn.Linear(CONFIG['timespent_emb_size'], 32)\n",
    "\n",
    "        # Attention layer components\n",
    "        self.attention_network = nn.Sequential(\n",
    "            nn.Linear(64, 32),  # 64 comes from the concatenation of two embedding sizes\n",
    "            nn.ReLU(),\n",
    "            nn.Linear(32, 1)\n",
    "        )\n",
    "\n",
    "        self.output_layer = nn.Linear(32, output_dim)  # Output layer\n",
    "        \n",
    "        self.fc1 = nn.Linear(input_dim, 1024)\n",
    "        self.fc2 = nn.Linear(1024, 1024)\n",
    "        self.fc3 = nn.Linear(1024, 512)\n",
    "        self.fc4 = nn.Linear(512, 256)\n",
    "        self.fc5 = nn.Linear(256, 256)\n",
    "        self.fc6 = nn.Linear(256, 128)\n",
    "        self.fc7 = nn.Linear(128, 128)\n",
    "        self.fc8 = nn.Linear(128, 64)\n",
    "        self.fc9 = nn.Linear(64, output_dim)\n",
    "        \n",
    "        self.gelu = nn.GELU()\n",
    "    \n",
    "    def pairwise_interaction(self, x1, x2):\n",
    "        return x1 * x2  # Element-wise multiplication for feature interaction\n",
    "    \n",
    "    def compute_attention(self, emb1, emb2):\n",
    "        # Concatenate embeddings of the pair of features and pass through attention network\n",
    "        combined_emb = torch.cat([emb1, emb2], dim=-1)  # Concatenate embeddings (dim=-1 is feature dimension)\n",
    "        attention_score = self.attention_network(combined_emb)\n",
    "        attention_score = torch.sigmoid(attention_score)  # Use sigmoid for attention score\n",
    "        return attention_score\n",
    "    \n",
    "    def forward(self, user_ids, item_ids, source_ids, age_ids, duration_ids, gender_ids, embeddings, timespent_ids):\n",
    "        \n",
    "        # Obtain embeddings for all features\n",
    "        user_emb = self.user_embedding(user_ids)\n",
    "        item_emb = self.item_embedding(item_ids)\n",
    "        source_emb = self.source_embedding(source_ids)\n",
    "        age_emb = self.age_embedding(age_ids)\n",
    "        duration_emb = self.duration_embedding(duration_ids)\n",
    "        gender_emb = self.gender_embedding(gender_ids)\n",
    "        timespent_emb = self.timespent_embedding(timespent_ids)\n",
    "        \n",
    "        x = torch.cat((user_emb, item_emb, source_emb, age_emb, duration_emb, gender_emb, embeddings, timespent_emb), dim=1)\n",
    "        \n",
    "        x = self.gelu(self.fc1(x))\n",
    "        \n",
    "        x = self.gelu(self.fc2(x))\n",
    "        \n",
    "        x = self.gelu(self.fc3(x))\n",
    "        \n",
    "        x = self.gelu(self.fc4(x))\n",
    "        \n",
    "        x = self.gelu(self.fc5(x))\n",
    "        \n",
    "        x = self.gelu(self.fc6(x))\n",
    "        \n",
    "        x = self.gelu(self.fc7(x))\n",
    "        \n",
    "        x = self.gelu(self.fc8(x))\n",
    "        \n",
    "        x = self.fc9(x)\n",
    "        \n",
    "        # Apply linear transformations to embeddings\n",
    "        user_emb = self.user_emb_transform(user_emb)\n",
    "        item_emb = self.item_emb_transform(item_emb)\n",
    "        source_emb = self.source_emb_transform(source_emb)\n",
    "        age_emb = self.age_emb_transform(age_emb)\n",
    "        duration_emb = self.duration_emb_transform(duration_emb)\n",
    "        gender_emb = self.gender_emb_transform(gender_emb)\n",
    "        timespent_emb = self.timespent_emb_transform(timespent_emb)\n",
    "        \n",
    "        # Create dictionary of all embeddings\n",
    "        embeddings_dict = {\n",
    "            'user': user_emb,\n",
    "            'item': item_emb,\n",
    "            'source': source_emb,\n",
    "            'age': age_emb,\n",
    "            'duration': duration_emb,\n",
    "            'gender': gender_emb,\n",
    "            'embeddings': embeddings,\n",
    "            'timespent': timespent_emb,\n",
    "        }\n",
    "        \n",
    "        interactions = []\n",
    "        attention_scores = []\n",
    "        \n",
    "        # Compute pairwise interactions and their attention scores\n",
    "        for key1, emb1 in embeddings_dict.items():\n",
    "            for key2, emb2 in embeddings_dict.items():\n",
    "                if key1 < key2:  # Avoid double counting pairs (e.g., user-item and item-user)\n",
    "                    interaction = self.pairwise_interaction(emb1, emb2)\n",
    "                    attention_score = self.compute_attention(emb1, emb2)\n",
    "                    interactions.append(interaction * attention_score)  # Weight the interaction by attention score\n",
    "                    attention_scores.append(attention_score)  # Store the attention scores\n",
    "        \n",
    "        # Combine all interactions into a single tensor\n",
    "        interactions = torch.stack(interactions, dim=1)  # Shape: [batch_size, num_interactions]\n",
    "        attention_scores = torch.stack(attention_scores, dim=1)  # Shape: [batch_size, num_interactions]\n",
    "        \n",
    "        # Sum over all interactions with their respective attention scores\n",
    "        weighted_interactions = torch.sum(interactions * attention_scores, dim=1)\n",
    "        \n",
    "        # Pass through output layer to get the final prediction\n",
    "        y = self.output_layer(weighted_interactions)\n",
    "        \n",
    "        output = x + y\n",
    "        \n",
    "        return output"
   ]
  },
  {
   "cell_type": "code",
   "execution_count": 6,
   "id": "f0079ecd",
   "metadata": {
    "ExecuteTime": {
     "end_time": "2024-12-06T04:34:26.833647900Z",
     "start_time": "2024-12-06T04:34:26.817598200Z"
    },
    "collapsed": false,
    "execution": {
     "iopub.execute_input": "2024-12-06T07:42:46.978860Z",
     "iopub.status.busy": "2024-12-06T07:42:46.978611Z",
     "iopub.status.idle": "2024-12-06T07:42:46.982647Z",
     "shell.execute_reply": "2024-12-06T07:42:46.981961Z"
    },
    "jupyter": {
     "outputs_hidden": false
    },
    "papermill": {
     "duration": 0.008958,
     "end_time": "2024-12-06T07:42:46.984076",
     "exception": false,
     "start_time": "2024-12-06T07:42:46.975118",
     "status": "completed"
    },
    "tags": []
   },
   "outputs": [],
   "source": [
    "# Input dimension\n",
    "input_dim = (CONFIG['user_emb_size'] + \n",
    "             CONFIG['item_emb_size'] + \n",
    "             CONFIG['source_emb_size'] + \n",
    "             CONFIG['age_emb_size'] +\n",
    "             CONFIG['duration_emb_size'] + \n",
    "             CONFIG['gender_emb_size'] + \n",
    "             CONFIG['timespent_emb_size'] +\n",
    "             32)"
   ]
  },
  {
   "cell_type": "code",
   "execution_count": 7,
   "id": "8dbc5b26",
   "metadata": {
    "ExecuteTime": {
     "end_time": "2024-12-06T04:34:29.432036Z",
     "start_time": "2024-12-06T04:34:26.838648100Z"
    },
    "collapsed": false,
    "execution": {
     "iopub.execute_input": "2024-12-06T07:42:46.990048Z",
     "iopub.status.busy": "2024-12-06T07:42:46.989834Z",
     "iopub.status.idle": "2024-12-06T07:42:49.829674Z",
     "shell.execute_reply": "2024-12-06T07:42:49.828767Z"
    },
    "jupyter": {
     "outputs_hidden": false
    },
    "papermill": {
     "duration": 2.845067,
     "end_time": "2024-12-06T07:42:49.831700",
     "exception": false,
     "start_time": "2024-12-06T07:42:46.986633",
     "status": "completed"
    },
    "tags": []
   },
   "outputs": [],
   "source": [
    "# Model creation\n",
    "model = AFMModel(input_dim).to(device)\n",
    "criterion = nn.CrossEntropyLoss()\n",
    "optimizer = Adam(model.parameters(), lr=CONFIG['LR'])"
   ]
  },
  {
   "cell_type": "code",
   "execution_count": 8,
   "id": "b3ae1587",
   "metadata": {
    "ExecuteTime": {
     "start_time": "2024-12-06T04:34:34.774996700Z"
    },
    "collapsed": false,
    "execution": {
     "iopub.execute_input": "2024-12-06T07:42:49.838587Z",
     "iopub.status.busy": "2024-12-06T07:42:49.838213Z",
     "iopub.status.idle": "2024-12-06T08:43:15.630286Z",
     "shell.execute_reply": "2024-12-06T08:43:15.629346Z"
    },
    "is_executing": true,
    "jupyter": {
     "outputs_hidden": false
    },
    "papermill": {
     "duration": 3625.798644,
     "end_time": "2024-12-06T08:43:15.633241",
     "exception": false,
     "start_time": "2024-12-06T07:42:49.834597",
     "status": "completed"
    },
    "tags": []
   },
   "outputs": [
    {
     "name": "stderr",
     "output_type": "stream",
     "text": [
      "Epoch 1/3: 100%|██████████| 8891/8891 [20:18<00:00,  7.30batch/s, mean_loss=0.114643]\n"
     ]
    },
    {
     "name": "stdout",
     "output_type": "stream",
     "text": [
      "Epoch [1/3]: Train Loss: 0.1146\n"
     ]
    },
    {
     "name": "stderr",
     "output_type": "stream",
     "text": [
      "Epoch 2/3: 100%|██████████| 8891/8891 [20:02<00:00,  7.39batch/s, mean_loss=0.104348]\n"
     ]
    },
    {
     "name": "stdout",
     "output_type": "stream",
     "text": [
      "Epoch [2/3]: Train Loss: 0.1043\n"
     ]
    },
    {
     "name": "stderr",
     "output_type": "stream",
     "text": [
      "Epoch 3/3: 100%|██████████| 8891/8891 [20:04<00:00,  7.38batch/s, mean_loss=0.101905]"
     ]
    },
    {
     "name": "stdout",
     "output_type": "stream",
     "text": [
      "Epoch [3/3]: Train Loss: 0.1019\n"
     ]
    },
    {
     "name": "stderr",
     "output_type": "stream",
     "text": [
      "\n"
     ]
    }
   ],
   "source": [
    "# Train\n",
    "num_samples = len(train)\n",
    "num_batches = (num_samples + CONFIG['BATCH_SIZE'] - 1) // CONFIG['BATCH_SIZE']\n",
    "\n",
    "for epoch in range(CONFIG['EPOCHS']):\n",
    "    model.train()\n",
    "    running_loss = 0.0\n",
    "    num_samples = len(train)\n",
    "    num_batches = (num_samples + CONFIG['BATCH_SIZE'] - 1) // CONFIG['BATCH_SIZE']\n",
    "    \n",
    "    count = 0\n",
    "    with tqdm(range(num_batches), desc=f\"Epoch {epoch + 1}/{CONFIG['EPOCHS']}\", unit=\"batch\") as t:\n",
    "        for batch_idx in t:\n",
    "            start_idx = batch_idx * CONFIG['BATCH_SIZE']\n",
    "            end_idx = min(start_idx + CONFIG['BATCH_SIZE'], num_samples)\n",
    "            batch_main = train.iloc[start_idx:end_idx]\n",
    "            batch_user_ids = batch_main['user_id'].values\n",
    "            batch_item_ids = batch_main['item_id'].values\n",
    "\n",
    "            batch_users_meta = users_meta.loc[batch_user_ids]\n",
    "            batch_items_meta = items_meta.loc[batch_item_ids]\n",
    "\n",
    "            batch_user_values = torch.tensor(batch_user_ids, dtype=torch.long, device=device)\n",
    "            batch_item_values = torch.tensor(batch_item_ids, dtype=torch.long, device=device)\n",
    "            batch_timespent_values = torch.tensor(batch_main['timespent'].values, dtype=torch.long, device=device)\n",
    "            \n",
    "            batch_gender_values = torch.tensor(batch_users_meta['gender'].values, dtype=torch.long, device=device)\n",
    "            batch_age_values = torch.tensor(batch_users_meta['age'].values, dtype=torch.long, device=device)\n",
    "            batch_source_values = torch.tensor(batch_items_meta['source_id'].values, dtype=torch.long, device=device)\n",
    "            batch_duration_values = torch.tensor(batch_items_meta['duration'].values, dtype=torch.long, device=device)\n",
    "\n",
    "            embeddings = torch.tensor(np.stack(batch_items_meta['embeddings'].values), device=device,\n",
    "                                      dtype=torch.float32)\n",
    "            targets = torch.tensor(batch_main['target'].values, dtype=torch.long, device=device)\n",
    "\n",
    "            optimizer.zero_grad()\n",
    "            outputs = model(batch_user_values, batch_item_values, batch_source_values,\n",
    "                            batch_age_values, batch_duration_values, batch_gender_values, embeddings, batch_timespent_values)\n",
    "            loss = criterion(outputs, targets)\n",
    "            loss.backward()\n",
    "            optimizer.step()\n",
    "\n",
    "            running_loss += loss.item()\n",
    "            t.set_postfix(mean_loss=f\"{running_loss / (batch_idx + 1):.6f}\")\n",
    "            count += 1\n",
    "\n",
    "    train_loss = running_loss / count\n",
    "\n",
    "    print(f\"Epoch [{epoch + 1}/{CONFIG['EPOCHS']}]: Train Loss: {train_loss:.4f}\")"
   ]
  },
  {
   "cell_type": "code",
   "execution_count": 9,
   "id": "c0eaf6a9",
   "metadata": {
    "collapsed": false,
    "execution": {
     "iopub.execute_input": "2024-12-06T08:43:20.732786Z",
     "iopub.status.busy": "2024-12-06T08:43:20.732444Z",
     "iopub.status.idle": "2024-12-06T08:43:21.872123Z",
     "shell.execute_reply": "2024-12-06T08:43:21.871147Z"
    },
    "is_executing": true,
    "jupyter": {
     "outputs_hidden": false
    },
    "papermill": {
     "duration": 3.68428,
     "end_time": "2024-12-06T08:43:21.873816",
     "exception": false,
     "start_time": "2024-12-06T08:43:18.189536",
     "status": "completed"
    },
    "tags": []
   },
   "outputs": [
    {
     "name": "stdout",
     "output_type": "stream",
     "text": [
      "Модель сохранена в f'/kaggle/working/6.11.pth'\n"
     ]
    }
   ],
   "source": [
    "# Save model_state\n",
    "torch.save({\"model_state_dict\": model.state_dict()}, f\"{CONFIG['models_folder']}{CONFIG['model_path']}\")\n",
    "print(f\"Модель сохранена в f'{CONFIG['models_folder']}{CONFIG['model_path']}'\")"
   ]
  },
  {
   "cell_type": "code",
   "execution_count": null,
   "id": "c821cd67",
   "metadata": {
    "collapsed": false,
    "is_executing": true,
    "jupyter": {
     "outputs_hidden": false
    },
    "papermill": {
     "duration": 2.436134,
     "end_time": "2024-12-06T08:43:26.884936",
     "exception": false,
     "start_time": "2024-12-06T08:43:24.448802",
     "status": "completed"
    },
    "tags": []
   },
   "outputs": [],
   "source": []
  }
 ],
 "metadata": {
  "kaggle": {
   "accelerator": "gpu",
   "dataSources": [
    {
     "datasetId": 6155403,
     "sourceId": 10000346,
     "sourceType": "datasetVersion"
    }
   ],
   "dockerImageVersionId": 30805,
   "isGpuEnabled": true,
   "isInternetEnabled": true,
   "language": "python",
   "sourceType": "notebook"
  },
  "kernelspec": {
   "display_name": "Python 3",
   "language": "python",
   "name": "python3"
  },
  "language_info": {
   "codemirror_mode": {
    "name": "ipython",
    "version": 3
   },
   "file_extension": ".py",
   "mimetype": "text/x-python",
   "name": "python",
   "nbconvert_exporter": "python",
   "pygments_lexer": "ipython3",
   "version": "3.10.14"
  },
  "papermill": {
   "default_parameters": {},
   "duration": 3666.435131,
   "end_time": "2024-12-06T08:43:31.668864",
   "environment_variables": {},
   "exception": null,
   "input_path": "__notebook__.ipynb",
   "output_path": "__notebook__.ipynb",
   "parameters": {},
   "start_time": "2024-12-06T07:42:25.233733",
   "version": "2.6.0"
  }
 },
 "nbformat": 4,
 "nbformat_minor": 5
}
