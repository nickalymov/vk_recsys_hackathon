{
 "cells": [
  {
   "cell_type": "code",
   "execution_count": 1,
   "id": "initial_id",
   "metadata": {
    "collapsed": true,
    "ExecuteTime": {
     "end_time": "2024-12-17T17:44:31.357007200Z",
     "start_time": "2024-12-17T17:44:31.096938Z"
    }
   },
   "outputs": [],
   "source": [
    "import pandas as pd"
   ]
  },
  {
   "cell_type": "code",
   "outputs": [],
   "source": [
    "folder = 'C:/Users/Николай/PycharmProjects/VKRecSys/C.Results/test/'\n",
    "results_folder= 'C:/Users/Николай/PycharmProjects/VKRecSys/C.Results/'"
   ],
   "metadata": {
    "collapsed": false,
    "ExecuteTime": {
     "end_time": "2024-12-17T17:44:31.371776900Z",
     "start_time": "2024-12-17T17:44:31.358958900Z"
    }
   },
   "id": "9e60d38606d7a262",
   "execution_count": 2
  },
  {
   "cell_type": "code",
   "outputs": [],
   "source": [
    "preds_1 = pd.read_csv(f'{folder}7.6.3_test_e0.csv')"
   ],
   "metadata": {
    "collapsed": false,
    "ExecuteTime": {
     "end_time": "2024-12-17T17:44:31.625659100Z",
     "start_time": "2024-12-17T17:44:31.373710100Z"
    }
   },
   "id": "d25718b344fdc7f",
   "execution_count": 3
  },
  {
   "cell_type": "code",
   "outputs": [],
   "source": [
    "preds_2 = pd.read_csv(f'{folder}7.4.2_test_e0.csv')"
   ],
   "metadata": {
    "collapsed": false,
    "ExecuteTime": {
     "end_time": "2024-12-17T17:44:31.879736100Z",
     "start_time": "2024-12-17T17:44:31.625659100Z"
    }
   },
   "id": "fac345f65747dec7",
   "execution_count": 4
  },
  {
   "cell_type": "code",
   "outputs": [],
   "source": [
    "preds_3 = pd.read_csv(f'{folder}7.11.3_test_e0.csv')"
   ],
   "metadata": {
    "collapsed": false,
    "ExecuteTime": {
     "end_time": "2024-12-17T17:44:32.150721500Z",
     "start_time": "2024-12-17T17:44:31.882674900Z"
    }
   },
   "id": "e1084b7ac2a5b573",
   "execution_count": 5
  },
  {
   "cell_type": "code",
   "outputs": [],
   "source": [
    "combined_predict = (preds_2['predict'] + preds_1['predict'] + preds_3['predict']) / 3"
   ],
   "metadata": {
    "collapsed": false,
    "ExecuteTime": {
     "end_time": "2024-12-17T17:44:32.183685300Z",
     "start_time": "2024-12-17T17:44:32.153744700Z"
    }
   },
   "id": "6ff2701b863c7a3",
   "execution_count": 6
  },
  {
   "cell_type": "code",
   "outputs": [],
   "source": [
    "preds_1['predict'] = combined_predict"
   ],
   "metadata": {
    "collapsed": false,
    "ExecuteTime": {
     "end_time": "2024-12-17T17:44:32.196691200Z",
     "start_time": "2024-12-17T17:44:32.184649300Z"
    }
   },
   "id": "9ef94096623dcfa0",
   "execution_count": 7
  },
  {
   "cell_type": "code",
   "outputs": [],
   "source": [
    "preds_1.to_csv(f\"{results_folder}b.10_predictions.csv\", index=False)"
   ],
   "metadata": {
    "collapsed": false,
    "ExecuteTime": {
     "end_time": "2024-12-17T17:44:33.816664200Z",
     "start_time": "2024-12-17T17:44:32.198649200Z"
    }
   },
   "id": "18d3e4eb7430ecd4",
   "execution_count": 8
  },
  {
   "cell_type": "code",
   "outputs": [
    {
     "data": {
      "text/plain": "         user_id  item_id   predict\n0              1     7363  1.108399\n1              1    73770  1.155742\n2              1    75700  1.231381\n3              1    81204  1.115411\n4              1   110249  1.061405\n...          ...      ...       ...\n1655115   183403   235097  1.007018\n1655116   183403   267411  1.011662\n1655117   183403   273646  1.002235\n1655118   183403   288305  1.000486\n1655119   183403   322029  1.005475\n\n[1655120 rows x 3 columns]",
      "text/html": "<div>\n<style scoped>\n    .dataframe tbody tr th:only-of-type {\n        vertical-align: middle;\n    }\n\n    .dataframe tbody tr th {\n        vertical-align: top;\n    }\n\n    .dataframe thead th {\n        text-align: right;\n    }\n</style>\n<table border=\"1\" class=\"dataframe\">\n  <thead>\n    <tr style=\"text-align: right;\">\n      <th></th>\n      <th>user_id</th>\n      <th>item_id</th>\n      <th>predict</th>\n    </tr>\n  </thead>\n  <tbody>\n    <tr>\n      <th>0</th>\n      <td>1</td>\n      <td>7363</td>\n      <td>1.108399</td>\n    </tr>\n    <tr>\n      <th>1</th>\n      <td>1</td>\n      <td>73770</td>\n      <td>1.155742</td>\n    </tr>\n    <tr>\n      <th>2</th>\n      <td>1</td>\n      <td>75700</td>\n      <td>1.231381</td>\n    </tr>\n    <tr>\n      <th>3</th>\n      <td>1</td>\n      <td>81204</td>\n      <td>1.115411</td>\n    </tr>\n    <tr>\n      <th>4</th>\n      <td>1</td>\n      <td>110249</td>\n      <td>1.061405</td>\n    </tr>\n    <tr>\n      <th>...</th>\n      <td>...</td>\n      <td>...</td>\n      <td>...</td>\n    </tr>\n    <tr>\n      <th>1655115</th>\n      <td>183403</td>\n      <td>235097</td>\n      <td>1.007018</td>\n    </tr>\n    <tr>\n      <th>1655116</th>\n      <td>183403</td>\n      <td>267411</td>\n      <td>1.011662</td>\n    </tr>\n    <tr>\n      <th>1655117</th>\n      <td>183403</td>\n      <td>273646</td>\n      <td>1.002235</td>\n    </tr>\n    <tr>\n      <th>1655118</th>\n      <td>183403</td>\n      <td>288305</td>\n      <td>1.000486</td>\n    </tr>\n    <tr>\n      <th>1655119</th>\n      <td>183403</td>\n      <td>322029</td>\n      <td>1.005475</td>\n    </tr>\n  </tbody>\n</table>\n<p>1655120 rows × 3 columns</p>\n</div>"
     },
     "execution_count": 9,
     "metadata": {},
     "output_type": "execute_result"
    }
   ],
   "source": [
    "preds_1"
   ],
   "metadata": {
    "collapsed": false,
    "ExecuteTime": {
     "end_time": "2024-12-17T17:44:33.832305300Z",
     "start_time": "2024-12-17T17:44:33.816664200Z"
    }
   },
   "id": "62c14a9f794f9bbf",
   "execution_count": 9
  },
  {
   "cell_type": "code",
   "outputs": [],
   "source": [],
   "metadata": {
    "collapsed": false,
    "ExecuteTime": {
     "end_time": "2024-12-17T17:44:33.887301500Z",
     "start_time": "2024-12-17T17:44:33.834302300Z"
    }
   },
   "id": "89d10f068729fec4",
   "execution_count": 9
  }
 ],
 "metadata": {
  "kernelspec": {
   "display_name": "Python 3",
   "language": "python",
   "name": "python3"
  },
  "language_info": {
   "codemirror_mode": {
    "name": "ipython",
    "version": 2
   },
   "file_extension": ".py",
   "mimetype": "text/x-python",
   "name": "python",
   "nbconvert_exporter": "python",
   "pygments_lexer": "ipython2",
   "version": "2.7.6"
  }
 },
 "nbformat": 4,
 "nbformat_minor": 5
}
