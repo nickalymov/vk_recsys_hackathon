{
 "cells": [
  {
   "cell_type": "code",
   "execution_count": 1,
   "id": "initial_id",
   "metadata": {
    "collapsed": true,
    "ExecuteTime": {
     "end_time": "2024-12-08T05:38:02.653924600Z",
     "start_time": "2024-12-08T05:38:02.381603100Z"
    }
   },
   "outputs": [],
   "source": [
    "import pandas as pd"
   ]
  },
  {
   "cell_type": "code",
   "outputs": [],
   "source": [
    "folder = 'C:/Users/Николай/PycharmProjects/VKRecSys/C.Results/'\n",
    "results_folder= 'C:/Users/Николай/PycharmProjects/VKRecSys/C.Results/'"
   ],
   "metadata": {
    "collapsed": false,
    "ExecuteTime": {
     "end_time": "2024-12-08T05:38:02.666923200Z",
     "start_time": "2024-12-08T05:38:02.655924500Z"
    }
   },
   "id": "9e60d38606d7a262",
   "execution_count": 2
  },
  {
   "cell_type": "code",
   "outputs": [],
   "source": [
    "preds_1 = pd.read_csv(f'{folder}6.14_predictions.csv')"
   ],
   "metadata": {
    "collapsed": false,
    "ExecuteTime": {
     "end_time": "2024-12-08T05:38:03.000921600Z",
     "start_time": "2024-12-08T05:38:02.668923500Z"
    }
   },
   "id": "d25718b344fdc7f",
   "execution_count": 3
  },
  {
   "cell_type": "code",
   "outputs": [],
   "source": [
    "preds_2 = pd.read_csv(f'{folder}3.1.6_ensemble_predictions.csv')"
   ],
   "metadata": {
    "collapsed": false,
    "ExecuteTime": {
     "end_time": "2024-12-08T05:38:03.315936700Z",
     "start_time": "2024-12-08T05:38:03.004921900Z"
    }
   },
   "id": "2e6d720431495974",
   "execution_count": 4
  },
  {
   "cell_type": "code",
   "outputs": [],
   "source": [
    "preds_1_predict = preds_1['predict']"
   ],
   "metadata": {
    "collapsed": false,
    "ExecuteTime": {
     "end_time": "2024-12-08T05:38:03.330950800Z",
     "start_time": "2024-12-08T05:38:03.317936800Z"
    }
   },
   "id": "f9a7c20d0382d1a2",
   "execution_count": 5
  },
  {
   "cell_type": "code",
   "outputs": [],
   "source": [
    "preds_2_predict = preds_2['predict']"
   ],
   "metadata": {
    "collapsed": false,
    "ExecuteTime": {
     "end_time": "2024-12-08T05:38:03.357951200Z",
     "start_time": "2024-12-08T05:38:03.333950800Z"
    }
   },
   "id": "d9007dbeaf38459f",
   "execution_count": 6
  },
  {
   "cell_type": "code",
   "outputs": [],
   "source": [
    "combined_predict = (preds_1_predict + preds_2_predict) / 2"
   ],
   "metadata": {
    "collapsed": false,
    "ExecuteTime": {
     "end_time": "2024-12-08T05:38:03.362951Z",
     "start_time": "2024-12-08T05:38:03.348951300Z"
    }
   },
   "id": "6ff2701b863c7a3",
   "execution_count": 7
  },
  {
   "cell_type": "code",
   "outputs": [
    {
     "data": {
      "text/plain": "0          1.091069\n1          1.119975\n2          1.180652\n3          1.083201\n4          1.033778\n             ...   \n1655115    1.002467\n1655116    1.006234\n1655117    1.001031\n1655118    1.000459\n1655119    1.003050\nName: predict, Length: 1655120, dtype: float64"
     },
     "execution_count": 8,
     "metadata": {},
     "output_type": "execute_result"
    }
   ],
   "source": [
    "combined_predict"
   ],
   "metadata": {
    "collapsed": false,
    "ExecuteTime": {
     "end_time": "2024-12-08T05:38:03.388950800Z",
     "start_time": "2024-12-08T05:38:03.362951Z"
    }
   },
   "id": "4a042496494796a8",
   "execution_count": 8
  },
  {
   "cell_type": "code",
   "outputs": [],
   "source": [
    "preds_1['predict'] = combined_predict"
   ],
   "metadata": {
    "collapsed": false,
    "ExecuteTime": {
     "end_time": "2024-12-08T05:38:03.397951200Z",
     "start_time": "2024-12-08T05:38:03.377950700Z"
    }
   },
   "id": "9ef94096623dcfa0",
   "execution_count": 9
  },
  {
   "cell_type": "code",
   "outputs": [],
   "source": [
    "preds_1.to_csv(f\"{results_folder}3.1.6_6.14_predictions.csv\", index=False)"
   ],
   "metadata": {
    "collapsed": false,
    "ExecuteTime": {
     "end_time": "2024-12-08T05:38:05.142018900Z",
     "start_time": "2024-12-08T05:38:03.392950700Z"
    }
   },
   "id": "18d3e4eb7430ecd4",
   "execution_count": 10
  },
  {
   "cell_type": "code",
   "outputs": [
    {
     "data": {
      "text/plain": "         user_id  item_id   predict\n0              1     7363  1.091069\n1              1    73770  1.119975\n2              1    75700  1.180652\n3              1    81204  1.083201\n4              1   110249  1.033778\n...          ...      ...       ...\n1655115   183403   235097  1.002467\n1655116   183403   267411  1.006234\n1655117   183403   273646  1.001031\n1655118   183403   288305  1.000459\n1655119   183403   322029  1.003050\n\n[1655120 rows x 3 columns]",
      "text/html": "<div>\n<style scoped>\n    .dataframe tbody tr th:only-of-type {\n        vertical-align: middle;\n    }\n\n    .dataframe tbody tr th {\n        vertical-align: top;\n    }\n\n    .dataframe thead th {\n        text-align: right;\n    }\n</style>\n<table border=\"1\" class=\"dataframe\">\n  <thead>\n    <tr style=\"text-align: right;\">\n      <th></th>\n      <th>user_id</th>\n      <th>item_id</th>\n      <th>predict</th>\n    </tr>\n  </thead>\n  <tbody>\n    <tr>\n      <th>0</th>\n      <td>1</td>\n      <td>7363</td>\n      <td>1.091069</td>\n    </tr>\n    <tr>\n      <th>1</th>\n      <td>1</td>\n      <td>73770</td>\n      <td>1.119975</td>\n    </tr>\n    <tr>\n      <th>2</th>\n      <td>1</td>\n      <td>75700</td>\n      <td>1.180652</td>\n    </tr>\n    <tr>\n      <th>3</th>\n      <td>1</td>\n      <td>81204</td>\n      <td>1.083201</td>\n    </tr>\n    <tr>\n      <th>4</th>\n      <td>1</td>\n      <td>110249</td>\n      <td>1.033778</td>\n    </tr>\n    <tr>\n      <th>...</th>\n      <td>...</td>\n      <td>...</td>\n      <td>...</td>\n    </tr>\n    <tr>\n      <th>1655115</th>\n      <td>183403</td>\n      <td>235097</td>\n      <td>1.002467</td>\n    </tr>\n    <tr>\n      <th>1655116</th>\n      <td>183403</td>\n      <td>267411</td>\n      <td>1.006234</td>\n    </tr>\n    <tr>\n      <th>1655117</th>\n      <td>183403</td>\n      <td>273646</td>\n      <td>1.001031</td>\n    </tr>\n    <tr>\n      <th>1655118</th>\n      <td>183403</td>\n      <td>288305</td>\n      <td>1.000459</td>\n    </tr>\n    <tr>\n      <th>1655119</th>\n      <td>183403</td>\n      <td>322029</td>\n      <td>1.003050</td>\n    </tr>\n  </tbody>\n</table>\n<p>1655120 rows × 3 columns</p>\n</div>"
     },
     "execution_count": 11,
     "metadata": {},
     "output_type": "execute_result"
    }
   ],
   "source": [
    "preds_1"
   ],
   "metadata": {
    "collapsed": false,
    "ExecuteTime": {
     "end_time": "2024-12-08T05:38:05.163035700Z",
     "start_time": "2024-12-08T05:38:05.144019300Z"
    }
   },
   "id": "62c14a9f794f9bbf",
   "execution_count": 11
  },
  {
   "cell_type": "code",
   "outputs": [],
   "source": [],
   "metadata": {
    "collapsed": false,
    "ExecuteTime": {
     "end_time": "2024-12-08T05:38:05.189036700Z",
     "start_time": "2024-12-08T05:38:05.157036400Z"
    }
   },
   "id": "89d10f068729fec4",
   "execution_count": 11
  }
 ],
 "metadata": {
  "kernelspec": {
   "display_name": "Python 3",
   "language": "python",
   "name": "python3"
  },
  "language_info": {
   "codemirror_mode": {
    "name": "ipython",
    "version": 2
   },
   "file_extension": ".py",
   "mimetype": "text/x-python",
   "name": "python",
   "nbconvert_exporter": "python",
   "pygments_lexer": "ipython2",
   "version": "2.7.6"
  }
 },
 "nbformat": 4,
 "nbformat_minor": 5
}
