{
 "cells": [
  {
   "cell_type": "code",
   "execution_count": 1,
   "id": "initial_id",
   "metadata": {
    "collapsed": true,
    "ExecuteTime": {
     "end_time": "2024-12-12T17:35:25.640931100Z",
     "start_time": "2024-12-12T17:35:25.311626200Z"
    }
   },
   "outputs": [],
   "source": [
    "import pandas as pd"
   ]
  },
  {
   "cell_type": "code",
   "outputs": [],
   "source": [
    "folder = 'C:/Users/Николай/PycharmProjects/VKRecSys/C.Results/test/'\n",
    "results_folder= 'C:/Users/Николай/PycharmProjects/VKRecSys/C.Results/'"
   ],
   "metadata": {
    "collapsed": false,
    "ExecuteTime": {
     "end_time": "2024-12-12T17:35:25.655924800Z",
     "start_time": "2024-12-12T17:35:25.641925Z"
    }
   },
   "id": "9e60d38606d7a262",
   "execution_count": 2
  },
  {
   "cell_type": "code",
   "outputs": [],
   "source": [
    "preds_1 = pd.read_csv(f'{folder}7.1.1_test_e2.csv')"
   ],
   "metadata": {
    "collapsed": false,
    "ExecuteTime": {
     "end_time": "2024-12-12T17:35:26.030869600Z",
     "start_time": "2024-12-12T17:35:25.655924800Z"
    }
   },
   "id": "d25718b344fdc7f",
   "execution_count": 3
  },
  {
   "cell_type": "code",
   "outputs": [],
   "source": [
    "preds_2 = pd.read_csv(f'{folder}7.2.1_test_e2.csv')"
   ],
   "metadata": {
    "collapsed": false,
    "ExecuteTime": {
     "end_time": "2024-12-12T17:35:26.379885900Z",
     "start_time": "2024-12-12T17:35:26.031866600Z"
    }
   },
   "id": "fac345f65747dec7",
   "execution_count": 4
  },
  {
   "cell_type": "code",
   "outputs": [],
   "source": [
    "preds_3 = pd.read_csv(f'{folder}7.4.1_test_e3.csv')"
   ],
   "metadata": {
    "collapsed": false,
    "ExecuteTime": {
     "end_time": "2024-12-12T17:35:26.729132Z",
     "start_time": "2024-12-12T17:35:26.379885900Z"
    }
   },
   "id": "eb6f1887f603d45e",
   "execution_count": 5
  },
  {
   "cell_type": "code",
   "outputs": [],
   "source": [
    "preds_4 = pd.read_csv(f'{folder}7.5.1_test_e2.csv')"
   ],
   "metadata": {
    "collapsed": false,
    "ExecuteTime": {
     "end_time": "2024-12-12T17:35:27.060134700Z",
     "start_time": "2024-12-12T17:35:26.731125Z"
    }
   },
   "id": "713ed6347fdac045",
   "execution_count": 6
  },
  {
   "cell_type": "code",
   "outputs": [],
   "source": [
    "preds_5 = pd.read_csv(f'{folder}7.5.1_test_e3.csv')"
   ],
   "metadata": {
    "collapsed": false,
    "ExecuteTime": {
     "end_time": "2024-12-12T17:35:27.421132200Z",
     "start_time": "2024-12-12T17:35:27.060134700Z"
    }
   },
   "id": "8e8aff60464469cb",
   "execution_count": 7
  },
  {
   "cell_type": "code",
   "outputs": [],
   "source": [
    "preds_6 = pd.read_csv(f'{results_folder}3.1.6_ensemble_predictions.csv')"
   ],
   "metadata": {
    "collapsed": false,
    "ExecuteTime": {
     "end_time": "2024-12-12T17:35:27.770666700Z",
     "start_time": "2024-12-12T17:35:27.423196500Z"
    }
   },
   "id": "cddd7dce24e9f5c2",
   "execution_count": 8
  },
  {
   "cell_type": "code",
   "outputs": [],
   "source": [
    "preds_7 = pd.read_csv(f'{folder}7.6.3_test_e0.csv')"
   ],
   "metadata": {
    "collapsed": false,
    "ExecuteTime": {
     "end_time": "2024-12-12T17:35:28.118608300Z",
     "start_time": "2024-12-12T17:35:27.770666700Z"
    }
   },
   "id": "f456a77b86eb1323",
   "execution_count": 9
  },
  {
   "cell_type": "code",
   "outputs": [],
   "source": [
    "combined_predict = (preds_5['predict'] + preds_4['predict'] + preds_3['predict'] + preds_2['predict'] + preds_1['predict'] + preds_6['predict'] + preds_7['predict']) / 7"
   ],
   "metadata": {
    "collapsed": false,
    "ExecuteTime": {
     "end_time": "2024-12-12T17:35:28.164587600Z",
     "start_time": "2024-12-12T17:35:28.120600800Z"
    }
   },
   "id": "6ff2701b863c7a3",
   "execution_count": 10
  },
  {
   "cell_type": "code",
   "outputs": [
    {
     "data": {
      "text/plain": "0          1.075321\n1          1.113445\n2          1.213211\n3          1.074263\n4          1.055002\n             ...   \n1655115    1.007138\n1655116    1.009839\n1655117    1.001693\n1655118    1.000364\n1655119    1.004498\nName: predict, Length: 1655120, dtype: float64"
     },
     "execution_count": 11,
     "metadata": {},
     "output_type": "execute_result"
    }
   ],
   "source": [
    "combined_predict"
   ],
   "metadata": {
    "collapsed": false,
    "ExecuteTime": {
     "end_time": "2024-12-12T17:35:28.192587400Z",
     "start_time": "2024-12-12T17:35:28.165587700Z"
    }
   },
   "id": "4a042496494796a8",
   "execution_count": 11
  },
  {
   "cell_type": "code",
   "outputs": [],
   "source": [
    "preds_1['predict'] = combined_predict"
   ],
   "metadata": {
    "collapsed": false,
    "ExecuteTime": {
     "end_time": "2024-12-12T17:35:28.215587800Z",
     "start_time": "2024-12-12T17:35:28.181588500Z"
    }
   },
   "id": "9ef94096623dcfa0",
   "execution_count": 12
  },
  {
   "cell_type": "code",
   "outputs": [],
   "source": [
    "preds_1.to_csv(f\"{results_folder}b.7_predictions.csv\", index=False)"
   ],
   "metadata": {
    "collapsed": false,
    "ExecuteTime": {
     "end_time": "2024-12-12T17:35:30.464497Z",
     "start_time": "2024-12-12T17:35:28.198588300Z"
    }
   },
   "id": "18d3e4eb7430ecd4",
   "execution_count": 13
  },
  {
   "cell_type": "code",
   "outputs": [
    {
     "data": {
      "text/plain": "         user_id  item_id   predict\n0              1     7363  1.075321\n1              1    73770  1.113445\n2              1    75700  1.213211\n3              1    81204  1.074263\n4              1   110249  1.055002\n...          ...      ...       ...\n1655115   183403   235097  1.007138\n1655116   183403   267411  1.009839\n1655117   183403   273646  1.001693\n1655118   183403   288305  1.000364\n1655119   183403   322029  1.004498\n\n[1655120 rows x 3 columns]",
      "text/html": "<div>\n<style scoped>\n    .dataframe tbody tr th:only-of-type {\n        vertical-align: middle;\n    }\n\n    .dataframe tbody tr th {\n        vertical-align: top;\n    }\n\n    .dataframe thead th {\n        text-align: right;\n    }\n</style>\n<table border=\"1\" class=\"dataframe\">\n  <thead>\n    <tr style=\"text-align: right;\">\n      <th></th>\n      <th>user_id</th>\n      <th>item_id</th>\n      <th>predict</th>\n    </tr>\n  </thead>\n  <tbody>\n    <tr>\n      <th>0</th>\n      <td>1</td>\n      <td>7363</td>\n      <td>1.075321</td>\n    </tr>\n    <tr>\n      <th>1</th>\n      <td>1</td>\n      <td>73770</td>\n      <td>1.113445</td>\n    </tr>\n    <tr>\n      <th>2</th>\n      <td>1</td>\n      <td>75700</td>\n      <td>1.213211</td>\n    </tr>\n    <tr>\n      <th>3</th>\n      <td>1</td>\n      <td>81204</td>\n      <td>1.074263</td>\n    </tr>\n    <tr>\n      <th>4</th>\n      <td>1</td>\n      <td>110249</td>\n      <td>1.055002</td>\n    </tr>\n    <tr>\n      <th>...</th>\n      <td>...</td>\n      <td>...</td>\n      <td>...</td>\n    </tr>\n    <tr>\n      <th>1655115</th>\n      <td>183403</td>\n      <td>235097</td>\n      <td>1.007138</td>\n    </tr>\n    <tr>\n      <th>1655116</th>\n      <td>183403</td>\n      <td>267411</td>\n      <td>1.009839</td>\n    </tr>\n    <tr>\n      <th>1655117</th>\n      <td>183403</td>\n      <td>273646</td>\n      <td>1.001693</td>\n    </tr>\n    <tr>\n      <th>1655118</th>\n      <td>183403</td>\n      <td>288305</td>\n      <td>1.000364</td>\n    </tr>\n    <tr>\n      <th>1655119</th>\n      <td>183403</td>\n      <td>322029</td>\n      <td>1.004498</td>\n    </tr>\n  </tbody>\n</table>\n<p>1655120 rows × 3 columns</p>\n</div>"
     },
     "execution_count": 14,
     "metadata": {},
     "output_type": "execute_result"
    }
   ],
   "source": [
    "preds_1"
   ],
   "metadata": {
    "collapsed": false,
    "ExecuteTime": {
     "end_time": "2024-12-12T17:35:30.482458800Z",
     "start_time": "2024-12-12T17:35:30.466490300Z"
    }
   },
   "id": "62c14a9f794f9bbf",
   "execution_count": 14
  },
  {
   "cell_type": "code",
   "outputs": [],
   "source": [],
   "metadata": {
    "collapsed": false,
    "ExecuteTime": {
     "end_time": "2024-12-12T17:35:30.521107500Z",
     "start_time": "2024-12-12T17:35:30.480496800Z"
    }
   },
   "id": "89d10f068729fec4",
   "execution_count": 14
  }
 ],
 "metadata": {
  "kernelspec": {
   "display_name": "Python 3",
   "language": "python",
   "name": "python3"
  },
  "language_info": {
   "codemirror_mode": {
    "name": "ipython",
    "version": 2
   },
   "file_extension": ".py",
   "mimetype": "text/x-python",
   "name": "python",
   "nbconvert_exporter": "python",
   "pygments_lexer": "ipython2",
   "version": "2.7.6"
  }
 },
 "nbformat": 4,
 "nbformat_minor": 5
}
