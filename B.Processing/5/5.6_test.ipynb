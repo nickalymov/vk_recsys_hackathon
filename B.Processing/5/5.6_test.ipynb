{
 "cells": [
  {
   "cell_type": "code",
   "outputs": [],
   "source": [
    "CONFIG = {\n",
    "    'data_folder' : 'C:/Users/Николай/PycharmProjects/VKRecSys/data/',\n",
    "    'custom_data_folder' : 'C:/Users/Николай/PycharmProjects/VKRecSys/custom_data/',\n",
    "    'models_folder' : 'C:/Users/Николай/PycharmProjects/VKRecSys/B.Processing/Модели/',\n",
    "    \"results_folder\" : 'C:/Users/Николай/PycharmProjects/VKRecSys/C.Results/',\n",
    "    \n",
    "    \"model_path_1\" : '_5.6.pth_fold_0',\n",
    "    \"model_path_2\" : '_5.6.pth_fold_1',\n",
    "    \"model_path_3\" : '_5.6.pth_fold_2',\n",
    "    \"model_path_4\" : '_5.6.pth_fold_3',\n",
    "    \n",
    "    'test_path': 'test_pairs.csv', \n",
    "    \"output_path\" : '5.6_ensemble_predictions.csv',\n",
    "    \n",
    "    'train_path' : 'train_interactions.parquet',\n",
    "    'items_meta_path' : 'av4_items_meta.parquet',\n",
    "    'users_meta_path' : 'av4_users_meta.parquet',\n",
    "    \n",
    "    'user_emb_size' : 256, # 183404\n",
    "    'item_emb_size' : 256, # 337727\n",
    "    'source_emb_size' : 256, # 19613\n",
    "    'torch_precision' : 40, # number of decimal places for printing numbers\n",
    "        \n",
    "    'DEVICE' : 'cuda',\n",
    "    'SEED' : 42,\n",
    "    'BATCH_SIZE' : 16384,\n",
    "    'LR' : 0.001,\n",
    "    'EPOCHS' : 3,\n",
    "    'output_dim' : 3\n",
    "    \n",
    "}"
   ],
   "metadata": {
    "collapsed": false,
    "ExecuteTime": {
     "end_time": "2024-12-03T02:44:45.038628400Z",
     "start_time": "2024-12-03T02:44:45.026593100Z"
    }
   },
   "id": "85bb781765998480",
   "execution_count": 9
  },
  {
   "cell_type": "code",
   "outputs": [],
   "source": [
    "import numpy as np\n",
    "import torch\n",
    "import torch.nn.functional as F\n",
    "import pandas as pd\n",
    "from tqdm import tqdm\n",
    "import torch.nn as nn"
   ],
   "metadata": {
    "collapsed": false,
    "ExecuteTime": {
     "end_time": "2024-12-03T02:41:49.296884700Z",
     "start_time": "2024-12-03T02:41:47.722604200Z"
    }
   },
   "id": "initial_id",
   "execution_count": 2
  },
  {
   "cell_type": "code",
   "outputs": [],
   "source": [
    "device = torch.device(\"cuda\" if torch.cuda.is_available() else \"cpu\")\n",
    "\n",
    "test = pd.read_csv(f\"{CONFIG['data_folder']}{CONFIG['test_path']}\")"
   ],
   "metadata": {
    "collapsed": false,
    "ExecuteTime": {
     "end_time": "2024-12-03T02:42:15.957243700Z",
     "start_time": "2024-12-03T02:42:15.778180700Z"
    }
   },
   "id": "4bb59b8372f36e7a",
   "execution_count": 3
  },
  {
   "cell_type": "code",
   "outputs": [],
   "source": [
    "items_meta = pd.read_parquet(f\"{CONFIG['custom_data_folder']}{CONFIG['items_meta_path']}\", engine='pyarrow')\n",
    "users_meta = pd.read_parquet(f\"{CONFIG['custom_data_folder']}{CONFIG['users_meta_path']}\", engine='pyarrow')\n",
    "users_meta['gender'] = users_meta['gender'].replace({1: 0, 2: 1})\n",
    "# Normalization of numeric features\n",
    "users_meta['age'] = (users_meta['age'] - users_meta['age'].min()) / (users_meta['age'].max() - users_meta['age'].min())\n",
    "items_meta['duration'] = (items_meta['duration'] - items_meta['duration'].min()) / (\n",
    "items_meta['duration'].max() - items_meta['duration'].min())"
   ],
   "metadata": {
    "collapsed": false,
    "ExecuteTime": {
     "end_time": "2024-12-03T02:42:17.784528400Z",
     "start_time": "2024-12-03T02:42:17.390529600Z"
    }
   },
   "id": "a782ca772e252412",
   "execution_count": 4
  },
  {
   "cell_type": "code",
   "outputs": [],
   "source": [
    "# Model definition\n",
    "class MLPModel(nn.Module):\n",
    "    def __init__(self, \n",
    "                 input_dim, \n",
    "                 num_users=users_meta.index.nunique(), \n",
    "                 num_items=items_meta.index.nunique(), \n",
    "                 num_sources=items_meta['source_id'].nunique(),\n",
    "                 output_dim=CONFIG['output_dim'],\n",
    "                 dropout_rate=0.2):  # Добавлен параметр dropout_rate\n",
    "        \n",
    "        super(MLPModel, self).__init__()\n",
    "        self.user_embedding = nn.Embedding(num_users, CONFIG['user_emb_size'])\n",
    "        self.item_embedding = nn.Embedding(num_items, CONFIG['item_emb_size'])\n",
    "        self.source_embedding = nn.Embedding(num_sources, CONFIG['source_emb_size'])\n",
    "\n",
    "        self.fc1 = nn.Linear(input_dim, 1024)\n",
    "        self.fc2 = nn.Linear(1024, 1024)\n",
    "        self.fc3 = nn.Linear(1024, 512)\n",
    "        self.fc4 = nn.Linear(512, 256)\n",
    "        self.fc5 = nn.Linear(256, 256)\n",
    "        self.fc6 = nn.Linear(256, 128)\n",
    "        self.fc7 = nn.Linear(128, 128)\n",
    "        self.fc8 = nn.Linear(128, 64)\n",
    "        self.fc9 = nn.Linear(64, output_dim)\n",
    "        \n",
    "        self.gelu = nn.GELU()\n",
    "\n",
    "    def forward(self, user_ids, item_ids, source_ids, embeddings, u, i):\n",
    "        user_emb = self.user_embedding(user_ids)\n",
    "        item_emb = self.item_embedding(item_ids)\n",
    "        source_emb = self.source_embedding(source_ids)\n",
    "\n",
    "        x = torch.cat((user_emb, item_emb, source_emb, embeddings, u, i), dim=1)\n",
    "        \n",
    "        x = self.gelu(self.fc1(x))\n",
    "        \n",
    "        x = self.gelu(self.fc2(x))\n",
    "        \n",
    "        x = self.gelu(self.fc3(x))\n",
    "        \n",
    "        x = self.gelu(self.fc4(x))\n",
    "        \n",
    "        x = self.gelu(self.fc5(x))\n",
    "        \n",
    "        x = self.gelu(self.fc6(x))\n",
    "        \n",
    "        x = self.gelu(self.fc7(x))\n",
    "        \n",
    "        x = self.gelu(self.fc8(x))\n",
    "        \n",
    "        x = self.fc9(x)\n",
    "        return x"
   ],
   "metadata": {
    "collapsed": false,
    "ExecuteTime": {
     "end_time": "2024-12-03T02:42:39.227135600Z",
     "start_time": "2024-12-03T02:42:39.201032500Z"
    }
   },
   "id": "2c96d1de0845a0f2",
   "execution_count": 5
  },
  {
   "cell_type": "code",
   "outputs": [],
   "source": [
    "input_dim = 1 + 1 + 1 + CONFIG['user_emb_size'] + CONFIG['item_emb_size'] + CONFIG['source_emb_size'] + 32 + 24"
   ],
   "metadata": {
    "collapsed": false,
    "ExecuteTime": {
     "end_time": "2024-12-03T02:42:48.740469Z",
     "start_time": "2024-12-03T02:42:48.725471800Z"
    }
   },
   "id": "a1a08851792d8010",
   "execution_count": 6
  },
  {
   "cell_type": "code",
   "outputs": [],
   "source": [
    "# Оценивание каждой модели и усреднение результатов\n",
    "model_paths = [CONFIG['model_path_1'], CONFIG['model_path_2'], CONFIG['model_path_3'], CONFIG['model_path_4']]\n",
    "all_predictions = []"
   ],
   "metadata": {
    "collapsed": false,
    "ExecuteTime": {
     "end_time": "2024-12-03T02:45:23.027154900Z",
     "start_time": "2024-12-03T02:45:23.011119400Z"
    }
   },
   "id": "f18c6983f5e8521f",
   "execution_count": 11
  },
  {
   "cell_type": "code",
   "outputs": [
    {
     "name": "stdout",
     "output_type": "stream",
     "text": [
      "Загрузка модели: _5.6.pth_fold_0\n"
     ]
    },
    {
     "name": "stderr",
     "output_type": "stream",
     "text": [
      "C:\\Users\\Николай\\AppData\\Local\\Temp\\ipykernel_2352\\3536639851.py:4: FutureWarning: You are using `torch.load` with `weights_only=False` (the current default value), which uses the default pickle module implicitly. It is possible to construct malicious pickle data which will execute arbitrary code during unpickling (See https://github.com/pytorch/pytorch/blob/main/SECURITY.md#untrusted-models for more details). In a future release, the default value for `weights_only` will be flipped to `True`. This limits the functions that could be executed during unpickling. Arbitrary objects will no longer be allowed to be loaded via this mode unless they are explicitly allowlisted by the user via `torch.serialization.add_safe_globals`. We recommend you start setting `weights_only=True` for any use case where you don't have full control of the loaded file. Please open an issue on GitHub for any issues related to this experimental feature.\n",
      "  model.load_state_dict(torch.load(f\"{CONFIG['models_folder']}{model_path}\")[\"model_state_dict\"])\n",
      "Оценивание _5.6.pth_fold_0: 100%|██████████| 102/102 [00:04<00:00, 21.94it/s]\n"
     ]
    },
    {
     "name": "stdout",
     "output_type": "stream",
     "text": [
      "Загрузка модели: _5.6.pth_fold_1\n"
     ]
    },
    {
     "name": "stderr",
     "output_type": "stream",
     "text": [
      "C:\\Users\\Николай\\AppData\\Local\\Temp\\ipykernel_2352\\3536639851.py:4: FutureWarning: You are using `torch.load` with `weights_only=False` (the current default value), which uses the default pickle module implicitly. It is possible to construct malicious pickle data which will execute arbitrary code during unpickling (See https://github.com/pytorch/pytorch/blob/main/SECURITY.md#untrusted-models for more details). In a future release, the default value for `weights_only` will be flipped to `True`. This limits the functions that could be executed during unpickling. Arbitrary objects will no longer be allowed to be loaded via this mode unless they are explicitly allowlisted by the user via `torch.serialization.add_safe_globals`. We recommend you start setting `weights_only=True` for any use case where you don't have full control of the loaded file. Please open an issue on GitHub for any issues related to this experimental feature.\n",
      "  model.load_state_dict(torch.load(f\"{CONFIG['models_folder']}{model_path}\")[\"model_state_dict\"])\n",
      "Оценивание _5.6.pth_fold_1: 100%|██████████| 102/102 [00:04<00:00, 22.29it/s]\n"
     ]
    },
    {
     "name": "stdout",
     "output_type": "stream",
     "text": [
      "Загрузка модели: _5.6.pth_fold_2\n"
     ]
    },
    {
     "name": "stderr",
     "output_type": "stream",
     "text": [
      "C:\\Users\\Николай\\AppData\\Local\\Temp\\ipykernel_2352\\3536639851.py:4: FutureWarning: You are using `torch.load` with `weights_only=False` (the current default value), which uses the default pickle module implicitly. It is possible to construct malicious pickle data which will execute arbitrary code during unpickling (See https://github.com/pytorch/pytorch/blob/main/SECURITY.md#untrusted-models for more details). In a future release, the default value for `weights_only` will be flipped to `True`. This limits the functions that could be executed during unpickling. Arbitrary objects will no longer be allowed to be loaded via this mode unless they are explicitly allowlisted by the user via `torch.serialization.add_safe_globals`. We recommend you start setting `weights_only=True` for any use case where you don't have full control of the loaded file. Please open an issue on GitHub for any issues related to this experimental feature.\n",
      "  model.load_state_dict(torch.load(f\"{CONFIG['models_folder']}{model_path}\")[\"model_state_dict\"])\n",
      "Оценивание _5.6.pth_fold_2: 100%|██████████| 102/102 [00:04<00:00, 22.09it/s]\n"
     ]
    },
    {
     "name": "stdout",
     "output_type": "stream",
     "text": [
      "Загрузка модели: _5.6.pth_fold_3\n"
     ]
    },
    {
     "name": "stderr",
     "output_type": "stream",
     "text": [
      "C:\\Users\\Николай\\AppData\\Local\\Temp\\ipykernel_2352\\3536639851.py:4: FutureWarning: You are using `torch.load` with `weights_only=False` (the current default value), which uses the default pickle module implicitly. It is possible to construct malicious pickle data which will execute arbitrary code during unpickling (See https://github.com/pytorch/pytorch/blob/main/SECURITY.md#untrusted-models for more details). In a future release, the default value for `weights_only` will be flipped to `True`. This limits the functions that could be executed during unpickling. Arbitrary objects will no longer be allowed to be loaded via this mode unless they are explicitly allowlisted by the user via `torch.serialization.add_safe_globals`. We recommend you start setting `weights_only=True` for any use case where you don't have full control of the loaded file. Please open an issue on GitHub for any issues related to this experimental feature.\n",
      "  model.load_state_dict(torch.load(f\"{CONFIG['models_folder']}{model_path}\")[\"model_state_dict\"])\n",
      "Оценивание _5.6.pth_fold_3: 100%|██████████| 102/102 [00:04<00:00, 23.04it/s]\n"
     ]
    }
   ],
   "source": [
    "for model_path in model_paths:\n",
    "    print(f\"Загрузка модели: {model_path}\")\n",
    "    model = MLPModel(input_dim).to(device)\n",
    "    model.load_state_dict(torch.load(f\"{CONFIG['models_folder']}{model_path}\")[\"model_state_dict\"])\n",
    "    model.eval()\n",
    "    \n",
    "    predictions = []\n",
    "    num_samples = len(test)\n",
    "    num_batches = (num_samples + CONFIG['BATCH_SIZE'] - 1) // CONFIG['BATCH_SIZE']\n",
    "    \n",
    "    with torch.no_grad():\n",
    "        for batch_idx in tqdm(range(num_batches), desc=f\"Оценивание {model_path}\"):\n",
    "            start_idx = batch_idx * CONFIG['BATCH_SIZE']\n",
    "            end_idx = min(start_idx + CONFIG['BATCH_SIZE'], num_samples)\n",
    "            batch = test.iloc[start_idx:end_idx]\n",
    "\n",
    "            batch_user_ids = torch.tensor(batch['user_id'].values, dtype=torch.long, device=device)\n",
    "            batch_item_ids = torch.tensor(batch['item_id'].values, dtype=torch.long, device=device)\n",
    "            batch_source_ids = torch.tensor(items_meta.loc[batch['item_id'].values, 'source_id'].values, dtype=torch.long, device=device)\n",
    "            \n",
    "            users_features = users_meta.loc[batch['user_id'].values]  \n",
    "            users_features = torch.tensor(users_features.values, dtype=torch.float32, device=device)\n",
    "            \n",
    "            items_features = items_meta.loc[batch['item_id'].values].drop(columns=['source_id', 'embeddings'])\n",
    "            items_features = torch.tensor(items_features.values, dtype=torch.float32, device=device)\n",
    "            \n",
    "            item_indices = batch_item_ids.cpu().numpy()\n",
    "            embeddings = torch.tensor(np.stack(items_meta.loc[item_indices, 'embeddings'].values), device=device, dtype=torch.float32)\n",
    "            \n",
    "\n",
    "            outputs = model(batch_user_ids, batch_item_ids, batch_source_ids, embeddings, users_features, items_features)\n",
    "            \n",
    "            probabilities = F.softmax(outputs, dim=1)\n",
    "\n",
    "            # Взвешенные предсказания\n",
    "            class_weights = torch.tensor([0, 1, 2], device=probabilities.device, dtype=probabilities.dtype)\n",
    "            weighted_predictions = torch.sum(probabilities * class_weights, dim=1).cpu().numpy()\n",
    "\n",
    "            predictions.extend(weighted_predictions)\n",
    "    \n",
    "    all_predictions.append(predictions)\n",
    "    del model\n",
    "    torch.cuda.empty_cache()\n",
    "\n",
    "# Усреднение предсказаний\n",
    "ensemble_predictions = np.mean(all_predictions, axis=0)"
   ],
   "metadata": {
    "collapsed": false,
    "ExecuteTime": {
     "end_time": "2024-12-03T02:47:17.632873800Z",
     "start_time": "2024-12-03T02:46:54.702028100Z"
    }
   },
   "id": "ca25e6733a34f86c",
   "execution_count": 13
  },
  {
   "cell_type": "code",
   "outputs": [
    {
     "name": "stdout",
     "output_type": "stream",
     "text": [
      "Результаты сохранены в C:/Users/Николай/PycharmProjects/VKRecSys/C.Results/5.6_ensemble_predictions.csv\n"
     ]
    }
   ],
   "source": [
    "# Сохранение результатов\n",
    "test['predict'] = ensemble_predictions\n",
    "output_path = f\"{CONFIG['results_folder']}{CONFIG['output_path']}\"\n",
    "test[['user_id', 'item_id', 'predict']].to_csv(output_path, index=False)\n",
    "print(f\"Результаты сохранены в {output_path}\")"
   ],
   "metadata": {
    "collapsed": false,
    "ExecuteTime": {
     "end_time": "2024-12-03T02:48:15.269519100Z",
     "start_time": "2024-12-03T02:48:13.814072200Z"
    }
   },
   "id": "419a2708db762296",
   "execution_count": 14
  }
 ],
 "metadata": {
  "kernelspec": {
   "display_name": "Python 3",
   "language": "python",
   "name": "python3"
  },
  "language_info": {
   "codemirror_mode": {
    "name": "ipython",
    "version": 2
   },
   "file_extension": ".py",
   "mimetype": "text/x-python",
   "name": "python",
   "nbconvert_exporter": "python",
   "pygments_lexer": "ipython2",
   "version": "2.7.6"
  }
 },
 "nbformat": 4,
 "nbformat_minor": 5
}
