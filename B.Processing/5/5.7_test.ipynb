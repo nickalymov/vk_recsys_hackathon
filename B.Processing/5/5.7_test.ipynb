{
 "cells": [
  {
   "cell_type": "code",
   "execution_count": 1,
   "id": "5de76b33d4673490",
   "metadata": {
    "collapsed": false,
    "ExecuteTime": {
     "end_time": "2024-12-03T06:10:52.421323500Z",
     "start_time": "2024-12-03T06:10:52.399324900Z"
    }
   },
   "outputs": [],
   "source": [
    "CONFIG = {\n",
    "    'data_folder': 'C:/Users/Николай/PycharmProjects/VKRecSys/data/',\n",
    "    'models_folder': 'C:/Users/Николай/PycharmProjects/VKRecSys/B.Processing/Модели/',\n",
    "    'results_folder': 'C:/Users/Николай/PycharmProjects/VKRecSys/C.Results/',\n",
    "\n",
    "    'test_path': 'test_pairs.csv',  \n",
    "    'model_path': '5.7.pth', \n",
    "    'output_path': '5.7_predictions.csv',\n",
    "    'items_meta_path' : 'items_meta.parquet',\n",
    "    'users_meta_path' : 'users_meta.parquet',\n",
    "\n",
    "    'user_emb_size': 256,\n",
    "    'item_emb_size': 256,\n",
    "    'source_emb_size': 256,\n",
    "    'torch_precision': 40,  # Количество знаков после запятой\n",
    "\n",
    "    'DEVICE': 'cuda',\n",
    "    'SEED': 42,\n",
    "    'BATCH_SIZE': 16384,\n",
    "    'output_dim': 3\n",
    "}"
   ]
  },
  {
   "cell_type": "code",
   "outputs": [],
   "source": [
    "import numpy as np\n",
    "import pandas as pd\n",
    "import torch\n",
    "import torch.nn as nn\n",
    "import torch.nn.functional as F\n",
    "from torch.optim import Adam\n",
    "from tqdm import tqdm"
   ],
   "metadata": {
    "collapsed": false,
    "ExecuteTime": {
     "end_time": "2024-12-03T06:10:53.885455900Z",
     "start_time": "2024-12-03T06:10:52.413323900Z"
    }
   },
   "id": "2af2aecfc6847170",
   "execution_count": 2
  },
  {
   "cell_type": "code",
   "outputs": [],
   "source": [
    "device = torch.device(CONFIG['DEVICE'] if torch.cuda.is_available() else \"cpu\")\n",
    "torch.set_printoptions(precision=CONFIG['torch_precision'])\n",
    "\n",
    "torch.manual_seed(CONFIG['SEED'])\n",
    "torch.cuda.manual_seed_all(CONFIG['SEED'])\n",
    "np.random.seed(CONFIG['SEED'])"
   ],
   "metadata": {
    "collapsed": false,
    "ExecuteTime": {
     "end_time": "2024-12-03T06:10:55.162953400Z",
     "start_time": "2024-12-03T06:10:53.885455900Z"
    }
   },
   "id": "404582cb35e90296",
   "execution_count": 3
  },
  {
   "cell_type": "code",
   "outputs": [],
   "source": [
    "test = pd.read_csv(f\"{CONFIG['data_folder']}{CONFIG['test_path']}\")\n",
    "\n",
    "items_meta = pd.read_parquet(f\"{CONFIG['data_folder']}{CONFIG['items_meta_path']}\", engine='pyarrow')\n",
    "items_meta['item_id'] = items_meta['item_id'].astype('category')\n",
    "items_meta.set_index('item_id', inplace=True)\n",
    "\n",
    "users_meta = pd.read_parquet(f\"{CONFIG['data_folder']}{CONFIG['users_meta_path']}\", engine='pyarrow')\n",
    "users_meta['user_id'] = users_meta['user_id'].astype('category')\n",
    "users_meta.set_index('user_id', inplace=True)\n",
    "\n",
    "users_meta['age'] = (users_meta['age'] - users_meta['age'].min()) / (users_meta['age'].max() - users_meta['age'].min())\n",
    "items_meta['duration'] = (items_meta['duration'] - items_meta['duration'].min()) / (\n",
    "            items_meta['duration'].max() - items_meta['duration'].min())"
   ],
   "metadata": {
    "collapsed": false,
    "ExecuteTime": {
     "end_time": "2024-12-03T06:10:55.651314400Z",
     "start_time": "2024-12-03T06:10:55.161971900Z"
    }
   },
   "id": "75461867fc71ecda",
   "execution_count": 4
  },
  {
   "cell_type": "code",
   "outputs": [],
   "source": [
    "# Model definition\n",
    "class TwoTowerModel(nn.Module):\n",
    "    def __init__(self, \n",
    "                 user_input_dim, \n",
    "                 item_input_dim, \n",
    "                 num_users=users_meta.index.nunique(), \n",
    "                 num_items=items_meta.index.nunique(), \n",
    "                 num_sources=items_meta['source_id'].nunique(),\n",
    "                 output_dim=CONFIG['output_dim']):  # Параметр dropout добавлен для регуляризации\n",
    "        super(TwoTowerModel, self).__init__()\n",
    "        \n",
    "        # User tower\n",
    "        self.user_embedding = nn.Embedding(num_users, CONFIG['user_emb_size'])\n",
    "        self.user_fc1 = nn.Linear(user_input_dim, 1024)\n",
    "        self.user_fc2 = nn.Linear(1024, 512)\n",
    "        self.user_fc3 = nn.Linear(512, 256)\n",
    "        \n",
    "        # Item tower\n",
    "        self.item_embedding = nn.Embedding(num_items, CONFIG['item_emb_size'])\n",
    "        self.source_embedding = nn.Embedding(num_sources, CONFIG['source_emb_size'])\n",
    "        self.item_fc1 = nn.Linear(item_input_dim, 1024)\n",
    "        self.item_fc2 = nn.Linear(1024, 512)\n",
    "        self.item_fc3 = nn.Linear(512, 256)\n",
    "        \n",
    "        # Final output layer\n",
    "        self.output_layer = nn.Linear(512, output_dim) \n",
    "        \n",
    "        # Activation and dropout\n",
    "        self.gelu = nn.GELU()\n",
    "\n",
    "    def forward(self, user_ids, age, gender, \n",
    "                item_ids, source_ids, duration, embeddings):\n",
    "        # User tower\n",
    "        user_emb = self.user_embedding(user_ids)\n",
    "        user_input = torch.cat((user_emb, age, gender), dim=1)\n",
    "        user_x = self.gelu(self.user_fc1(user_input))\n",
    "        user_x = self.gelu(self.user_fc2(user_x))\n",
    "        user_x = self.gelu(self.user_fc3(user_x))\n",
    "        \n",
    "        # Item tower\n",
    "        item_emb = self.item_embedding(item_ids)\n",
    "        source_emb = self.source_embedding(source_ids)\n",
    "        item_input = torch.cat((item_emb, source_emb, duration, embeddings), dim=1)\n",
    "        item_x = self.gelu(self.item_fc1(item_input))\n",
    "        item_x = self.gelu(self.item_fc2(item_x))\n",
    "        item_x = self.gelu(self.item_fc3(item_x))\n",
    "        \n",
    "        # Combine user and item representations\n",
    "        combined = torch.cat((user_x, item_x), dim=1) \n",
    "        output = self.output_layer(combined)\n",
    "        return output"
   ],
   "metadata": {
    "collapsed": false,
    "ExecuteTime": {
     "end_time": "2024-12-03T06:10:55.684300100Z",
     "start_time": "2024-12-03T06:10:55.659241900Z"
    }
   },
   "id": "a8659ecba5b8dcca",
   "execution_count": 5
  },
  {
   "cell_type": "code",
   "outputs": [],
   "source": [
    "user_input_dim = 1 + 1 + CONFIG['user_emb_size']\n",
    "item_input_dim = 1 + CONFIG['item_emb_size'] + CONFIG['source_emb_size'] + 32"
   ],
   "metadata": {
    "collapsed": false,
    "ExecuteTime": {
     "end_time": "2024-12-03T06:11:17.787646300Z",
     "start_time": "2024-12-03T06:11:17.769577Z"
    }
   },
   "id": "f37b42fb9a81929b",
   "execution_count": 9
  },
  {
   "cell_type": "code",
   "outputs": [
    {
     "name": "stderr",
     "output_type": "stream",
     "text": [
      "C:\\Users\\Николай\\AppData\\Local\\Temp\\ipykernel_15716\\3684266653.py:2: FutureWarning: You are using `torch.load` with `weights_only=False` (the current default value), which uses the default pickle module implicitly. It is possible to construct malicious pickle data which will execute arbitrary code during unpickling (See https://github.com/pytorch/pytorch/blob/main/SECURITY.md#untrusted-models for more details). In a future release, the default value for `weights_only` will be flipped to `True`. This limits the functions that could be executed during unpickling. Arbitrary objects will no longer be allowed to be loaded via this mode unless they are explicitly allowlisted by the user via `torch.serialization.add_safe_globals`. We recommend you start setting `weights_only=True` for any use case where you don't have full control of the loaded file. Please open an issue on GitHub for any issues related to this experimental feature.\n",
      "  model.load_state_dict(torch.load(f\"{CONFIG['models_folder']}{CONFIG['model_path']}\")['model_state_dict'])\n"
     ]
    },
    {
     "data": {
      "text/plain": "TwoTowerModel(\n  (user_embedding): Embedding(183404, 256)\n  (user_fc1): Linear(in_features=258, out_features=1024, bias=True)\n  (user_fc2): Linear(in_features=1024, out_features=512, bias=True)\n  (user_fc3): Linear(in_features=512, out_features=256, bias=True)\n  (item_embedding): Embedding(337727, 256)\n  (source_embedding): Embedding(19613, 256)\n  (item_fc1): Linear(in_features=545, out_features=1024, bias=True)\n  (item_fc2): Linear(in_features=1024, out_features=512, bias=True)\n  (item_fc3): Linear(in_features=512, out_features=256, bias=True)\n  (output_layer): Linear(in_features=512, out_features=3, bias=True)\n  (gelu): GELU(approximate='none')\n)"
     },
     "execution_count": 11,
     "metadata": {},
     "output_type": "execute_result"
    }
   ],
   "source": [
    "model = TwoTowerModel(user_input_dim, item_input_dim).to(device)\n",
    "model.load_state_dict(torch.load(f\"{CONFIG['models_folder']}{CONFIG['model_path']}\")['model_state_dict'])\n",
    "model.eval()"
   ],
   "metadata": {
    "collapsed": false,
    "ExecuteTime": {
     "end_time": "2024-12-03T06:11:30.366876700Z",
     "start_time": "2024-12-03T06:11:27.427224300Z"
    }
   },
   "id": "92808a74f0ca9b8",
   "execution_count": 11
  },
  {
   "cell_type": "code",
   "outputs": [
    {
     "name": "stderr",
     "output_type": "stream",
     "text": [
      "Predicting: 100%|██████████| 102/102 [00:22<00:00,  4.49batch/s]\n"
     ]
    }
   ],
   "source": [
    "predictions = []\n",
    "num_samples = len(test)\n",
    "num_batches = (num_samples + CONFIG['BATCH_SIZE'] - 1) // CONFIG['BATCH_SIZE']\n",
    "\n",
    "with torch.no_grad():\n",
    "    for batch_idx in tqdm(range(num_batches), desc=\"Predicting\", unit=\"batch\"):\n",
    "        start_idx = batch_idx * CONFIG['BATCH_SIZE']\n",
    "        end_idx = min(start_idx + CONFIG['BATCH_SIZE'], num_samples)\n",
    "        batch = test.iloc[start_idx:end_idx]\n",
    "\n",
    "        batch_user_ids = torch.tensor(batch['user_id'].values, dtype=torch.long, device=device)\n",
    "        batch_item_ids = torch.tensor(batch['item_id'].values, dtype=torch.long, device=device)\n",
    "        batch_source_ids = torch.tensor(items_meta.loc[batch['item_id'].values, 'source_id'].values,\n",
    "                                        dtype=torch.long, device=device)\n",
    "        batch_age = torch.tensor(users_meta.loc[batch['user_id'].values, 'age'].values, dtype=torch.float32,\n",
    "                                 device=device).unsqueeze(1)\n",
    "        batch_duration = torch.tensor(items_meta.loc[batch['item_id'].values, 'duration'].values, dtype=torch.float32,\n",
    "                                      device=device).unsqueeze(1)\n",
    "        batch_gender = torch.tensor(users_meta.loc[batch['user_id'].values, 'gender'].values,\n",
    "                                    dtype=torch.float32, device=device).unsqueeze(1)\n",
    "\n",
    "        item_indices = batch_item_ids.cpu().numpy()\n",
    "        embeddings = torch.tensor(np.stack(items_meta.loc[item_indices, 'embeddings'].values), device=device,\n",
    "                                  dtype=torch.float32)\n",
    "\n",
    "        outputs = model(batch_user_ids, batch_age, batch_gender, batch_item_ids, batch_source_ids, batch_duration, embeddings)\n",
    "        probabilities = F.softmax(outputs, dim=1)\n",
    "\n",
    "        # Взвешенные предсказания\n",
    "        class_weights = torch.tensor([0, 1, 2], device=probabilities.device, dtype=probabilities.dtype)\n",
    "        weighted_predictions = torch.sum(probabilities * class_weights, dim=1).cpu().numpy()\n",
    "\n",
    "        predictions.extend(weighted_predictions)"
   ],
   "metadata": {
    "collapsed": false,
    "ExecuteTime": {
     "end_time": "2024-12-03T06:12:06.465847Z",
     "start_time": "2024-12-03T06:11:43.724730100Z"
    }
   },
   "id": "d3a3fa8ef64050c9",
   "execution_count": 13
  },
  {
   "cell_type": "code",
   "outputs": [
    {
     "name": "stdout",
     "output_type": "stream",
     "text": [
      "Predictions saved to f'C:/Users/Николай/PycharmProjects/VKRecSys/C.Results/5.7_predictions.csv'\n"
     ]
    }
   ],
   "source": [
    "# Добавление предсказанных значений в DataFrame\n",
    "test['predict'] = predictions\n",
    "\n",
    "test.to_csv(f\"{CONFIG['results_folder']}{CONFIG['output_path']}\", index=False)\n",
    "print(f\"Predictions saved to f'{CONFIG['results_folder']}{CONFIG['output_path']}'\")"
   ],
   "metadata": {
    "collapsed": true,
    "ExecuteTime": {
     "end_time": "2024-12-03T06:12:08.327062Z",
     "start_time": "2024-12-03T06:12:06.468757200Z"
    }
   },
   "id": "initial_id",
   "execution_count": 14
  }
 ],
 "metadata": {
  "kernelspec": {
   "display_name": "Python 3",
   "language": "python",
   "name": "python3"
  },
  "language_info": {
   "codemirror_mode": {
    "name": "ipython",
    "version": 2
   },
   "file_extension": ".py",
   "mimetype": "text/x-python",
   "name": "python",
   "nbconvert_exporter": "python",
   "pygments_lexer": "ipython2",
   "version": "2.7.6"
  }
 },
 "nbformat": 4,
 "nbformat_minor": 5
}
