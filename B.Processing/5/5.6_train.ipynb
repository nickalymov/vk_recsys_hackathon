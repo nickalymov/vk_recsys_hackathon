{
 "cells": [
  {
   "cell_type": "code",
   "execution_count": 1,
   "id": "8a4c275c",
   "metadata": {
    "execution": {
     "iopub.execute_input": "2024-11-26T18:19:44.254495Z",
     "iopub.status.busy": "2024-11-26T18:19:44.254160Z",
     "iopub.status.idle": "2024-11-26T18:19:44.261831Z",
     "shell.execute_reply": "2024-11-26T18:19:44.261186Z"
    },
    "papermill": {
     "duration": 0.013941,
     "end_time": "2024-11-26T18:19:44.263350",
     "exception": false,
     "start_time": "2024-11-26T18:19:44.249409",
     "status": "completed"
    },
    "tags": [],
    "ExecuteTime": {
     "end_time": "2024-12-02T18:15:07.061271700Z",
     "start_time": "2024-12-02T18:15:07.030344400Z"
    }
   },
   "outputs": [],
   "source": [
    "CONFIG = {\n",
    "    'data_folder' : 'C:/Users/Николай/PycharmProjects/VKRecSys/data/',\n",
    "    'custom_data_folder' : 'C:/Users/Николай/PycharmProjects/VKRecSys/custom_data/',\n",
    "    'models_folder' : 'C:/Users/Николай/PycharmProjects/VKRecSys/B.Processing/Модели/',\n",
    "    \n",
    "    \n",
    "    'train_path' : 'train_interactions.parquet',\n",
    "    'items_meta_path' : 'av4_items_meta.parquet',\n",
    "    'users_meta_path' : 'av4_users_meta.parquet',\n",
    "    'model_path' : '5.6.pth',\n",
    "    \n",
    "    'user_emb_size' : 256, # 183404\n",
    "    'item_emb_size' : 256, # 337727\n",
    "    'source_emb_size' : 256, # 19613\n",
    "    'torch_precision' : 40, # number of decimal places for printing numbers\n",
    "        \n",
    "    'DEVICE' : 'cuda',\n",
    "    'SEED' : 42,\n",
    "    'BATCH_SIZE' : 16384,\n",
    "    'LR' : 0.001,\n",
    "    'EPOCHS' : 3,\n",
    "    'output_dim' : 3\n",
    "    \n",
    "}"
   ]
  },
  {
   "cell_type": "code",
   "execution_count": 2,
   "id": "86d0c997",
   "metadata": {
    "collapsed": false,
    "execution": {
     "iopub.execute_input": "2024-11-26T18:19:44.269625Z",
     "iopub.status.busy": "2024-11-26T18:19:44.269391Z",
     "iopub.status.idle": "2024-11-26T18:19:47.934358Z",
     "shell.execute_reply": "2024-11-26T18:19:47.933544Z"
    },
    "papermill": {
     "duration": 3.670253,
     "end_time": "2024-11-26T18:19:47.936406",
     "exception": false,
     "start_time": "2024-11-26T18:19:44.266153",
     "status": "completed"
    },
    "tags": [],
    "ExecuteTime": {
     "end_time": "2024-12-02T18:15:08.793441100Z",
     "start_time": "2024-12-02T18:15:07.050271900Z"
    }
   },
   "outputs": [],
   "source": [
    "import numpy as np\n",
    "import torch\n",
    "import torch.nn as nn\n",
    "from torch.optim import Adam\n",
    "import pandas as pd\n",
    "from tqdm import tqdm"
   ]
  },
  {
   "cell_type": "code",
   "execution_count": 3,
   "id": "d7ff0364",
   "metadata": {
    "collapsed": false,
    "execution": {
     "iopub.execute_input": "2024-11-26T18:19:47.943310Z",
     "iopub.status.busy": "2024-11-26T18:19:47.942911Z",
     "iopub.status.idle": "2024-11-26T18:19:48.004646Z",
     "shell.execute_reply": "2024-11-26T18:19:48.003956Z"
    },
    "papermill": {
     "duration": 0.067107,
     "end_time": "2024-11-26T18:19:48.006392",
     "exception": false,
     "start_time": "2024-11-26T18:19:47.939285",
     "status": "completed"
    },
    "tags": [],
    "ExecuteTime": {
     "end_time": "2024-12-02T18:15:10.071714500Z",
     "start_time": "2024-12-02T18:15:08.793441100Z"
    }
   },
   "outputs": [],
   "source": [
    "device = torch.device(\"cuda\" if torch.cuda.is_available() else \"cpu\")\n",
    "\n",
    "torch.manual_seed(42)  \n",
    "torch.cuda.manual_seed_all(42)  \n",
    "np.random.seed(42)  "
   ]
  },
  {
   "cell_type": "code",
   "execution_count": 4,
   "id": "fcd515fb",
   "metadata": {
    "collapsed": false,
    "execution": {
     "iopub.execute_input": "2024-11-26T18:19:48.013182Z",
     "iopub.status.busy": "2024-11-26T18:19:48.012875Z",
     "iopub.status.idle": "2024-11-26T18:20:05.312581Z",
     "shell.execute_reply": "2024-11-26T18:20:05.311844Z"
    },
    "papermill": {
     "duration": 17.305417,
     "end_time": "2024-11-26T18:20:05.314724",
     "exception": false,
     "start_time": "2024-11-26T18:19:48.009307",
     "status": "completed"
    },
    "tags": [],
    "ExecuteTime": {
     "end_time": "2024-12-02T18:15:15.019061300Z",
     "start_time": "2024-12-02T18:15:10.076713600Z"
    }
   },
   "outputs": [],
   "source": [
    "# Loading data\n",
    "train = pd.read_parquet(f\"{CONFIG['data_folder']}{CONFIG['train_path']}\", engine='pyarrow')\n",
    "train['like'] = train['like'] + train['dislike'].replace({1: -1})\n",
    "train.drop(columns=['dislike'], inplace=True)\n",
    "train['like'] = train['like'].astype('int8')\n",
    "train.rename(columns={'like': 'target'}, inplace=True)\n",
    "train['target'] = train['target'].replace({-1: 0, 0: 1, 1: 2})\n",
    "items_meta = pd.read_parquet(f\"{CONFIG['custom_data_folder']}{CONFIG['items_meta_path']}\", engine='pyarrow')\n",
    "users_meta = pd.read_parquet(f\"{CONFIG['custom_data_folder']}{CONFIG['users_meta_path']}\", engine='pyarrow')\n",
    "users_meta['gender'] = users_meta['gender'].replace({1: 0, 2: 1})\n",
    "# Normalization of numeric features\n",
    "users_meta['age'] = (users_meta['age'] - users_meta['age'].min()) / (users_meta['age'].max() - users_meta['age'].min())\n",
    "items_meta['duration'] = (items_meta['duration'] - items_meta['duration'].min()) / (\n",
    "items_meta['duration'].max() - items_meta['duration'].min())"
   ]
  },
  {
   "cell_type": "code",
   "execution_count": 5,
   "id": "bd610fd0",
   "metadata": {
    "collapsed": false,
    "execution": {
     "iopub.execute_input": "2024-11-26T18:20:05.321504Z",
     "iopub.status.busy": "2024-11-26T18:20:05.321233Z",
     "iopub.status.idle": "2024-11-26T18:20:17.941193Z",
     "shell.execute_reply": "2024-11-26T18:20:17.940430Z"
    },
    "papermill": {
     "duration": 12.625576,
     "end_time": "2024-11-26T18:20:17.943287",
     "exception": false,
     "start_time": "2024-11-26T18:20:05.317711",
     "status": "completed"
    },
    "tags": [],
    "ExecuteTime": {
     "end_time": "2024-12-02T18:15:23.077535500Z",
     "start_time": "2024-12-02T18:15:15.023061900Z"
    }
   },
   "outputs": [],
   "source": [
    "folds = pd.read_csv(f\"{CONFIG['data_folder']}fold.csv\")"
   ]
  },
  {
   "cell_type": "code",
   "execution_count": 6,
   "id": "fdeea22e",
   "metadata": {
    "collapsed": false,
    "execution": {
     "iopub.execute_input": "2024-11-26T18:20:19.479846Z",
     "iopub.status.busy": "2024-11-26T18:20:19.479339Z",
     "iopub.status.idle": "2024-11-26T18:20:19.488353Z",
     "shell.execute_reply": "2024-11-26T18:20:19.487532Z"
    },
    "papermill": {
     "duration": 0.014069,
     "end_time": "2024-11-26T18:20:19.489950",
     "exception": false,
     "start_time": "2024-11-26T18:20:19.475881",
     "status": "completed"
    },
    "tags": [],
    "ExecuteTime": {
     "end_time": "2024-12-02T18:15:23.120535500Z",
     "start_time": "2024-12-02T18:15:23.084536100Z"
    }
   },
   "outputs": [],
   "source": [
    "# Model definition\n",
    "class MLPModel(nn.Module):\n",
    "    def __init__(self, \n",
    "                 input_dim, \n",
    "                 num_users=users_meta.index.nunique(), \n",
    "                 num_items=items_meta.index.nunique(), \n",
    "                 num_sources=items_meta['source_id'].nunique(),\n",
    "                 output_dim=CONFIG['output_dim'],\n",
    "                 dropout_rate=0.2):  # Добавлен параметр dropout_rate\n",
    "        \n",
    "        super(MLPModel, self).__init__()\n",
    "        self.user_embedding = nn.Embedding(num_users, CONFIG['user_emb_size'])\n",
    "        self.item_embedding = nn.Embedding(num_items, CONFIG['item_emb_size'])\n",
    "        self.source_embedding = nn.Embedding(num_sources, CONFIG['source_emb_size'])\n",
    "\n",
    "        self.fc1 = nn.Linear(input_dim, 1024)\n",
    "        self.fc2 = nn.Linear(1024, 1024)\n",
    "        self.fc3 = nn.Linear(1024, 512)\n",
    "        self.fc4 = nn.Linear(512, 256)\n",
    "        self.fc5 = nn.Linear(256, 256)\n",
    "        self.fc6 = nn.Linear(256, 128)\n",
    "        self.fc7 = nn.Linear(128, 128)\n",
    "        self.fc8 = nn.Linear(128, 64)\n",
    "        self.fc9 = nn.Linear(64, output_dim)\n",
    "        \n",
    "        self.gelu = nn.GELU()\n",
    "\n",
    "    def forward(self, user_ids, item_ids, source_ids, embeddings, u, i):\n",
    "        user_emb = self.user_embedding(user_ids)\n",
    "        item_emb = self.item_embedding(item_ids)\n",
    "        source_emb = self.source_embedding(source_ids)\n",
    "\n",
    "        x = torch.cat((user_emb, item_emb, source_emb, embeddings, u, i), dim=1)\n",
    "        \n",
    "        x = self.gelu(self.fc1(x))\n",
    "        \n",
    "        x = self.gelu(self.fc2(x))\n",
    "        \n",
    "        x = self.gelu(self.fc3(x))\n",
    "        \n",
    "        x = self.gelu(self.fc4(x))\n",
    "        \n",
    "        x = self.gelu(self.fc5(x))\n",
    "        \n",
    "        x = self.gelu(self.fc6(x))\n",
    "        \n",
    "        x = self.gelu(self.fc7(x))\n",
    "        \n",
    "        x = self.gelu(self.fc8(x))\n",
    "        \n",
    "        x = self.fc9(x)\n",
    "        return x"
   ]
  },
  {
   "cell_type": "code",
   "outputs": [],
   "source": [
    "input_dim = 1 + 1 + 1 + CONFIG['user_emb_size'] + CONFIG['item_emb_size'] + CONFIG['source_emb_size'] + 32 + 24"
   ],
   "metadata": {
    "collapsed": false,
    "ExecuteTime": {
     "end_time": "2024-12-02T18:15:23.129536Z",
     "start_time": "2024-12-02T18:15:23.111536100Z"
    }
   },
   "id": "a4eb933e5c281d4b",
   "execution_count": 7
  },
  {
   "cell_type": "code",
   "execution_count": 8,
   "id": "ef82c192",
   "metadata": {
    "collapsed": false,
    "execution": {
     "iopub.execute_input": "2024-11-26T18:20:19.496467Z",
     "iopub.status.busy": "2024-11-26T18:20:19.496224Z",
     "iopub.status.idle": "2024-11-26T22:43:34.806442Z",
     "shell.execute_reply": "2024-11-26T22:43:34.805520Z"
    },
    "papermill": {
     "duration": 15795.315584,
     "end_time": "2024-11-26T22:43:34.808164",
     "exception": false,
     "start_time": "2024-11-26T18:20:19.492580",
     "status": "completed"
    },
    "tags": [],
    "ExecuteTime": {
     "end_time": "2024-12-03T00:58:04.060239Z",
     "start_time": "2024-12-02T18:15:23.133546800Z"
    }
   },
   "outputs": [
    {
     "name": "stdout",
     "output_type": "stream",
     "text": [
      "Обучение модели для fold 0...\n"
     ]
    },
    {
     "name": "stderr",
     "output_type": "stream",
     "text": [
      "Epoch 1/3: 100%|██████████| 6664/6664 [28:54<00:00,  3.84batch/s, mean_loss=0.130121]\n"
     ]
    },
    {
     "name": "stdout",
     "output_type": "stream",
     "text": [
      "Epoch [1/3], Fold 0, Loss: 0.1301\n"
     ]
    },
    {
     "name": "stderr",
     "output_type": "stream",
     "text": [
      "Epoch 2/3: 100%|██████████| 6664/6664 [33:37<00:00,  3.30batch/s, mean_loss=0.122709]\n"
     ]
    },
    {
     "name": "stdout",
     "output_type": "stream",
     "text": [
      "Epoch [2/3], Fold 0, Loss: 0.1227\n"
     ]
    },
    {
     "name": "stderr",
     "output_type": "stream",
     "text": [
      "Epoch 3/3: 100%|██████████| 6664/6664 [32:13<00:00,  3.45batch/s, mean_loss=0.119192]\n"
     ]
    },
    {
     "name": "stdout",
     "output_type": "stream",
     "text": [
      "Epoch [3/3], Fold 0, Loss: 0.1192\n",
      "Модель для fold 0 сохранена в C:/Users/Николай/PycharmProjects/VKRecSys/B.Processing/Модели/_5.6.pth_fold_0\n",
      "VRAM очищена после fold 0.\n",
      "Обучение модели для fold 1...\n"
     ]
    },
    {
     "name": "stderr",
     "output_type": "stream",
     "text": [
      "Epoch 1/3: 100%|██████████| 6667/6667 [34:28<00:00,  3.22batch/s, mean_loss=0.130236]\n"
     ]
    },
    {
     "name": "stdout",
     "output_type": "stream",
     "text": [
      "Epoch [1/3], Fold 1, Loss: 0.1302\n"
     ]
    },
    {
     "name": "stderr",
     "output_type": "stream",
     "text": [
      "Epoch 2/3: 100%|██████████| 6667/6667 [33:02<00:00,  3.36batch/s, mean_loss=0.122780]\n"
     ]
    },
    {
     "name": "stdout",
     "output_type": "stream",
     "text": [
      "Epoch [2/3], Fold 1, Loss: 0.1228\n"
     ]
    },
    {
     "name": "stderr",
     "output_type": "stream",
     "text": [
      "Epoch 3/3: 100%|██████████| 6667/6667 [31:49<00:00,  3.49batch/s, mean_loss=0.119294]\n"
     ]
    },
    {
     "name": "stdout",
     "output_type": "stream",
     "text": [
      "Epoch [3/3], Fold 1, Loss: 0.1193\n",
      "Модель для fold 1 сохранена в C:/Users/Николай/PycharmProjects/VKRecSys/B.Processing/Модели/_5.6.pth_fold_1\n",
      "VRAM очищена после fold 1.\n",
      "Обучение модели для fold 2...\n"
     ]
    },
    {
     "name": "stderr",
     "output_type": "stream",
     "text": [
      "Epoch 1/3: 100%|██████████| 6670/6670 [33:30<00:00,  3.32batch/s, mean_loss=0.130327]\n"
     ]
    },
    {
     "name": "stdout",
     "output_type": "stream",
     "text": [
      "Epoch [1/3], Fold 2, Loss: 0.1303\n"
     ]
    },
    {
     "name": "stderr",
     "output_type": "stream",
     "text": [
      "Epoch 2/3: 100%|██████████| 6670/6670 [34:06<00:00,  3.26batch/s, mean_loss=0.122799]\n"
     ]
    },
    {
     "name": "stdout",
     "output_type": "stream",
     "text": [
      "Epoch [2/3], Fold 2, Loss: 0.1228\n"
     ]
    },
    {
     "name": "stderr",
     "output_type": "stream",
     "text": [
      "Epoch 3/3: 100%|██████████| 6670/6670 [34:47<00:00,  3.20batch/s, mean_loss=0.119276]\n"
     ]
    },
    {
     "name": "stdout",
     "output_type": "stream",
     "text": [
      "Epoch [3/3], Fold 2, Loss: 0.1193\n",
      "Модель для fold 2 сохранена в C:/Users/Николай/PycharmProjects/VKRecSys/B.Processing/Модели/_5.6.pth_fold_2\n",
      "VRAM очищена после fold 2.\n",
      "Обучение модели для fold 3...\n"
     ]
    },
    {
     "name": "stderr",
     "output_type": "stream",
     "text": [
      "Epoch 1/3: 100%|██████████| 6673/6673 [35:19<00:00,  3.15batch/s, mean_loss=0.130021]\n"
     ]
    },
    {
     "name": "stdout",
     "output_type": "stream",
     "text": [
      "Epoch [1/3], Fold 3, Loss: 0.1300\n"
     ]
    },
    {
     "name": "stderr",
     "output_type": "stream",
     "text": [
      "Epoch 2/3: 100%|██████████| 6673/6673 [35:02<00:00,  3.17batch/s, mean_loss=0.122762]\n"
     ]
    },
    {
     "name": "stdout",
     "output_type": "stream",
     "text": [
      "Epoch [2/3], Fold 3, Loss: 0.1228\n"
     ]
    },
    {
     "name": "stderr",
     "output_type": "stream",
     "text": [
      "Epoch 3/3: 100%|██████████| 6673/6673 [35:11<00:00,  3.16batch/s, mean_loss=0.119233]\n"
     ]
    },
    {
     "name": "stdout",
     "output_type": "stream",
     "text": [
      "Epoch [3/3], Fold 3, Loss: 0.1192\n",
      "Модель для fold 3 сохранена в C:/Users/Николай/PycharmProjects/VKRecSys/B.Processing/Модели/_5.6.pth_fold_3\n",
      "VRAM очищена после fold 3.\n"
     ]
    }
   ],
   "source": [
    "import gc  # Для сборщика мусора\n",
    "\n",
    "for fold in range(4):\n",
    "    print(f\"Обучение модели для fold {fold}...\")\n",
    "    \n",
    "    # Разделение данных на train и validation\n",
    "    train_data = train[folds['fold'] != fold]\n",
    "    val_data = train[folds['fold'] == fold]\n",
    "    \n",
    "    # Model creation\n",
    "    model = MLPModel(input_dim).to(device)\n",
    "    criterion = nn.CrossEntropyLoss()\n",
    "    optimizer = Adam(model.parameters(), lr=CONFIG['LR'])\n",
    "    \n",
    "    # Обучение модели\n",
    "    num_samples = len(train_data)\n",
    "    num_batches = (num_samples + CONFIG['BATCH_SIZE'] - 1) // CONFIG['BATCH_SIZE']\n",
    "    \n",
    "    for epoch in range(CONFIG['EPOCHS']):\n",
    "        running_loss = 0.0\n",
    "        with tqdm(range(num_batches), desc=f\"Epoch {epoch+1}/{CONFIG['EPOCHS']}\", unit=\"batch\") as t:\n",
    "            for batch_idx in t:\n",
    "                start_idx = batch_idx * CONFIG['BATCH_SIZE']\n",
    "                end_idx = min(start_idx + CONFIG['BATCH_SIZE'], num_samples)\n",
    "                batch = train.iloc[start_idx:end_idx]\n",
    "    \n",
    "                batch_user_ids = torch.tensor(batch['user_id'].values, dtype=torch.long, device=device)\n",
    "                batch_item_ids = torch.tensor(batch['item_id'].values, dtype=torch.long, device=device)\n",
    "                batch_source_ids = torch.tensor(items_meta.loc[batch['item_id'].values, 'source_id'].values, dtype=torch.long, device=device)\n",
    "                \n",
    "                users_features = users_meta.loc[batch['user_id'].values]  \n",
    "                users_features = torch.tensor(users_features.values, dtype=torch.float32, device=device)\n",
    "                \n",
    "                items_features = items_meta.loc[batch['item_id'].values].drop(columns=['source_id', 'embeddings'])\n",
    "                items_features = torch.tensor(items_features.values, dtype=torch.float32, device=device)\n",
    "                \n",
    "                item_indices = batch_item_ids.cpu().numpy()\n",
    "                embeddings = torch.tensor(np.stack(items_meta.loc[item_indices, 'embeddings'].values), device=device, dtype=torch.float32)\n",
    "                \n",
    "                \n",
    "                targets = torch.tensor(batch['target'].values, dtype=torch.long, device=device)\n",
    "    \n",
    "                optimizer.zero_grad()\n",
    "                outputs = model(batch_user_ids, batch_item_ids, batch_source_ids, embeddings, users_features, items_features)\n",
    "                loss = criterion(outputs, targets)\n",
    "                loss.backward()\n",
    "                optimizer.step()\n",
    "                \n",
    "                running_loss += loss.item()\n",
    "                t.set_postfix(mean_loss=f\"{running_loss / (batch_idx + 1):.6f}\")\n",
    "    \n",
    "        print(f\"Epoch [{epoch+1}/{CONFIG['EPOCHS']}], Fold {fold}, Loss: {running_loss / num_batches:.4f}\")\n",
    "    \n",
    "    # Сохранение модели для текущего fold\n",
    "    fold_model_path = f\"{CONFIG['models_folder']}_{CONFIG['model_path']}_fold_{fold}\"\n",
    "    torch.save({\"model_state_dict\": model.state_dict()}, fold_model_path)\n",
    "    print(f\"Модель для fold {fold} сохранена в {fold_model_path}\")\n",
    "\n",
    "    # Очистка VRAM\n",
    "    del model, optimizer, criterion  # Удаляем объекты модели и оптимизатора\n",
    "    torch.cuda.empty_cache()  # Очищаем видеопамять\n",
    "    gc.collect()  # Сбор мусора в системе\n",
    "    print(f\"VRAM очищена после fold {fold}.\")"
   ]
  }
 ],
 "metadata": {
  "kaggle": {
   "accelerator": "gpu",
   "dataSources": [
    {
     "datasetId": 6155403,
     "sourceId": 10000346,
     "sourceType": "datasetVersion"
    }
   ],
   "dockerImageVersionId": 30787,
   "isGpuEnabled": true,
   "isInternetEnabled": true,
   "language": "python",
   "sourceType": "notebook"
  },
  "kernelspec": {
   "display_name": "Python 3",
   "language": "python",
   "name": "python3"
  },
  "language_info": {
   "codemirror_mode": {
    "name": "ipython",
    "version": 3
   },
   "file_extension": ".py",
   "mimetype": "text/x-python",
   "name": "python",
   "nbconvert_exporter": "python",
   "pygments_lexer": "ipython3",
   "version": "3.10.14"
  },
  "papermill": {
   "default_parameters": {},
   "duration": 15841.823616,
   "end_time": "2024-11-26T22:43:43.625098",
   "environment_variables": {},
   "exception": null,
   "input_path": "__notebook__.ipynb",
   "output_path": "__notebook__.ipynb",
   "parameters": {},
   "start_time": "2024-11-26T18:19:41.801482",
   "version": "2.6.0"
  }
 },
 "nbformat": 4,
 "nbformat_minor": 5
}
