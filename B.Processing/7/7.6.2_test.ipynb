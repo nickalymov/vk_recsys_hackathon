{
 "cells": [
  {
   "cell_type": "code",
   "execution_count": 1,
   "id": "eb3b4a5b",
   "metadata": {
    "ExecuteTime": {
     "end_time": "2024-12-08T08:23:01.280834900Z",
     "start_time": "2024-12-08T08:23:01.264939400Z"
    },
    "collapsed": false,
    "execution": {
     "iopub.execute_input": "2024-12-11T05:26:48.422027Z",
     "iopub.status.busy": "2024-12-11T05:26:48.421683Z",
     "iopub.status.idle": "2024-12-11T05:26:48.430055Z",
     "shell.execute_reply": "2024-12-11T05:26:48.429012Z"
    },
    "jupyter": {
     "outputs_hidden": false
    },
    "papermill": {
     "duration": 0.014691,
     "end_time": "2024-12-11T05:26:48.431660",
     "exception": false,
     "start_time": "2024-12-11T05:26:48.416969",
     "status": "completed"
    },
    "tags": []
   },
   "outputs": [],
   "source": [
    "number = '7.6.2'"
   ]
  },
  {
   "cell_type": "code",
   "execution_count": 2,
   "id": "7249afdf",
   "metadata": {
    "ExecuteTime": {
     "end_time": "2024-12-08T08:23:01.297836Z",
     "start_time": "2024-12-08T08:23:01.281836200Z"
    },
    "collapsed": false,
    "execution": {
     "iopub.execute_input": "2024-12-11T05:26:48.438104Z",
     "iopub.status.busy": "2024-12-11T05:26:48.437853Z",
     "iopub.status.idle": "2024-12-11T05:26:48.442571Z",
     "shell.execute_reply": "2024-12-11T05:26:48.441880Z"
    },
    "jupyter": {
     "outputs_hidden": false
    },
    "papermill": {
     "duration": 0.009563,
     "end_time": "2024-12-11T05:26:48.444099",
     "exception": false,
     "start_time": "2024-12-11T05:26:48.434536",
     "status": "completed"
    },
    "tags": []
   },
   "outputs": [],
   "source": [
    "CONFIG = {\n",
    "    'data_folder' : '/kaggle/input/vkrecsys/',\n",
    "    'val_pred_folder' : '/kaggle/working/',\n",
    "    'test_pred_folder' : '/kaggle/working/',\n",
    "    \n",
    "    'train_path' : 'train_interactions.parquet',\n",
    "    'test_path': 'test_pairs.csv',  \n",
    "    'items_meta_path' : 'items_meta.parquet',\n",
    "    'users_meta_path' : 'users_meta.parquet',\n",
    "    'folds_path' : 'fold.csv',\n",
    "    'val_output_path' : f'{number}_val',\n",
    "    'test_output_path' : f'{number}_test',\n",
    "    \n",
    "    'user_emb_size' : 256, \n",
    "    'item_emb_size' : 256, \n",
    "    'source_emb_size' : 256, \n",
    "    'age_emb_size' : 256, \n",
    "    'duration_emb_size' : 256, \n",
    "    'gender_emb_size' : 256, \n",
    "    \n",
    "    'DEVICE' : 'cuda',\n",
    "    'SEED' : 42,\n",
    "    'BATCH_SIZE' : 16384,\n",
    "    'LR' : 0.001,\n",
    "    'EPOCHS' : 6,\n",
    "    'output_dim' : 3\n",
    "    \n",
    "}"
   ]
  },
  {
   "cell_type": "code",
   "execution_count": 3,
   "id": "1af51849",
   "metadata": {
    "ExecuteTime": {
     "end_time": "2024-12-08T08:23:03.516393300Z",
     "start_time": "2024-12-08T08:23:01.297836Z"
    },
    "collapsed": false,
    "execution": {
     "iopub.execute_input": "2024-12-11T05:26:48.450384Z",
     "iopub.status.busy": "2024-12-11T05:26:48.450080Z",
     "iopub.status.idle": "2024-12-11T05:26:52.218981Z",
     "shell.execute_reply": "2024-12-11T05:26:52.218253Z"
    },
    "jupyter": {
     "outputs_hidden": false
    },
    "papermill": {
     "duration": 3.775347,
     "end_time": "2024-12-11T05:26:52.222010",
     "exception": false,
     "start_time": "2024-12-11T05:26:48.446663",
     "status": "completed"
    },
    "tags": []
   },
   "outputs": [],
   "source": [
    "# Import libs\n",
    "import numpy as np\n",
    "from tqdm import tqdm\n",
    "import pandas as pd\n",
    "import torch.nn.functional as F\n",
    "import torch\n",
    "import torch.nn as nn\n",
    "from torch.optim import Adam"
   ]
  },
  {
   "cell_type": "code",
   "execution_count": 4,
   "id": "15205d22",
   "metadata": {
    "ExecuteTime": {
     "end_time": "2024-12-08T08:23:04.818133100Z",
     "start_time": "2024-12-08T08:23:04.807691900Z"
    },
    "collapsed": false,
    "execution": {
     "iopub.execute_input": "2024-12-11T05:26:52.229487Z",
     "iopub.status.busy": "2024-12-11T05:26:52.228667Z",
     "iopub.status.idle": "2024-12-11T05:26:52.290631Z",
     "shell.execute_reply": "2024-12-11T05:26:52.289926Z"
    },
    "jupyter": {
     "outputs_hidden": false
    },
    "papermill": {
     "duration": 0.066963,
     "end_time": "2024-12-11T05:26:52.292129",
     "exception": false,
     "start_time": "2024-12-11T05:26:52.225166",
     "status": "completed"
    },
    "tags": []
   },
   "outputs": [],
   "source": [
    "# Device, torch decimal places and seed for reproducibility\n",
    "device = torch.device(CONFIG['DEVICE'] if torch.cuda.is_available() else \"cpu\")\n",
    "torch.set_printoptions(precision=40) \n",
    "\n",
    "torch.manual_seed(CONFIG['SEED'])  \n",
    "torch.cuda.manual_seed_all(CONFIG['SEED'])  \n",
    "np.random.seed(CONFIG['SEED'])  "
   ]
  },
  {
   "cell_type": "code",
   "execution_count": 5,
   "id": "69ae44c4",
   "metadata": {
    "ExecuteTime": {
     "end_time": "2024-12-08T08:23:31.162706400Z",
     "start_time": "2024-12-08T08:23:04.821137300Z"
    },
    "collapsed": false,
    "execution": {
     "iopub.execute_input": "2024-12-11T05:26:52.298686Z",
     "iopub.status.busy": "2024-12-11T05:26:52.298402Z",
     "iopub.status.idle": "2024-12-11T05:27:09.873060Z",
     "shell.execute_reply": "2024-12-11T05:27:09.872116Z"
    },
    "jupyter": {
     "outputs_hidden": false
    },
    "papermill": {
     "duration": 17.580261,
     "end_time": "2024-12-11T05:27:09.875167",
     "exception": false,
     "start_time": "2024-12-11T05:26:52.294906",
     "status": "completed"
    },
    "tags": []
   },
   "outputs": [],
   "source": [
    "# Load and prepare data\n",
    "train = pd.read_parquet(f\"{CONFIG['data_folder']}{CONFIG['train_path']}\", engine='pyarrow')\n",
    "train['target'] = train['like'] + train['dislike'].replace({1: -1})\n",
    "train.drop(columns=['like', 'dislike'], inplace=True)\n",
    "train['target'] = train['target'].astype('int8')\n",
    "train['target'] = train['target'].replace({-1:0, 0:1, 1:2})\n",
    "\n",
    "test = pd.read_csv(f\"{CONFIG['data_folder']}{CONFIG['test_path']}\")\n",
    "test_to_save = test.copy()\n",
    "\n",
    "items_meta = pd.read_parquet(f\"{CONFIG['data_folder']}{CONFIG['items_meta_path']}\", engine='pyarrow')\n",
    "items_meta['duration'] = items_meta['duration'] - 5\n",
    "items_meta['item_id'] = items_meta['item_id'].astype('category')\n",
    "items_meta['source_id'] = items_meta['source_id'].astype('category')\n",
    "items_meta.set_index('item_id', inplace=True)\n",
    "\n",
    "users_meta = pd.read_parquet(f\"{CONFIG['data_folder']}{CONFIG['users_meta_path']}\", engine='pyarrow')\n",
    "users_meta['age'] = users_meta['age'] - 18\n",
    "users_meta['gender'] = users_meta['gender'].replace({1:0, 2:1})\n",
    "users_meta['user_id'] = users_meta['user_id'].astype('category')\n",
    "users_meta['gender'] = users_meta['gender'].astype('category')\n",
    "users_meta.set_index('user_id', inplace=True)"
   ]
  },
  {
   "cell_type": "code",
   "execution_count": 6,
   "id": "ecece5dd",
   "metadata": {
    "ExecuteTime": {
     "end_time": "2024-12-08T08:23:31.209732700Z",
     "start_time": "2024-12-08T08:23:31.163706300Z"
    },
    "collapsed": false,
    "execution": {
     "iopub.execute_input": "2024-12-11T05:27:09.883016Z",
     "iopub.status.busy": "2024-12-11T05:27:09.882730Z",
     "iopub.status.idle": "2024-12-11T05:27:09.909721Z",
     "shell.execute_reply": "2024-12-11T05:27:09.909026Z"
    },
    "jupyter": {
     "outputs_hidden": false
    },
    "papermill": {
     "duration": 0.033432,
     "end_time": "2024-12-11T05:27:09.911410",
     "exception": false,
     "start_time": "2024-12-11T05:27:09.877978",
     "status": "completed"
    },
    "tags": []
   },
   "outputs": [],
   "source": [
    "import torch.nn.init as init\n",
    "\n",
    "class Model(nn.Module):\n",
    "    def __init__(self, \n",
    "                 input_dim, \n",
    "                 num_users=users_meta.index.nunique(), \n",
    "                 num_items=items_meta.index.nunique(), \n",
    "                 num_sources=items_meta['source_id'].nunique(),\n",
    "                 num_ages=users_meta['age'].nunique(),\n",
    "                 num_durations=items_meta['duration'].nunique(),\n",
    "                 num_genders=users_meta['gender'].nunique(), \n",
    "                 output_dim=CONFIG['output_dim']): \n",
    "        \n",
    "        super(Model, self).__init__()\n",
    "        self.user_embedding = nn.Embedding(num_users, CONFIG['user_emb_size'])\n",
    "        self.item_embedding = nn.Embedding(num_items, CONFIG['item_emb_size'])\n",
    "        self.source_embedding = nn.Embedding(num_sources, CONFIG['source_emb_size'])\n",
    "        self.age_embedding = nn.Embedding(num_ages, CONFIG['age_emb_size'])\n",
    "        self.duration_embedding = nn.Embedding(num_durations, CONFIG['duration_emb_size'])\n",
    "        self.gender_embedding = nn.Embedding(num_genders, CONFIG['gender_emb_size'])\n",
    "         \n",
    "        self.fc1 = nn.Linear(input_dim, 1024)\n",
    "        self.fc2 = nn.Linear(1024, 512)\n",
    "        self.fc3 = nn.Linear(512, 256)\n",
    "        self.fc4 = nn.Linear(256, 128)\n",
    "        self.fc5 = nn.Linear(128, 64)\n",
    "        self.fc6 = nn.Linear(64, 32)\n",
    "        self.fc7 = nn.Linear(32, 16)\n",
    "        self.fc8 = nn.Linear(16, 8)\n",
    "        self.fc9 = nn.Linear(8 + input_dim, output_dim)\n",
    "        \n",
    "        self.relu = nn.ReLU()\n",
    "        \n",
    "        self.num_cross_layers = 2\n",
    "        \n",
    "        self.cross_weights = nn.ParameterList(\n",
    "            [nn.Parameter(torch.randn(input_dim, input_dim)) for _ in range(self.num_cross_layers)]\n",
    "        )\n",
    "        self.cross_biases = nn.ParameterList(\n",
    "            [nn.Parameter(torch.randn(input_dim)) for _ in range(self.num_cross_layers)]\n",
    "        )\n",
    "        \n",
    "        # Инициализация весов\n",
    "        self._initialize_weights()\n",
    "\n",
    "    def _initialize_weights(self):\n",
    "        # Xavier для линейных слоев\n",
    "        for layer in [self.fc1, self.fc2, self.fc3, self.fc4, self.fc5, self.fc6, self.fc7, self.fc8, self.fc9]:\n",
    "            init.xavier_uniform_(layer.weight)\n",
    "            if layer.bias is not None:\n",
    "                init.zeros_(layer.bias)\n",
    "        \n",
    "        # Xavier для эмбеддингов\n",
    "        for embedding in [self.user_embedding, self.item_embedding, self.source_embedding, \n",
    "                          self.age_embedding, self.duration_embedding, self.gender_embedding]:\n",
    "            init.xavier_uniform_(embedding.weight)\n",
    "        \n",
    "        # Xavier для DCNv2 слоев\n",
    "        for weight in self.cross_weights:\n",
    "            init.xavier_uniform_(weight)\n",
    "        for bias in self.cross_biases:\n",
    "            init.zeros_(bias)\n",
    "\n",
    "    def DCNv2_forward(self, x):\n",
    "        # Инициализируем x0\n",
    "        x0 = x\n",
    "        for i in range(self.num_cross_layers):\n",
    "            x = x0 * (x @ self.cross_weights[i]) + self.cross_biases[i] + x\n",
    "        return x\n",
    "    \n",
    "    def forward(self, user_ids, item_ids, source_ids, age_ids, duration_ids, gender_ids, embeddings):\n",
    "\n",
    "        user_emb = self.user_embedding(user_ids)\n",
    "        item_emb = self.item_embedding(item_ids)\n",
    "        source_emb = self.source_embedding(source_ids)\n",
    "        age_emb = self.age_embedding(age_ids)\n",
    "        duration_emb = self.duration_embedding(duration_ids)\n",
    "        gender_emb = self.gender_embedding(gender_ids)\n",
    "        \n",
    "        x = torch.cat((user_emb, item_emb, source_emb, age_emb, duration_emb, gender_emb, embeddings), dim=1)\n",
    "        \n",
    "        x_dcn = self.DCNv2_forward(x)\n",
    "        \n",
    "        x = self.relu(self.fc1(x))\n",
    "        x = self.relu(self.fc2(x))\n",
    "        x = self.relu(self.fc3(x))\n",
    "        x = self.relu(self.fc4(x))\n",
    "        x = self.relu(self.fc5(x))\n",
    "        x = self.relu(self.fc6(x))\n",
    "        x = self.relu(self.fc7(x))\n",
    "        x = self.relu(self.fc8(x))\n",
    "        \n",
    "        x_combined = torch.cat((x, x_dcn), dim=1)\n",
    "        \n",
    "        x_out = self.fc9(x_combined)\n",
    "        \n",
    "        return x_out"
   ]
  },
  {
   "cell_type": "code",
   "execution_count": 7,
   "id": "8e68e43a",
   "metadata": {
    "ExecuteTime": {
     "end_time": "2024-12-08T08:23:31.226732800Z",
     "start_time": "2024-12-08T08:23:31.212732200Z"
    },
    "collapsed": false,
    "execution": {
     "iopub.execute_input": "2024-12-11T05:27:09.917500Z",
     "iopub.status.busy": "2024-12-11T05:27:09.917189Z",
     "iopub.status.idle": "2024-12-11T05:27:09.921061Z",
     "shell.execute_reply": "2024-12-11T05:27:09.920356Z"
    },
    "jupyter": {
     "outputs_hidden": false
    },
    "papermill": {
     "duration": 0.008672,
     "end_time": "2024-12-11T05:27:09.922588",
     "exception": false,
     "start_time": "2024-12-11T05:27:09.913916",
     "status": "completed"
    },
    "tags": []
   },
   "outputs": [],
   "source": [
    "# Input dimension\n",
    "input_dim = (CONFIG['user_emb_size'] + \n",
    "             CONFIG['item_emb_size'] + \n",
    "             CONFIG['source_emb_size'] + \n",
    "             CONFIG['age_emb_size'] +\n",
    "             CONFIG['duration_emb_size'] + \n",
    "             CONFIG['gender_emb_size'] + \n",
    "             32)"
   ]
  },
  {
   "cell_type": "code",
   "execution_count": 8,
   "id": "763242b4",
   "metadata": {
    "ExecuteTime": {
     "end_time": "2024-12-08T08:23:35.561459600Z",
     "start_time": "2024-12-08T08:23:31.227732200Z"
    },
    "collapsed": false,
    "execution": {
     "iopub.execute_input": "2024-12-11T05:27:09.928482Z",
     "iopub.status.busy": "2024-12-11T05:27:09.928204Z",
     "iopub.status.idle": "2024-12-11T05:27:13.602302Z",
     "shell.execute_reply": "2024-12-11T05:27:13.601606Z"
    },
    "jupyter": {
     "outputs_hidden": false
    },
    "papermill": {
     "duration": 3.679098,
     "end_time": "2024-12-11T05:27:13.604167",
     "exception": false,
     "start_time": "2024-12-11T05:27:09.925069",
     "status": "completed"
    },
    "tags": []
   },
   "outputs": [],
   "source": [
    "# Model, criterion and optimizer\n",
    "model = Model(input_dim).to(device)\n",
    "criterion = nn.CrossEntropyLoss()\n",
    "optimizer = Adam(model.parameters(), lr=CONFIG['LR'])"
   ]
  },
  {
   "cell_type": "code",
   "execution_count": 9,
   "id": "aef06280",
   "metadata": {
    "ExecuteTime": {
     "end_time": "2024-12-08T11:03:32.404670700Z",
     "start_time": "2024-12-08T08:23:35.576456600Z"
    },
    "collapsed": false,
    "execution": {
     "iopub.execute_input": "2024-12-11T05:27:13.611117Z",
     "iopub.status.busy": "2024-12-11T05:27:13.610755Z",
     "iopub.status.idle": "2024-12-11T08:03:00.216567Z",
     "shell.execute_reply": "2024-12-11T08:03:00.215561Z"
    },
    "jupyter": {
     "outputs_hidden": false
    },
    "papermill": {
     "duration": 9346.611426,
     "end_time": "2024-12-11T08:03:00.218489",
     "exception": false,
     "start_time": "2024-12-11T05:27:13.607063",
     "status": "completed"
    },
    "tags": []
   },
   "outputs": [
    {
     "name": "stderr",
     "output_type": "stream",
     "text": [
      "Epoch 1/6: 100%|██████████| 8891/8891 [25:45<00:00,  5.75batch/s, train_mean_loss=0.127586]\n",
      "Epoch 1/6: 100%|██████████| 102/102 [00:07<00:00, 13.73batch/s]\n"
     ]
    },
    {
     "name": "stdout",
     "output_type": "stream",
     "text": [
      "Outputs saved at /kaggle/working/7.6.2_test_e0.csv\n",
      "Epoch [1/6]: Train Loss: 0.127586\n"
     ]
    },
    {
     "name": "stderr",
     "output_type": "stream",
     "text": [
      "Epoch 2/6: 100%|██████████| 8891/8891 [25:52<00:00,  5.73batch/s, train_mean_loss=0.112437]\n",
      "Epoch 2/6: 100%|██████████| 102/102 [00:07<00:00, 13.44batch/s]\n"
     ]
    },
    {
     "name": "stdout",
     "output_type": "stream",
     "text": [
      "Outputs saved at /kaggle/working/7.6.2_test_e1.csv\n",
      "Epoch [2/6]: Train Loss: 0.112437\n"
     ]
    },
    {
     "name": "stderr",
     "output_type": "stream",
     "text": [
      "Epoch 3/6: 100%|██████████| 8891/8891 [25:49<00:00,  5.74batch/s, train_mean_loss=0.091875]\n",
      "Epoch 3/6: 100%|██████████| 102/102 [00:07<00:00, 13.46batch/s]\n"
     ]
    },
    {
     "name": "stdout",
     "output_type": "stream",
     "text": [
      "Outputs saved at /kaggle/working/7.6.2_test_e2.csv\n",
      "Epoch [3/6]: Train Loss: 0.091875\n"
     ]
    },
    {
     "name": "stderr",
     "output_type": "stream",
     "text": [
      "Epoch 4/6: 100%|██████████| 8891/8891 [25:47<00:00,  5.74batch/s, train_mean_loss=0.074273]\n",
      "Epoch 4/6: 100%|██████████| 102/102 [00:07<00:00, 13.90batch/s]\n"
     ]
    },
    {
     "name": "stdout",
     "output_type": "stream",
     "text": [
      "Outputs saved at /kaggle/working/7.6.2_test_e3.csv\n",
      "Epoch [4/6]: Train Loss: 0.074273\n"
     ]
    },
    {
     "name": "stderr",
     "output_type": "stream",
     "text": [
      "Epoch 5/6: 100%|██████████| 8891/8891 [25:43<00:00,  5.76batch/s, train_mean_loss=0.060807]\n",
      "Epoch 5/6: 100%|██████████| 102/102 [00:07<00:00, 14.04batch/s]\n"
     ]
    },
    {
     "name": "stdout",
     "output_type": "stream",
     "text": [
      "Outputs saved at /kaggle/working/7.6.2_test_e4.csv\n",
      "Epoch [5/6]: Train Loss: 0.060807\n"
     ]
    },
    {
     "name": "stderr",
     "output_type": "stream",
     "text": [
      "Epoch 6/6: 100%|██████████| 8891/8891 [25:46<00:00,  5.75batch/s, train_mean_loss=0.050630]\n",
      "Epoch 6/6: 100%|██████████| 102/102 [00:07<00:00, 13.85batch/s]\n"
     ]
    },
    {
     "name": "stdout",
     "output_type": "stream",
     "text": [
      "Outputs saved at /kaggle/working/7.6.2_test_e5.csv\n",
      "Epoch [6/6]: Train Loss: 0.050630\n"
     ]
    }
   ],
   "source": [
    "# Training\n",
    "train_num_samples = len(train)\n",
    "train_num_batches = (train_num_samples + CONFIG['BATCH_SIZE'] - 1) // CONFIG['BATCH_SIZE']\n",
    "\n",
    "test_num_samples = len(test)\n",
    "test_num_batches = (test_num_samples + CONFIG['BATCH_SIZE'] - 1) // CONFIG['BATCH_SIZE']\n",
    "\n",
    "for epoch in range(CONFIG['EPOCHS']):\n",
    "##################################################################TRAIN##################################################################\n",
    "    model.train()\n",
    "    train_running_loss = 0.0\n",
    "\n",
    "    with tqdm(range(train_num_batches), desc=f\"Epoch {epoch + 1}/{CONFIG['EPOCHS']}\", unit=\"batch\") as t:\n",
    "        for batch_idx in t:\n",
    "            start_idx = batch_idx * CONFIG['BATCH_SIZE']\n",
    "            end_idx = min(start_idx + CONFIG['BATCH_SIZE'], train_num_samples)\n",
    "            \n",
    "            batch_main = train.iloc[start_idx:end_idx]\n",
    "            \n",
    "            batch_user_values = batch_main['user_id'].values\n",
    "            batch_item_values = batch_main['item_id'].values\n",
    "\n",
    "            batch_users_meta = users_meta.loc[batch_user_values]\n",
    "            batch_items_meta = items_meta.loc[batch_item_values]\n",
    "\n",
    "            batch_user_values = torch.tensor(batch_user_values, dtype=torch.long, device=device)\n",
    "            batch_item_values = torch.tensor(batch_item_values, dtype=torch.long, device=device)\n",
    "\n",
    "            batch_gender_values = torch.tensor(batch_users_meta['gender'].values, dtype=torch.long, device=device)\n",
    "            batch_age_values = torch.tensor(batch_users_meta['age'].values, dtype=torch.long, device=device)\n",
    "            batch_source_values = torch.tensor(batch_items_meta['source_id'].values, dtype=torch.long, device=device)\n",
    "            batch_duration_values = torch.tensor(batch_items_meta['duration'].values, dtype=torch.long, device=device)\n",
    "\n",
    "            embeddings = torch.tensor(np.stack(batch_items_meta['embeddings'].values), device=device, dtype=torch.float32)\n",
    "            targets = torch.tensor(batch_main['target'].values, dtype=torch.long, device=device)\n",
    "\n",
    "            optimizer.zero_grad()\n",
    "            \n",
    "            outputs = model(batch_user_values, \n",
    "                            batch_item_values, \n",
    "                            batch_source_values, \n",
    "                            batch_age_values, \n",
    "                            batch_duration_values, \n",
    "                            batch_gender_values, \n",
    "                            embeddings)\n",
    "            \n",
    "            batch_loss = criterion(outputs, targets)\n",
    "            batch_loss.backward()\n",
    "            optimizer.step()\n",
    "\n",
    "            train_running_loss += batch_loss.item()\n",
    "            t.set_postfix(train_mean_loss=f\"{train_running_loss / (batch_idx + 1):.6f}\")\n",
    "        \n",
    "##################################################################EVAL##################################################################\n",
    "    model.eval()\n",
    "    \n",
    "    outputs_list = []\n",
    "\n",
    "    with torch.no_grad():\n",
    "        with tqdm(range(test_num_batches), desc=f\"Epoch {epoch + 1}/{CONFIG['EPOCHS']}\", unit=\"batch\") as v:\n",
    "            for batch_idx in v:\n",
    "                start_idx = batch_idx * CONFIG['BATCH_SIZE']\n",
    "                end_idx = min(start_idx + CONFIG['BATCH_SIZE'], test_num_samples)\n",
    "                \n",
    "                batch_main = test.iloc[start_idx:end_idx]\n",
    "                \n",
    "                batch_user_values = batch_main['user_id'].values\n",
    "                batch_item_values = batch_main['item_id'].values\n",
    "    \n",
    "                batch_users_meta = users_meta.loc[batch_user_values]\n",
    "                batch_items_meta = items_meta.loc[batch_item_values]\n",
    "    \n",
    "                batch_user_values = torch.tensor(batch_user_values, dtype=torch.long, device=device)\n",
    "                batch_item_values = torch.tensor(batch_item_values, dtype=torch.long, device=device)\n",
    "    \n",
    "                batch_gender_values = torch.tensor(batch_users_meta['gender'].values, dtype=torch.long, device=device)\n",
    "                batch_age_values = torch.tensor(batch_users_meta['age'].values, dtype=torch.long, device=device)\n",
    "                batch_source_values = torch.tensor(batch_items_meta['source_id'].values, dtype=torch.long, device=device)\n",
    "                batch_duration_values = torch.tensor(batch_items_meta['duration'].values, dtype=torch.long, device=device)\n",
    "    \n",
    "                embeddings = torch.tensor(np.stack(batch_items_meta['embeddings'].values), device=device, dtype=torch.float32)\n",
    "                \n",
    "                outputs = model(batch_user_values, \n",
    "                            batch_item_values, \n",
    "                            batch_source_values, \n",
    "                            batch_age_values, \n",
    "                            batch_duration_values, \n",
    "                            batch_gender_values, \n",
    "                            embeddings)\n",
    "                \n",
    "                probabilities = F.softmax(outputs, dim=1)\n",
    "                class_weights = torch.tensor([0, 1, 2], device=probabilities.device, dtype=probabilities.dtype)\n",
    "                weighted_predictions = torch.sum(probabilities * class_weights, dim=1).cpu().numpy()\n",
    "        \n",
    "                outputs_list.extend(weighted_predictions)\n",
    "\n",
    "##################################################################SAVE##################################################################\n",
    "    df_outputs = pd.DataFrame(outputs_list, columns=['predict'])\n",
    "    test_to_save['predict'] = df_outputs['predict']\n",
    "    output_path = f\"{CONFIG['test_pred_folder']}{CONFIG['test_output_path']}_e{epoch}.csv\"\n",
    "    test_to_save.to_csv(output_path, index=False)\n",
    "\n",
    "    train_loss = train_running_loss / train_num_batches\n",
    "\n",
    "    print('Outputs saved at', output_path)\n",
    "    print(f\"Epoch [{epoch + 1}/{CONFIG['EPOCHS']}]: Train Loss: {train_loss:.6f}\")"
   ]
  }
 ],
 "metadata": {
  "kaggle": {
   "accelerator": "gpu",
   "dataSources": [
    {
     "datasetId": 6155403,
     "sourceId": 10000346,
     "sourceType": "datasetVersion"
    }
   ],
   "dockerImageVersionId": 30805,
   "isGpuEnabled": true,
   "isInternetEnabled": true,
   "language": "python",
   "sourceType": "notebook"
  },
  "kernelspec": {
   "display_name": "Python 3",
   "language": "python",
   "name": "python3"
  },
  "language_info": {
   "codemirror_mode": {
    "name": "ipython",
    "version": 3
   },
   "file_extension": ".py",
   "mimetype": "text/x-python",
   "name": "python",
   "nbconvert_exporter": "python",
   "pygments_lexer": "ipython3",
   "version": "3.10.14"
  },
  "papermill": {
   "default_parameters": {},
   "duration": 9380.645591,
   "end_time": "2024-12-11T08:03:06.610437",
   "environment_variables": {},
   "exception": null,
   "input_path": "__notebook__.ipynb",
   "output_path": "__notebook__.ipynb",
   "parameters": {},
   "start_time": "2024-12-11T05:26:45.964846",
   "version": "2.6.0"
  }
 },
 "nbformat": 4,
 "nbformat_minor": 5
}
