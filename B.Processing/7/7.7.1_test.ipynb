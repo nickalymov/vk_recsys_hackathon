{
 "cells": [
  {
   "cell_type": "code",
   "execution_count": 1,
   "id": "5816d15b",
   "metadata": {
    "ExecuteTime": {
     "end_time": "2024-12-08T08:23:01.280834900Z",
     "start_time": "2024-12-08T08:23:01.264939400Z"
    },
    "collapsed": false,
    "execution": {
     "iopub.execute_input": "2024-12-11T13:08:31.000342Z",
     "iopub.status.busy": "2024-12-11T13:08:30.999510Z",
     "iopub.status.idle": "2024-12-11T13:08:31.006825Z",
     "shell.execute_reply": "2024-12-11T13:08:31.006033Z"
    },
    "jupyter": {
     "outputs_hidden": false
    },
    "papermill": {
     "duration": 0.013628,
     "end_time": "2024-12-11T13:08:31.008486",
     "exception": false,
     "start_time": "2024-12-11T13:08:30.994858",
     "status": "completed"
    },
    "tags": []
   },
   "outputs": [],
   "source": [
    "number = '7.7.1'"
   ]
  },
  {
   "cell_type": "code",
   "execution_count": 2,
   "id": "2e18451c",
   "metadata": {
    "ExecuteTime": {
     "end_time": "2024-12-08T08:23:01.297836Z",
     "start_time": "2024-12-08T08:23:01.281836200Z"
    },
    "collapsed": false,
    "execution": {
     "iopub.execute_input": "2024-12-11T13:08:31.014749Z",
     "iopub.status.busy": "2024-12-11T13:08:31.014504Z",
     "iopub.status.idle": "2024-12-11T13:08:31.019033Z",
     "shell.execute_reply": "2024-12-11T13:08:31.018371Z"
    },
    "jupyter": {
     "outputs_hidden": false
    },
    "papermill": {
     "duration": 0.009319,
     "end_time": "2024-12-11T13:08:31.020597",
     "exception": false,
     "start_time": "2024-12-11T13:08:31.011278",
     "status": "completed"
    },
    "tags": []
   },
   "outputs": [],
   "source": [
    "CONFIG = {\n",
    "    'data_folder' : '/kaggle/input/vkrecsys/',\n",
    "    'val_pred_folder' : '/kaggle/working/',\n",
    "    'test_pred_folder' : '/kaggle/working/',\n",
    "    \n",
    "    'train_path' : 'train_interactions.parquet',\n",
    "    'test_path': 'test_pairs.csv',  \n",
    "    'items_meta_path' : 'items_meta.parquet',\n",
    "    'users_meta_path' : 'users_meta.parquet',\n",
    "    'folds_path' : 'fold.csv',\n",
    "    'val_output_path' : f'{number}_val',\n",
    "    'test_output_path' : f'{number}_test',\n",
    "    \n",
    "    'user_emb_size' : 256, \n",
    "    'item_emb_size' : 256, \n",
    "    'source_emb_size' : 256, \n",
    "    'age_emb_size' : 256, \n",
    "    'duration_emb_size' : 256, \n",
    "    'gender_emb_size' : 256, \n",
    "    \n",
    "    'DEVICE' : 'cuda',\n",
    "    'SEED' : 42,\n",
    "    'BATCH_SIZE' : 16384,\n",
    "    'LR' : 0.001,\n",
    "    'EPOCHS' : 1,\n",
    "    'output_dim' : 3\n",
    "    \n",
    "}"
   ]
  },
  {
   "cell_type": "code",
   "execution_count": 3,
   "id": "2edf47b2",
   "metadata": {
    "ExecuteTime": {
     "end_time": "2024-12-08T08:23:03.516393300Z",
     "start_time": "2024-12-08T08:23:01.297836Z"
    },
    "collapsed": false,
    "execution": {
     "iopub.execute_input": "2024-12-11T13:08:31.026681Z",
     "iopub.status.busy": "2024-12-11T13:08:31.026457Z",
     "iopub.status.idle": "2024-12-11T13:08:34.877094Z",
     "shell.execute_reply": "2024-12-11T13:08:34.876410Z"
    },
    "jupyter": {
     "outputs_hidden": false
    },
    "papermill": {
     "duration": 3.855891,
     "end_time": "2024-12-11T13:08:34.879039",
     "exception": false,
     "start_time": "2024-12-11T13:08:31.023148",
     "status": "completed"
    },
    "tags": []
   },
   "outputs": [],
   "source": [
    "# Import libs\n",
    "import numpy as np\n",
    "from tqdm import tqdm\n",
    "import pandas as pd\n",
    "import torch.nn.functional as F\n",
    "import torch\n",
    "import torch.nn as nn\n",
    "from torch.optim import Adam"
   ]
  },
  {
   "cell_type": "code",
   "execution_count": 4,
   "id": "e7b73cb0",
   "metadata": {
    "ExecuteTime": {
     "end_time": "2024-12-08T08:23:04.818133100Z",
     "start_time": "2024-12-08T08:23:04.807691900Z"
    },
    "collapsed": false,
    "execution": {
     "iopub.execute_input": "2024-12-11T13:08:34.886006Z",
     "iopub.status.busy": "2024-12-11T13:08:34.885672Z",
     "iopub.status.idle": "2024-12-11T13:08:34.961636Z",
     "shell.execute_reply": "2024-12-11T13:08:34.960929Z"
    },
    "jupyter": {
     "outputs_hidden": false
    },
    "papermill": {
     "duration": 0.081205,
     "end_time": "2024-12-11T13:08:34.963196",
     "exception": false,
     "start_time": "2024-12-11T13:08:34.881991",
     "status": "completed"
    },
    "tags": []
   },
   "outputs": [],
   "source": [
    "# Device, torch decimal places and seed for reproducibility\n",
    "device = torch.device(CONFIG['DEVICE'] if torch.cuda.is_available() else \"cpu\")\n",
    "torch.set_printoptions(precision=40) \n",
    "\n",
    "torch.manual_seed(CONFIG['SEED'])  \n",
    "torch.cuda.manual_seed_all(CONFIG['SEED'])  \n",
    "np.random.seed(CONFIG['SEED'])  "
   ]
  },
  {
   "cell_type": "code",
   "execution_count": 5,
   "id": "9f3efdb9",
   "metadata": {
    "ExecuteTime": {
     "end_time": "2024-12-08T08:23:31.162706400Z",
     "start_time": "2024-12-08T08:23:04.821137300Z"
    },
    "collapsed": false,
    "execution": {
     "iopub.execute_input": "2024-12-11T13:08:34.969880Z",
     "iopub.status.busy": "2024-12-11T13:08:34.969611Z",
     "iopub.status.idle": "2024-12-11T13:08:50.566952Z",
     "shell.execute_reply": "2024-12-11T13:08:50.566251Z"
    },
    "jupyter": {
     "outputs_hidden": false
    },
    "papermill": {
     "duration": 15.603424,
     "end_time": "2024-12-11T13:08:50.569501",
     "exception": false,
     "start_time": "2024-12-11T13:08:34.966077",
     "status": "completed"
    },
    "tags": []
   },
   "outputs": [],
   "source": [
    "# Load and prepare data\n",
    "train = pd.read_parquet(f\"{CONFIG['data_folder']}{CONFIG['train_path']}\", engine='pyarrow')\n",
    "train['target'] = train['like'] + train['dislike'].replace({1: -1})\n",
    "train.drop(columns=['like', 'dislike'], inplace=True)\n",
    "train['target'] = train['target'].astype('int8')\n",
    "train['target'] = train['target'].replace({-1:0, 0:1, 1:2})\n",
    "\n",
    "test = pd.read_csv(f\"{CONFIG['data_folder']}{CONFIG['test_path']}\")\n",
    "test_to_save = test.copy()\n",
    "\n",
    "items_meta = pd.read_parquet(f\"{CONFIG['data_folder']}{CONFIG['items_meta_path']}\", engine='pyarrow')\n",
    "items_meta['duration'] = items_meta['duration'] - 5\n",
    "items_meta['item_id'] = items_meta['item_id'].astype('category')\n",
    "items_meta['source_id'] = items_meta['source_id'].astype('category')\n",
    "items_meta.set_index('item_id', inplace=True)\n",
    "\n",
    "users_meta = pd.read_parquet(f\"{CONFIG['data_folder']}{CONFIG['users_meta_path']}\", engine='pyarrow')\n",
    "users_meta['age'] = users_meta['age'] - 18\n",
    "users_meta['gender'] = users_meta['gender'].replace({1:0, 2:1})\n",
    "users_meta['user_id'] = users_meta['user_id'].astype('category')\n",
    "users_meta['gender'] = users_meta['gender'].astype('category')\n",
    "users_meta.set_index('user_id', inplace=True)"
   ]
  },
  {
   "cell_type": "code",
   "execution_count": 6,
   "id": "db8d6cc6",
   "metadata": {
    "ExecuteTime": {
     "end_time": "2024-12-08T08:23:31.209732700Z",
     "start_time": "2024-12-08T08:23:31.163706300Z"
    },
    "collapsed": false,
    "execution": {
     "iopub.execute_input": "2024-12-11T13:08:50.578158Z",
     "iopub.status.busy": "2024-12-11T13:08:50.577850Z",
     "iopub.status.idle": "2024-12-11T13:08:50.607279Z",
     "shell.execute_reply": "2024-12-11T13:08:50.606660Z"
    },
    "jupyter": {
     "outputs_hidden": false
    },
    "papermill": {
     "duration": 0.036223,
     "end_time": "2024-12-11T13:08:50.608886",
     "exception": false,
     "start_time": "2024-12-11T13:08:50.572663",
     "status": "completed"
    },
    "tags": []
   },
   "outputs": [],
   "source": [
    "import torch.nn.init as init\n",
    "\n",
    "class Model(nn.Module):\n",
    "    def __init__(self, \n",
    "                 input_dim, \n",
    "                 num_users=users_meta.index.nunique(), \n",
    "                 num_items=items_meta.index.nunique(), \n",
    "                 num_sources=items_meta['source_id'].nunique(),\n",
    "                 num_ages=users_meta['age'].nunique(),\n",
    "                 num_durations=items_meta['duration'].nunique(),\n",
    "                 num_genders=users_meta['gender'].nunique(), \n",
    "                 output_dim=CONFIG['output_dim']): \n",
    "        super(Model, self).__init__()\n",
    "        \n",
    "        # Embedding layers for each feature\n",
    "        self.user_embedding = nn.Embedding(num_users, CONFIG['user_emb_size'])\n",
    "        self.item_embedding = nn.Embedding(num_items, CONFIG['item_emb_size'])\n",
    "        self.source_embedding = nn.Embedding(num_sources, CONFIG['source_emb_size'])\n",
    "        self.age_embedding = nn.Embedding(num_ages, CONFIG['age_emb_size'])\n",
    "        self.duration_embedding = nn.Embedding(num_durations, CONFIG['duration_emb_size'])\n",
    "        self.gender_embedding = nn.Embedding(num_genders, CONFIG['gender_emb_size'])\n",
    "        \n",
    "        # Transformations for embeddings\n",
    "        self.user_emb_transform = nn.Linear(CONFIG['user_emb_size'], 32)\n",
    "        self.item_emb_transform = nn.Linear(CONFIG['item_emb_size'], 32)\n",
    "        self.source_emb_transform = nn.Linear(CONFIG['source_emb_size'], 32)\n",
    "        self.age_emb_transform = nn.Linear(CONFIG['age_emb_size'], 32)\n",
    "        self.duration_emb_transform = nn.Linear(CONFIG['duration_emb_size'], 32)\n",
    "        self.gender_emb_transform = nn.Linear(CONFIG['gender_emb_size'], 32)\n",
    "        \n",
    "        # Attention layer components\n",
    "        self.attention_network = nn.Sequential(\n",
    "            nn.Linear(64, 32),  # 64 comes from the concatenation of two embedding sizes\n",
    "            nn.ReLU(),\n",
    "            nn.Linear(32, 1)\n",
    "        )\n",
    "\n",
    "        self.output_layer = nn.Linear(32, output_dim)  # Output layer\n",
    "        \n",
    "        self.fc1 = nn.Linear(input_dim, 1024)\n",
    "        self.fc2 = nn.Linear(1024, 1024)\n",
    "        self.fc3 = nn.Linear(1024, 512)\n",
    "        self.fc4 = nn.Linear(512, 256)\n",
    "        self.fc5 = nn.Linear(256, 256)\n",
    "        self.fc6 = nn.Linear(256, 128)\n",
    "        self.fc7 = nn.Linear(128, 128)\n",
    "        self.fc8 = nn.Linear(128, 64)\n",
    "        self.fc9 = nn.Linear(64, output_dim)\n",
    "        \n",
    "        self.gelu = nn.GELU()\n",
    "        \n",
    "        self._initialize_weights()\n",
    "    \n",
    "    def pairwise_interaction(self, x1, x2):\n",
    "        return x1 * x2  # Element-wise multiplication for feature interaction\n",
    "    \n",
    "    def compute_attention(self, emb1, emb2):\n",
    "        # Concatenate embeddings of the pair of features and pass through attention network\n",
    "        combined_emb = torch.cat([emb1, emb2], dim=-1)  # Concatenate embeddings (dim=-1 is feature dimension)\n",
    "        attention_score = self.attention_network(combined_emb)\n",
    "        attention_score = torch.sigmoid(attention_score)  # Use sigmoid for attention score\n",
    "        return attention_score\n",
    "    \n",
    "    def forward(self, user_ids, item_ids, source_ids, age_ids, duration_ids, gender_ids, embeddings):\n",
    "        \n",
    "        # Obtain embeddings for all features\n",
    "        user_emb = self.user_embedding(user_ids)\n",
    "        item_emb = self.item_embedding(item_ids)\n",
    "        source_emb = self.source_embedding(source_ids)\n",
    "        age_emb = self.age_embedding(age_ids)\n",
    "        duration_emb = self.duration_embedding(duration_ids)\n",
    "        gender_emb = self.gender_embedding(gender_ids)\n",
    "        \n",
    "        x = torch.cat((user_emb, item_emb, source_emb, age_emb, duration_emb, gender_emb, embeddings), dim=1)\n",
    "        \n",
    "        x = self.gelu(self.fc1(x))\n",
    "        \n",
    "        x = self.gelu(self.fc2(x))\n",
    "        \n",
    "        x = self.gelu(self.fc3(x))\n",
    "        \n",
    "        x = self.gelu(self.fc4(x))\n",
    "        \n",
    "        x = self.gelu(self.fc5(x))\n",
    "        \n",
    "        x = self.gelu(self.fc6(x))\n",
    "        \n",
    "        x = self.gelu(self.fc7(x))\n",
    "        \n",
    "        x = self.gelu(self.fc8(x))\n",
    "        \n",
    "        x = self.fc9(x)\n",
    "        \n",
    "        # Apply linear transformations to embeddings\n",
    "        user_emb = self.user_emb_transform(user_emb)\n",
    "        item_emb = self.item_emb_transform(item_emb)\n",
    "        source_emb = self.source_emb_transform(source_emb)\n",
    "        age_emb = self.age_emb_transform(age_emb)\n",
    "        duration_emb = self.duration_emb_transform(duration_emb)\n",
    "        gender_emb = self.gender_emb_transform(gender_emb)\n",
    "        \n",
    "        # Create dictionary of all embeddings\n",
    "        embeddings_dict = {\n",
    "            'user': user_emb,\n",
    "            'item': item_emb,\n",
    "            'source': source_emb,\n",
    "            'age': age_emb,\n",
    "            'duration': duration_emb,\n",
    "            'gender': gender_emb,\n",
    "            'embeddings': embeddings\n",
    "        }\n",
    "        \n",
    "        interactions = []\n",
    "        attention_scores = []\n",
    "        \n",
    "        # Compute pairwise interactions and their attention scores\n",
    "        for key1, emb1 in embeddings_dict.items():\n",
    "            for key2, emb2 in embeddings_dict.items():\n",
    "                if key1 < key2:  # Avoid double counting pairs (e.g., user-item and item-user)\n",
    "                    interaction = self.pairwise_interaction(emb1, emb2)\n",
    "                    attention_score = self.compute_attention(emb1, emb2)\n",
    "                    interactions.append(interaction * attention_score)  # Weight the interaction by attention score\n",
    "                    attention_scores.append(attention_score)  # Store the attention scores\n",
    "        \n",
    "        # Combine all interactions into a single tensor\n",
    "        interactions = torch.stack(interactions, dim=1)  # Shape: [batch_size, num_interactions]\n",
    "        attention_scores = torch.stack(attention_scores, dim=1)  # Shape: [batch_size, num_interactions]\n",
    "        \n",
    "        # Sum over all interactions with their respective attention scores\n",
    "        weighted_interactions = torch.sum(interactions * attention_scores, dim=1)\n",
    "        \n",
    "        # Pass through output layer to get the final prediction\n",
    "        y = self.output_layer(weighted_interactions)\n",
    "        \n",
    "        output = x + y\n",
    "        \n",
    "        return output\n",
    "    \n",
    "    def _initialize_weights(self):\n",
    "        # Xavier initialization for linear layers\n",
    "        for m in self.modules():\n",
    "            if isinstance(m, nn.Linear):\n",
    "                init.xavier_uniform_(m.weight)\n",
    "                if m.bias is not None:\n",
    "                    init.zeros_(m.bias)\n",
    "            elif isinstance(m, nn.Embedding):\n",
    "                init.xavier_uniform_(m.weight)"
   ]
  },
  {
   "cell_type": "code",
   "execution_count": 7,
   "id": "ec20c1ec",
   "metadata": {
    "ExecuteTime": {
     "end_time": "2024-12-08T08:23:31.226732800Z",
     "start_time": "2024-12-08T08:23:31.212732200Z"
    },
    "collapsed": false,
    "execution": {
     "iopub.execute_input": "2024-12-11T13:08:50.615080Z",
     "iopub.status.busy": "2024-12-11T13:08:50.614813Z",
     "iopub.status.idle": "2024-12-11T13:08:50.618500Z",
     "shell.execute_reply": "2024-12-11T13:08:50.617778Z"
    },
    "jupyter": {
     "outputs_hidden": false
    },
    "papermill": {
     "duration": 0.008542,
     "end_time": "2024-12-11T13:08:50.620005",
     "exception": false,
     "start_time": "2024-12-11T13:08:50.611463",
     "status": "completed"
    },
    "tags": []
   },
   "outputs": [],
   "source": [
    "# Input dimension\n",
    "input_dim = (CONFIG['user_emb_size'] + \n",
    "             CONFIG['item_emb_size'] + \n",
    "             CONFIG['source_emb_size'] + \n",
    "             CONFIG['age_emb_size'] +\n",
    "             CONFIG['duration_emb_size'] + \n",
    "             CONFIG['gender_emb_size'] + \n",
    "             32)"
   ]
  },
  {
   "cell_type": "code",
   "execution_count": 8,
   "id": "3962e0a9",
   "metadata": {
    "ExecuteTime": {
     "end_time": "2024-12-08T08:23:35.561459600Z",
     "start_time": "2024-12-08T08:23:31.227732200Z"
    },
    "collapsed": false,
    "execution": {
     "iopub.execute_input": "2024-12-11T13:08:50.625983Z",
     "iopub.status.busy": "2024-12-11T13:08:50.625742Z",
     "iopub.status.idle": "2024-12-11T13:08:54.403925Z",
     "shell.execute_reply": "2024-12-11T13:08:54.403240Z"
    },
    "jupyter": {
     "outputs_hidden": false
    },
    "papermill": {
     "duration": 3.783379,
     "end_time": "2024-12-11T13:08:54.405885",
     "exception": false,
     "start_time": "2024-12-11T13:08:50.622506",
     "status": "completed"
    },
    "tags": []
   },
   "outputs": [],
   "source": [
    "# Model, criterion and optimizer\n",
    "model = Model(input_dim).to(device)\n",
    "criterion = nn.CrossEntropyLoss()\n",
    "optimizer = Adam(model.parameters(), lr=CONFIG['LR'])"
   ]
  },
  {
   "cell_type": "code",
   "execution_count": 9,
   "id": "66cb5e10",
   "metadata": {
    "ExecuteTime": {
     "end_time": "2024-12-08T11:03:32.404670700Z",
     "start_time": "2024-12-08T08:23:35.576456600Z"
    },
    "collapsed": false,
    "execution": {
     "iopub.execute_input": "2024-12-11T13:08:54.412988Z",
     "iopub.status.busy": "2024-12-11T13:08:54.412627Z",
     "iopub.status.idle": "2024-12-11T13:27:42.427759Z",
     "shell.execute_reply": "2024-12-11T13:27:42.426749Z"
    },
    "jupyter": {
     "outputs_hidden": false
    },
    "papermill": {
     "duration": 1128.020713,
     "end_time": "2024-12-11T13:27:42.429523",
     "exception": false,
     "start_time": "2024-12-11T13:08:54.408810",
     "status": "completed"
    },
    "tags": []
   },
   "outputs": [
    {
     "name": "stderr",
     "output_type": "stream",
     "text": [
      "Epoch 1/1: 100%|██████████| 8891/8891 [18:39<00:00,  7.94batch/s, train_mean_loss=0.128068]\n",
      "Epoch 1/1: 100%|██████████| 102/102 [00:05<00:00, 17.09batch/s]\n"
     ]
    },
    {
     "name": "stdout",
     "output_type": "stream",
     "text": [
      "Outputs saved at /kaggle/working/7.7.1_test_e0.csv\n",
      "Epoch [1/1]: Train Loss: 0.128068\n"
     ]
    }
   ],
   "source": [
    "# Training\n",
    "train_num_samples = len(train)\n",
    "train_num_batches = (train_num_samples + CONFIG['BATCH_SIZE'] - 1) // CONFIG['BATCH_SIZE']\n",
    "\n",
    "test_num_samples = len(test)\n",
    "test_num_batches = (test_num_samples + CONFIG['BATCH_SIZE'] - 1) // CONFIG['BATCH_SIZE']\n",
    "\n",
    "for epoch in range(CONFIG['EPOCHS']):\n",
    "##################################################################TRAIN##################################################################\n",
    "    model.train()\n",
    "    train_running_loss = 0.0\n",
    "\n",
    "    with tqdm(range(train_num_batches), desc=f\"Epoch {epoch + 1}/{CONFIG['EPOCHS']}\", unit=\"batch\") as t:\n",
    "        for batch_idx in t:\n",
    "            start_idx = batch_idx * CONFIG['BATCH_SIZE']\n",
    "            end_idx = min(start_idx + CONFIG['BATCH_SIZE'], train_num_samples)\n",
    "            \n",
    "            batch_main = train.iloc[start_idx:end_idx]\n",
    "            \n",
    "            batch_user_values = batch_main['user_id'].values\n",
    "            batch_item_values = batch_main['item_id'].values\n",
    "\n",
    "            batch_users_meta = users_meta.loc[batch_user_values]\n",
    "            batch_items_meta = items_meta.loc[batch_item_values]\n",
    "\n",
    "            batch_user_values = torch.tensor(batch_user_values, dtype=torch.long, device=device)\n",
    "            batch_item_values = torch.tensor(batch_item_values, dtype=torch.long, device=device)\n",
    "\n",
    "            batch_gender_values = torch.tensor(batch_users_meta['gender'].values, dtype=torch.long, device=device)\n",
    "            batch_age_values = torch.tensor(batch_users_meta['age'].values, dtype=torch.long, device=device)\n",
    "            batch_source_values = torch.tensor(batch_items_meta['source_id'].values, dtype=torch.long, device=device)\n",
    "            batch_duration_values = torch.tensor(batch_items_meta['duration'].values, dtype=torch.long, device=device)\n",
    "\n",
    "            embeddings = torch.tensor(np.stack(batch_items_meta['embeddings'].values), device=device, dtype=torch.float32)\n",
    "            targets = torch.tensor(batch_main['target'].values, dtype=torch.long, device=device)\n",
    "\n",
    "            optimizer.zero_grad()\n",
    "            \n",
    "            outputs = model(batch_user_values, \n",
    "                            batch_item_values, \n",
    "                            batch_source_values, \n",
    "                            batch_age_values, \n",
    "                            batch_duration_values, \n",
    "                            batch_gender_values, \n",
    "                            embeddings)\n",
    "            \n",
    "            batch_loss = criterion(outputs, targets)\n",
    "            batch_loss.backward()\n",
    "            optimizer.step()\n",
    "\n",
    "            train_running_loss += batch_loss.item()\n",
    "            t.set_postfix(train_mean_loss=f\"{train_running_loss / (batch_idx + 1):.6f}\")\n",
    "        \n",
    "##################################################################EVAL##################################################################\n",
    "    model.eval()\n",
    "    \n",
    "    outputs_list = []\n",
    "\n",
    "    with torch.no_grad():\n",
    "        with tqdm(range(test_num_batches), desc=f\"Epoch {epoch + 1}/{CONFIG['EPOCHS']}\", unit=\"batch\") as v:\n",
    "            for batch_idx in v:\n",
    "                start_idx = batch_idx * CONFIG['BATCH_SIZE']\n",
    "                end_idx = min(start_idx + CONFIG['BATCH_SIZE'], test_num_samples)\n",
    "                \n",
    "                batch_main = test.iloc[start_idx:end_idx]\n",
    "                \n",
    "                batch_user_values = batch_main['user_id'].values\n",
    "                batch_item_values = batch_main['item_id'].values\n",
    "    \n",
    "                batch_users_meta = users_meta.loc[batch_user_values]\n",
    "                batch_items_meta = items_meta.loc[batch_item_values]\n",
    "    \n",
    "                batch_user_values = torch.tensor(batch_user_values, dtype=torch.long, device=device)\n",
    "                batch_item_values = torch.tensor(batch_item_values, dtype=torch.long, device=device)\n",
    "    \n",
    "                batch_gender_values = torch.tensor(batch_users_meta['gender'].values, dtype=torch.long, device=device)\n",
    "                batch_age_values = torch.tensor(batch_users_meta['age'].values, dtype=torch.long, device=device)\n",
    "                batch_source_values = torch.tensor(batch_items_meta['source_id'].values, dtype=torch.long, device=device)\n",
    "                batch_duration_values = torch.tensor(batch_items_meta['duration'].values, dtype=torch.long, device=device)\n",
    "    \n",
    "                embeddings = torch.tensor(np.stack(batch_items_meta['embeddings'].values), device=device, dtype=torch.float32)\n",
    "                \n",
    "                outputs = model(batch_user_values, \n",
    "                            batch_item_values, \n",
    "                            batch_source_values, \n",
    "                            batch_age_values, \n",
    "                            batch_duration_values, \n",
    "                            batch_gender_values, \n",
    "                            embeddings)\n",
    "                \n",
    "                probabilities = F.softmax(outputs, dim=1)\n",
    "                class_weights = torch.tensor([0, 1, 2], device=probabilities.device, dtype=probabilities.dtype)\n",
    "                weighted_predictions = torch.sum(probabilities * class_weights, dim=1).cpu().numpy()\n",
    "        \n",
    "                outputs_list.extend(weighted_predictions)\n",
    "\n",
    "##################################################################SAVE##################################################################\n",
    "    df_outputs = pd.DataFrame(outputs_list, columns=['predict'])\n",
    "    test_to_save['predict'] = df_outputs['predict']\n",
    "    output_path = f\"{CONFIG['test_pred_folder']}{CONFIG['test_output_path']}_e{epoch}.csv\"\n",
    "    test_to_save.to_csv(output_path, index=False)\n",
    "\n",
    "    train_loss = train_running_loss / train_num_batches\n",
    "\n",
    "    print('Outputs saved at', output_path)\n",
    "    print(f\"Epoch [{epoch + 1}/{CONFIG['EPOCHS']}]: Train Loss: {train_loss:.6f}\")"
   ]
  }
 ],
 "metadata": {
  "kaggle": {
   "accelerator": "gpu",
   "dataSources": [
    {
     "datasetId": 6155403,
     "sourceId": 10000346,
     "sourceType": "datasetVersion"
    }
   ],
   "dockerImageVersionId": 30805,
   "isGpuEnabled": true,
   "isInternetEnabled": true,
   "language": "python",
   "sourceType": "notebook"
  },
  "kernelspec": {
   "display_name": "Python 3",
   "language": "python",
   "name": "python3"
  },
  "language_info": {
   "codemirror_mode": {
    "name": "ipython",
    "version": 3
   },
   "file_extension": ".py",
   "mimetype": "text/x-python",
   "name": "python",
   "nbconvert_exporter": "python",
   "pygments_lexer": "ipython3",
   "version": "3.10.14"
  },
  "papermill": {
   "default_parameters": {},
   "duration": 1156.128873,
   "end_time": "2024-12-11T13:27:44.696981",
   "environment_variables": {},
   "exception": null,
   "input_path": "__notebook__.ipynb",
   "output_path": "__notebook__.ipynb",
   "parameters": {},
   "start_time": "2024-12-11T13:08:28.568108",
   "version": "2.6.0"
  }
 },
 "nbformat": 4,
 "nbformat_minor": 5
}
