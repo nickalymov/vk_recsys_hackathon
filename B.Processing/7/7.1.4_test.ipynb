{
 "cells": [
  {
   "cell_type": "code",
   "execution_count": 1,
   "id": "a62bc246",
   "metadata": {
    "collapsed": false,
    "execution": {
     "iopub.execute_input": "2024-12-13T14:44:29.484436Z",
     "iopub.status.busy": "2024-12-13T14:44:29.484069Z",
     "iopub.status.idle": "2024-12-13T14:44:29.491157Z",
     "shell.execute_reply": "2024-12-13T14:44:29.490474Z"
    },
    "papermill": {
     "duration": 0.013186,
     "end_time": "2024-12-13T14:44:29.492685",
     "exception": false,
     "start_time": "2024-12-13T14:44:29.479499",
     "status": "completed"
    },
    "tags": [],
    "ExecuteTime": {
     "end_time": "2024-12-15T05:28:20.567619800Z",
     "start_time": "2024-12-15T05:28:20.543622200Z"
    }
   },
   "outputs": [],
   "source": [
    "number = '7.1.4'"
   ]
  },
  {
   "cell_type": "code",
   "execution_count": 2,
   "id": "df1c54f8",
   "metadata": {
    "collapsed": false,
    "execution": {
     "iopub.execute_input": "2024-12-13T14:44:29.498999Z",
     "iopub.status.busy": "2024-12-13T14:44:29.498751Z",
     "iopub.status.idle": "2024-12-13T14:44:29.503332Z",
     "shell.execute_reply": "2024-12-13T14:44:29.502650Z"
    },
    "papermill": {
     "duration": 0.009478,
     "end_time": "2024-12-13T14:44:29.504930",
     "exception": false,
     "start_time": "2024-12-13T14:44:29.495452",
     "status": "completed"
    },
    "tags": [],
    "ExecuteTime": {
     "end_time": "2024-12-15T05:28:20.580618700Z",
     "start_time": "2024-12-15T05:28:20.562618900Z"
    }
   },
   "outputs": [],
   "source": [
    "CONFIG = {\n",
    "    'data_folder' : 'C:/Users/Николай/PycharmProjects/VKRecSys/data/',\n",
    "    'val_pred_folder' : 'C:/Users/Николай/PycharmProjects/VKRecSys/C.Results/val/',\n",
    "    'test_pred_folder' : 'C:/Users/Николай/PycharmProjects/VKRecSys/C.Results/test/',\n",
    "    \n",
    "    'train_path' : 'train_interactions.parquet',\n",
    "    'test_path': 'test_pairs.csv',  \n",
    "    'items_meta_path' : 'items_meta.parquet',\n",
    "    'users_meta_path' : 'users_meta.parquet',\n",
    "    'folds_path' : 'fold.csv',\n",
    "    'val_output_path' : f'{number}_val',\n",
    "    'test_output_path' : f'{number}_test',\n",
    "    \n",
    "    'user_emb_size' : 256, \n",
    "    'item_emb_size' : 256, \n",
    "    'source_emb_size' : 256, \n",
    "    'age_emb_size' : 256, \n",
    "    'duration_emb_size' : 256, \n",
    "    'gender_emb_size' : 256, \n",
    "    'step_emb_size': 256,\n",
    "    \n",
    "    'DEVICE' : 'cuda',\n",
    "    'SEED' : 42,\n",
    "    'BATCH_SIZE' : 16384,\n",
    "    'LR' : 0.001,\n",
    "    'EPOCHS' : 2,\n",
    "    'output_dim' : 3\n",
    "    \n",
    "}"
   ]
  },
  {
   "cell_type": "code",
   "execution_count": 3,
   "id": "2bc438ac",
   "metadata": {
    "collapsed": false,
    "execution": {
     "iopub.execute_input": "2024-12-13T14:44:29.511959Z",
     "iopub.status.busy": "2024-12-13T14:44:29.511735Z",
     "iopub.status.idle": "2024-12-13T14:44:33.200738Z",
     "shell.execute_reply": "2024-12-13T14:44:33.200037Z"
    },
    "papermill": {
     "duration": 3.694446,
     "end_time": "2024-12-13T14:44:33.202987",
     "exception": false,
     "start_time": "2024-12-13T14:44:29.508541",
     "status": "completed"
    },
    "tags": [],
    "ExecuteTime": {
     "end_time": "2024-12-15T05:28:23.348670900Z",
     "start_time": "2024-12-15T05:28:20.574622100Z"
    }
   },
   "outputs": [],
   "source": [
    "# Import libs\n",
    "import numpy as np\n",
    "from tqdm import tqdm\n",
    "import pandas as pd\n",
    "import torch.nn.functional as F\n",
    "import torch\n",
    "import torch.nn as nn\n",
    "from torch.optim import Adam"
   ]
  },
  {
   "cell_type": "code",
   "execution_count": 4,
   "id": "3ce4e9b6",
   "metadata": {
    "collapsed": false,
    "execution": {
     "iopub.execute_input": "2024-12-13T14:44:33.209719Z",
     "iopub.status.busy": "2024-12-13T14:44:33.209381Z",
     "iopub.status.idle": "2024-12-13T14:44:33.279822Z",
     "shell.execute_reply": "2024-12-13T14:44:33.278975Z"
    },
    "papermill": {
     "duration": 0.075573,
     "end_time": "2024-12-13T14:44:33.281449",
     "exception": false,
     "start_time": "2024-12-13T14:44:33.205876",
     "status": "completed"
    },
    "tags": [],
    "ExecuteTime": {
     "end_time": "2024-12-15T05:28:24.664209800Z",
     "start_time": "2024-12-15T05:28:24.653239100Z"
    }
   },
   "outputs": [],
   "source": [
    "# Device, torch decimal places and seed for reproducibility\n",
    "device = torch.device(CONFIG['DEVICE'] if torch.cuda.is_available() else \"cpu\")\n",
    "torch.set_printoptions(precision=40) \n",
    "\n",
    "torch.manual_seed(CONFIG['SEED'])  \n",
    "torch.cuda.manual_seed_all(CONFIG['SEED'])  \n",
    "np.random.seed(CONFIG['SEED'])  "
   ]
  },
  {
   "cell_type": "code",
   "execution_count": 5,
   "id": "d99a1acc",
   "metadata": {
    "collapsed": false,
    "execution": {
     "iopub.execute_input": "2024-12-13T14:44:33.287711Z",
     "iopub.status.busy": "2024-12-13T14:44:33.287446Z",
     "iopub.status.idle": "2024-12-13T14:44:49.190871Z",
     "shell.execute_reply": "2024-12-13T14:44:49.189860Z"
    },
    "papermill": {
     "duration": 15.908885,
     "end_time": "2024-12-13T14:44:49.192975",
     "exception": false,
     "start_time": "2024-12-13T14:44:33.284090",
     "status": "completed"
    },
    "tags": [],
    "ExecuteTime": {
     "end_time": "2024-12-15T05:28:55.196512900Z",
     "start_time": "2024-12-15T05:28:24.669207800Z"
    }
   },
   "outputs": [],
   "source": [
    "# Load and prepare data\n",
    "train = pd.read_parquet(f\"{CONFIG['data_folder']}{CONFIG['train_path']}\", engine='pyarrow')\n",
    "train['target'] = train['like'] + train['dislike'].replace({1: -1})\n",
    "train.drop(columns=['like', 'dislike'], inplace=True)\n",
    "train['target'] = train['target'].astype('int8')\n",
    "train['target'] = train['target'].replace({-1:0, 0:1, 1:2})\n",
    "train['step'] = train.groupby('user_id').cumcount()\n",
    "max_steps = train.groupby('user_id')['step'].max()\n",
    "\n",
    "test = pd.read_csv(f\"{CONFIG['data_folder']}{CONFIG['test_path']}\")\n",
    "test_to_save = test.copy()\n",
    "test['step'] = test.groupby('user_id').cumcount()\n",
    "test['step'] += test['user_id'].map(max_steps).fillna(0).astype(int)\n",
    "test['step'] += 1\n",
    "\n",
    "items_meta = pd.read_parquet(f\"{CONFIG['data_folder']}{CONFIG['items_meta_path']}\", engine='pyarrow')\n",
    "items_meta['duration'] = items_meta['duration'] - 5\n",
    "items_meta['item_id'] = items_meta['item_id'].astype('category')\n",
    "items_meta['source_id'] = items_meta['source_id'].astype('category')\n",
    "items_meta.set_index('item_id', inplace=True)\n",
    "\n",
    "users_meta = pd.read_parquet(f\"{CONFIG['data_folder']}{CONFIG['users_meta_path']}\", engine='pyarrow')\n",
    "users_meta['age'] = users_meta['age'] - 18\n",
    "users_meta['gender'] = users_meta['gender'].replace({1:0, 2:1})\n",
    "users_meta['user_id'] = users_meta['user_id'].astype('category')\n",
    "users_meta['gender'] = users_meta['gender'].astype('category')\n",
    "users_meta.set_index('user_id', inplace=True)"
   ]
  },
  {
   "cell_type": "code",
   "outputs": [
    {
     "data": {
      "text/plain": "           user_id  item_id  timespent  share  bookmarks  target  step\n2344487          5   200650         25      0          0       1     0\n2347745          5   102006         29      0          0       1     1\n2368006          5   136401         39      0          0       2     2\n2371361          5   285232         26      0          0       1     3\n2373560          5   294867          1      0          0       1     4\n...            ...      ...        ...    ...        ...     ...   ...\n143111967        5   290231         37      0          0       1   353\n143115147        5   117487         42      0          0       1   354\n143119698        5   228130         22      0          0       2   355\n144895198        5    45357         15      0          0       1   356\n144897633        5   305670         27      0          0       1   357\n\n[358 rows x 7 columns]",
      "text/html": "<div>\n<style scoped>\n    .dataframe tbody tr th:only-of-type {\n        vertical-align: middle;\n    }\n\n    .dataframe tbody tr th {\n        vertical-align: top;\n    }\n\n    .dataframe thead th {\n        text-align: right;\n    }\n</style>\n<table border=\"1\" class=\"dataframe\">\n  <thead>\n    <tr style=\"text-align: right;\">\n      <th></th>\n      <th>user_id</th>\n      <th>item_id</th>\n      <th>timespent</th>\n      <th>share</th>\n      <th>bookmarks</th>\n      <th>target</th>\n      <th>step</th>\n    </tr>\n  </thead>\n  <tbody>\n    <tr>\n      <th>2344487</th>\n      <td>5</td>\n      <td>200650</td>\n      <td>25</td>\n      <td>0</td>\n      <td>0</td>\n      <td>1</td>\n      <td>0</td>\n    </tr>\n    <tr>\n      <th>2347745</th>\n      <td>5</td>\n      <td>102006</td>\n      <td>29</td>\n      <td>0</td>\n      <td>0</td>\n      <td>1</td>\n      <td>1</td>\n    </tr>\n    <tr>\n      <th>2368006</th>\n      <td>5</td>\n      <td>136401</td>\n      <td>39</td>\n      <td>0</td>\n      <td>0</td>\n      <td>2</td>\n      <td>2</td>\n    </tr>\n    <tr>\n      <th>2371361</th>\n      <td>5</td>\n      <td>285232</td>\n      <td>26</td>\n      <td>0</td>\n      <td>0</td>\n      <td>1</td>\n      <td>3</td>\n    </tr>\n    <tr>\n      <th>2373560</th>\n      <td>5</td>\n      <td>294867</td>\n      <td>1</td>\n      <td>0</td>\n      <td>0</td>\n      <td>1</td>\n      <td>4</td>\n    </tr>\n    <tr>\n      <th>...</th>\n      <td>...</td>\n      <td>...</td>\n      <td>...</td>\n      <td>...</td>\n      <td>...</td>\n      <td>...</td>\n      <td>...</td>\n    </tr>\n    <tr>\n      <th>143111967</th>\n      <td>5</td>\n      <td>290231</td>\n      <td>37</td>\n      <td>0</td>\n      <td>0</td>\n      <td>1</td>\n      <td>353</td>\n    </tr>\n    <tr>\n      <th>143115147</th>\n      <td>5</td>\n      <td>117487</td>\n      <td>42</td>\n      <td>0</td>\n      <td>0</td>\n      <td>1</td>\n      <td>354</td>\n    </tr>\n    <tr>\n      <th>143119698</th>\n      <td>5</td>\n      <td>228130</td>\n      <td>22</td>\n      <td>0</td>\n      <td>0</td>\n      <td>2</td>\n      <td>355</td>\n    </tr>\n    <tr>\n      <th>144895198</th>\n      <td>5</td>\n      <td>45357</td>\n      <td>15</td>\n      <td>0</td>\n      <td>0</td>\n      <td>1</td>\n      <td>356</td>\n    </tr>\n    <tr>\n      <th>144897633</th>\n      <td>5</td>\n      <td>305670</td>\n      <td>27</td>\n      <td>0</td>\n      <td>0</td>\n      <td>1</td>\n      <td>357</td>\n    </tr>\n  </tbody>\n</table>\n<p>358 rows × 7 columns</p>\n</div>"
     },
     "execution_count": 6,
     "metadata": {},
     "output_type": "execute_result"
    }
   ],
   "source": [
    "train[train['user_id']==5]"
   ],
   "metadata": {
    "collapsed": false,
    "ExecuteTime": {
     "end_time": "2024-12-15T05:28:55.623863600Z",
     "start_time": "2024-12-15T05:28:55.198480200Z"
    }
   },
   "id": "640d214b3dfdb8bf",
   "execution_count": 6
  },
  {
   "cell_type": "code",
   "outputs": [
    {
     "data": {
      "text/plain": "    user_id  item_id  step\n20        5    18151   358\n21        5    44720   359\n22        5    45392   360\n23        5   103851   361\n24        5   121030   362\n25        5   127351   363\n26        5   127801   364\n27        5   142586   365\n28        5   162643   366\n29        5   170984   367\n30        5   230447   368\n31        5   233417   369\n32        5   256652   370\n33        5   284716   371\n34        5   285212   372\n35        5   301823   373\n36        5   322420   374\n37        5   326533   375\n38        5   327444   376\n39        5   327469   377",
      "text/html": "<div>\n<style scoped>\n    .dataframe tbody tr th:only-of-type {\n        vertical-align: middle;\n    }\n\n    .dataframe tbody tr th {\n        vertical-align: top;\n    }\n\n    .dataframe thead th {\n        text-align: right;\n    }\n</style>\n<table border=\"1\" class=\"dataframe\">\n  <thead>\n    <tr style=\"text-align: right;\">\n      <th></th>\n      <th>user_id</th>\n      <th>item_id</th>\n      <th>step</th>\n    </tr>\n  </thead>\n  <tbody>\n    <tr>\n      <th>20</th>\n      <td>5</td>\n      <td>18151</td>\n      <td>358</td>\n    </tr>\n    <tr>\n      <th>21</th>\n      <td>5</td>\n      <td>44720</td>\n      <td>359</td>\n    </tr>\n    <tr>\n      <th>22</th>\n      <td>5</td>\n      <td>45392</td>\n      <td>360</td>\n    </tr>\n    <tr>\n      <th>23</th>\n      <td>5</td>\n      <td>103851</td>\n      <td>361</td>\n    </tr>\n    <tr>\n      <th>24</th>\n      <td>5</td>\n      <td>121030</td>\n      <td>362</td>\n    </tr>\n    <tr>\n      <th>25</th>\n      <td>5</td>\n      <td>127351</td>\n      <td>363</td>\n    </tr>\n    <tr>\n      <th>26</th>\n      <td>5</td>\n      <td>127801</td>\n      <td>364</td>\n    </tr>\n    <tr>\n      <th>27</th>\n      <td>5</td>\n      <td>142586</td>\n      <td>365</td>\n    </tr>\n    <tr>\n      <th>28</th>\n      <td>5</td>\n      <td>162643</td>\n      <td>366</td>\n    </tr>\n    <tr>\n      <th>29</th>\n      <td>5</td>\n      <td>170984</td>\n      <td>367</td>\n    </tr>\n    <tr>\n      <th>30</th>\n      <td>5</td>\n      <td>230447</td>\n      <td>368</td>\n    </tr>\n    <tr>\n      <th>31</th>\n      <td>5</td>\n      <td>233417</td>\n      <td>369</td>\n    </tr>\n    <tr>\n      <th>32</th>\n      <td>5</td>\n      <td>256652</td>\n      <td>370</td>\n    </tr>\n    <tr>\n      <th>33</th>\n      <td>5</td>\n      <td>284716</td>\n      <td>371</td>\n    </tr>\n    <tr>\n      <th>34</th>\n      <td>5</td>\n      <td>285212</td>\n      <td>372</td>\n    </tr>\n    <tr>\n      <th>35</th>\n      <td>5</td>\n      <td>301823</td>\n      <td>373</td>\n    </tr>\n    <tr>\n      <th>36</th>\n      <td>5</td>\n      <td>322420</td>\n      <td>374</td>\n    </tr>\n    <tr>\n      <th>37</th>\n      <td>5</td>\n      <td>326533</td>\n      <td>375</td>\n    </tr>\n    <tr>\n      <th>38</th>\n      <td>5</td>\n      <td>327444</td>\n      <td>376</td>\n    </tr>\n    <tr>\n      <th>39</th>\n      <td>5</td>\n      <td>327469</td>\n      <td>377</td>\n    </tr>\n  </tbody>\n</table>\n</div>"
     },
     "execution_count": 7,
     "metadata": {},
     "output_type": "execute_result"
    }
   ],
   "source": [
    "test[test['user_id']==5]"
   ],
   "metadata": {
    "collapsed": false,
    "ExecuteTime": {
     "end_time": "2024-12-15T05:28:55.720916800Z",
     "start_time": "2024-12-15T05:28:55.625863600Z"
    }
   },
   "id": "c37ce095dfe9cbbd",
   "execution_count": 7
  },
  {
   "cell_type": "code",
   "outputs": [
    {
     "name": "stdout",
     "output_type": "stream",
     "text": [
      "4565 4519\n"
     ]
    }
   ],
   "source": [
    "print(train['step'].max(), test['step'].max())"
   ],
   "metadata": {
    "collapsed": false,
    "ExecuteTime": {
     "end_time": "2024-12-15T05:28:55.838915900Z",
     "start_time": "2024-12-15T05:28:55.688916800Z"
    }
   },
   "id": "248d3facaa11a961",
   "execution_count": 8
  },
  {
   "cell_type": "code",
   "execution_count": 9,
   "id": "3de1c3e9",
   "metadata": {
    "collapsed": false,
    "execution": {
     "iopub.execute_input": "2024-12-13T14:44:49.201252Z",
     "iopub.status.busy": "2024-12-13T14:44:49.200967Z",
     "iopub.status.idle": "2024-12-13T14:44:49.232298Z",
     "shell.execute_reply": "2024-12-13T14:44:49.231430Z"
    },
    "papermill": {
     "duration": 0.038447,
     "end_time": "2024-12-13T14:44:49.234499",
     "exception": false,
     "start_time": "2024-12-13T14:44:49.196052",
     "status": "completed"
    },
    "tags": [],
    "ExecuteTime": {
     "end_time": "2024-12-15T05:28:55.985951400Z",
     "start_time": "2024-12-15T05:28:55.828915900Z"
    }
   },
   "outputs": [],
   "source": [
    "# Model definition\n",
    "import torch.nn.init as init\n",
    "\n",
    "class Model(nn.Module):\n",
    "    def __init__(self, \n",
    "                 input_dim, \n",
    "                 num_users=users_meta.index.nunique(), \n",
    "                 num_items=items_meta.index.nunique(), \n",
    "                 num_sources=items_meta['source_id'].nunique(),\n",
    "                 num_ages=users_meta['age'].nunique(),\n",
    "                 num_durations=items_meta['duration'].nunique(),\n",
    "                 num_genders=users_meta['gender'].nunique(), \n",
    "                 num_steps=train['step'].max() + 1,\n",
    "                 output_dim=CONFIG['output_dim']): \n",
    "        \n",
    "        super(Model, self).__init__()\n",
    "        self.user_embedding = nn.Embedding(num_users, CONFIG['user_emb_size'])\n",
    "        self.item_embedding = nn.Embedding(num_items, CONFIG['item_emb_size'])\n",
    "        self.source_embedding = nn.Embedding(num_sources, CONFIG['source_emb_size'])\n",
    "        self.age_embedding = nn.Embedding(num_ages, CONFIG['age_emb_size'])\n",
    "        self.duration_embedding = nn.Embedding(num_durations, CONFIG['duration_emb_size'])\n",
    "        self.gender_embedding = nn.Embedding(num_genders, CONFIG['gender_emb_size'])\n",
    "        self.step_embedding = nn.Embedding(num_steps, CONFIG['step_emb_size'])\n",
    "         \n",
    "        self.fc1 = nn.Linear(input_dim, 1024)\n",
    "        self.fc2 = nn.Linear(1024, 512)\n",
    "        self.fc3 = nn.Linear(512, 512)\n",
    "        self.fc4 = nn.Linear(512, 256)\n",
    "        self.fc5 = nn.Linear(256, 128)\n",
    "        self.fc6 = nn.Linear(128, 128)\n",
    "        self.fc7 = nn.Linear(128, 64)\n",
    "        self.fc8 = nn.Linear(64, 32)\n",
    "        self.fc9 = nn.Linear(32, 32)\n",
    "        self.fc10 = nn.Linear(32, 16)\n",
    "        self.fc11 = nn.Linear(16, 8)\n",
    "        self.fc12 = nn.Linear(8, 8)\n",
    "        self.fc13 = nn.Linear(8, output_dim)\n",
    "        \n",
    "        self.gelu = nn.GELU()\n",
    "\n",
    "        self._initialize_weights()\n",
    "    \n",
    "    def _initialize_weights(self):\n",
    "        for m in self.modules():\n",
    "            if isinstance(m, nn.Linear):\n",
    "                init.xavier_uniform_(m.weight)  # Инициализация весов\n",
    "                if m.bias is not None:\n",
    "                    init.zeros_(m.bias)  # Инициализация биасов нулями\n",
    "            elif isinstance(m, nn.Embedding):\n",
    "                init.xavier_uniform_(m.weight)  # Инициализация весов для Embedding\n",
    "    \n",
    "    def forward(self, user_ids, item_ids, source_ids, age_ids, duration_ids, gender_ids, embeddings, steps_ids):\n",
    "\n",
    "        user_emb = self.user_embedding(user_ids)\n",
    "        item_emb = self.item_embedding(item_ids)\n",
    "        source_emb = self.source_embedding(source_ids)\n",
    "        age_emb = self.age_embedding(age_ids)\n",
    "        duration_emb = self.duration_embedding(duration_ids)\n",
    "        gender_emb = self.gender_embedding(gender_ids)\n",
    "        step_emb = self.step_embedding(steps_ids)\n",
    "        \n",
    "        x = torch.cat((user_emb, item_emb, source_emb, age_emb, duration_emb, gender_emb, embeddings, step_emb), dim=1)\n",
    "        \n",
    "        x = self.gelu(self.fc1(x))\n",
    "        x = self.gelu(self.fc2(x))\n",
    "        x = self.gelu(self.fc3(x))\n",
    "        x = self.gelu(self.fc4(x))\n",
    "        x = self.gelu(self.fc5(x))\n",
    "        x = self.gelu(self.fc6(x))\n",
    "        x = self.gelu(self.fc7(x))\n",
    "        x = self.gelu(self.fc8(x))\n",
    "        x = self.gelu(self.fc9(x))\n",
    "        x = self.gelu(self.fc10(x))\n",
    "        x = self.gelu(self.fc11(x))\n",
    "        x = self.gelu(self.fc12(x))\n",
    "        x = self.fc13(x)\n",
    "        \n",
    "        return x"
   ]
  },
  {
   "cell_type": "code",
   "execution_count": 10,
   "id": "17894aa0",
   "metadata": {
    "collapsed": false,
    "execution": {
     "iopub.execute_input": "2024-12-13T14:44:49.243704Z",
     "iopub.status.busy": "2024-12-13T14:44:49.243308Z",
     "iopub.status.idle": "2024-12-13T14:44:49.248493Z",
     "shell.execute_reply": "2024-12-13T14:44:49.247551Z"
    },
    "papermill": {
     "duration": 0.012571,
     "end_time": "2024-12-13T14:44:49.250933",
     "exception": false,
     "start_time": "2024-12-13T14:44:49.238362",
     "status": "completed"
    },
    "tags": [],
    "ExecuteTime": {
     "end_time": "2024-12-15T05:28:56.007916800Z",
     "start_time": "2024-12-15T05:28:55.987958100Z"
    }
   },
   "outputs": [],
   "source": [
    "# Input dimension\n",
    "input_dim = (CONFIG['user_emb_size'] + \n",
    "             CONFIG['item_emb_size'] + \n",
    "             CONFIG['source_emb_size'] + \n",
    "             CONFIG['age_emb_size'] +\n",
    "             CONFIG['duration_emb_size'] + \n",
    "             CONFIG['gender_emb_size'] + \n",
    "             CONFIG['step_emb_size'] +\n",
    "             32)"
   ]
  },
  {
   "cell_type": "code",
   "execution_count": 11,
   "id": "0b8cb91d",
   "metadata": {
    "collapsed": false,
    "execution": {
     "iopub.execute_input": "2024-12-13T14:44:49.259820Z",
     "iopub.status.busy": "2024-12-13T14:44:49.259511Z",
     "iopub.status.idle": "2024-12-13T14:44:52.992713Z",
     "shell.execute_reply": "2024-12-13T14:44:52.991993Z"
    },
    "papermill": {
     "duration": 3.73904,
     "end_time": "2024-12-13T14:44:52.994728",
     "exception": false,
     "start_time": "2024-12-13T14:44:49.255688",
     "status": "completed"
    },
    "tags": [],
    "ExecuteTime": {
     "end_time": "2024-12-15T05:29:01.085299500Z",
     "start_time": "2024-12-15T05:28:56.004916100Z"
    }
   },
   "outputs": [],
   "source": [
    "# Model, criterion and optimizer\n",
    "model = Model(input_dim).to(device)\n",
    "criterion = nn.CrossEntropyLoss()\n",
    "optimizer = Adam(model.parameters(), lr=CONFIG['LR'])"
   ]
  },
  {
   "cell_type": "code",
   "execution_count": null,
   "id": "1217d008",
   "metadata": {
    "collapsed": false,
    "execution": {
     "iopub.execute_input": "2024-12-13T14:44:53.001721Z",
     "iopub.status.busy": "2024-12-13T14:44:53.001383Z",
     "iopub.status.idle": "2024-12-13T14:59:46.638105Z",
     "shell.execute_reply": "2024-12-13T14:59:46.637032Z"
    },
    "papermill": {
     "duration": 893.642276,
     "end_time": "2024-12-13T14:59:46.639910",
     "exception": false,
     "start_time": "2024-12-13T14:44:52.997634",
     "status": "completed"
    },
    "tags": [],
    "is_executing": true,
    "ExecuteTime": {
     "start_time": "2024-12-15T05:29:01.100894500Z"
    }
   },
   "outputs": [
    {
     "name": "stderr",
     "output_type": "stream",
     "text": [
      "Epoch 1/2: 100%|██████████| 8891/8891 [46:05<00:00,  3.22batch/s, train_mean_loss=0.129206]\n",
      "Epoch 1/2: 100%|██████████| 102/102 [00:15<00:00,  6.42batch/s]\n"
     ]
    },
    {
     "name": "stdout",
     "output_type": "stream",
     "text": [
      "Outputs saved at C:/Users/Николай/PycharmProjects/VKRecSys/C.Results/test/7.1.4_test_e0.csv\n",
      "Epoch [1/2]: Train Loss: 0.129206\n"
     ]
    },
    {
     "name": "stderr",
     "output_type": "stream",
     "text": [
      "Epoch 2/2:   7%|▋         | 579/8891 [03:14<43:17,  3.20batch/s, train_mean_loss=0.126497]  "
     ]
    }
   ],
   "source": [
    "# Training\n",
    "train_num_samples = len(train)\n",
    "train_num_batches = (train_num_samples + CONFIG['BATCH_SIZE'] - 1) // CONFIG['BATCH_SIZE']\n",
    "\n",
    "test_num_samples = len(test)\n",
    "test_num_batches = (test_num_samples + CONFIG['BATCH_SIZE'] - 1) // CONFIG['BATCH_SIZE']\n",
    "\n",
    "for epoch in range(CONFIG['EPOCHS']):\n",
    "##################################################################TRAIN##################################################################\n",
    "    model.train()\n",
    "    train_running_loss = 0.0\n",
    "\n",
    "    with tqdm(range(train_num_batches), desc=f\"Epoch {epoch + 1}/{CONFIG['EPOCHS']}\", unit=\"batch\") as t:\n",
    "        for batch_idx in t:\n",
    "            start_idx = batch_idx * CONFIG['BATCH_SIZE']\n",
    "            end_idx = min(start_idx + CONFIG['BATCH_SIZE'], train_num_samples)\n",
    "            \n",
    "            batch_main = train.iloc[start_idx:end_idx]\n",
    "            \n",
    "            batch_user_values = batch_main['user_id'].values\n",
    "            batch_item_values = batch_main['item_id'].values\n",
    "\n",
    "            batch_users_meta = users_meta.loc[batch_user_values]\n",
    "            batch_items_meta = items_meta.loc[batch_item_values]\n",
    "\n",
    "            batch_user_values = torch.tensor(batch_user_values, dtype=torch.long, device=device)\n",
    "            batch_item_values = torch.tensor(batch_item_values, dtype=torch.long, device=device)\n",
    "\n",
    "            batch_gender_values = torch.tensor(batch_users_meta['gender'].values, dtype=torch.long, device=device)\n",
    "            batch_age_values = torch.tensor(batch_users_meta['age'].values, dtype=torch.long, device=device)\n",
    "            batch_source_values = torch.tensor(batch_items_meta['source_id'].values, dtype=torch.long, device=device)\n",
    "            batch_duration_values = torch.tensor(batch_items_meta['duration'].values, dtype=torch.long, device=device)\n",
    "\n",
    "            embeddings = torch.tensor(np.stack(batch_items_meta['embeddings'].values), device=device, dtype=torch.float32)\n",
    "            targets = torch.tensor(batch_main['target'].values, dtype=torch.long, device=device)\n",
    "            batch_step_ids = torch.tensor(batch_main['step'].values, dtype=torch.long, device=device)\n",
    "\n",
    "            optimizer.zero_grad()\n",
    "            \n",
    "            outputs = model(batch_user_values, \n",
    "                            batch_item_values, \n",
    "                            batch_source_values, \n",
    "                            batch_age_values, \n",
    "                            batch_duration_values, \n",
    "                            batch_gender_values, \n",
    "                            embeddings,\n",
    "                            batch_step_ids)\n",
    "            \n",
    "            batch_loss = criterion(outputs, targets)\n",
    "            batch_loss.backward()\n",
    "            optimizer.step()\n",
    "\n",
    "            train_running_loss += batch_loss.item()\n",
    "            t.set_postfix(train_mean_loss=f\"{train_running_loss / (batch_idx + 1):.6f}\")\n",
    "        \n",
    "##################################################################EVAL##################################################################\n",
    "    model.eval()\n",
    "    \n",
    "    outputs_list = []\n",
    "\n",
    "    with torch.no_grad():\n",
    "        with tqdm(range(test_num_batches), desc=f\"Epoch {epoch + 1}/{CONFIG['EPOCHS']}\", unit=\"batch\") as v:\n",
    "            for batch_idx in v:\n",
    "                start_idx = batch_idx * CONFIG['BATCH_SIZE']\n",
    "                end_idx = min(start_idx + CONFIG['BATCH_SIZE'], test_num_samples)\n",
    "                \n",
    "                batch_main = test.iloc[start_idx:end_idx]\n",
    "                \n",
    "                batch_user_values = batch_main['user_id'].values\n",
    "                batch_item_values = batch_main['item_id'].values\n",
    "    \n",
    "                batch_users_meta = users_meta.loc[batch_user_values]\n",
    "                batch_items_meta = items_meta.loc[batch_item_values]\n",
    "    \n",
    "                batch_user_values = torch.tensor(batch_user_values, dtype=torch.long, device=device)\n",
    "                batch_item_values = torch.tensor(batch_item_values, dtype=torch.long, device=device)\n",
    "    \n",
    "                batch_gender_values = torch.tensor(batch_users_meta['gender'].values, dtype=torch.long, device=device)\n",
    "                batch_age_values = torch.tensor(batch_users_meta['age'].values, dtype=torch.long, device=device)\n",
    "                batch_source_values = torch.tensor(batch_items_meta['source_id'].values, dtype=torch.long, device=device)\n",
    "                batch_duration_values = torch.tensor(batch_items_meta['duration'].values, dtype=torch.long, device=device)\n",
    "    \n",
    "                embeddings = torch.tensor(np.stack(batch_items_meta['embeddings'].values), device=device, dtype=torch.float32)\n",
    "                batch_step_ids = torch.tensor(batch_main['step'].values, dtype=torch.long, device=device)\n",
    "                \n",
    "                outputs = model(batch_user_values, \n",
    "                            batch_item_values, \n",
    "                            batch_source_values, \n",
    "                            batch_age_values, \n",
    "                            batch_duration_values, \n",
    "                            batch_gender_values, \n",
    "                            embeddings,\n",
    "                            batch_step_ids)\n",
    "                \n",
    "                probabilities = F.softmax(outputs, dim=1)\n",
    "                class_weights = torch.tensor([0, 1, 2], device=probabilities.device, dtype=probabilities.dtype)\n",
    "                weighted_predictions = torch.sum(probabilities * class_weights, dim=1).cpu().numpy()\n",
    "        \n",
    "                outputs_list.extend(weighted_predictions)\n",
    "\n",
    "##################################################################SAVE##################################################################\n",
    "    df_outputs = pd.DataFrame(outputs_list, columns=['predict'])\n",
    "    test_to_save['predict'] = df_outputs['predict']\n",
    "    output_path = f\"{CONFIG['test_pred_folder']}{CONFIG['test_output_path']}_e{epoch}.csv\"\n",
    "    test_to_save.to_csv(output_path, index=False)\n",
    "\n",
    "    train_loss = train_running_loss / train_num_batches\n",
    "\n",
    "    print('Outputs saved at', output_path)\n",
    "    print(f\"Epoch [{epoch + 1}/{CONFIG['EPOCHS']}]: Train Loss: {train_loss:.6f}\")"
   ]
  },
  {
   "cell_type": "code",
   "outputs": [],
   "source": [],
   "metadata": {
    "collapsed": false
   },
   "id": "ca35112165a38f09"
  }
 ],
 "metadata": {
  "kaggle": {
   "accelerator": "gpu",
   "dataSources": [
    {
     "datasetId": 6155403,
     "sourceId": 10000346,
     "sourceType": "datasetVersion"
    }
   ],
   "dockerImageVersionId": 30805,
   "isGpuEnabled": true,
   "isInternetEnabled": true,
   "language": "python",
   "sourceType": "notebook"
  },
  "kernelspec": {
   "display_name": "Python 3",
   "language": "python",
   "name": "python3"
  },
  "language_info": {
   "codemirror_mode": {
    "name": "ipython",
    "version": 3
   },
   "file_extension": ".py",
   "mimetype": "text/x-python",
   "name": "python",
   "nbconvert_exporter": "python",
   "pygments_lexer": "ipython3",
   "version": "3.10.14"
  },
  "papermill": {
   "default_parameters": {},
   "duration": 921.732176,
   "end_time": "2024-12-13T14:59:48.848043",
   "environment_variables": {},
   "exception": null,
   "input_path": "__notebook__.ipynb",
   "output_path": "__notebook__.ipynb",
   "parameters": {},
   "start_time": "2024-12-13T14:44:27.115867",
   "version": "2.6.0"
  }
 },
 "nbformat": 4,
 "nbformat_minor": 5
}
