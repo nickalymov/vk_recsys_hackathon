{
 "cells": [
  {
   "cell_type": "code",
   "execution_count": 1,
   "id": "5d8e0d81",
   "metadata": {
    "collapsed": false,
    "execution": {
     "iopub.execute_input": "2024-12-09T04:18:49.384030Z",
     "iopub.status.busy": "2024-12-09T04:18:49.383307Z",
     "iopub.status.idle": "2024-12-09T04:18:49.390333Z",
     "shell.execute_reply": "2024-12-09T04:18:49.389714Z"
    },
    "papermill": {
     "duration": 0.013128,
     "end_time": "2024-12-09T04:18:49.391957",
     "exception": false,
     "start_time": "2024-12-09T04:18:49.378829",
     "status": "completed"
    },
    "tags": [],
    "ExecuteTime": {
     "end_time": "2024-12-10T04:49:32.642231400Z",
     "start_time": "2024-12-10T04:49:32.627232400Z"
    }
   },
   "outputs": [],
   "source": [
    "number = '7.5.1'"
   ]
  },
  {
   "cell_type": "code",
   "execution_count": 2,
   "id": "31993c0c",
   "metadata": {
    "collapsed": false,
    "execution": {
     "iopub.execute_input": "2024-12-09T04:18:49.398250Z",
     "iopub.status.busy": "2024-12-09T04:18:49.398036Z",
     "iopub.status.idle": "2024-12-09T04:18:49.402706Z",
     "shell.execute_reply": "2024-12-09T04:18:49.401931Z"
    },
    "papermill": {
     "duration": 0.009441,
     "end_time": "2024-12-09T04:18:49.404261",
     "exception": false,
     "start_time": "2024-12-09T04:18:49.394820",
     "status": "completed"
    },
    "tags": [],
    "ExecuteTime": {
     "end_time": "2024-12-10T04:49:32.654234400Z",
     "start_time": "2024-12-10T04:49:32.637234Z"
    }
   },
   "outputs": [],
   "source": [
    "CONFIG = {\n",
    "    'data_folder' : 'C:/Users/Николай/PycharmProjects/VKRecSys/data/',\n",
    "    'val_pred_folder' : 'C:/Users/Николай/PycharmProjects/VKRecSys/C.Results/val/',\n",
    "    'test_pred_folder' : 'C:/Users/Николай/PycharmProjects/VKRecSys/C.Results/test/',\n",
    "    \n",
    "    'train_path' : 'train_interactions.parquet',\n",
    "    'test_path': 'test_pairs.csv',  \n",
    "    'items_meta_path' : 'items_meta.parquet',\n",
    "    'users_meta_path' : 'users_meta.parquet',\n",
    "    'folds_path' : 'fold.csv',\n",
    "    'val_output_path' : f'{number}_val',\n",
    "    'test_output_path' : f'{number}_test',\n",
    "    \n",
    "    'user_emb_size' : 256, \n",
    "    'item_emb_size' : 256, \n",
    "    'source_emb_size' : 256, \n",
    "    'age_emb_size' : 256, \n",
    "    'duration_emb_size' : 256, \n",
    "    'gender_emb_size' : 256, \n",
    "    \n",
    "    'DEVICE' : 'cuda',\n",
    "    'SEED' : 42,\n",
    "    'BATCH_SIZE' : 16384,\n",
    "    'LR' : 0.001,\n",
    "    'EPOCHS' : 5,\n",
    "    'output_dim' : 3,\n",
    "    \n",
    "    'share_weight': 0.7332961900532841,\n",
    "    'bookmark_weight': 0.05949911244473274,\n",
    "    'timespent_weight': 0.09469452073341826\n",
    "    \n",
    "}"
   ]
  },
  {
   "cell_type": "code",
   "execution_count": 3,
   "id": "f2851741",
   "metadata": {
    "collapsed": false,
    "execution": {
     "iopub.execute_input": "2024-12-09T04:18:49.410234Z",
     "iopub.status.busy": "2024-12-09T04:18:49.410002Z",
     "iopub.status.idle": "2024-12-09T04:18:53.119571Z",
     "shell.execute_reply": "2024-12-09T04:18:53.118658Z"
    },
    "papermill": {
     "duration": 3.715614,
     "end_time": "2024-12-09T04:18:53.122428",
     "exception": false,
     "start_time": "2024-12-09T04:18:49.406814",
     "status": "completed"
    },
    "tags": [],
    "ExecuteTime": {
     "end_time": "2024-12-10T04:49:34.679329700Z",
     "start_time": "2024-12-10T04:49:32.651233700Z"
    }
   },
   "outputs": [],
   "source": [
    "# Import libs\n",
    "import numpy as np\n",
    "from tqdm import tqdm\n",
    "import pandas as pd\n",
    "import torch.nn.functional as F\n",
    "import torch\n",
    "import torch.nn as nn\n",
    "from torch.optim import Adam"
   ]
  },
  {
   "cell_type": "code",
   "execution_count": 4,
   "id": "1dd726e2",
   "metadata": {
    "collapsed": false,
    "execution": {
     "iopub.execute_input": "2024-12-09T04:18:53.134060Z",
     "iopub.status.busy": "2024-12-09T04:18:53.133102Z",
     "iopub.status.idle": "2024-12-09T04:18:53.207319Z",
     "shell.execute_reply": "2024-12-09T04:18:53.206471Z"
    },
    "papermill": {
     "duration": 0.080292,
     "end_time": "2024-12-09T04:18:53.209041",
     "exception": false,
     "start_time": "2024-12-09T04:18:53.128749",
     "status": "completed"
    },
    "tags": [],
    "ExecuteTime": {
     "end_time": "2024-12-10T04:49:34.716622400Z",
     "start_time": "2024-12-10T04:49:34.695447300Z"
    }
   },
   "outputs": [],
   "source": [
    "# Device, torch decimal places and seed for reproducibility\n",
    "device = torch.device(CONFIG['DEVICE'] if torch.cuda.is_available() else \"cpu\")\n",
    "torch.set_printoptions(precision=40) \n",
    "\n",
    "torch.manual_seed(CONFIG['SEED'])  \n",
    "torch.cuda.manual_seed_all(CONFIG['SEED'])  \n",
    "np.random.seed(CONFIG['SEED'])  "
   ]
  },
  {
   "cell_type": "code",
   "execution_count": 5,
   "id": "e87bd02c",
   "metadata": {
    "collapsed": false,
    "execution": {
     "iopub.execute_input": "2024-12-09T04:18:53.215936Z",
     "iopub.status.busy": "2024-12-09T04:18:53.215668Z",
     "iopub.status.idle": "2024-12-09T04:19:09.270348Z",
     "shell.execute_reply": "2024-12-09T04:19:09.269630Z"
    },
    "papermill": {
     "duration": 16.060547,
     "end_time": "2024-12-09T04:19:09.272611",
     "exception": false,
     "start_time": "2024-12-09T04:18:53.212064",
     "status": "completed"
    },
    "tags": [],
    "ExecuteTime": {
     "end_time": "2024-12-10T04:49:40.540506700Z",
     "start_time": "2024-12-10T04:49:34.717623800Z"
    }
   },
   "outputs": [],
   "source": [
    "# Load and prepare data\n",
    "train = pd.read_parquet(f\"{CONFIG['data_folder']}{CONFIG['train_path']}\", engine='pyarrow')\n",
    "train['target'] = train['like'] + train['dislike'].replace({1: -1})\n",
    "train.drop(columns=['like', 'dislike'], inplace=True)\n",
    "train['target'] = train['target'].astype('int8')\n",
    "train['target'] = train['target'].replace({-1:0, 0:1, 1:2})\n",
    "train['timespent'] = train['timespent'] - 1\n",
    "train = train.iloc[:100000]\n",
    "\n",
    "test = pd.read_csv(f\"{CONFIG['data_folder']}{CONFIG['test_path']}\")\n",
    "test_to_save = test.copy()\n",
    "\n",
    "items_meta = pd.read_parquet(f\"{CONFIG['data_folder']}{CONFIG['items_meta_path']}\", engine='pyarrow')\n",
    "items_meta['duration'] = items_meta['duration'] - 5\n",
    "items_meta['item_id'] = items_meta['item_id'].astype('category')\n",
    "items_meta['source_id'] = items_meta['source_id'].astype('category')\n",
    "items_meta.set_index('item_id', inplace=True)\n",
    "\n",
    "users_meta = pd.read_parquet(f\"{CONFIG['data_folder']}{CONFIG['users_meta_path']}\", engine='pyarrow')\n",
    "users_meta['age'] = users_meta['age'] - 18\n",
    "users_meta['gender'] = users_meta['gender'].replace({1:0, 2:1})\n",
    "users_meta['user_id'] = users_meta['user_id'].astype('category')\n",
    "users_meta['gender'] = users_meta['gender'].astype('category')\n",
    "users_meta.set_index('user_id', inplace=True)"
   ]
  },
  {
   "cell_type": "code",
   "execution_count": 6,
   "id": "3228a2a3",
   "metadata": {
    "collapsed": false,
    "execution": {
     "iopub.execute_input": "2024-12-09T04:19:09.279895Z",
     "iopub.status.busy": "2024-12-09T04:19:09.279231Z",
     "iopub.status.idle": "2024-12-09T04:19:09.302238Z",
     "shell.execute_reply": "2024-12-09T04:19:09.301608Z"
    },
    "papermill": {
     "duration": 0.028424,
     "end_time": "2024-12-09T04:19:09.304050",
     "exception": false,
     "start_time": "2024-12-09T04:19:09.275626",
     "status": "completed"
    },
    "tags": [],
    "ExecuteTime": {
     "end_time": "2024-12-10T04:49:40.571097300Z",
     "start_time": "2024-12-10T04:49:40.548505700Z"
    }
   },
   "outputs": [],
   "source": [
    "# Model definition\n",
    "class Model(nn.Module):\n",
    "    def __init__(self, \n",
    "                 input_dim, \n",
    "                 num_users=users_meta.index.nunique(), \n",
    "                 num_items=items_meta.index.nunique(), \n",
    "                 num_sources=items_meta['source_id'].nunique(),\n",
    "                 num_ages=users_meta['age'].nunique(),\n",
    "                 num_durations=items_meta['duration'].nunique(),\n",
    "                 num_genders=users_meta['gender'].nunique(), \n",
    "                 output_dim=CONFIG['output_dim']): \n",
    "        \n",
    "        super(Model, self).__init__()\n",
    "        self.user_embedding = nn.Embedding(num_users, CONFIG['user_emb_size'])\n",
    "        self.item_embedding = nn.Embedding(num_items, CONFIG['item_emb_size'])\n",
    "        self.source_embedding = nn.Embedding(num_sources, CONFIG['source_emb_size'])\n",
    "        self.age_embedding = nn.Embedding(num_ages, CONFIG['age_emb_size'])\n",
    "        self.duration_embedding = nn.Embedding(num_durations, CONFIG['duration_emb_size'])\n",
    "        self.gender_embedding = nn.Embedding(num_genders, CONFIG['gender_emb_size'])\n",
    "         \n",
    "        self.fc1 = nn.Linear(input_dim, 1024)\n",
    "        self.fc2 = nn.Linear(1024, 512)\n",
    "        self.fc3 = nn.Linear(512, 256)\n",
    "        self.fc4 = nn.Linear(256, 128)\n",
    "        self.fc5 = nn.Linear(128, 64)\n",
    "        self.fc6 = nn.Linear(64, 32)\n",
    "        self.fc7 = nn.Linear(32, 16)\n",
    "        self.fc8 = nn.Linear(16, 8)\n",
    "        self.target_output = nn.Linear(8, output_dim)\n",
    "        self.share_output = nn.Linear(8, 1)\n",
    "        self.bookmark_output = nn.Linear(8, 1)\n",
    "        self.timespent_output = nn.Linear(8, 255)\n",
    "        \n",
    "        self.gelu = nn.GELU()\n",
    "    \n",
    "    def forward(self, user_ids, item_ids, source_ids, age_ids, duration_ids, gender_ids, embeddings):\n",
    "\n",
    "        user_emb = self.user_embedding(user_ids)\n",
    "        item_emb = self.item_embedding(item_ids)\n",
    "        source_emb = self.source_embedding(source_ids)\n",
    "        age_emb = self.age_embedding(age_ids)\n",
    "        duration_emb = self.duration_embedding(duration_ids)\n",
    "        gender_emb = self.gender_embedding(gender_ids)\n",
    "        \n",
    "        x = torch.cat((user_emb, item_emb, source_emb, age_emb, duration_emb, gender_emb, embeddings), dim=1)\n",
    "        \n",
    "        x = self.gelu(self.fc1(x))\n",
    "        x = self.gelu(self.fc2(x))\n",
    "        x = self.gelu(self.fc3(x))\n",
    "        x = self.gelu(self.fc4(x))\n",
    "        x = self.gelu(self.fc5(x))\n",
    "        x = self.gelu(self.fc6(x))\n",
    "        x = self.gelu(self.fc7(x))\n",
    "        x = self.gelu(self.fc8(x))\n",
    "        target_output = self.target_output(x)\n",
    "        share_output = self.share_output(x)\n",
    "        bookmark_output = self.bookmark_output(x)\n",
    "        timespent_output = self.timespent_output(x)\n",
    "        \n",
    "        return target_output, share_output, bookmark_output, timespent_output"
   ]
  },
  {
   "cell_type": "code",
   "execution_count": 7,
   "id": "f6fe4af6",
   "metadata": {
    "collapsed": false,
    "execution": {
     "iopub.execute_input": "2024-12-09T04:19:09.310466Z",
     "iopub.status.busy": "2024-12-09T04:19:09.310032Z",
     "iopub.status.idle": "2024-12-09T04:19:09.314031Z",
     "shell.execute_reply": "2024-12-09T04:19:09.313156Z"
    },
    "papermill": {
     "duration": 0.008919,
     "end_time": "2024-12-09T04:19:09.315565",
     "exception": false,
     "start_time": "2024-12-09T04:19:09.306646",
     "status": "completed"
    },
    "tags": [],
    "ExecuteTime": {
     "end_time": "2024-12-10T04:49:40.587099200Z",
     "start_time": "2024-12-10T04:49:40.573097600Z"
    }
   },
   "outputs": [],
   "source": [
    "# Input dimension\n",
    "input_dim = (CONFIG['user_emb_size'] + \n",
    "             CONFIG['item_emb_size'] + \n",
    "             CONFIG['source_emb_size'] + \n",
    "             CONFIG['age_emb_size'] +\n",
    "             CONFIG['duration_emb_size'] + \n",
    "             CONFIG['gender_emb_size'] + \n",
    "             32)"
   ]
  },
  {
   "cell_type": "code",
   "execution_count": 8,
   "id": "7fcaaf66",
   "metadata": {
    "collapsed": false,
    "execution": {
     "iopub.execute_input": "2024-12-09T04:19:09.321855Z",
     "iopub.status.busy": "2024-12-09T04:19:09.321636Z",
     "iopub.status.idle": "2024-12-09T04:19:12.090482Z",
     "shell.execute_reply": "2024-12-09T04:19:12.089802Z"
    },
    "papermill": {
     "duration": 2.773935,
     "end_time": "2024-12-09T04:19:12.092366",
     "exception": false,
     "start_time": "2024-12-09T04:19:09.318431",
     "status": "completed"
    },
    "tags": [],
    "ExecuteTime": {
     "end_time": "2024-12-10T04:49:42.348748Z",
     "start_time": "2024-12-10T04:49:40.589100700Z"
    }
   },
   "outputs": [],
   "source": [
    "# Model, criterion and optimizer\n",
    "model = Model(input_dim).to(device)\n",
    "target_criterion = nn.CrossEntropyLoss()\n",
    "share_criterion = nn.BCEWithLogitsLoss()\n",
    "bookmark_criterion = nn.BCEWithLogitsLoss()\n",
    "timespent_criterion = nn.CrossEntropyLoss()\n",
    "optimizer = Adam(model.parameters(), lr=CONFIG['LR'])"
   ]
  },
  {
   "cell_type": "code",
   "execution_count": null,
   "id": "aa4538f9",
   "metadata": {
    "collapsed": false,
    "execution": {
     "iopub.execute_input": "2024-12-09T04:19:12.099519Z",
     "iopub.status.busy": "2024-12-09T04:19:12.099132Z",
     "iopub.status.idle": "2024-12-09T05:30:56.231872Z",
     "shell.execute_reply": "2024-12-09T05:30:56.230834Z"
    },
    "papermill": {
     "duration": 4304.138497,
     "end_time": "2024-12-09T05:30:56.233850",
     "exception": false,
     "start_time": "2024-12-09T04:19:12.095353",
     "status": "completed"
    },
    "tags": [],
    "is_executing": true,
    "ExecuteTime": {
     "start_time": "2024-12-10T04:50:07.249997100Z"
    }
   },
   "outputs": [
    {
     "name": "stderr",
     "output_type": "stream",
     "text": [
      "Epoch 1/5: 100%|██████████| 7/7 [00:01<00:00,  5.00batch/s, target_loss=0.745573, train_loss=1.636366]\n",
      "Epoch 1/5: 100%|██████████| 102/102 [00:11<00:00,  9.08batch/s]\n"
     ]
    },
    {
     "name": "stdout",
     "output_type": "stream",
     "text": [
      "Outputs saved at C:/Users/Николай/PycharmProjects/VKRecSys/C.Results/test/7.5.1_test_e0.csv\n",
      "Epoch [1/5]: Train Loss: 1.636366\n"
     ]
    },
    {
     "name": "stderr",
     "output_type": "stream",
     "text": [
      "Epoch 2/5: 100%|██████████| 7/7 [00:01<00:00,  5.72batch/s, target_loss=0.279344, train_loss=1.123121]\n",
      "Epoch 2/5: 100%|██████████| 102/102 [00:11<00:00,  8.70batch/s]\n"
     ]
    }
   ],
   "source": [
    "# Training\n",
    "train_num_samples = len(train)\n",
    "train_num_batches = (train_num_samples + CONFIG['BATCH_SIZE'] - 1) // CONFIG['BATCH_SIZE']\n",
    "\n",
    "test_num_samples = len(test)\n",
    "test_num_batches = (test_num_samples + CONFIG['BATCH_SIZE'] - 1) // CONFIG['BATCH_SIZE']\n",
    "\n",
    "for epoch in range(CONFIG['EPOCHS']):\n",
    "##################################################################TRAIN##################################################################\n",
    "    model.train()\n",
    "    train_total_running_loss = 0.0\n",
    "    train_target_running_loss = 0.0 \n",
    "    with tqdm(range(train_num_batches), desc=f\"Epoch {epoch + 1}/{CONFIG['EPOCHS']}\", unit=\"batch\") as t:\n",
    "        for batch_idx in t:\n",
    "            start_idx = batch_idx * CONFIG['BATCH_SIZE']\n",
    "            end_idx = min(start_idx + CONFIG['BATCH_SIZE'], train_num_samples)\n",
    "            \n",
    "            batch_main = train.iloc[start_idx:end_idx]\n",
    "            \n",
    "            batch_user_values = batch_main['user_id'].values\n",
    "            batch_item_values = batch_main['item_id'].values\n",
    "\n",
    "            batch_users_meta = users_meta.loc[batch_user_values]\n",
    "            batch_items_meta = items_meta.loc[batch_item_values]\n",
    "\n",
    "            batch_user_values = torch.tensor(batch_user_values, dtype=torch.long, device=device)\n",
    "            batch_item_values = torch.tensor(batch_item_values, dtype=torch.long, device=device)\n",
    "\n",
    "            batch_gender_values = torch.tensor(batch_users_meta['gender'].values, dtype=torch.long, device=device)\n",
    "            batch_age_values = torch.tensor(batch_users_meta['age'].values, dtype=torch.long, device=device)\n",
    "            batch_source_values = torch.tensor(batch_items_meta['source_id'].values, dtype=torch.long, device=device)\n",
    "            batch_duration_values = torch.tensor(batch_items_meta['duration'].values, dtype=torch.long, device=device)\n",
    "\n",
    "            embeddings = torch.tensor(np.stack(batch_items_meta['embeddings'].values), device=device, dtype=torch.float32)\n",
    "            targets = torch.tensor(batch_main['target'].values, dtype=torch.long, device=device)\n",
    "            shares = torch.tensor(batch_main['share'].values, dtype=torch.float32, device=device).unsqueeze(1)\n",
    "            bookmarks = torch.tensor(batch_main['bookmarks'].values, dtype=torch.float32, device=device).unsqueeze(1)\n",
    "            timespents = torch.tensor(batch_main['timespent'].values, dtype=torch.long, device=device)\n",
    "\n",
    "            optimizer.zero_grad()\n",
    "            \n",
    "            target_outputs, share_outputs, bookmark_outputs, timespent_outputs = model(batch_user_values,\n",
    "                                                                                           batch_item_values, \n",
    "                                                                                           batch_source_values,\n",
    "                                                                                           batch_age_values, \n",
    "                                                                                           batch_duration_values, \n",
    "                                                                                           batch_gender_values, \n",
    "                                                                                           embeddings)\n",
    "            train_target_loss = target_criterion(target_outputs, targets)\n",
    "            train_target_running_loss += train_target_loss.item()\n",
    "            train_share_loss = share_criterion(share_outputs, shares) * CONFIG['share_weight']\n",
    "            train_bookmark_loss = bookmark_criterion(bookmark_outputs, bookmarks) * CONFIG['bookmark_weight']\n",
    "            train_timespent_loss = timespent_criterion(timespent_outputs, timespents) * CONFIG['timespent_weight']\n",
    "\n",
    "            train_total_loss = train_target_loss + train_share_loss + train_bookmark_loss + train_timespent_loss\n",
    "            train_total_loss.backward()\n",
    "            optimizer.step()\n",
    "\n",
    "            train_total_running_loss += train_total_loss.item()\n",
    "            t.set_postfix(train_loss=f\"{train_total_running_loss / (batch_idx + 1):.6f}\",\n",
    "                          target_loss=f\"{train_target_running_loss / (batch_idx + 1):.6f}\")\n",
    "        \n",
    "##################################################################EVAL##################################################################\n",
    "    model.eval()\n",
    "    test_running_loss = 0.0\n",
    "    \n",
    "    outputs_list = []\n",
    "\n",
    "    with torch.no_grad():\n",
    "        with tqdm(range(test_num_batches), desc=f\"Epoch {epoch + 1}/{CONFIG['EPOCHS']}\", unit=\"batch\") as v:\n",
    "            for batch_idx in v:\n",
    "                start_idx = batch_idx * CONFIG['BATCH_SIZE']\n",
    "                end_idx = min(start_idx + CONFIG['BATCH_SIZE'], test_num_samples)\n",
    "                \n",
    "                batch_main = test.iloc[start_idx:end_idx]\n",
    "                \n",
    "                batch_user_values = batch_main['user_id'].values\n",
    "                batch_item_values = batch_main['item_id'].values\n",
    "    \n",
    "                batch_users_meta = users_meta.loc[batch_user_values]\n",
    "                batch_items_meta = items_meta.loc[batch_item_values]\n",
    "    \n",
    "                batch_user_values = torch.tensor(batch_user_values, dtype=torch.long, device=device)\n",
    "                batch_item_values = torch.tensor(batch_item_values, dtype=torch.long, device=device)\n",
    "    \n",
    "                batch_gender_values = torch.tensor(batch_users_meta['gender'].values, dtype=torch.long, device=device)\n",
    "                batch_age_values = torch.tensor(batch_users_meta['age'].values, dtype=torch.long, device=device)\n",
    "                batch_source_values = torch.tensor(batch_items_meta['source_id'].values, dtype=torch.long, device=device)\n",
    "                batch_duration_values = torch.tensor(batch_items_meta['duration'].values, dtype=torch.long, device=device)\n",
    "    \n",
    "                embeddings = torch.tensor(np.stack(batch_items_meta['embeddings'].values), device=device, dtype=torch.float32)\n",
    "\n",
    "                target_outputs, share_outputs, bookmark_outputs, timespent_outputs = model(batch_user_values,\n",
    "                                                                                           batch_item_values, \n",
    "                                                                                           batch_source_values,\n",
    "                                                                                           batch_age_values, \n",
    "                                                                                           batch_duration_values, \n",
    "                                                                                           batch_gender_values, \n",
    "                                                                                           embeddings)\n",
    "               \n",
    "                \n",
    "                probabilities = F.softmax(target_outputs, dim=1)\n",
    "                class_weights = torch.tensor([0, 1, 2], device=probabilities.device, dtype=probabilities.dtype)\n",
    "                weighted_predictions = torch.sum(probabilities * class_weights, dim=1).cpu().numpy()\n",
    "        \n",
    "                outputs_list.extend(weighted_predictions)\n",
    "\n",
    "##################################################################SAVE##################################################################\n",
    "    df_outputs = pd.DataFrame(outputs_list, columns=['predict'])\n",
    "    test_to_save['predict'] = df_outputs['predict']\n",
    "    output_path = f\"{CONFIG['test_pred_folder']}{CONFIG['test_output_path']}_e{epoch}.csv\"\n",
    "    test_to_save.to_csv(output_path, index=False)\n",
    "\n",
    "    train_loss = train_total_running_loss / train_num_batches\n",
    "\n",
    "    print('Outputs saved at', output_path)\n",
    "    print(f\"Epoch [{epoch + 1}/{CONFIG['EPOCHS']}]: Train Loss: {train_loss:.6f}\")"
   ]
  },
  {
   "cell_type": "code",
   "execution_count": null,
   "id": "4109a282",
   "metadata": {
    "collapsed": false,
    "papermill": {
     "duration": 3.267101,
     "end_time": "2024-12-09T05:31:02.874555",
     "exception": false,
     "start_time": "2024-12-09T05:30:59.607454",
     "status": "completed"
    },
    "tags": [],
    "ExecuteTime": {
     "end_time": "2024-12-10T04:49:44.762789600Z",
     "start_time": "2024-12-10T04:49:44.750788800Z"
    }
   },
   "outputs": [],
   "source": []
  }
 ],
 "metadata": {
  "kaggle": {
   "accelerator": "gpu",
   "dataSources": [
    {
     "datasetId": 6155403,
     "sourceId": 10000346,
     "sourceType": "datasetVersion"
    }
   ],
   "dockerImageVersionId": 30805,
   "isGpuEnabled": true,
   "isInternetEnabled": true,
   "language": "python",
   "sourceType": "notebook"
  },
  "kernelspec": {
   "display_name": "Python 3",
   "language": "python",
   "name": "python3"
  },
  "language_info": {
   "codemirror_mode": {
    "name": "ipython",
    "version": 3
   },
   "file_extension": ".py",
   "mimetype": "text/x-python",
   "name": "python",
   "nbconvert_exporter": "python",
   "pygments_lexer": "ipython3",
   "version": "3.10.14"
  },
  "papermill": {
   "default_parameters": {},
   "duration": 4340.550506,
   "end_time": "2024-12-09T05:31:07.525952",
   "environment_variables": {},
   "exception": null,
   "input_path": "__notebook__.ipynb",
   "output_path": "__notebook__.ipynb",
   "parameters": {},
   "start_time": "2024-12-09T04:18:46.975446",
   "version": "2.6.0"
  }
 },
 "nbformat": 4,
 "nbformat_minor": 5
}
