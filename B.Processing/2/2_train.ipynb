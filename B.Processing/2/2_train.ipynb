{
 "cells": [
  {
   "cell_type": "code",
   "execution_count": 1,
   "id": "initial_id",
   "metadata": {
    "collapsed": true,
    "ExecuteTime": {
     "end_time": "2024-11-21T14:47:52.433464Z",
     "start_time": "2024-11-21T14:47:52.411465Z"
    }
   },
   "outputs": [],
   "source": [
    "train_path = 'fv2_train.parquet'\n",
    "BATCH_SIZE = 8192   \n",
    "NUM_CROSS_LAYERS = 3\n",
    "LR = 0.001\n",
    "EPOCHS = 3\n",
    "model_path = '2_DCN_MLP.pth'\n",
    "data_folder = 'C:/Users/Николай/PycharmProjects/VKRecSys/custom_data/'"
   ]
  },
  {
   "cell_type": "code",
   "outputs": [],
   "source": [
    "import numpy as np\n",
    "import torch\n",
    "from torch.utils.data import Dataset, DataLoader\n",
    "import pandas as pd\n",
    "import torch.nn as nn\n",
    "import torch.optim as optim\n",
    "from tqdm import tqdm"
   ],
   "metadata": {
    "collapsed": false,
    "ExecuteTime": {
     "end_time": "2024-11-21T14:47:53.915820600Z",
     "start_time": "2024-11-21T14:47:52.436465400Z"
    }
   },
   "id": "1441261c96e8fc0e",
   "execution_count": 2
  },
  {
   "cell_type": "code",
   "outputs": [],
   "source": [
    "torch.manual_seed(42)  \n",
    "torch.cuda.manual_seed_all(42)  \n",
    "np.random.seed(42)  \n",
    "\n",
    "device = torch.device(\"cuda\" if torch.cuda.is_available() else \"cpu\")"
   ],
   "metadata": {
    "collapsed": false,
    "ExecuteTime": {
     "end_time": "2024-11-21T14:47:53.926941400Z",
     "start_time": "2024-11-21T14:47:53.921436700Z"
    }
   },
   "id": "55a52c7110e13c7c",
   "execution_count": 3
  },
  {
   "cell_type": "code",
   "outputs": [],
   "source": [
    "train = pd.read_parquet(f'{data_folder}{train_path}', engine='pyarrow')\n",
    "train['target'] = train['target'].replace({-1:0, 0:1, 1:2})"
   ],
   "metadata": {
    "collapsed": false,
    "ExecuteTime": {
     "end_time": "2024-11-21T14:47:57.734737700Z",
     "start_time": "2024-11-21T14:47:53.928940700Z"
    }
   },
   "id": "458de5e76ceea2d",
   "execution_count": 4
  },
  {
   "cell_type": "code",
   "outputs": [],
   "source": [
    "class MyDataset(Dataset):\n",
    "    def __init__(self, interactions, device):\n",
    "        self.device = device\n",
    "        self.users = torch.tensor(interactions['user_id'].values, dtype=torch.long, device=self.device)\n",
    "        self.items = torch.tensor(interactions['item_id'].values, dtype=torch.long, device=self.device)\n",
    "        self.ages = torch.tensor(interactions['age'].values, dtype=torch.long, device=self.device)\n",
    "        self.item_durations = torch.tensor(interactions['item_duration'].values, dtype=torch.long, device=self.device)\n",
    "        \n",
    "        if 'target' in interactions.columns:\n",
    "            self.targets = torch.tensor(interactions['target'].values, dtype=torch.float32, device=self.device)\n",
    "        else:\n",
    "            self.targets = None  \n",
    "\n",
    "    def __len__(self):\n",
    "        return len(self.users)\n",
    "\n",
    "    def __getitem__(self, idx):\n",
    "        if self.targets is not None:\n",
    "            return self.users[idx], self.items[idx], self.ages[idx], self.item_durations[idx], self.targets[idx]\n",
    "        else:\n",
    "            return self.users[idx], self.items[idx], self.ages[idx], self.item_durations[idx]"
   ],
   "metadata": {
    "collapsed": false,
    "ExecuteTime": {
     "end_time": "2024-11-21T14:47:57.747504500Z",
     "start_time": "2024-11-21T14:47:57.739795100Z"
    }
   },
   "id": "dc321004dbb12bd9",
   "execution_count": 5
  },
  {
   "cell_type": "code",
   "outputs": [],
   "source": [
    "train_ds = MyDataset(train, device)\n",
    "train_dl = DataLoader(train_ds, batch_size=BATCH_SIZE)"
   ],
   "metadata": {
    "collapsed": false,
    "ExecuteTime": {
     "end_time": "2024-11-21T14:47:59.251775800Z",
     "start_time": "2024-11-21T14:47:57.750488500Z"
    }
   },
   "id": "403de5170b468404",
   "execution_count": 6
  },
  {
   "cell_type": "code",
   "outputs": [],
   "source": [
    "class DCN(nn.Module):\n",
    "    def __init__(self, input_dim, num_cross_layers):\n",
    "        super(DCN, self).__init__()\n",
    "        self.input_dim = input_dim\n",
    "        self.num_cross_layers = num_cross_layers\n",
    "        \n",
    "        self.cross_weights = nn.ParameterList(\n",
    "            [nn.Parameter(torch.randn(input_dim, 1)) for _ in range(num_cross_layers)]\n",
    "        )\n",
    "        self.cross_biases = nn.ParameterList(\n",
    "            [nn.Parameter(torch.randn(input_dim)) for _ in range(num_cross_layers)]\n",
    "        )\n",
    "        \n",
    "    def forward(self, x):\n",
    "        x0 = x\n",
    "        for i in range(self.num_cross_layers):\n",
    "            x = x0 * (x @ self.cross_weights[i]) + self.cross_biases[i] + x\n",
    "        return x\n",
    "\n",
    "class DCNWithMLP(nn.Module):\n",
    "    def __init__(self, input_dim, num_cross_layers=3, hidden_dim=128, output_dim=3):\n",
    "        super(DCNWithMLP, self).__init__()\n",
    "        \n",
    "        self.batch_norm = nn.BatchNorm1d(input_dim)\n",
    "        \n",
    "        self.dcn = DCN(input_dim, num_cross_layers)\n",
    "        \n",
    "        self.fc1 = nn.Linear(input_dim, hidden_dim)\n",
    "        self.fc2 = nn.Linear(hidden_dim, hidden_dim)\n",
    "        self.fc3 = nn.Linear(hidden_dim, output_dim)\n",
    "        self.relu = nn.ReLU()\n",
    "        self.softmax = nn.Softmax(dim=1)\n",
    "    \n",
    "    def forward(self, x):\n",
    "        x = self.batch_norm(x)\n",
    "        \n",
    "        x = self.dcn(x)\n",
    "\n",
    "        x = self.relu(self.fc1(x))\n",
    "        x = self.relu(self.fc2(x))  \n",
    "        x = self.fc3(x)\n",
    "        return self.softmax(x)\n",
    "\n",
    "input_dim = len(train.columns) - 1\n",
    "num_cross_layers = NUM_CROSS_LAYERS\n",
    "\n",
    "model = DCNWithMLP(input_dim, num_cross_layers).to(device)"
   ],
   "metadata": {
    "collapsed": false,
    "ExecuteTime": {
     "end_time": "2024-11-21T14:47:59.267836600Z",
     "start_time": "2024-11-21T14:47:59.257828400Z"
    }
   },
   "id": "96fd0016ffc1a505",
   "execution_count": 7
  },
  {
   "cell_type": "code",
   "outputs": [],
   "source": [
    "criterion = nn.CrossEntropyLoss()\n",
    "optimizer = optim.Adam(model.parameters(), lr=LR)"
   ],
   "metadata": {
    "collapsed": false,
    "ExecuteTime": {
     "end_time": "2024-11-21T14:47:59.909367400Z",
     "start_time": "2024-11-21T14:47:59.269825300Z"
    }
   },
   "id": "b2dd93ac83da8e01",
   "execution_count": 8
  },
  {
   "cell_type": "code",
   "outputs": [
    {
     "name": "stderr",
     "output_type": "stream",
     "text": [
      "Epoch 1/3: 100%|██████████| 17782/17782 [42:11<00:00,  7.02batch/s, mean_loss=0.598567] \n"
     ]
    },
    {
     "name": "stdout",
     "output_type": "stream",
     "text": [
      "Epoch [1/3], Loss: 0.5986\n"
     ]
    },
    {
     "name": "stderr",
     "output_type": "stream",
     "text": [
      "Epoch 2/3: 100%|██████████| 17782/17782 [43:16<00:00,  6.85batch/s, mean_loss=0.598438] \n"
     ]
    },
    {
     "name": "stdout",
     "output_type": "stream",
     "text": [
      "Epoch [2/3], Loss: 0.5984\n"
     ]
    },
    {
     "name": "stderr",
     "output_type": "stream",
     "text": [
      "Epoch 3/3: 100%|██████████| 17782/17782 [1:01:38<00:00,  4.81batch/s, mean_loss=0.598438]"
     ]
    },
    {
     "name": "stdout",
     "output_type": "stream",
     "text": [
      "Epoch [3/3], Loss: 0.5984\n"
     ]
    },
    {
     "name": "stderr",
     "output_type": "stream",
     "text": [
      "\n"
     ]
    }
   ],
   "source": [
    "for epoch in range(EPOCHS):\n",
    "    running_loss = 0.0\n",
    "    with tqdm(train_dl, desc=f\"Epoch {epoch+1}/{EPOCHS}\", unit=\"batch\") as t:\n",
    "        for users, items, ages, item_durations, targets in t:\n",
    "            inputs = torch.cat((users.unsqueeze(1), items.unsqueeze(1), ages.unsqueeze(1), item_durations.unsqueeze(1)), dim=1).float()\n",
    "            targets = targets\n",
    "            \n",
    "            optimizer.zero_grad()\n",
    "            \n",
    "            outputs = model(inputs)\n",
    "            \n",
    "            loss = criterion(outputs, targets.long())\n",
    "            \n",
    "            loss.backward()\n",
    "            \n",
    "            optimizer.step()\n",
    "            \n",
    "            running_loss += loss.item()\n",
    "            \n",
    "            t.set_postfix(mean_loss=f\"{running_loss / (t.n + 1):.6f}\")\n",
    "    \n",
    "    print(f\"Epoch [{epoch+1}/{EPOCHS}], Loss: {running_loss/len(train_dl):.4f}\")"
   ],
   "metadata": {
    "collapsed": false,
    "ExecuteTime": {
     "end_time": "2024-11-21T17:15:06.536889700Z",
     "start_time": "2024-11-21T14:47:59.909367400Z"
    }
   },
   "id": "af6511730b7a7cc8",
   "execution_count": 9
  },
  {
   "cell_type": "code",
   "outputs": [
    {
     "name": "stdout",
     "output_type": "stream",
     "text": [
      "Модель сохранена в 2_DCN_MLP.pth\n"
     ]
    }
   ],
   "source": [
    "torch.save(model.state_dict(), model_path)\n",
    "print(f\"Модель сохранена в {model_path}\")"
   ],
   "metadata": {
    "collapsed": false,
    "ExecuteTime": {
     "end_time": "2024-11-21T17:15:06.537889500Z",
     "start_time": "2024-11-21T17:15:06.496549200Z"
    }
   },
   "id": "1b6c41d2a310b389",
   "execution_count": 10
  }
 ],
 "metadata": {
  "kernelspec": {
   "display_name": "Python 3",
   "language": "python",
   "name": "python3"
  },
  "language_info": {
   "codemirror_mode": {
    "name": "ipython",
    "version": 2
   },
   "file_extension": ".py",
   "mimetype": "text/x-python",
   "name": "python",
   "nbconvert_exporter": "python",
   "pygments_lexer": "ipython2",
   "version": "2.7.6"
  }
 },
 "nbformat": 4,
 "nbformat_minor": 5
}
