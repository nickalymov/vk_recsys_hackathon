{
 "cells": [
  {
   "cell_type": "code",
   "execution_count": 1,
   "id": "initial_id",
   "metadata": {
    "collapsed": true,
    "ExecuteTime": {
     "end_time": "2024-11-21T18:14:48.532138Z",
     "start_time": "2024-11-21T18:14:48.514970600Z"
    }
   },
   "outputs": [],
   "source": [
    "train_path = 'fv2_train.parquet'\n",
    "BATCH_SIZE = 16384 \n",
    "NUM_CROSS_LAYERS = 3\n",
    "LR = 0.001\n",
    "EPOCHS = 4\n",
    "model_path = '2.1_DCN_MLP.pth'"
   ]
  },
  {
   "cell_type": "code",
   "outputs": [],
   "source": [
    "import numpy as np\n",
    "import torch\n",
    "from torch.utils.data import Dataset, DataLoader\n",
    "import torch.nn as nn\n",
    "from torch.optim import Adam\n",
    "import torch.nn.functional as F\n",
    "import pandas as pd\n",
    "import torch.nn as nn\n",
    "import torch.optim as optim"
   ],
   "metadata": {
    "collapsed": false,
    "ExecuteTime": {
     "end_time": "2024-11-21T18:14:50.061901800Z",
     "start_time": "2024-11-21T18:14:48.534138500Z"
    }
   },
   "id": "1441261c96e8fc0e",
   "execution_count": 2
  },
  {
   "cell_type": "code",
   "outputs": [],
   "source": [
    "torch.manual_seed(42)  \n",
    "torch.cuda.manual_seed_all(42)  \n",
    "np.random.seed(42)  "
   ],
   "metadata": {
    "collapsed": false,
    "ExecuteTime": {
     "end_time": "2024-11-21T18:14:50.073925600Z",
     "start_time": "2024-11-21T18:14:50.067413Z"
    }
   },
   "id": "55a52c7110e13c7c",
   "execution_count": 3
  },
  {
   "cell_type": "code",
   "outputs": [],
   "source": [
    "custom_data_folder = 'C:/Users/Николай/PycharmProjects/VKRecSys/custom_data/'\n",
    "\n",
    "train = pd.read_parquet(f'{custom_data_folder}{train_path}', engine='pyarrow')\n",
    "train['target'] = train['target'].replace({-1:0, 0:1, 1:2})\n",
    "\n",
    "data_folder = 'C:/Users/Николай/PycharmProjects/VKRecSys/data/'\n",
    "\n",
    "items_meta = pd.read_parquet(f'{data_folder}items_meta.parquet', engine='pyarrow')\n",
    "items_meta['item_id'] = items_meta['item_id'].astype('category')\n",
    "items_meta['source_id'] = items_meta['source_id'].astype('category')\n",
    "items_meta.set_index('item_id', inplace=True)\n",
    "\n",
    "# Преобразуем embeddings в словарь\n",
    "item_embeddings_dict = items_meta['embeddings'].to_dict()\n",
    "\n",
    "\n",
    "device = torch.device(\"cuda\" if torch.cuda.is_available() else \"cpu\")"
   ],
   "metadata": {
    "collapsed": false,
    "ExecuteTime": {
     "end_time": "2024-11-21T18:14:54.281001400Z",
     "start_time": "2024-11-21T18:14:50.075927100Z"
    }
   },
   "id": "458de5e76ceea2d",
   "execution_count": 4
  },
  {
   "cell_type": "code",
   "outputs": [],
   "source": [
    "class MyDataset(Dataset):\n",
    "    def __init__(self, interactions, device):\n",
    "        \n",
    "        self.device = device\n",
    "        self.users = torch.tensor(interactions['user_id'].values, dtype=torch.long, device=self.device)\n",
    "        self.items = torch.tensor(interactions['item_id'].values, dtype=torch.long, device=self.device)\n",
    "        self.ages = torch.tensor(interactions['age'].values, dtype=torch.long, device=self.device)\n",
    "        self.item_durations = torch.tensor(interactions['item_duration'].values, dtype=torch.long, device=self.device)\n",
    "        \n",
    "        # Проверяем наличие target в данных\n",
    "        if 'target' in interactions.columns:\n",
    "            self.targets = torch.tensor(interactions['target'].values, dtype=torch.float32, device=self.device)\n",
    "        else:\n",
    "            self.targets = None  # Для тестовых данных target может отсутствовать\n",
    "\n",
    "    def __len__(self):\n",
    "        return len(self.users)\n",
    "\n",
    "    def __getitem__(self, idx):\n",
    "        if self.targets is not None:\n",
    "            return self.users[idx], self.items[idx], self.ages[idx], self.item_durations[idx], self.targets[idx]\n",
    "        else:\n",
    "            return self.users[idx], self.items[idx], self.ages[idx], self.item_durations[idx]\n"
   ],
   "metadata": {
    "collapsed": false,
    "ExecuteTime": {
     "end_time": "2024-11-21T18:14:54.297744300Z",
     "start_time": "2024-11-21T18:14:54.282958Z"
    }
   },
   "id": "dc321004dbb12bd9",
   "execution_count": 5
  },
  {
   "cell_type": "code",
   "outputs": [],
   "source": [
    "# Создаем экземпляры для обучения и валидации\n",
    "train_ds = MyDataset(train, device)\n",
    "train_dl = DataLoader(train_ds, batch_size=BATCH_SIZE)"
   ],
   "metadata": {
    "collapsed": false,
    "ExecuteTime": {
     "end_time": "2024-11-21T18:14:56.307608800Z",
     "start_time": "2024-11-21T18:14:54.296753800Z"
    }
   },
   "id": "403de5170b468404",
   "execution_count": 6
  },
  {
   "cell_type": "code",
   "outputs": [],
   "source": [
    "class DCN(nn.Module):\n",
    "    def __init__(self, input_dim, num_cross_layers):\n",
    "        super(DCN, self).__init__()\n",
    "        self.input_dim = input_dim\n",
    "        self.num_cross_layers = num_cross_layers\n",
    "        \n",
    "        # Параметры для слоев пересечения\n",
    "        self.cross_weights = nn.ParameterList(\n",
    "            [nn.Parameter(torch.randn(input_dim, 1)) for _ in range(num_cross_layers)]\n",
    "        )\n",
    "        self.cross_biases = nn.ParameterList(\n",
    "            [nn.Parameter(torch.randn(input_dim)) for _ in range(num_cross_layers)]\n",
    "        )\n",
    "        \n",
    "    def forward(self, x):\n",
    "        # Инициализируем x0\n",
    "        x0 = x\n",
    "        for i in range(self.num_cross_layers):\n",
    "            x = x0 * (x @ self.cross_weights[i]) + self.cross_biases[i] + x\n",
    "        return x\n",
    "\n",
    "class DCNWithMLP(nn.Module):\n",
    "    def __init__(self, input_dim, num_cross_layers=3, hidden_dim=128, output_dim=3):\n",
    "        super(DCNWithMLP, self).__init__()\n",
    "        \n",
    "        # Нормализация входных данных\n",
    "        self.batch_norm = nn.BatchNorm1d(input_dim)\n",
    "        \n",
    "        # DCN модуль\n",
    "        self.dcn = DCN(input_dim, num_cross_layers)\n",
    "        \n",
    "        # MLP модуль\n",
    "        self.fc1 = nn.Linear(input_dim, hidden_dim)\n",
    "        self.fc2 = nn.Linear(hidden_dim, 64)\n",
    "        self.fc3 = nn.Linear(64, output_dim)\n",
    "        self.relu = nn.ReLU()\n",
    "    \n",
    "    def forward(self, x):\n",
    "        # Применяем нормализацию входных данных\n",
    "        x = self.batch_norm(x)\n",
    "        \n",
    "        # Пропускаем через DCN\n",
    "        x = self.dcn(x)\n",
    "        \n",
    "        # Пропускаем через MLP\n",
    "        x = self.relu(self.fc1(x))\n",
    "        x = self.relu(self.fc2(x))\n",
    "        x = self.fc3(x)\n",
    "        return x\n",
    "\n",
    "# Определяем параметры\n",
    "input_dim = len(train.columns) - 1 + 32\n",
    "num_cross_layers = NUM_CROSS_LAYERS  # Количество слоев DCN\n",
    "\n",
    "# Создаем модель\n",
    "model = DCNWithMLP(input_dim, num_cross_layers).to(device)"
   ],
   "metadata": {
    "collapsed": false,
    "ExecuteTime": {
     "end_time": "2024-11-21T18:14:56.322607400Z",
     "start_time": "2024-11-21T18:14:56.315608500Z"
    }
   },
   "id": "96fd0016ffc1a505",
   "execution_count": 7
  },
  {
   "cell_type": "code",
   "outputs": [],
   "source": [
    "# Кросс-энтропийная функция потерь для многоклассовой классификации\n",
    "criterion = nn.CrossEntropyLoss()\n",
    "\n",
    "# Оптимизатор\n",
    "optimizer = optim.Adam(model.parameters(), lr=LR)"
   ],
   "metadata": {
    "collapsed": false,
    "ExecuteTime": {
     "end_time": "2024-11-21T18:14:57.197069400Z",
     "start_time": "2024-11-21T18:14:56.324608700Z"
    }
   },
   "id": "b2dd93ac83da8e01",
   "execution_count": 8
  },
  {
   "cell_type": "code",
   "outputs": [],
   "source": [
    "# Преобразуем embeddings в массив и храним в tensor\n",
    "item_embeddings_array = torch.tensor(\n",
    "    np.stack(items_meta['embeddings'].values), \n",
    "    device=device, \n",
    "    dtype=torch.float32\n",
    ")\n",
    "\n",
    "# Сохраняем индексы для быстрого доступа\n",
    "item_id_to_index = {item: idx for idx, item in enumerate(items_meta.index)}"
   ],
   "metadata": {
    "collapsed": false,
    "ExecuteTime": {
     "end_time": "2024-11-21T18:14:57.420097700Z",
     "start_time": "2024-11-21T18:14:57.199030500Z"
    }
   },
   "id": "e77a360c4ee0bd22",
   "execution_count": 9
  },
  {
   "cell_type": "code",
   "outputs": [
    {
     "name": "stderr",
     "output_type": "stream",
     "text": [
      "Epoch 1/4: 100%|██████████| 8891/8891 [1:22:20<00:00,  1.80batch/s, mean_loss=0.200676]\n"
     ]
    },
    {
     "name": "stdout",
     "output_type": "stream",
     "text": [
      "Epoch [1/4], Loss: 0.2007\n"
     ]
    },
    {
     "name": "stderr",
     "output_type": "stream",
     "text": [
      "Epoch 2/4: 100%|██████████| 8891/8891 [1:21:44<00:00,  1.81batch/s, mean_loss=0.170801]\n"
     ]
    },
    {
     "name": "stdout",
     "output_type": "stream",
     "text": [
      "Epoch [2/4], Loss: 0.1708\n"
     ]
    },
    {
     "name": "stderr",
     "output_type": "stream",
     "text": [
      "Epoch 3/4: 100%|██████████| 8891/8891 [1:22:31<00:00,  1.80batch/s, mean_loss=0.169409]\n"
     ]
    },
    {
     "name": "stdout",
     "output_type": "stream",
     "text": [
      "Epoch [3/4], Loss: 0.1694\n"
     ]
    },
    {
     "name": "stderr",
     "output_type": "stream",
     "text": [
      "Epoch 4/4: 100%|██████████| 8891/8891 [1:22:57<00:00,  1.79batch/s, mean_loss=0.168941]"
     ]
    },
    {
     "name": "stdout",
     "output_type": "stream",
     "text": [
      "Epoch [4/4], Loss: 0.1689\n"
     ]
    },
    {
     "name": "stderr",
     "output_type": "stream",
     "text": [
      "\n"
     ]
    }
   ],
   "source": [
    "from tqdm import tqdm\n",
    "\n",
    "for epoch in range(EPOCHS):\n",
    "    running_loss = 0.0\n",
    "    # tqdm для прогресса по батчам\n",
    "    with tqdm(train_dl, desc=f\"Epoch {epoch+1}/{EPOCHS}\", unit=\"batch\") as t:\n",
    "        for users, items, ages, item_durations, targets in t:\n",
    "            # Извлекаем embeddings\n",
    "            indices = [item_id_to_index[item.item()] for item in items]\n",
    "            embeddings = item_embeddings_array[indices]\n",
    "            \n",
    "            # Объединяем признаки\n",
    "            inputs = torch.cat((\n",
    "                users.unsqueeze(1),\n",
    "                items.unsqueeze(1),\n",
    "                ages.unsqueeze(1),\n",
    "                item_durations.unsqueeze(1),\n",
    "                embeddings\n",
    "            ), dim=1).float()\n",
    "            \n",
    "            # Остальной процесс обучения\n",
    "            targets = targets\n",
    "            optimizer.zero_grad()\n",
    "            outputs = model(inputs)\n",
    "            loss = criterion(outputs, targets.long())\n",
    "            loss.backward()\n",
    "            optimizer.step()\n",
    "            running_loss += loss.item()\n",
    "            t.set_postfix(mean_loss=f\"{running_loss / (t.n + 1):.6f}\")\n",
    "\n",
    "\n",
    "    \n",
    "    print(f\"Epoch [{epoch+1}/{EPOCHS}], Loss: {running_loss/len(train_dl):.4f}\")"
   ],
   "metadata": {
    "collapsed": false,
    "ExecuteTime": {
     "end_time": "2024-11-21T23:44:31.826824300Z",
     "start_time": "2024-11-21T18:14:57.423022900Z"
    }
   },
   "id": "af6511730b7a7cc8",
   "execution_count": 10
  },
  {
   "cell_type": "code",
   "outputs": [
    {
     "name": "stdout",
     "output_type": "stream",
     "text": [
      "Модель сохранена в 2.1_DCN_MLP.pth\n"
     ]
    }
   ],
   "source": [
    "torch.save(model.state_dict(), model_path)\n",
    "print(f\"Модель сохранена в {model_path}\")"
   ],
   "metadata": {
    "collapsed": false,
    "ExecuteTime": {
     "end_time": "2024-11-21T23:44:31.843824300Z",
     "start_time": "2024-11-21T23:44:31.813733200Z"
    }
   },
   "id": "1b6c41d2a310b389",
   "execution_count": 11
  }
 ],
 "metadata": {
  "kernelspec": {
   "display_name": "Python 3",
   "language": "python",
   "name": "python3"
  },
  "language_info": {
   "codemirror_mode": {
    "name": "ipython",
    "version": 2
   },
   "file_extension": ".py",
   "mimetype": "text/x-python",
   "name": "python",
   "nbconvert_exporter": "python",
   "pygments_lexer": "ipython2",
   "version": "2.7.6"
  }
 },
 "nbformat": 4,
 "nbformat_minor": 5
}
