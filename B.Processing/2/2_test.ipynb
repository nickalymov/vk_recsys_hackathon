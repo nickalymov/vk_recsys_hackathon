{
 "cells": [
  {
   "cell_type": "code",
   "execution_count": 2,
   "id": "initial_id",
   "metadata": {
    "collapsed": true,
    "ExecuteTime": {
     "end_time": "2024-11-22T04:47:44.571300Z",
     "start_time": "2024-11-22T04:47:43.217316Z"
    }
   },
   "outputs": [],
   "source": [
    "import numpy as np\n",
    "import torch\n",
    "from torch.utils.data import Dataset, DataLoader\n",
    "import torch.nn as nn\n",
    "import pandas as pd\n",
    "from tqdm import tqdm"
   ]
  },
  {
   "cell_type": "code",
   "outputs": [],
   "source": [
    "torch.manual_seed(42)\n",
    "torch.cuda.manual_seed_all(42)\n",
    "np.random.seed(42)"
   ],
   "metadata": {
    "collapsed": false,
    "ExecuteTime": {
     "end_time": "2024-11-21T17:17:42.985225700Z",
     "start_time": "2024-11-21T17:17:42.973155Z"
    }
   },
   "id": "b4e3bdb191119368",
   "execution_count": 2
  },
  {
   "cell_type": "code",
   "outputs": [],
   "source": [
    "# Параметры\n",
    "test_path = 'fv2_test.parquet'  \n",
    "model_path = '2_DCN_MLP.pth'  \n",
    "test_output_path = '2_predictions.csv'  \n",
    "BATCH_SIZE = 8192\n",
    "data_folder = 'C:/Users/Николай/PycharmProjects/VKRecSys/custom_data/'  "
   ],
   "metadata": {
    "collapsed": false,
    "ExecuteTime": {
     "end_time": "2024-11-21T17:17:43.003223700Z",
     "start_time": "2024-11-21T17:17:42.987225700Z"
    }
   },
   "id": "b39e804948926dd1",
   "execution_count": 3
  },
  {
   "cell_type": "code",
   "outputs": [],
   "source": [
    "device = torch.device(\"cuda\" if torch.cuda.is_available() else \"cpu\")"
   ],
   "metadata": {
    "collapsed": false,
    "ExecuteTime": {
     "end_time": "2024-11-21T17:17:44.318030500Z",
     "start_time": "2024-11-21T17:17:43.690881200Z"
    }
   },
   "id": "f44f0cd145234df0",
   "execution_count": 4
  },
  {
   "cell_type": "code",
   "outputs": [],
   "source": [
    "class MyDataset(Dataset):\n",
    "    def __init__(self, interactions, device):\n",
    "        self.device = device\n",
    "        self.users = torch.tensor(interactions['user_id'].values, dtype=torch.long, device=self.device)\n",
    "        self.items = torch.tensor(interactions['item_id'].values, dtype=torch.long, device=self.device)\n",
    "        self.ages = torch.tensor(interactions['age'].values, dtype=torch.long, device=self.device)\n",
    "        self.item_durations = torch.tensor(interactions['item_duration'].values, dtype=torch.long, device=self.device)\n",
    "\n",
    "    def __len__(self):\n",
    "        return len(self.users)\n",
    "\n",
    "    def __getitem__(self, idx):\n",
    "        return self.users[idx], self.items[idx], self.ages[idx], self.item_durations[idx]"
   ],
   "metadata": {
    "collapsed": false,
    "ExecuteTime": {
     "end_time": "2024-11-21T17:17:44.695876600Z",
     "start_time": "2024-11-21T17:17:44.676888800Z"
    }
   },
   "id": "68017ce13750e032",
   "execution_count": 5
  },
  {
   "cell_type": "code",
   "outputs": [],
   "source": [
    "class DCN(nn.Module):\n",
    "    def __init__(self, input_dim, num_cross_layers):\n",
    "        super(DCN, self).__init__()\n",
    "        self.input_dim = input_dim\n",
    "        self.num_cross_layers = num_cross_layers\n",
    "        \n",
    "        self.cross_weights = nn.ParameterList(\n",
    "            [nn.Parameter(torch.randn(input_dim, 1)) for _ in range(num_cross_layers)]\n",
    "        )\n",
    "        self.cross_biases = nn.ParameterList(\n",
    "            [nn.Parameter(torch.randn(input_dim)) for _ in range(num_cross_layers)]\n",
    "        )\n",
    "        \n",
    "    def forward(self, x):\n",
    "        x0 = x\n",
    "        for i in range(self.num_cross_layers):\n",
    "            x = x0 * (x @ self.cross_weights[i]) + self.cross_biases[i] + x\n",
    "        return x\n",
    "\n",
    "class DCNWithMLP(nn.Module):\n",
    "    def __init__(self, input_dim, num_cross_layers=3, hidden_dim=128, output_dim=3):\n",
    "        super(DCNWithMLP, self).__init__()\n",
    "\n",
    "        self.batch_norm = nn.BatchNorm1d(input_dim)\n",
    "\n",
    "        self.dcn = DCN(input_dim, num_cross_layers)\n",
    "\n",
    "        self.fc1 = nn.Linear(input_dim, hidden_dim)\n",
    "        self.fc2 = nn.Linear(hidden_dim, hidden_dim)\n",
    "        self.fc3 = nn.Linear(hidden_dim, output_dim)\n",
    "        self.relu = nn.ReLU()\n",
    "        self.softmax = nn.Softmax(dim=1)\n",
    "    \n",
    "    def forward(self, x):\n",
    "        x = self.batch_norm(x)\n",
    "        \n",
    "        x = self.dcn(x)\n",
    "        \n",
    "        x = self.relu(self.fc1(x))\n",
    "        x = self.relu(self.fc2(x))\n",
    "        x = self.fc3(x)\n",
    "        return self.softmax(x)"
   ],
   "metadata": {
    "collapsed": false,
    "ExecuteTime": {
     "end_time": "2024-11-21T17:17:45.658993300Z",
     "start_time": "2024-11-21T17:17:45.628994300Z"
    }
   },
   "id": "140029e22200158e",
   "execution_count": 6
  },
  {
   "cell_type": "code",
   "outputs": [],
   "source": [
    "test = pd.read_parquet(f'{data_folder}{test_path}', engine='pyarrow')"
   ],
   "metadata": {
    "collapsed": false,
    "ExecuteTime": {
     "end_time": "2024-11-21T17:17:46.448079600Z",
     "start_time": "2024-11-21T17:17:46.385777900Z"
    }
   },
   "id": "5a2e1b6e77f76d17",
   "execution_count": 7
  },
  {
   "cell_type": "code",
   "outputs": [],
   "source": [
    "test_ds = MyDataset(test, device)\n",
    "test_dl = DataLoader(test_ds, batch_size=BATCH_SIZE, shuffle=False)"
   ],
   "metadata": {
    "collapsed": false,
    "ExecuteTime": {
     "end_time": "2024-11-21T17:17:48.295664Z",
     "start_time": "2024-11-21T17:17:47.586285800Z"
    }
   },
   "id": "f22bedd6d83d5150",
   "execution_count": 8
  },
  {
   "cell_type": "code",
   "outputs": [
    {
     "name": "stderr",
     "output_type": "stream",
     "text": [
      "C:\\Users\\Николай\\AppData\\Local\\Temp\\ipykernel_10636\\3371622768.py:5: FutureWarning: You are using `torch.load` with `weights_only=False` (the current default value), which uses the default pickle module implicitly. It is possible to construct malicious pickle data which will execute arbitrary code during unpickling (See https://github.com/pytorch/pytorch/blob/main/SECURITY.md#untrusted-models for more details). In a future release, the default value for `weights_only` will be flipped to `True`. This limits the functions that could be executed during unpickling. Arbitrary objects will no longer be allowed to be loaded via this mode unless they are explicitly allowlisted by the user via `torch.serialization.add_safe_globals`. We recommend you start setting `weights_only=True` for any use case where you don't have full control of the loaded file. Please open an issue on GitHub for any issues related to this experimental feature.\n",
      "  model.load_state_dict(torch.load(model_path))\n"
     ]
    },
    {
     "data": {
      "text/plain": "DCNWithMLP(\n  (batch_norm): BatchNorm1d(4, eps=1e-05, momentum=0.1, affine=True, track_running_stats=True)\n  (dcn): DCN(\n    (cross_weights): ParameterList(\n        (0): Parameter containing: [torch.float32 of size 4x1 (cuda:0)]\n        (1): Parameter containing: [torch.float32 of size 4x1 (cuda:0)]\n        (2): Parameter containing: [torch.float32 of size 4x1 (cuda:0)]\n    )\n    (cross_biases): ParameterList(\n        (0): Parameter containing: [torch.float32 of size 4 (cuda:0)]\n        (1): Parameter containing: [torch.float32 of size 4 (cuda:0)]\n        (2): Parameter containing: [torch.float32 of size 4 (cuda:0)]\n    )\n  )\n  (fc1): Linear(in_features=4, out_features=128, bias=True)\n  (fc2): Linear(in_features=128, out_features=128, bias=True)\n  (fc3): Linear(in_features=128, out_features=3, bias=True)\n  (relu): ReLU()\n  (softmax): Softmax(dim=1)\n)"
     },
     "execution_count": 9,
     "metadata": {},
     "output_type": "execute_result"
    }
   ],
   "source": [
    "input_dim = len(test.columns) \n",
    "num_cross_layers = 3 \n",
    "model = DCNWithMLP(input_dim=input_dim, num_cross_layers=num_cross_layers).to(device)\n",
    "model.load_state_dict(torch.load(model_path))\n",
    "model.eval()  "
   ],
   "metadata": {
    "collapsed": false,
    "ExecuteTime": {
     "end_time": "2024-11-21T17:17:49.445845500Z",
     "start_time": "2024-11-21T17:17:49.417777300Z"
    }
   },
   "id": "ddb92bacabe526eb",
   "execution_count": 9
  },
  {
   "cell_type": "code",
   "outputs": [
    {
     "name": "stderr",
     "output_type": "stream",
     "text": [
      "Evaluating Test Data: 100%|██████████| 203/203 [00:22<00:00,  9.17batch/s]\n"
     ]
    }
   ],
   "source": [
    "import torch.nn.functional as F\n",
    "predictions = []\n",
    "with torch.no_grad():\n",
    "    with tqdm(test_dl, desc=\"Evaluating Test Data\", unit=\"batch\") as t:\n",
    "        for users, items, ages, item_durations in t:\n",
    "            inputs = torch.cat((users.unsqueeze(1), items.unsqueeze(1), ages.unsqueeze(1), item_durations.unsqueeze(1)), dim=1).float()\n",
    "            \n",
    "            outputs = model(inputs)\n",
    "            \n",
    "            probs = F.softmax(outputs, dim=1)\n",
    "            \n",
    "            weighted_sum = (probs * torch.arange(probs.size(1), device=probs.device)).sum(dim=1)\n",
    "            \n",
    "            predictions.extend(weighted_sum.cpu().numpy())"
   ],
   "metadata": {
    "collapsed": false,
    "ExecuteTime": {
     "end_time": "2024-11-21T17:28:23.841181500Z",
     "start_time": "2024-11-21T17:28:01.658447900Z"
    }
   },
   "id": "4bb6baa4dc2a84d0",
   "execution_count": 23
  },
  {
   "cell_type": "code",
   "outputs": [
    {
     "name": "stdout",
     "output_type": "stream",
     "text": [
      "Предсказания сохранены в 2_predictions.csv\n"
     ]
    }
   ],
   "source": [
    "# Сохранение предсказаний\n",
    "test['prediction'] = predictions\n",
    "test[['user_id', 'item_id', 'prediction']].to_csv(f'{data_folder}{test_output_path}', index=False)\n",
    "print(f\"Предсказания сохранены в {test_output_path}\")"
   ],
   "metadata": {
    "collapsed": false,
    "ExecuteTime": {
     "end_time": "2024-11-21T17:28:25.049943700Z",
     "start_time": "2024-11-21T17:28:23.847214600Z"
    }
   },
   "id": "b5ed815710dc1d05",
   "execution_count": 24
  }
 ],
 "metadata": {
  "kernelspec": {
   "display_name": "Python 3",
   "language": "python",
   "name": "python3"
  },
  "language_info": {
   "codemirror_mode": {
    "name": "ipython",
    "version": 2
   },
   "file_extension": ".py",
   "mimetype": "text/x-python",
   "name": "python",
   "nbconvert_exporter": "python",
   "pygments_lexer": "ipython2",
   "version": "2.7.6"
  }
 },
 "nbformat": 4,
 "nbformat_minor": 5
}
