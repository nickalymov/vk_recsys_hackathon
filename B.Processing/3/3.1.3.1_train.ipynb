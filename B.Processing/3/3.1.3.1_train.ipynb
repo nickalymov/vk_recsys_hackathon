{
 "cells": [
  {
   "cell_type": "code",
   "execution_count": 1,
   "id": "c8758066",
   "metadata": {
    "ExecuteTime": {
     "end_time": "2024-11-24T13:21:12.773245700Z",
     "start_time": "2024-11-24T13:21:12.758230300Z"
    },
    "execution": {
     "iopub.execute_input": "2024-11-25T18:47:52.539975Z",
     "iopub.status.busy": "2024-11-25T18:47:52.539664Z",
     "iopub.status.idle": "2024-11-25T18:47:52.547849Z",
     "shell.execute_reply": "2024-11-25T18:47:52.547039Z"
    },
    "papermill": {
     "duration": 0.015133,
     "end_time": "2024-11-25T18:47:52.549376",
     "exception": false,
     "start_time": "2024-11-25T18:47:52.534243",
     "status": "completed"
    },
    "tags": []
   },
   "outputs": [],
   "source": [
    "# paths\n",
    "train_parquet = 'train_interactions.parquet'\n",
    "models_folder = '/kaggle/working/'\n",
    "model_path = '3.1.3.1_DCN_MLP.pth'\n",
    "custom_data_folder = 'C:/Users/Николай/PycharmProjects/VKRecSys/custom_data/'\n",
    "orig_data_folder = '/kaggle/input/vkrecsys/'\n",
    "\n",
    "# model params\n",
    "BATCH_SIZE = 16384\n",
    "NUM_CROSS_LAYERS = 1\n",
    "LR = 0.001\n",
    "EPOCHS = 12"
   ]
  },
  {
   "cell_type": "code",
   "execution_count": 2,
   "id": "e22dd02e",
   "metadata": {
    "ExecuteTime": {
     "end_time": "2024-11-24T13:21:14.421657Z",
     "start_time": "2024-11-24T13:21:12.764230600Z"
    },
    "collapsed": false,
    "execution": {
     "iopub.execute_input": "2024-11-25T18:47:52.557471Z",
     "iopub.status.busy": "2024-11-25T18:47:52.557183Z",
     "iopub.status.idle": "2024-11-25T18:47:57.231081Z",
     "shell.execute_reply": "2024-11-25T18:47:57.230404Z"
    },
    "jupyter": {
     "outputs_hidden": false
    },
    "papermill": {
     "duration": 4.680059,
     "end_time": "2024-11-25T18:47:57.233078",
     "exception": false,
     "start_time": "2024-11-25T18:47:52.553019",
     "status": "completed"
    },
    "tags": []
   },
   "outputs": [],
   "source": [
    "import numpy as np\n",
    "import torch\n",
    "from torch.utils.data import Dataset, DataLoader\n",
    "import torch.nn as nn\n",
    "from torch.optim import Adam\n",
    "import torch.nn.functional as F\n",
    "import pandas as pd\n",
    "from sklearn.model_selection import StratifiedKFold\n",
    "from sklearn.preprocessing import LabelEncoder\n",
    "import torch.nn as nn\n",
    "import torch.optim as optim\n",
    "from tqdm import tqdm"
   ]
  },
  {
   "cell_type": "code",
   "execution_count": 3,
   "id": "259a470d",
   "metadata": {
    "ExecuteTime": {
     "end_time": "2024-11-24T13:21:15.057764300Z",
     "start_time": "2024-11-24T13:21:14.423586400Z"
    },
    "collapsed": false,
    "execution": {
     "iopub.execute_input": "2024-11-25T18:47:57.242235Z",
     "iopub.status.busy": "2024-11-25T18:47:57.241884Z",
     "iopub.status.idle": "2024-11-25T18:47:57.308597Z",
     "shell.execute_reply": "2024-11-25T18:47:57.307935Z"
    },
    "jupyter": {
     "outputs_hidden": false
    },
    "papermill": {
     "duration": 0.07293,
     "end_time": "2024-11-25T18:47:57.310170",
     "exception": false,
     "start_time": "2024-11-25T18:47:57.237240",
     "status": "completed"
    },
    "tags": []
   },
   "outputs": [],
   "source": [
    "device = torch.device(\"cuda\" if torch.cuda.is_available() else \"cpu\")\n",
    "\n",
    "torch.manual_seed(42)  \n",
    "torch.cuda.manual_seed_all(42)  \n",
    "np.random.seed(42)  "
   ]
  },
  {
   "cell_type": "code",
   "execution_count": 4,
   "id": "a04dc900",
   "metadata": {
    "ExecuteTime": {
     "end_time": "2024-11-24T13:21:19.938511800Z",
     "start_time": "2024-11-24T13:21:15.056749300Z"
    },
    "collapsed": false,
    "execution": {
     "iopub.execute_input": "2024-11-25T18:47:57.319531Z",
     "iopub.status.busy": "2024-11-25T18:47:57.319248Z",
     "iopub.status.idle": "2024-11-25T18:48:13.646927Z",
     "shell.execute_reply": "2024-11-25T18:48:13.645928Z"
    },
    "jupyter": {
     "outputs_hidden": false
    },
    "papermill": {
     "duration": 16.334151,
     "end_time": "2024-11-25T18:48:13.649141",
     "exception": false,
     "start_time": "2024-11-25T18:47:57.314990",
     "status": "completed"
    },
    "tags": []
   },
   "outputs": [],
   "source": [
    "train = pd.read_parquet(f'{orig_data_folder}{train_parquet}', engine='pyarrow')\n",
    "train['like'] = train['like'] + train['dislike'].replace({1: -1})\n",
    "train.drop(columns=['dislike'], inplace=True)\n",
    "train['like'] = train['like'].astype('int8')\n",
    "train.rename(columns={'like' : 'target'}, inplace=True)\n",
    "train['target'] = train['target'].replace({-1:0, 0:1, 1:2})\n",
    "\n",
    "items_meta = pd.read_parquet(f'{orig_data_folder}items_meta.parquet', engine='pyarrow')\n",
    "items_meta['item_id'] = items_meta['item_id'].astype('category')\n",
    "items_meta['source_id'] = items_meta['source_id'].astype('category')\n",
    "items_meta.set_index('item_id', inplace=True)\n",
    "\n",
    "# users_meta\n",
    "users_meta = pd.read_parquet(f'{orig_data_folder}users_meta.parquet', engine='pyarrow')\n",
    "users_meta['user_id'] = users_meta['user_id'].astype('category')\n",
    "users_meta['gender'] = users_meta['gender'].astype('category')\n",
    "users_meta['age'] = users_meta['age'].replace({1:0, 2:1})\n",
    "users_meta.set_index('user_id', inplace=True)\n",
    "\n",
    "# Преобразуем embeddings в словарь\n",
    "item_embeddings_dict = items_meta['embeddings'].to_dict()"
   ]
  },
  {
   "cell_type": "code",
   "execution_count": 5,
   "id": "6d3d0db3",
   "metadata": {
    "ExecuteTime": {
     "end_time": "2024-11-24T13:21:19.954044100Z",
     "start_time": "2024-11-24T13:21:19.940517600Z"
    },
    "collapsed": false,
    "execution": {
     "iopub.execute_input": "2024-11-25T18:48:13.657364Z",
     "iopub.status.busy": "2024-11-25T18:48:13.657084Z",
     "iopub.status.idle": "2024-11-25T18:48:13.661606Z",
     "shell.execute_reply": "2024-11-25T18:48:13.660900Z"
    },
    "jupyter": {
     "outputs_hidden": false
    },
    "papermill": {
     "duration": 0.010368,
     "end_time": "2024-11-25T18:48:13.663176",
     "exception": false,
     "start_time": "2024-11-25T18:48:13.652808",
     "status": "completed"
    },
    "tags": []
   },
   "outputs": [],
   "source": [
    "class EmbeddingLayer(nn.Module):\n",
    "    def __init__(self, num_embeddings, embedding_dim):\n",
    "        super(EmbeddingLayer, self).__init__()\n",
    "        self.embedding = nn.Embedding(num_embeddings, embedding_dim)\n",
    "        \n",
    "    def forward(self, x):\n",
    "        return self.embedding(x)"
   ]
  },
  {
   "cell_type": "code",
   "execution_count": 6,
   "id": "bae3d50c",
   "metadata": {
    "ExecuteTime": {
     "end_time": "2024-11-24T13:21:19.970038600Z",
     "start_time": "2024-11-24T13:21:19.954044100Z"
    },
    "collapsed": false,
    "execution": {
     "iopub.execute_input": "2024-11-25T18:48:13.670912Z",
     "iopub.status.busy": "2024-11-25T18:48:13.670688Z",
     "iopub.status.idle": "2024-11-25T18:48:13.674252Z",
     "shell.execute_reply": "2024-11-25T18:48:13.673628Z"
    },
    "jupyter": {
     "outputs_hidden": false
    },
    "papermill": {
     "duration": 0.009072,
     "end_time": "2024-11-25T18:48:13.675723",
     "exception": false,
     "start_time": "2024-11-25T18:48:13.666651",
     "status": "completed"
    },
    "tags": []
   },
   "outputs": [],
   "source": [
    "def normalize_column(column):\n",
    "    return (column - column.min()) / (column.max() - column.min())"
   ]
  },
  {
   "cell_type": "code",
   "execution_count": 7,
   "id": "cb765f9b",
   "metadata": {
    "ExecuteTime": {
     "end_time": "2024-11-24T13:21:19.985047500Z",
     "start_time": "2024-11-24T13:21:19.970038600Z"
    },
    "collapsed": false,
    "execution": {
     "iopub.execute_input": "2024-11-25T18:48:13.683644Z",
     "iopub.status.busy": "2024-11-25T18:48:13.683127Z",
     "iopub.status.idle": "2024-11-25T18:48:13.689721Z",
     "shell.execute_reply": "2024-11-25T18:48:13.689120Z"
    },
    "jupyter": {
     "outputs_hidden": false
    },
    "papermill": {
     "duration": 0.012098,
     "end_time": "2024-11-25T18:48:13.691185",
     "exception": false,
     "start_time": "2024-11-25T18:48:13.679087",
     "status": "completed"
    },
    "tags": []
   },
   "outputs": [],
   "source": [
    "users_meta['age'] = normalize_column(users_meta['age'])\n",
    "items_meta['duration'] = normalize_column(items_meta['duration'])"
   ]
  },
  {
   "cell_type": "code",
   "execution_count": 8,
   "id": "cb39bc09",
   "metadata": {
    "ExecuteTime": {
     "end_time": "2024-11-24T13:21:21.195410300Z",
     "start_time": "2024-11-24T13:21:19.985964600Z"
    },
    "collapsed": false,
    "execution": {
     "iopub.execute_input": "2024-11-25T18:48:13.698785Z",
     "iopub.status.busy": "2024-11-25T18:48:13.698541Z",
     "iopub.status.idle": "2024-11-25T18:48:15.197159Z",
     "shell.execute_reply": "2024-11-25T18:48:15.196443Z"
    },
    "jupyter": {
     "outputs_hidden": false
    },
    "papermill": {
     "duration": 1.504713,
     "end_time": "2024-11-25T18:48:15.199271",
     "exception": false,
     "start_time": "2024-11-25T18:48:13.694558",
     "status": "completed"
    },
    "tags": []
   },
   "outputs": [],
   "source": [
    "num_users = train['user_id'].nunique()\n",
    "num_items = train['item_id'].nunique()\n",
    "num_sources = items_meta['source_id'].nunique()"
   ]
  },
  {
   "cell_type": "code",
   "execution_count": 9,
   "id": "34c84339",
   "metadata": {
    "ExecuteTime": {
     "end_time": "2024-11-24T13:21:22.003090800Z",
     "start_time": "2024-11-24T13:21:21.202913300Z"
    },
    "collapsed": false,
    "execution": {
     "iopub.execute_input": "2024-11-25T18:48:15.207585Z",
     "iopub.status.busy": "2024-11-25T18:48:15.207278Z",
     "iopub.status.idle": "2024-11-25T18:48:16.946708Z",
     "shell.execute_reply": "2024-11-25T18:48:16.945961Z"
    },
    "jupyter": {
     "outputs_hidden": false
    },
    "papermill": {
     "duration": 1.74566,
     "end_time": "2024-11-25T18:48:16.948664",
     "exception": false,
     "start_time": "2024-11-25T18:48:15.203004",
     "status": "completed"
    },
    "tags": []
   },
   "outputs": [],
   "source": [
    "user_embedding = EmbeddingLayer(num_users, 256).to(device)\n",
    "item_embedding = EmbeddingLayer(num_items, 256).to(device)\n",
    "source_embedding = EmbeddingLayer(num_sources, 256).to(device)"
   ]
  },
  {
   "cell_type": "code",
   "execution_count": 10,
   "id": "50e10d0c",
   "metadata": {
    "ExecuteTime": {
     "end_time": "2024-11-24T13:21:22.015997500Z",
     "start_time": "2024-11-24T13:21:22.007046300Z"
    },
    "collapsed": false,
    "execution": {
     "iopub.execute_input": "2024-11-25T18:48:16.956859Z",
     "iopub.status.busy": "2024-11-25T18:48:16.956595Z",
     "iopub.status.idle": "2024-11-25T18:48:16.960633Z",
     "shell.execute_reply": "2024-11-25T18:48:16.959834Z"
    },
    "jupyter": {
     "outputs_hidden": false
    },
    "papermill": {
     "duration": 0.009881,
     "end_time": "2024-11-25T18:48:16.962262",
     "exception": false,
     "start_time": "2024-11-25T18:48:16.952381",
     "status": "completed"
    },
    "tags": []
   },
   "outputs": [],
   "source": [
    "input_dim = (1 + # gender\n",
    "             1 + # age\n",
    "             1 + # duration\n",
    "             user_embedding.embedding.embedding_dim + \n",
    "             item_embedding.embedding.embedding_dim + \n",
    "             source_embedding.embedding.embedding_dim +\n",
    "             32 # embeddings\n",
    "             )"
   ]
  },
  {
   "cell_type": "code",
   "execution_count": 11,
   "id": "c5e06074",
   "metadata": {
    "ExecuteTime": {
     "end_time": "2024-11-24T13:21:22.048996600Z",
     "start_time": "2024-11-24T13:21:22.023043400Z"
    },
    "collapsed": false,
    "execution": {
     "iopub.execute_input": "2024-11-25T18:48:16.970020Z",
     "iopub.status.busy": "2024-11-25T18:48:16.969777Z",
     "iopub.status.idle": "2024-11-25T18:48:17.070161Z",
     "shell.execute_reply": "2024-11-25T18:48:17.069537Z"
    },
    "jupyter": {
     "outputs_hidden": false
    },
    "papermill": {
     "duration": 0.106277,
     "end_time": "2024-11-25T18:48:17.071948",
     "exception": false,
     "start_time": "2024-11-25T18:48:16.965671",
     "status": "completed"
    },
    "tags": []
   },
   "outputs": [],
   "source": [
    "class DCN(nn.Module):\n",
    "    def __init__(self, input_dim, num_cross_layers):\n",
    "        super(DCN, self).__init__()\n",
    "        self.input_dim = input_dim\n",
    "        self.num_cross_layers = num_cross_layers\n",
    "        \n",
    "        # Параметры для слоев пересечения\n",
    "        self.cross_weights = nn.ParameterList(\n",
    "            [nn.Parameter(torch.randn(input_dim, 1)) for _ in range(num_cross_layers)]\n",
    "        )\n",
    "        self.cross_biases = nn.ParameterList(\n",
    "            [nn.Parameter(torch.randn(input_dim)) for _ in range(num_cross_layers)]\n",
    "        )\n",
    "        \n",
    "    def forward(self, x):\n",
    "        # Инициализируем x0\n",
    "        x0 = x\n",
    "        for i in range(self.num_cross_layers):\n",
    "            x = x0 * (x @ self.cross_weights[i]) + self.cross_biases[i] + x\n",
    "        return x\n",
    "\n",
    "class DCNWithMLP(nn.Module):\n",
    "    def __init__(self, input_dim, num_cross_layers=3, hidden_dim=2048, output_dim=3):\n",
    "        super(DCNWithMLP, self).__init__()\n",
    "        \n",
    "        # Нормализация входных данных\n",
    "        self.batch_norm = nn.BatchNorm1d(input_dim)\n",
    "        \n",
    "        # DCN модуль\n",
    "        self.dcn = DCN(input_dim, num_cross_layers)\n",
    "        \n",
    "        # MLP модуль\n",
    "        self.fc1 = nn.Linear(input_dim, hidden_dim)\n",
    "        self.fc2 = nn.Linear(hidden_dim, 2048)\n",
    "        self.fc3 = nn.Linear(2048, 1024)\n",
    "        self.fc4 = nn.Linear(1024, 512)\n",
    "        self.fc5 = nn.Linear(512, 512)\n",
    "        self.fc6 = nn.Linear(512, 256)\n",
    "        self.fc7 = nn.Linear(256, 256)\n",
    "        self.fc8 = nn.Linear(256, 128)\n",
    "        self.fc9 = nn.Linear(128, output_dim)\n",
    "        self.softplus = nn.Softplus()\n",
    "    \n",
    "    def forward(self, x):\n",
    "        # Применяем нормализацию входных данных\n",
    "        # x = self.batch_norm(x)\n",
    "        \n",
    "        # Пропускаем через DCN\n",
    "        # x = self.dcn(x)\n",
    "        \n",
    "        # Пропускаем через MLP\n",
    "        x = self.softplus(self.fc1(x))\n",
    "        x = self.softplus(self.fc2(x))\n",
    "        x = self.softplus(self.fc3(x))\n",
    "        x = self.softplus(self.fc4(x))\n",
    "        x = self.softplus(self.fc5(x))\n",
    "        x = self.softplus(self.fc6(x))\n",
    "        x = self.softplus(self.fc7(x))\n",
    "        x = self.softplus(self.fc8(x))\n",
    "        x = self.fc9(x)\n",
    "        return x\n",
    "\n",
    "# Определяем параметры\n",
    "num_cross_layers = NUM_CROSS_LAYERS  # Количество слоев DCN\n",
    "\n",
    "# Создаем модель\n",
    "model = DCNWithMLP(input_dim, num_cross_layers).to(device)"
   ]
  },
  {
   "cell_type": "code",
   "execution_count": 12,
   "id": "b5cf4499",
   "metadata": {
    "ExecuteTime": {
     "end_time": "2024-11-24T13:21:22.797616500Z",
     "start_time": "2024-11-24T13:21:22.049997800Z"
    },
    "collapsed": false,
    "execution": {
     "iopub.execute_input": "2024-11-25T18:48:17.080021Z",
     "iopub.status.busy": "2024-11-25T18:48:17.079762Z",
     "iopub.status.idle": "2024-11-25T18:48:18.214556Z",
     "shell.execute_reply": "2024-11-25T18:48:18.213831Z"
    },
    "jupyter": {
     "outputs_hidden": false
    },
    "papermill": {
     "duration": 1.140828,
     "end_time": "2024-11-25T18:48:18.216460",
     "exception": false,
     "start_time": "2024-11-25T18:48:17.075632",
     "status": "completed"
    },
    "tags": []
   },
   "outputs": [],
   "source": [
    "# Кросс-энтропийная функция потерь для многоклассовой классификации\n",
    "criterion = nn.CrossEntropyLoss()\n",
    "\n",
    "# Оптимизатор\n",
    "optimizer = Adam(list(model.parameters()) +\n",
    "                 list(user_embedding.parameters()) +\n",
    "                 list(item_embedding.parameters()) +\n",
    "                 list(source_embedding.parameters()), lr=LR)"
   ]
  },
  {
   "cell_type": "code",
   "execution_count": 13,
   "id": "22e8509d",
   "metadata": {
    "ExecuteTime": {
     "end_time": "2024-11-24T13:21:23.031837Z",
     "start_time": "2024-11-24T13:21:22.802658900Z"
    },
    "collapsed": false,
    "execution": {
     "iopub.execute_input": "2024-11-25T18:48:18.224802Z",
     "iopub.status.busy": "2024-11-25T18:48:18.224378Z",
     "iopub.status.idle": "2024-11-25T18:48:18.568600Z",
     "shell.execute_reply": "2024-11-25T18:48:18.567897Z"
    },
    "jupyter": {
     "outputs_hidden": false
    },
    "papermill": {
     "duration": 0.350538,
     "end_time": "2024-11-25T18:48:18.570623",
     "exception": false,
     "start_time": "2024-11-25T18:48:18.220085",
     "status": "completed"
    },
    "tags": []
   },
   "outputs": [],
   "source": [
    "# Преобразуем embeddings в массив и храним в tensor\n",
    "item_embeddings_array = torch.tensor(\n",
    "    np.stack(items_meta['embeddings'].values), \n",
    "    device=device, \n",
    "    dtype=torch.float32\n",
    ")\n",
    "\n",
    "# Сохраняем индексы для быстрого доступа\n",
    "item_id_to_index = {item: idx for idx, item in enumerate(items_meta.index)}"
   ]
  },
  {
   "cell_type": "code",
   "execution_count": 14,
   "id": "b7e1e688",
   "metadata": {
    "ExecuteTime": {
     "start_time": "2024-11-24T13:21:23.041819600Z"
    },
    "collapsed": false,
    "execution": {
     "iopub.execute_input": "2024-11-25T18:48:18.579071Z",
     "iopub.status.busy": "2024-11-25T18:48:18.578780Z",
     "iopub.status.idle": "2024-11-26T00:53:40.871578Z",
     "shell.execute_reply": "2024-11-26T00:53:40.870597Z"
    },
    "is_executing": true,
    "jupyter": {
     "outputs_hidden": false
    },
    "papermill": {
     "duration": 21922.299015,
     "end_time": "2024-11-26T00:53:40.873400",
     "exception": false,
     "start_time": "2024-11-25T18:48:18.574385",
     "status": "completed"
    },
    "tags": []
   },
   "outputs": [
    {
     "name": "stderr",
     "output_type": "stream",
     "text": [
      "Epoch 1/12: 100%|██████████| 8891/8891 [30:20<00:00,  4.88batch/s, batch_loss=0.130457, mean_loss=0.133235]\n"
     ]
    },
    {
     "name": "stdout",
     "output_type": "stream",
     "text": [
      "Epoch [1/12], Mean Loss: 0.1332\n"
     ]
    },
    {
     "name": "stderr",
     "output_type": "stream",
     "text": [
      "Epoch 2/12: 100%|██████████| 8891/8891 [30:30<00:00,  4.86batch/s, batch_loss=0.129136, mean_loss=0.125161]\n"
     ]
    },
    {
     "name": "stdout",
     "output_type": "stream",
     "text": [
      "Epoch [2/12], Mean Loss: 0.1252\n"
     ]
    },
    {
     "name": "stderr",
     "output_type": "stream",
     "text": [
      "Epoch 3/12: 100%|██████████| 8891/8891 [30:20<00:00,  4.88batch/s, batch_loss=0.127979, mean_loss=0.123919]\n"
     ]
    },
    {
     "name": "stdout",
     "output_type": "stream",
     "text": [
      "Epoch [3/12], Mean Loss: 0.1239\n"
     ]
    },
    {
     "name": "stderr",
     "output_type": "stream",
     "text": [
      "Epoch 4/12: 100%|██████████| 8891/8891 [30:20<00:00,  4.88batch/s, batch_loss=0.125775, mean_loss=0.122207]\n"
     ]
    },
    {
     "name": "stdout",
     "output_type": "stream",
     "text": [
      "Epoch [4/12], Mean Loss: 0.1222\n"
     ]
    },
    {
     "name": "stderr",
     "output_type": "stream",
     "text": [
      "Epoch 5/12: 100%|██████████| 8891/8891 [30:35<00:00,  4.84batch/s, batch_loss=0.121957, mean_loss=0.119476]\n"
     ]
    },
    {
     "name": "stdout",
     "output_type": "stream",
     "text": [
      "Epoch [5/12], Mean Loss: 0.1195\n"
     ]
    },
    {
     "name": "stderr",
     "output_type": "stream",
     "text": [
      "Epoch 6/12: 100%|██████████| 8891/8891 [30:27<00:00,  4.86batch/s, batch_loss=0.116687, mean_loss=0.115619]\n"
     ]
    },
    {
     "name": "stdout",
     "output_type": "stream",
     "text": [
      "Epoch [6/12], Mean Loss: 0.1156\n"
     ]
    },
    {
     "name": "stderr",
     "output_type": "stream",
     "text": [
      "Epoch 7/12: 100%|██████████| 8891/8891 [30:25<00:00,  4.87batch/s, batch_loss=0.110643, mean_loss=0.110780]\n"
     ]
    },
    {
     "name": "stdout",
     "output_type": "stream",
     "text": [
      "Epoch [7/12], Mean Loss: 0.1108\n"
     ]
    },
    {
     "name": "stderr",
     "output_type": "stream",
     "text": [
      "Epoch 8/12: 100%|██████████| 8891/8891 [30:33<00:00,  4.85batch/s, batch_loss=0.104012, mean_loss=0.105244]\n"
     ]
    },
    {
     "name": "stdout",
     "output_type": "stream",
     "text": [
      "Epoch [8/12], Mean Loss: 0.1052\n"
     ]
    },
    {
     "name": "stderr",
     "output_type": "stream",
     "text": [
      "Epoch 9/12: 100%|██████████| 8891/8891 [30:31<00:00,  4.85batch/s, batch_loss=0.097299, mean_loss=0.099289]\n"
     ]
    },
    {
     "name": "stdout",
     "output_type": "stream",
     "text": [
      "Epoch [9/12], Mean Loss: 0.0993\n"
     ]
    },
    {
     "name": "stderr",
     "output_type": "stream",
     "text": [
      "Epoch 10/12: 100%|██████████| 8891/8891 [30:20<00:00,  4.88batch/s, batch_loss=0.091137, mean_loss=0.093348]\n"
     ]
    },
    {
     "name": "stdout",
     "output_type": "stream",
     "text": [
      "Epoch [10/12], Mean Loss: 0.0933\n"
     ]
    },
    {
     "name": "stderr",
     "output_type": "stream",
     "text": [
      "Epoch 11/12: 100%|██████████| 8891/8891 [30:32<00:00,  4.85batch/s, batch_loss=0.085184, mean_loss=0.087577]\n"
     ]
    },
    {
     "name": "stdout",
     "output_type": "stream",
     "text": [
      "Epoch [11/12], Mean Loss: 0.0876\n"
     ]
    },
    {
     "name": "stderr",
     "output_type": "stream",
     "text": [
      "Epoch 12/12: 100%|██████████| 8891/8891 [30:21<00:00,  4.88batch/s, batch_loss=0.080874, mean_loss=0.082729]"
     ]
    },
    {
     "name": "stdout",
     "output_type": "stream",
     "text": [
      "Epoch [12/12], Mean Loss: 0.0827\n"
     ]
    },
    {
     "name": "stderr",
     "output_type": "stream",
     "text": [
      "\n"
     ]
    }
   ],
   "source": [
    "num_samples = len(train)\n",
    "num_batches = (num_samples + BATCH_SIZE - 1) // BATCH_SIZE\n",
    "user_embedding_weights_before = user_embedding.embedding.weight.clone().detach().cpu()\n",
    "\n",
    "for epoch in range(EPOCHS):\n",
    "    running_loss = 0.0  # Накопленный лосс для средней величины\n",
    "    with tqdm(range(num_batches), desc=f\"Epoch {epoch+1}/{EPOCHS}\", unit=\"batch\") as t:\n",
    "        for batch_idx in t:\n",
    "            start_idx = batch_idx * BATCH_SIZE\n",
    "            end_idx = min(start_idx + BATCH_SIZE, num_samples)\n",
    "            \n",
    "            batch = train.iloc[start_idx:end_idx]\n",
    "\n",
    "            batch_user_ids = torch.tensor(batch['user_id'].values, dtype=torch.long, device=device)\n",
    "            batch_item_ids = torch.tensor(batch['item_id'].values, dtype=torch.long, device=device)\n",
    "            batch_source_ids = torch.tensor(items_meta.loc[batch['item_id'].values, 'source_id'].cat.codes.values, dtype=torch.long, device=device)\n",
    "            batch_age_ids = torch.tensor(users_meta.loc[batch['user_id'].values, 'age'].values, dtype=torch.float32, device=device).unsqueeze(1)\n",
    "            batch_duration_ids = torch.tensor(items_meta.loc[batch['item_id'].values, 'duration'].values, dtype=torch.float32, device=device).unsqueeze(1)\n",
    "            batch_gender_ids = torch.tensor(users_meta.loc[batch['user_id'].values, 'gender'].cat.codes.values, dtype=torch.float32, device=device).unsqueeze(1)\n",
    "\n",
    "            user_emb = user_embedding(batch_user_ids)\n",
    "            item_emb = item_embedding(batch_item_ids)\n",
    "            source_emb = source_embedding(batch_source_ids)\n",
    "\n",
    "            item_indices = batch_item_ids.cpu().numpy()\n",
    "            embeddings = torch.tensor(\n",
    "                np.stack(items_meta.loc[item_indices, 'embeddings'].values), \n",
    "                device=device, \n",
    "                dtype=torch.float32\n",
    "            )\n",
    "\n",
    "            inputs = torch.cat((\n",
    "                user_emb,\n",
    "                item_emb,\n",
    "                source_emb,\n",
    "                batch_age_ids,\n",
    "                batch_duration_ids,\n",
    "                batch_gender_ids,\n",
    "                embeddings\n",
    "            ), dim=1).float()\n",
    "\n",
    "            targets = torch.tensor(batch['target'].values, dtype=torch.long, device=device)\n",
    "\n",
    "            optimizer.zero_grad()\n",
    "            outputs = model(inputs)\n",
    "            loss = criterion(outputs, targets)\n",
    "            loss.backward()\n",
    "            optimizer.step()\n",
    "\n",
    "            batch_loss = loss.item()  # Лосс для текущего батча\n",
    "            running_loss += batch_loss  # Накопление общего лосса\n",
    "\n",
    "            # Обновляем tqdm выводом текущего и среднего лосса\n",
    "            t.set_postfix(\n",
    "                batch_loss=f\"{batch_loss:.6f}\",\n",
    "                mean_loss=f\"{running_loss / (batch_idx + 1):.6f}\"\n",
    "            )  \n",
    "\n",
    "    # Средний лосс после эпохи\n",
    "    epoch_loss = running_loss / num_batches\n",
    "    print(f\"Epoch [{epoch+1}/{EPOCHS}], Mean Loss: {epoch_loss:.4f}\")"
   ]
  },
  {
   "cell_type": "code",
   "execution_count": 15,
   "id": "26712eaa",
   "metadata": {
    "collapsed": false,
    "execution": {
     "iopub.execute_input": "2024-11-26T00:54:01.611590Z",
     "iopub.status.busy": "2024-11-26T00:54:01.611235Z",
     "iopub.status.idle": "2024-11-26T00:54:02.794651Z",
     "shell.execute_reply": "2024-11-26T00:54:02.793812Z"
    },
    "is_executing": true,
    "jupyter": {
     "outputs_hidden": false
    },
    "papermill": {
     "duration": 11.724503,
     "end_time": "2024-11-26T00:54:02.796516",
     "exception": false,
     "start_time": "2024-11-26T00:53:51.072013",
     "status": "completed"
    },
    "tags": []
   },
   "outputs": [
    {
     "name": "stdout",
     "output_type": "stream",
     "text": [
      "Модель и эмбеддинги сохранены в /kaggle/working/3.1.3.1_DCN_MLP.pth\n"
     ]
    }
   ],
   "source": [
    "# Сохраняем обучаемую модель и эмбеддинги\n",
    "state = {\n",
    "    \"model_state_dict\": model.state_dict(),\n",
    "    \"user_embedding_state_dict\": user_embedding.state_dict(),\n",
    "    \"item_embedding_state_dict\": item_embedding.state_dict(),\n",
    "    \"source_embedding_state_dict\": source_embedding.state_dict()\n",
    "}\n",
    "\n",
    "save_path = f'{models_folder}{model_path}'\n",
    "torch.save(state, save_path)\n",
    "print(f\"Модель и эмбеддинги сохранены в {save_path}\")"
   ]
  }
 ],
 "metadata": {
  "kaggle": {
   "accelerator": "gpu",
   "dataSources": [
    {
     "datasetId": 6155403,
     "sourceId": 10000346,
     "sourceType": "datasetVersion"
    }
   ],
   "dockerImageVersionId": 30787,
   "isGpuEnabled": true,
   "isInternetEnabled": true,
   "language": "python",
   "sourceType": "notebook"
  },
  "kernelspec": {
   "display_name": "Python 3",
   "language": "python",
   "name": "python3"
  },
  "language_info": {
   "codemirror_mode": {
    "name": "ipython",
    "version": 3
   },
   "file_extension": ".py",
   "mimetype": "text/x-python",
   "name": "python",
   "nbconvert_exporter": "python",
   "pygments_lexer": "ipython3",
   "version": "3.10.14"
  },
  "papermill": {
   "default_parameters": {},
   "duration": 21984.466765,
   "end_time": "2024-11-26T00:54:14.603917",
   "environment_variables": {},
   "exception": null,
   "input_path": "__notebook__.ipynb",
   "output_path": "__notebook__.ipynb",
   "parameters": {},
   "start_time": "2024-11-25T18:47:50.137152",
   "version": "2.6.0"
  }
 },
 "nbformat": 4,
 "nbformat_minor": 5
}
