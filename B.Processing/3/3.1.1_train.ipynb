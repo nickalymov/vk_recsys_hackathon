{
 "metadata": {
  "kernelspec": {
   "display_name": "Python 3",
   "language": "python",
   "name": "python3"
  },
  "language_info": {
   "name": "python",
   "version": "3.10.14",
   "mimetype": "text/x-python",
   "codemirror_mode": {
    "name": "ipython",
    "version": 3
   },
   "pygments_lexer": "ipython3",
   "nbconvert_exporter": "python",
   "file_extension": ".py"
  },
  "kaggle": {
   "accelerator": "gpu",
   "dataSources": [
    {
     "sourceId": 10000346,
     "sourceType": "datasetVersion",
     "datasetId": 6155403
    }
   ],
   "dockerImageVersionId": 30787,
   "isInternetEnabled": true,
   "language": "python",
   "sourceType": "notebook",
   "isGpuEnabled": true
  }
 },
 "nbformat_minor": 5,
 "nbformat": 4,
 "cells": [
  {
   "id": "initial_id",
   "cell_type": "code",
   "source": [
    "# paths\n",
    "train_parquet = 'train_interactions.parquet'\n",
    "models_folder = '/kaggle/working/'\n",
    "model_path = '3.1.1_DCN_MLP.pth'\n",
    "custom_data_folder = 'C:/Users/Николай/PycharmProjects/VKRecSys/custom_data/'\n",
    "orig_data_folder = '/kaggle/input/vkrecsys/'\n",
    "\n",
    "# model params\n",
    "BATCH_SIZE = 16384\n",
    "NUM_CROSS_LAYERS = 1\n",
    "LR = 0.001\n",
    "EPOCHS = 3"
   ],
   "metadata": {
    "ExecuteTime": {
     "end_time": "2024-11-24T13:21:12.773245700Z",
     "start_time": "2024-11-24T13:21:12.758230300Z"
    },
    "trusted": true,
    "execution": {
     "iopub.status.busy": "2024-11-24T17:18:55.690039Z",
     "iopub.execute_input": "2024-11-24T17:18:55.690837Z",
     "iopub.status.idle": "2024-11-24T17:18:55.701026Z",
     "shell.execute_reply.started": "2024-11-24T17:18:55.690804Z",
     "shell.execute_reply": "2024-11-24T17:18:55.700065Z"
    }
   },
   "outputs": [],
   "execution_count": 1
  },
  {
   "id": "1441261c96e8fc0e",
   "cell_type": "code",
   "source": [
    "import numpy as np\n",
    "import torch\n",
    "from torch.utils.data import Dataset, DataLoader\n",
    "import torch.nn as nn\n",
    "from torch.optim import Adam\n",
    "import torch.nn.functional as F\n",
    "import pandas as pd\n",
    "from sklearn.model_selection import StratifiedKFold\n",
    "from sklearn.preprocessing import LabelEncoder\n",
    "import torch.nn as nn\n",
    "import torch.optim as optim\n",
    "from tqdm import tqdm"
   ],
   "metadata": {
    "collapsed": false,
    "ExecuteTime": {
     "end_time": "2024-11-24T13:21:14.421657Z",
     "start_time": "2024-11-24T13:21:12.764230600Z"
    },
    "trusted": true,
    "execution": {
     "iopub.status.busy": "2024-11-24T17:18:55.709937Z",
     "iopub.execute_input": "2024-11-24T17:18:55.710485Z",
     "iopub.status.idle": "2024-11-24T17:18:59.661997Z",
     "shell.execute_reply.started": "2024-11-24T17:18:55.710455Z",
     "shell.execute_reply": "2024-11-24T17:18:59.661079Z"
    }
   },
   "outputs": [],
   "execution_count": 2
  },
  {
   "id": "55a52c7110e13c7c",
   "cell_type": "code",
   "source": [
    "device = torch.device(\"cuda\" if torch.cuda.is_available() else \"cpu\")\n",
    "\n",
    "torch.manual_seed(42)  \n",
    "torch.cuda.manual_seed_all(42)  \n",
    "np.random.seed(42)  "
   ],
   "metadata": {
    "collapsed": false,
    "ExecuteTime": {
     "end_time": "2024-11-24T13:21:15.057764300Z",
     "start_time": "2024-11-24T13:21:14.423586400Z"
    },
    "trusted": true,
    "execution": {
     "iopub.status.busy": "2024-11-24T17:18:59.663491Z",
     "iopub.execute_input": "2024-11-24T17:18:59.663862Z",
     "iopub.status.idle": "2024-11-24T17:18:59.705689Z",
     "shell.execute_reply.started": "2024-11-24T17:18:59.663835Z",
     "shell.execute_reply": "2024-11-24T17:18:59.704831Z"
    }
   },
   "outputs": [],
   "execution_count": 3
  },
  {
   "id": "458de5e76ceea2d",
   "cell_type": "code",
   "source": [
    "train = pd.read_parquet(f'{orig_data_folder}{train_parquet}', engine='pyarrow')\n",
    "train['like'] = train['like'] + train['dislike'].replace({1: -1})\n",
    "train.drop(columns=['dislike'], inplace=True)\n",
    "train['like'] = train['like'].astype('int8')\n",
    "train.rename(columns={'like' : 'target'}, inplace=True)\n",
    "train['target'] = train['target'].replace({-1:0, 0:1, 1:2})\n",
    "\n",
    "items_meta = pd.read_parquet(f'{orig_data_folder}items_meta.parquet', engine='pyarrow')\n",
    "items_meta['item_id'] = items_meta['item_id'].astype('category')\n",
    "items_meta['source_id'] = items_meta['source_id'].astype('category')\n",
    "items_meta.set_index('item_id', inplace=True)\n",
    "\n",
    "# users_meta\n",
    "users_meta = pd.read_parquet(f'{orig_data_folder}users_meta.parquet', engine='pyarrow')\n",
    "users_meta['user_id'] = users_meta['user_id'].astype('category')\n",
    "users_meta['gender'] = users_meta['gender'].astype('category')\n",
    "users_meta['age'] = users_meta['age'].replace({1:0, 2:1})\n",
    "users_meta.set_index('user_id', inplace=True)\n",
    "\n",
    "# Преобразуем embeddings в словарь\n",
    "item_embeddings_dict = items_meta['embeddings'].to_dict()"
   ],
   "metadata": {
    "collapsed": false,
    "ExecuteTime": {
     "end_time": "2024-11-24T13:21:19.938511800Z",
     "start_time": "2024-11-24T13:21:15.056749300Z"
    },
    "trusted": true,
    "execution": {
     "iopub.status.busy": "2024-11-24T17:18:59.706827Z",
     "iopub.execute_input": "2024-11-24T17:18:59.707113Z",
     "iopub.status.idle": "2024-11-24T17:19:13.887516Z",
     "shell.execute_reply.started": "2024-11-24T17:18:59.707066Z",
     "shell.execute_reply": "2024-11-24T17:19:13.886806Z"
    }
   },
   "outputs": [],
   "execution_count": 4
  },
  {
   "id": "35b0a9883ae2a0eb",
   "cell_type": "code",
   "source": [
    "class EmbeddingLayer(nn.Module):\n",
    "    def __init__(self, num_embeddings, embedding_dim):\n",
    "        super(EmbeddingLayer, self).__init__()\n",
    "        self.embedding = nn.Embedding(num_embeddings, embedding_dim)\n",
    "        \n",
    "    def forward(self, x):\n",
    "        return self.embedding(x)"
   ],
   "metadata": {
    "collapsed": false,
    "ExecuteTime": {
     "end_time": "2024-11-24T13:21:19.954044100Z",
     "start_time": "2024-11-24T13:21:19.940517600Z"
    },
    "trusted": true,
    "execution": {
     "iopub.status.busy": "2024-11-24T17:19:13.889083Z",
     "iopub.execute_input": "2024-11-24T17:19:13.889366Z",
     "iopub.status.idle": "2024-11-24T17:19:13.894037Z",
     "shell.execute_reply.started": "2024-11-24T17:19:13.889340Z",
     "shell.execute_reply": "2024-11-24T17:19:13.893130Z"
    }
   },
   "outputs": [],
   "execution_count": 5
  },
  {
   "id": "814f7ac780f630de",
   "cell_type": "code",
   "source": [
    "def normalize_column(column):\n",
    "    return (column - column.min()) / (column.max() - column.min())"
   ],
   "metadata": {
    "collapsed": false,
    "ExecuteTime": {
     "end_time": "2024-11-24T13:21:19.970038600Z",
     "start_time": "2024-11-24T13:21:19.954044100Z"
    },
    "trusted": true,
    "execution": {
     "iopub.status.busy": "2024-11-24T17:19:13.894853Z",
     "iopub.execute_input": "2024-11-24T17:19:13.895122Z",
     "iopub.status.idle": "2024-11-24T17:19:13.911909Z",
     "shell.execute_reply.started": "2024-11-24T17:19:13.895075Z",
     "shell.execute_reply": "2024-11-24T17:19:13.911133Z"
    }
   },
   "outputs": [],
   "execution_count": 6
  },
  {
   "id": "ba03f4b5eb0ce6b6",
   "cell_type": "code",
   "source": [
    "users_meta['age'] = normalize_column(users_meta['age'])\n",
    "items_meta['duration'] = normalize_column(items_meta['duration'])"
   ],
   "metadata": {
    "collapsed": false,
    "ExecuteTime": {
     "end_time": "2024-11-24T13:21:19.985047500Z",
     "start_time": "2024-11-24T13:21:19.970038600Z"
    },
    "trusted": true,
    "execution": {
     "iopub.status.busy": "2024-11-24T17:19:13.912865Z",
     "iopub.execute_input": "2024-11-24T17:19:13.913190Z",
     "iopub.status.idle": "2024-11-24T17:19:13.927932Z",
     "shell.execute_reply.started": "2024-11-24T17:19:13.913166Z",
     "shell.execute_reply": "2024-11-24T17:19:13.927256Z"
    }
   },
   "outputs": [],
   "execution_count": 7
  },
  {
   "id": "2bf5f1f274146d64",
   "cell_type": "code",
   "source": [
    "num_users = train['user_id'].nunique()\n",
    "num_items = train['item_id'].nunique()\n",
    "num_sources = items_meta['source_id'].nunique()"
   ],
   "metadata": {
    "collapsed": false,
    "ExecuteTime": {
     "end_time": "2024-11-24T13:21:21.195410300Z",
     "start_time": "2024-11-24T13:21:19.985964600Z"
    },
    "trusted": true,
    "execution": {
     "iopub.status.busy": "2024-11-24T17:19:13.928863Z",
     "iopub.execute_input": "2024-11-24T17:19:13.929196Z",
     "iopub.status.idle": "2024-11-24T17:19:15.420183Z",
     "shell.execute_reply.started": "2024-11-24T17:19:13.929159Z",
     "shell.execute_reply": "2024-11-24T17:19:15.419219Z"
    }
   },
   "outputs": [],
   "execution_count": 8
  },
  {
   "id": "4a77daed7aafd591",
   "cell_type": "code",
   "source": [
    "user_embedding = EmbeddingLayer(num_users, 128).to(device)\n",
    "item_embedding = EmbeddingLayer(num_items, 128).to(device)\n",
    "source_embedding = EmbeddingLayer(num_sources, 128).to(device)"
   ],
   "metadata": {
    "collapsed": false,
    "ExecuteTime": {
     "end_time": "2024-11-24T13:21:22.003090800Z",
     "start_time": "2024-11-24T13:21:21.202913300Z"
    },
    "trusted": true,
    "execution": {
     "iopub.status.busy": "2024-11-24T17:19:15.421355Z",
     "iopub.execute_input": "2024-11-24T17:19:15.421637Z",
     "iopub.status.idle": "2024-11-24T17:19:16.406328Z",
     "shell.execute_reply.started": "2024-11-24T17:19:15.421612Z",
     "shell.execute_reply": "2024-11-24T17:19:16.405498Z"
    }
   },
   "outputs": [],
   "execution_count": 9
  },
  {
   "id": "8b936df4ebcd46b7",
   "cell_type": "code",
   "source": [
    "input_dim = (1 + # gender\n",
    "             1 + # age\n",
    "             1 + # duration\n",
    "             user_embedding.embedding.embedding_dim + \n",
    "             item_embedding.embedding.embedding_dim + \n",
    "             source_embedding.embedding.embedding_dim +\n",
    "             32 # embeddings\n",
    "             )"
   ],
   "metadata": {
    "collapsed": false,
    "ExecuteTime": {
     "end_time": "2024-11-24T13:21:22.015997500Z",
     "start_time": "2024-11-24T13:21:22.007046300Z"
    },
    "trusted": true,
    "execution": {
     "iopub.status.busy": "2024-11-24T17:19:16.407520Z",
     "iopub.execute_input": "2024-11-24T17:19:16.407869Z",
     "iopub.status.idle": "2024-11-24T17:19:16.412133Z",
     "shell.execute_reply.started": "2024-11-24T17:19:16.407831Z",
     "shell.execute_reply": "2024-11-24T17:19:16.411319Z"
    }
   },
   "outputs": [],
   "execution_count": 10
  },
  {
   "id": "96fd0016ffc1a505",
   "cell_type": "code",
   "source": [
    "class DCN(nn.Module):\n",
    "    def __init__(self, input_dim, num_cross_layers):\n",
    "        super(DCN, self).__init__()\n",
    "        self.input_dim = input_dim\n",
    "        self.num_cross_layers = num_cross_layers\n",
    "        \n",
    "        # Параметры для слоев пересечения\n",
    "        self.cross_weights = nn.ParameterList(\n",
    "            [nn.Parameter(torch.randn(input_dim, 1)) for _ in range(num_cross_layers)]\n",
    "        )\n",
    "        self.cross_biases = nn.ParameterList(\n",
    "            [nn.Parameter(torch.randn(input_dim)) for _ in range(num_cross_layers)]\n",
    "        )\n",
    "        \n",
    "    def forward(self, x):\n",
    "        # Инициализируем x0\n",
    "        x0 = x\n",
    "        for i in range(self.num_cross_layers):\n",
    "            x = x0 * (x @ self.cross_weights[i]) + self.cross_biases[i] + x\n",
    "        return x\n",
    "\n",
    "class DCNWithMLP(nn.Module):\n",
    "    def __init__(self, input_dim, num_cross_layers=3, hidden_dim=2048, output_dim=3):\n",
    "        super(DCNWithMLP, self).__init__()\n",
    "        \n",
    "        # Нормализация входных данных\n",
    "        self.batch_norm = nn.BatchNorm1d(input_dim)\n",
    "        \n",
    "        # DCN модуль\n",
    "        self.dcn = DCN(input_dim, num_cross_layers)\n",
    "        \n",
    "        # MLP модуль\n",
    "        self.fc1 = nn.Linear(input_dim, hidden_dim)\n",
    "        self.fc2 = nn.Linear(hidden_dim, 2048)\n",
    "        self.fc3 = nn.Linear(2048, 1024)\n",
    "        self.fc4 = nn.Linear(1024, 512)\n",
    "        self.fc5 = nn.Linear(512, 512)\n",
    "        self.fc6 = nn.Linear(512, 256)\n",
    "        self.fc7 = nn.Linear(256, 256)\n",
    "        self.fc8 = nn.Linear(256, 128)\n",
    "        self.fc9 = nn.Linear(128, output_dim)\n",
    "        self.relu = nn.ReLU()\n",
    "    \n",
    "    def forward(self, x):\n",
    "        # Применяем нормализацию входных данных\n",
    "        # x = self.batch_norm(x)\n",
    "        \n",
    "        # Пропускаем через DCN\n",
    "        x = self.dcn(x)\n",
    "        \n",
    "        # Пропускаем через MLP\n",
    "        x = self.relu(self.fc1(x))\n",
    "        x = self.relu(self.fc2(x))\n",
    "        x = self.relu(self.fc3(x))\n",
    "        x = self.relu(self.fc4(x))\n",
    "        x = self.relu(self.fc5(x))\n",
    "        x = self.relu(self.fc6(x))\n",
    "        x = self.relu(self.fc7(x))\n",
    "        x = self.relu(self.fc8(x))\n",
    "        x = self.fc9(x)\n",
    "        return x\n",
    "\n",
    "# Определяем параметры\n",
    "num_cross_layers = NUM_CROSS_LAYERS  # Количество слоев DCN\n",
    "\n",
    "# Создаем модель\n",
    "model = DCNWithMLP(input_dim, num_cross_layers).to(device)"
   ],
   "metadata": {
    "collapsed": false,
    "ExecuteTime": {
     "end_time": "2024-11-24T13:21:22.048996600Z",
     "start_time": "2024-11-24T13:21:22.023043400Z"
    },
    "trusted": true,
    "execution": {
     "iopub.status.busy": "2024-11-24T17:19:16.414425Z",
     "iopub.execute_input": "2024-11-24T17:19:16.414679Z",
     "iopub.status.idle": "2024-11-24T17:19:16.518490Z",
     "shell.execute_reply.started": "2024-11-24T17:19:16.414655Z",
     "shell.execute_reply": "2024-11-24T17:19:16.517586Z"
    }
   },
   "outputs": [],
   "execution_count": 11
  },
  {
   "id": "b2dd93ac83da8e01",
   "cell_type": "code",
   "source": [
    "# Кросс-энтропийная функция потерь для многоклассовой классификации\n",
    "criterion = nn.CrossEntropyLoss()\n",
    "\n",
    "# Оптимизатор\n",
    "optimizer = Adam(list(model.parameters()) +\n",
    "                 list(user_embedding.parameters()) +\n",
    "                 list(item_embedding.parameters()) +\n",
    "                 list(source_embedding.parameters()), lr=LR)"
   ],
   "metadata": {
    "collapsed": false,
    "ExecuteTime": {
     "end_time": "2024-11-24T13:21:22.797616500Z",
     "start_time": "2024-11-24T13:21:22.049997800Z"
    },
    "trusted": true,
    "execution": {
     "iopub.status.busy": "2024-11-24T17:19:16.519519Z",
     "iopub.execute_input": "2024-11-24T17:19:16.519764Z",
     "iopub.status.idle": "2024-11-24T17:19:17.335569Z",
     "shell.execute_reply.started": "2024-11-24T17:19:16.519741Z",
     "shell.execute_reply": "2024-11-24T17:19:17.334903Z"
    }
   },
   "outputs": [],
   "execution_count": 12
  },
  {
   "id": "e77a360c4ee0bd22",
   "cell_type": "code",
   "source": [
    "# Преобразуем embeddings в массив и храним в tensor\n",
    "item_embeddings_array = torch.tensor(\n",
    "    np.stack(items_meta['embeddings'].values), \n",
    "    device=device, \n",
    "    dtype=torch.float32\n",
    ")\n",
    "\n",
    "# Сохраняем индексы для быстрого доступа\n",
    "item_id_to_index = {item: idx for idx, item in enumerate(items_meta.index)}"
   ],
   "metadata": {
    "collapsed": false,
    "ExecuteTime": {
     "end_time": "2024-11-24T13:21:23.031837Z",
     "start_time": "2024-11-24T13:21:22.802658900Z"
    },
    "trusted": true,
    "execution": {
     "iopub.status.busy": "2024-11-24T17:19:17.336482Z",
     "iopub.execute_input": "2024-11-24T17:19:17.336808Z",
     "iopub.status.idle": "2024-11-24T17:19:17.690241Z",
     "shell.execute_reply.started": "2024-11-24T17:19:17.336784Z",
     "shell.execute_reply": "2024-11-24T17:19:17.689522Z"
    }
   },
   "outputs": [],
   "execution_count": 13
  },
  {
   "id": "af6511730b7a7cc8",
   "cell_type": "code",
   "source": [
    "num_samples = len(train)\n",
    "num_batches = (num_samples + BATCH_SIZE - 1) // BATCH_SIZE\n",
    "user_embedding_weights_before = user_embedding.embedding.weight.clone().detach().cpu()\n",
    "\n",
    "for epoch in range(EPOCHS):\n",
    "    running_loss = 0.0  # Накопленный лосс для средней величины\n",
    "    with tqdm(range(num_batches), desc=f\"Epoch {epoch+1}/{EPOCHS}\", unit=\"batch\") as t:\n",
    "        for batch_idx in t:\n",
    "            start_idx = batch_idx * BATCH_SIZE\n",
    "            end_idx = min(start_idx + BATCH_SIZE, num_samples)\n",
    "            \n",
    "            batch = train.iloc[start_idx:end_idx]\n",
    "\n",
    "            batch_user_ids = torch.tensor(batch['user_id'].values, dtype=torch.long, device=device)\n",
    "            batch_item_ids = torch.tensor(batch['item_id'].values, dtype=torch.long, device=device)\n",
    "            batch_source_ids = torch.tensor(items_meta.loc[batch['item_id'].values, 'source_id'].cat.codes.values, dtype=torch.long, device=device)\n",
    "            batch_age_ids = torch.tensor(users_meta.loc[batch['user_id'].values, 'age'].values, dtype=torch.float32, device=device).unsqueeze(1)\n",
    "            batch_duration_ids = torch.tensor(items_meta.loc[batch['item_id'].values, 'duration'].values, dtype=torch.float32, device=device).unsqueeze(1)\n",
    "            batch_gender_ids = torch.tensor(users_meta.loc[batch['user_id'].values, 'gender'].cat.codes.values, dtype=torch.float32, device=device).unsqueeze(1)\n",
    "\n",
    "            user_emb = user_embedding(batch_user_ids)\n",
    "            item_emb = item_embedding(batch_item_ids)\n",
    "            source_emb = source_embedding(batch_source_ids)\n",
    "\n",
    "            item_indices = batch_item_ids.cpu().numpy()\n",
    "            embeddings = torch.tensor(\n",
    "                np.stack(items_meta.loc[item_indices, 'embeddings'].values), \n",
    "                device=device, \n",
    "                dtype=torch.float32\n",
    "            )\n",
    "\n",
    "            inputs = torch.cat((\n",
    "                user_emb,\n",
    "                item_emb,\n",
    "                source_emb,\n",
    "                batch_age_ids,\n",
    "                batch_duration_ids,\n",
    "                batch_gender_ids,\n",
    "                embeddings\n",
    "            ), dim=1).float()\n",
    "\n",
    "            targets = torch.tensor(batch['target'].values, dtype=torch.long, device=device)\n",
    "\n",
    "            optimizer.zero_grad()\n",
    "            outputs = model(inputs)\n",
    "            loss = criterion(outputs, targets)\n",
    "            loss.backward()\n",
    "            optimizer.step()\n",
    "\n",
    "            batch_loss = loss.item()  # Лосс для текущего батча\n",
    "            running_loss += batch_loss  # Накопление общего лосса\n",
    "\n",
    "            # Обновляем tqdm выводом текущего и среднего лосса\n",
    "            t.set_postfix(\n",
    "                batch_loss=f\"{batch_loss:.6f}\",\n",
    "                mean_loss=f\"{running_loss / (batch_idx + 1):.6f}\"\n",
    "            )  \n",
    "\n",
    "    # Средний лосс после эпохи\n",
    "    epoch_loss = running_loss / num_batches\n",
    "    print(f\"Epoch [{epoch+1}/{EPOCHS}], Mean Loss: {epoch_loss:.4f}\")\n",
    "    train = train.sample(frac=1, random_state=42).reset_index(drop=True)"
   ],
   "metadata": {
    "collapsed": false,
    "is_executing": true,
    "ExecuteTime": {
     "start_time": "2024-11-24T13:21:23.041819600Z"
    },
    "trusted": true,
    "execution": {
     "iopub.status.busy": "2024-11-24T17:19:17.691313Z",
     "iopub.execute_input": "2024-11-24T17:19:17.691593Z",
     "iopub.status.idle": "2024-11-24T18:41:14.921176Z",
     "shell.execute_reply.started": "2024-11-24T17:19:17.691567Z",
     "shell.execute_reply": "2024-11-24T18:41:14.920487Z"
    }
   },
   "outputs": [
    {
     "name": "stderr",
     "text": "Epoch 1/3: 100%|██████████| 8891/8891 [26:26<00:00,  5.60batch/s, batch_loss=0.134419, mean_loss=0.139267]\n",
     "output_type": "stream"
    },
    {
     "name": "stdout",
     "text": "Epoch [1/3], Mean Loss: 0.1393\n",
     "output_type": "stream"
    },
    {
     "name": "stderr",
     "text": "Epoch 2/3: 100%|██████████| 8891/8891 [27:12<00:00,  5.45batch/s, batch_loss=0.119968, mean_loss=0.126436]\n",
     "output_type": "stream"
    },
    {
     "name": "stdout",
     "text": "Epoch [2/3], Mean Loss: 0.1264\n",
     "output_type": "stream"
    },
    {
     "name": "stderr",
     "text": "Epoch 3/3: 100%|██████████| 8891/8891 [27:06<00:00,  5.47batch/s, batch_loss=0.122982, mean_loss=0.124521]\n",
     "output_type": "stream"
    },
    {
     "name": "stdout",
     "text": "Epoch [3/3], Mean Loss: 0.1245\n",
     "output_type": "stream"
    }
   ],
   "execution_count": 14
  },
  {
   "id": "1b6c41d2a310b389",
   "cell_type": "code",
   "source": [
    "# Сохраняем обучаемую модель и эмбеддинги\n",
    "state = {\n",
    "    \"model_state_dict\": model.state_dict(),\n",
    "    \"user_embedding_state_dict\": user_embedding.state_dict(),\n",
    "    \"item_embedding_state_dict\": item_embedding.state_dict(),\n",
    "    \"source_embedding_state_dict\": source_embedding.state_dict()\n",
    "}\n",
    "\n",
    "save_path = f'{models_folder}{model_path}'\n",
    "torch.save(state, save_path)\n",
    "print(f\"Модель и эмбеддинги сохранены в {save_path}\")"
   ],
   "metadata": {
    "collapsed": false,
    "is_executing": true,
    "trusted": true,
    "execution": {
     "iopub.status.busy": "2024-11-24T18:41:14.922315Z",
     "iopub.execute_input": "2024-11-24T18:41:14.922590Z",
     "iopub.status.idle": "2024-11-24T18:41:15.537002Z",
     "shell.execute_reply.started": "2024-11-24T18:41:14.922564Z",
     "shell.execute_reply": "2024-11-24T18:41:15.536151Z"
    }
   },
   "outputs": [
    {
     "name": "stdout",
     "text": "Модель и эмбеддинги сохранены в /kaggle/working/3.1.1_DCN_MLP.pth\n",
     "output_type": "stream"
    }
   ],
   "execution_count": 15
  }
 ]
}
