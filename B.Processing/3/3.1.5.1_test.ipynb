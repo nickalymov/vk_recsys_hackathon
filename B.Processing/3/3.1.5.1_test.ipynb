{
 "cells": [
  {
   "cell_type": "code",
   "outputs": [],
   "source": [
    "# Параметры\n",
    "BATCH_SIZE = 16384\n",
    "model_path_1 = 'fold_0_3.1.5.1_MLP.pth'\n",
    "model_path_2 = 'fold_1_3.1.5.1_MLP.pth'\n",
    "model_path_3 = 'fold_2_3.1.5.1_MLP.pth'\n",
    "model_path_4 = 'fold_3_3.1.5.1_MLP.pth'\n",
    "\n",
    "\n",
    "test_csv = 'test_pairs.csv'  # Путь к тестовым данным\n",
    "models_folder = 'C:/Users/Николай/PycharmProjects/VKRecSys/B.Processing/Модели/'\n",
    "custom_data_folder = 'C:/Users/Николай/PycharmProjects/VKRecSys/custom_data/'\n",
    "data_folder = 'C:/Users/Николай/PycharmProjects/VKRecSys/data/'\n",
    "test_output_path = '3.1.5.1_ensemble_predictions.csv' \n",
    "results_folder = 'C:/Users/Николай/PycharmProjects/VKRecSys/C.Results/'\n",
    "orig_data_folder = 'C:/Users/Николай/PycharmProjects/VKRecSys/data/'\n",
    "\n",
    "NUM_CROSS_LAYERS = 1"
   ],
   "metadata": {
    "collapsed": false,
    "ExecuteTime": {
     "end_time": "2024-11-28T04:43:55.051140Z",
     "start_time": "2024-11-28T04:43:55.030140Z"
    }
   },
   "id": "85bb781765998480",
   "execution_count": 1
  },
  {
   "cell_type": "code",
   "outputs": [],
   "source": [
    "import numpy as np\n",
    "import torch\n",
    "import torch.nn.functional as F\n",
    "import pandas as pd\n",
    "from tqdm import tqdm\n",
    "import torch.nn as nn"
   ],
   "metadata": {
    "collapsed": false,
    "ExecuteTime": {
     "end_time": "2024-11-28T04:43:56.906719900Z",
     "start_time": "2024-11-28T04:43:55.051140Z"
    }
   },
   "id": "initial_id",
   "execution_count": 2
  },
  {
   "cell_type": "code",
   "outputs": [],
   "source": [
    "device = torch.device(\"cuda\" if torch.cuda.is_available() else \"cpu\")\n",
    "\n",
    "test = pd.read_csv(f'{orig_data_folder}{test_csv}')"
   ],
   "metadata": {
    "collapsed": false,
    "ExecuteTime": {
     "end_time": "2024-11-28T04:43:58.329531400Z",
     "start_time": "2024-11-28T04:43:56.911679400Z"
    }
   },
   "id": "4bb59b8372f36e7a",
   "execution_count": 3
  },
  {
   "cell_type": "code",
   "outputs": [],
   "source": [
    "items_meta = pd.read_parquet(f'{orig_data_folder}items_meta.parquet', engine='pyarrow')\n",
    "items_meta['item_id'] = items_meta['item_id'].astype('category')\n",
    "items_meta['source_id'] = items_meta['source_id'].astype('category')\n",
    "items_meta.set_index('item_id', inplace=True)\n",
    "\n",
    "users_meta = pd.read_parquet(f'{orig_data_folder}users_meta.parquet', engine='pyarrow')\n",
    "users_meta['user_id'] = users_meta['user_id'].astype('category')\n",
    "users_meta['gender'] = users_meta['gender'].astype('category')\n",
    "users_meta['age'] = users_meta['age'].replace({1: 0, 2: 1})\n",
    "users_meta.set_index('user_id', inplace=True)"
   ],
   "metadata": {
    "collapsed": false,
    "ExecuteTime": {
     "end_time": "2024-11-28T04:43:58.695614400Z",
     "start_time": "2024-11-28T04:43:58.331591300Z"
    }
   },
   "id": "a782ca772e252412",
   "execution_count": 4
  },
  {
   "cell_type": "code",
   "outputs": [],
   "source": [
    "def normalize_column(column):\n",
    "    return (column - column.min()) / (column.max() - column.min())\n",
    "\n",
    "\n",
    "users_meta['age'] = normalize_column(users_meta['age'])\n",
    "items_meta['duration'] = normalize_column(items_meta['duration'])"
   ],
   "metadata": {
    "collapsed": false,
    "ExecuteTime": {
     "end_time": "2024-11-28T04:43:58.710614200Z",
     "start_time": "2024-11-28T04:43:58.699614800Z"
    }
   },
   "id": "1ade055158c8dd85",
   "execution_count": 5
  },
  {
   "cell_type": "code",
   "outputs": [],
   "source": [
    "item_embeddings_dict = items_meta['embeddings'].to_dict()"
   ],
   "metadata": {
    "collapsed": false,
    "ExecuteTime": {
     "end_time": "2024-11-28T04:43:58.824614800Z",
     "start_time": "2024-11-28T04:43:58.713614600Z"
    }
   },
   "id": "e89cecd2726e7216",
   "execution_count": 6
  },
  {
   "cell_type": "code",
   "outputs": [],
   "source": [
    "class MLPModel(nn.Module):\n",
    "    def __init__(self, num_users, num_items, num_sources, input_dim, hidden_dim=2048, output_dim=3):\n",
    "        super(MLPModel, self).__init__()\n",
    "        self.user_embedding = nn.Embedding(num_users, 256)\n",
    "        self.item_embedding = nn.Embedding(num_items, 256)\n",
    "        self.source_embedding = nn.Embedding(num_sources, 256)\n",
    "        \n",
    "        # MLP модуль\n",
    "        self.fc1 = nn.Linear(input_dim, hidden_dim)\n",
    "        self.fc2 = nn.Linear(hidden_dim, 2048)\n",
    "        self.fc3 = nn.Linear(2048, 1024)\n",
    "        self.fc4 = nn.Linear(1024, 512)\n",
    "        self.fc5 = nn.Linear(512, 512)\n",
    "        self.fc6 = nn.Linear(512, 256)\n",
    "        self.fc7 = nn.Linear(256, 256)\n",
    "        self.fc8 = nn.Linear(256, 128)\n",
    "        self.fc9 = nn.Linear(128, output_dim)\n",
    "        self.activation = nn.Softplus()\n",
    "    \n",
    "    def forward(self, user_ids, item_ids, source_ids, age, duration, gender, embeddings):\n",
    "        user_emb = self.user_embedding(user_ids)\n",
    "        item_emb = self.item_embedding(item_ids)\n",
    "        source_emb = self.source_embedding(source_ids)\n",
    "\n",
    "        x = torch.cat((user_emb, item_emb, source_emb, age, duration, gender, embeddings), dim=1)\n",
    "        x = self.activation(self.fc1(x))\n",
    "        x = self.activation(self.fc2(x))\n",
    "        x = self.activation(self.fc3(x))\n",
    "        x = self.activation(self.fc4(x))\n",
    "        x = self.activation(self.fc5(x))\n",
    "        x = self.activation(self.fc6(x))\n",
    "        x = self.activation(self.fc7(x))\n",
    "        x = self.activation(self.fc8(x))\n",
    "        x = self.fc9(x)\n",
    "        return x"
   ],
   "metadata": {
    "collapsed": false,
    "ExecuteTime": {
     "end_time": "2024-11-28T04:43:58.836614100Z",
     "start_time": "2024-11-28T04:43:58.828614Z"
    }
   },
   "id": "2c96d1de0845a0f2",
   "execution_count": 7
  },
  {
   "cell_type": "code",
   "outputs": [],
   "source": [
    "# Размер входных данных\n",
    "num_users = users_meta.index.nunique()\n",
    "num_items = items_meta.index.nunique()\n",
    "num_sources = items_meta['source_id'].nunique()\n",
    "input_dim = 1 + 1 + 1 + 256 + 256 + 256 + 32"
   ],
   "metadata": {
    "collapsed": false,
    "ExecuteTime": {
     "end_time": "2024-11-28T04:43:58.858614300Z",
     "start_time": "2024-11-28T04:43:58.836614100Z"
    }
   },
   "id": "a1a08851792d8010",
   "execution_count": 8
  },
  {
   "cell_type": "code",
   "outputs": [],
   "source": [
    "# Загрузка моделей\n",
    "model_paths = [model_path_1, model_path_2, model_path_3, model_path_4]\n",
    "models = []"
   ],
   "metadata": {
    "collapsed": false,
    "ExecuteTime": {
     "end_time": "2024-11-28T04:43:58.868614100Z",
     "start_time": "2024-11-28T04:43:58.853614700Z"
    }
   },
   "id": "f866bd3a123b9f40",
   "execution_count": 9
  },
  {
   "cell_type": "code",
   "outputs": [
    {
     "name": "stderr",
     "output_type": "stream",
     "text": [
      "C:\\Users\\Николай\\AppData\\Local\\Temp\\ipykernel_6940\\1200015066.py:3: FutureWarning: You are using `torch.load` with `weights_only=False` (the current default value), which uses the default pickle module implicitly. It is possible to construct malicious pickle data which will execute arbitrary code during unpickling (See https://github.com/pytorch/pytorch/blob/main/SECURITY.md#untrusted-models for more details). In a future release, the default value for `weights_only` will be flipped to `True`. This limits the functions that could be executed during unpickling. Arbitrary objects will no longer be allowed to be loaded via this mode unless they are explicitly allowlisted by the user via `torch.serialization.add_safe_globals`. We recommend you start setting `weights_only=True` for any use case where you don't have full control of the loaded file. Please open an issue on GitHub for any issues related to this experimental feature.\n",
      "  model.load_state_dict(torch.load(f\"{models_folder}{path}\")[\"model_state_dict\"])\n"
     ]
    }
   ],
   "source": [
    "for path in model_paths:\n",
    "    model = MLPModel(num_users, num_items, num_sources, input_dim).to(device)\n",
    "    model.load_state_dict(torch.load(f\"{models_folder}{path}\")[\"model_state_dict\"])\n",
    "    model.eval()\n",
    "    models.append(model)"
   ],
   "metadata": {
    "collapsed": false,
    "ExecuteTime": {
     "end_time": "2024-11-28T04:44:03.923035800Z",
     "start_time": "2024-11-28T04:43:58.869614600Z"
    }
   },
   "id": "749061c6fb1cabc1",
   "execution_count": 10
  },
  {
   "cell_type": "code",
   "outputs": [],
   "source": [
    "# Оценивание каждой модели и усреднение результатов\n",
    "model_paths = [model_path_1, model_path_2, model_path_3, model_path_4]\n",
    "all_predictions = []"
   ],
   "metadata": {
    "collapsed": false,
    "ExecuteTime": {
     "end_time": "2024-11-28T04:44:03.941482600Z",
     "start_time": "2024-11-28T04:44:03.931739800Z"
    }
   },
   "id": "f18c6983f5e8521f",
   "execution_count": 11
  },
  {
   "cell_type": "code",
   "outputs": [
    {
     "name": "stdout",
     "output_type": "stream",
     "text": [
      "Загрузка модели: fold_0_3.1.5.1_MLP.pth\n"
     ]
    },
    {
     "name": "stderr",
     "output_type": "stream",
     "text": [
      "C:\\Users\\Николай\\AppData\\Local\\Temp\\ipykernel_6940\\3988325811.py:4: FutureWarning: You are using `torch.load` with `weights_only=False` (the current default value), which uses the default pickle module implicitly. It is possible to construct malicious pickle data which will execute arbitrary code during unpickling (See https://github.com/pytorch/pytorch/blob/main/SECURITY.md#untrusted-models for more details). In a future release, the default value for `weights_only` will be flipped to `True`. This limits the functions that could be executed during unpickling. Arbitrary objects will no longer be allowed to be loaded via this mode unless they are explicitly allowlisted by the user via `torch.serialization.add_safe_globals`. We recommend you start setting `weights_only=True` for any use case where you don't have full control of the loaded file. Please open an issue on GitHub for any issues related to this experimental feature.\n",
      "  model.load_state_dict(torch.load(f\"{models_folder}{model_path}\")[\"model_state_dict\"])\n",
      "Оценивание fold_0_3.1.5.1_MLP.pth: 100%|██████████| 102/102 [00:22<00:00,  4.63it/s]\n"
     ]
    },
    {
     "name": "stdout",
     "output_type": "stream",
     "text": [
      "Загрузка модели: fold_1_3.1.5.1_MLP.pth\n"
     ]
    },
    {
     "name": "stderr",
     "output_type": "stream",
     "text": [
      "C:\\Users\\Николай\\AppData\\Local\\Temp\\ipykernel_6940\\3988325811.py:4: FutureWarning: You are using `torch.load` with `weights_only=False` (the current default value), which uses the default pickle module implicitly. It is possible to construct malicious pickle data which will execute arbitrary code during unpickling (See https://github.com/pytorch/pytorch/blob/main/SECURITY.md#untrusted-models for more details). In a future release, the default value for `weights_only` will be flipped to `True`. This limits the functions that could be executed during unpickling. Arbitrary objects will no longer be allowed to be loaded via this mode unless they are explicitly allowlisted by the user via `torch.serialization.add_safe_globals`. We recommend you start setting `weights_only=True` for any use case where you don't have full control of the loaded file. Please open an issue on GitHub for any issues related to this experimental feature.\n",
      "  model.load_state_dict(torch.load(f\"{models_folder}{model_path}\")[\"model_state_dict\"])\n",
      "Оценивание fold_1_3.1.5.1_MLP.pth: 100%|██████████| 102/102 [00:28<00:00,  3.52it/s]\n"
     ]
    },
    {
     "name": "stdout",
     "output_type": "stream",
     "text": [
      "Загрузка модели: fold_2_3.1.5.1_MLP.pth\n"
     ]
    },
    {
     "name": "stderr",
     "output_type": "stream",
     "text": [
      "C:\\Users\\Николай\\AppData\\Local\\Temp\\ipykernel_6940\\3988325811.py:4: FutureWarning: You are using `torch.load` with `weights_only=False` (the current default value), which uses the default pickle module implicitly. It is possible to construct malicious pickle data which will execute arbitrary code during unpickling (See https://github.com/pytorch/pytorch/blob/main/SECURITY.md#untrusted-models for more details). In a future release, the default value for `weights_only` will be flipped to `True`. This limits the functions that could be executed during unpickling. Arbitrary objects will no longer be allowed to be loaded via this mode unless they are explicitly allowlisted by the user via `torch.serialization.add_safe_globals`. We recommend you start setting `weights_only=True` for any use case where you don't have full control of the loaded file. Please open an issue on GitHub for any issues related to this experimental feature.\n",
      "  model.load_state_dict(torch.load(f\"{models_folder}{model_path}\")[\"model_state_dict\"])\n",
      "Оценивание fold_2_3.1.5.1_MLP.pth: 100%|██████████| 102/102 [00:24<00:00,  4.17it/s]\n"
     ]
    },
    {
     "name": "stdout",
     "output_type": "stream",
     "text": [
      "Загрузка модели: fold_3_3.1.5.1_MLP.pth\n"
     ]
    },
    {
     "name": "stderr",
     "output_type": "stream",
     "text": [
      "C:\\Users\\Николай\\AppData\\Local\\Temp\\ipykernel_6940\\3988325811.py:4: FutureWarning: You are using `torch.load` with `weights_only=False` (the current default value), which uses the default pickle module implicitly. It is possible to construct malicious pickle data which will execute arbitrary code during unpickling (See https://github.com/pytorch/pytorch/blob/main/SECURITY.md#untrusted-models for more details). In a future release, the default value for `weights_only` will be flipped to `True`. This limits the functions that could be executed during unpickling. Arbitrary objects will no longer be allowed to be loaded via this mode unless they are explicitly allowlisted by the user via `torch.serialization.add_safe_globals`. We recommend you start setting `weights_only=True` for any use case where you don't have full control of the loaded file. Please open an issue on GitHub for any issues related to this experimental feature.\n",
      "  model.load_state_dict(torch.load(f\"{models_folder}{model_path}\")[\"model_state_dict\"])\n",
      "Оценивание fold_3_3.1.5.1_MLP.pth: 100%|██████████| 102/102 [00:28<00:00,  3.63it/s]\n"
     ]
    }
   ],
   "source": [
    "for model_path in model_paths:\n",
    "    print(f\"Загрузка модели: {model_path}\")\n",
    "    model = MLPModel(num_users, num_items, num_sources, input_dim).to(device)\n",
    "    model.load_state_dict(torch.load(f\"{models_folder}{model_path}\")[\"model_state_dict\"])\n",
    "    model.eval()\n",
    "    \n",
    "    predictions = []\n",
    "    num_samples = len(test)\n",
    "    num_batches = (num_samples + BATCH_SIZE - 1) // BATCH_SIZE\n",
    "    \n",
    "    with torch.no_grad():\n",
    "        for batch_idx in tqdm(range(num_batches), desc=f\"Оценивание {model_path}\"):\n",
    "            start_idx = batch_idx * BATCH_SIZE\n",
    "            end_idx = min(start_idx + BATCH_SIZE, num_samples)\n",
    "            batch = test.iloc[start_idx:end_idx]\n",
    "\n",
    "            batch_user_ids = torch.tensor(batch['user_id'].values, dtype=torch.long, device=device)\n",
    "            batch_item_ids = torch.tensor(batch['item_id'].values, dtype=torch.long, device=device)\n",
    "            batch_source_ids = torch.tensor(items_meta.loc[batch['item_id'].values, 'source_id'].cat.codes.values, dtype=torch.long, device=device)\n",
    "            batch_age = torch.tensor(users_meta.loc[batch['user_id'].values, 'age'].values, dtype=torch.float32, device=device).unsqueeze(1)\n",
    "            batch_duration = torch.tensor(items_meta.loc[batch['item_id'].values, 'duration'].values, dtype=torch.float32, device=device).unsqueeze(1)\n",
    "            batch_gender = torch.tensor(users_meta.loc[batch['user_id'].values, 'gender'].cat.codes.values, dtype=torch.float32, device=device).unsqueeze(1)\n",
    "\n",
    "            item_indices = batch_item_ids.cpu().numpy()\n",
    "            embeddings = torch.tensor(np.stack(items_meta.loc[item_indices, 'embeddings'].values), device=device, dtype=torch.float32)\n",
    "\n",
    "            outputs = model(batch_user_ids, batch_item_ids, batch_source_ids, batch_age, batch_duration, batch_gender, embeddings)\n",
    "            probabilities = F.softmax(outputs, dim=1)\n",
    "\n",
    "            # Взвешенные предсказания\n",
    "            class_weights = torch.tensor([0, 1, 2], device=probabilities.device, dtype=probabilities.dtype)\n",
    "            weighted_predictions = torch.sum(probabilities * class_weights, dim=1).cpu().numpy()\n",
    "\n",
    "            predictions.extend(weighted_predictions)\n",
    "    \n",
    "    all_predictions.append(predictions)\n",
    "    del model\n",
    "    torch.cuda.empty_cache()\n",
    "\n",
    "# Усреднение предсказаний\n",
    "ensemble_predictions = np.mean(all_predictions, axis=0)"
   ],
   "metadata": {
    "collapsed": false,
    "ExecuteTime": {
     "end_time": "2024-11-28T04:45:53.260642600Z",
     "start_time": "2024-11-28T04:44:03.943504700Z"
    }
   },
   "id": "ca25e6733a34f86c",
   "execution_count": 12
  },
  {
   "cell_type": "code",
   "outputs": [
    {
     "name": "stdout",
     "output_type": "stream",
     "text": [
      "Результаты сохранены в C:/Users/Николай/PycharmProjects/VKRecSys/C.Results/3.1.5.1_ensemble_predictions.csv\n"
     ]
    }
   ],
   "source": [
    "# Сохранение результатов\n",
    "test['predict'] = ensemble_predictions\n",
    "output_path = f\"{results_folder}{test_output_path}\"\n",
    "test[['user_id', 'item_id', 'predict']].to_csv(output_path, index=False)\n",
    "print(f\"Результаты сохранены в {output_path}\")"
   ],
   "metadata": {
    "collapsed": false,
    "ExecuteTime": {
     "end_time": "2024-11-28T04:45:55.701776700Z",
     "start_time": "2024-11-28T04:45:53.260642600Z"
    }
   },
   "id": "419a2708db762296",
   "execution_count": 13
  }
 ],
 "metadata": {
  "kernelspec": {
   "display_name": "Python 3",
   "language": "python",
   "name": "python3"
  },
  "language_info": {
   "codemirror_mode": {
    "name": "ipython",
    "version": 2
   },
   "file_extension": ".py",
   "mimetype": "text/x-python",
   "name": "python",
   "nbconvert_exporter": "python",
   "pygments_lexer": "ipython2",
   "version": "2.7.6"
  }
 },
 "nbformat": 4,
 "nbformat_minor": 5
}
