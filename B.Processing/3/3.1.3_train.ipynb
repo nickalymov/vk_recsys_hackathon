{
 "cells": [
  {
   "cell_type": "code",
   "execution_count": 1,
   "id": "35f6cd80",
   "metadata": {
    "ExecuteTime": {
     "end_time": "2024-11-24T13:21:12.773245700Z",
     "start_time": "2024-11-24T13:21:12.758230300Z"
    },
    "execution": {
     "iopub.execute_input": "2024-11-25T04:46:17.440657Z",
     "iopub.status.busy": "2024-11-25T04:46:17.440305Z",
     "iopub.status.idle": "2024-11-25T04:46:17.448525Z",
     "shell.execute_reply": "2024-11-25T04:46:17.447688Z"
    },
    "papermill": {
     "duration": 0.016011,
     "end_time": "2024-11-25T04:46:17.450296",
     "exception": false,
     "start_time": "2024-11-25T04:46:17.434285",
     "status": "completed"
    },
    "tags": []
   },
   "outputs": [],
   "source": [
    "# paths\n",
    "train_parquet = 'train_interactions.parquet'\n",
    "models_folder = '/kaggle/working/'\n",
    "model_path = '3.1.3_DCN_MLP.pth'\n",
    "custom_data_folder = 'C:/Users/Николай/PycharmProjects/VKRecSys/custom_data/'\n",
    "orig_data_folder = '/kaggle/input/vkrecsys/'\n",
    "\n",
    "# model params\n",
    "BATCH_SIZE = 16384\n",
    "NUM_CROSS_LAYERS = 1\n",
    "LR = 0.001\n",
    "EPOCHS = 3"
   ]
  },
  {
   "cell_type": "code",
   "execution_count": 2,
   "id": "f9ee4882",
   "metadata": {
    "ExecuteTime": {
     "end_time": "2024-11-24T13:21:14.421657Z",
     "start_time": "2024-11-24T13:21:12.764230600Z"
    },
    "collapsed": false,
    "execution": {
     "iopub.execute_input": "2024-11-25T04:46:17.459651Z",
     "iopub.status.busy": "2024-11-25T04:46:17.459331Z",
     "iopub.status.idle": "2024-11-25T04:46:22.363731Z",
     "shell.execute_reply": "2024-11-25T04:46:22.362971Z"
    },
    "papermill": {
     "duration": 4.91114,
     "end_time": "2024-11-25T04:46:22.365894",
     "exception": false,
     "start_time": "2024-11-25T04:46:17.454754",
     "status": "completed"
    },
    "tags": []
   },
   "outputs": [],
   "source": [
    "import numpy as np\n",
    "import torch\n",
    "from torch.utils.data import Dataset, DataLoader\n",
    "import torch.nn as nn\n",
    "from torch.optim import Adam\n",
    "import torch.nn.functional as F\n",
    "import pandas as pd\n",
    "from sklearn.model_selection import StratifiedKFold\n",
    "from sklearn.preprocessing import LabelEncoder\n",
    "import torch.nn as nn\n",
    "import torch.optim as optim\n",
    "from tqdm import tqdm"
   ]
  },
  {
   "cell_type": "code",
   "execution_count": 3,
   "id": "6cf61865",
   "metadata": {
    "ExecuteTime": {
     "end_time": "2024-11-24T13:21:15.057764300Z",
     "start_time": "2024-11-24T13:21:14.423586400Z"
    },
    "collapsed": false,
    "execution": {
     "iopub.execute_input": "2024-11-25T04:46:22.376480Z",
     "iopub.status.busy": "2024-11-25T04:46:22.375606Z",
     "iopub.status.idle": "2024-11-25T04:46:22.445552Z",
     "shell.execute_reply": "2024-11-25T04:46:22.444304Z"
    },
    "papermill": {
     "duration": 0.077688,
     "end_time": "2024-11-25T04:46:22.448120",
     "exception": false,
     "start_time": "2024-11-25T04:46:22.370432",
     "status": "completed"
    },
    "tags": []
   },
   "outputs": [],
   "source": [
    "device = torch.device(\"cuda\" if torch.cuda.is_available() else \"cpu\")\n",
    "\n",
    "torch.manual_seed(42)  \n",
    "torch.cuda.manual_seed_all(42)  \n",
    "np.random.seed(42)  "
   ]
  },
  {
   "cell_type": "code",
   "execution_count": 4,
   "id": "3dfa6723",
   "metadata": {
    "ExecuteTime": {
     "end_time": "2024-11-24T13:21:19.938511800Z",
     "start_time": "2024-11-24T13:21:15.056749300Z"
    },
    "collapsed": false,
    "execution": {
     "iopub.execute_input": "2024-11-25T04:46:22.463105Z",
     "iopub.status.busy": "2024-11-25T04:46:22.462120Z",
     "iopub.status.idle": "2024-11-25T04:46:36.958670Z",
     "shell.execute_reply": "2024-11-25T04:46:36.957928Z"
    },
    "papermill": {
     "duration": 14.504329,
     "end_time": "2024-11-25T04:46:36.960715",
     "exception": false,
     "start_time": "2024-11-25T04:46:22.456386",
     "status": "completed"
    },
    "tags": []
   },
   "outputs": [],
   "source": [
    "train = pd.read_parquet(f'{orig_data_folder}{train_parquet}', engine='pyarrow')\n",
    "train['like'] = train['like'] + train['dislike'].replace({1: -1})\n",
    "train.drop(columns=['dislike'], inplace=True)\n",
    "train['like'] = train['like'].astype('int8')\n",
    "train.rename(columns={'like' : 'target'}, inplace=True)\n",
    "train['target'] = train['target'].replace({-1:0, 0:1, 1:2})\n",
    "\n",
    "items_meta = pd.read_parquet(f'{orig_data_folder}items_meta.parquet', engine='pyarrow')\n",
    "items_meta['item_id'] = items_meta['item_id'].astype('category')\n",
    "items_meta['source_id'] = items_meta['source_id'].astype('category')\n",
    "items_meta.set_index('item_id', inplace=True)\n",
    "\n",
    "# users_meta\n",
    "users_meta = pd.read_parquet(f'{orig_data_folder}users_meta.parquet', engine='pyarrow')\n",
    "users_meta['user_id'] = users_meta['user_id'].astype('category')\n",
    "users_meta['gender'] = users_meta['gender'].astype('category')\n",
    "users_meta['age'] = users_meta['age'].replace({1:0, 2:1})\n",
    "users_meta.set_index('user_id', inplace=True)"
   ]
  },
  {
   "cell_type": "code",
   "execution_count": 5,
   "id": "4416ba47",
   "metadata": {
    "ExecuteTime": {
     "end_time": "2024-11-24T13:21:19.954044100Z",
     "start_time": "2024-11-24T13:21:19.940517600Z"
    },
    "collapsed": false,
    "execution": {
     "iopub.execute_input": "2024-11-25T04:46:36.969683Z",
     "iopub.status.busy": "2024-11-25T04:46:36.969062Z",
     "iopub.status.idle": "2024-11-25T04:46:36.973614Z",
     "shell.execute_reply": "2024-11-25T04:46:36.972917Z"
    },
    "papermill": {
     "duration": 0.010857,
     "end_time": "2024-11-25T04:46:36.975325",
     "exception": false,
     "start_time": "2024-11-25T04:46:36.964468",
     "status": "completed"
    },
    "tags": []
   },
   "outputs": [],
   "source": [
    "class EmbeddingLayer(nn.Module):\n",
    "    def __init__(self, num_embeddings, embedding_dim):\n",
    "        super(EmbeddingLayer, self).__init__()\n",
    "        self.embedding = nn.Embedding(num_embeddings, embedding_dim)\n",
    "        \n",
    "    def forward(self, x):\n",
    "        return self.embedding(x)"
   ]
  },
  {
   "cell_type": "code",
   "execution_count": 6,
   "id": "c24430ed",
   "metadata": {
    "ExecuteTime": {
     "end_time": "2024-11-24T13:21:19.970038600Z",
     "start_time": "2024-11-24T13:21:19.954044100Z"
    },
    "collapsed": false,
    "execution": {
     "iopub.execute_input": "2024-11-25T04:46:36.983855Z",
     "iopub.status.busy": "2024-11-25T04:46:36.983176Z",
     "iopub.status.idle": "2024-11-25T04:46:36.986987Z",
     "shell.execute_reply": "2024-11-25T04:46:36.986337Z"
    },
    "papermill": {
     "duration": 0.009642,
     "end_time": "2024-11-25T04:46:36.988606",
     "exception": false,
     "start_time": "2024-11-25T04:46:36.978964",
     "status": "completed"
    },
    "tags": []
   },
   "outputs": [],
   "source": [
    "def normalize_column(column):\n",
    "    return (column - column.min()) / (column.max() - column.min())"
   ]
  },
  {
   "cell_type": "code",
   "execution_count": 7,
   "id": "d9f357c8",
   "metadata": {
    "ExecuteTime": {
     "end_time": "2024-11-24T13:21:19.985047500Z",
     "start_time": "2024-11-24T13:21:19.970038600Z"
    },
    "collapsed": false,
    "execution": {
     "iopub.execute_input": "2024-11-25T04:46:36.996867Z",
     "iopub.status.busy": "2024-11-25T04:46:36.996616Z",
     "iopub.status.idle": "2024-11-25T04:46:37.004350Z",
     "shell.execute_reply": "2024-11-25T04:46:37.003408Z"
    },
    "papermill": {
     "duration": 0.013837,
     "end_time": "2024-11-25T04:46:37.006185",
     "exception": false,
     "start_time": "2024-11-25T04:46:36.992348",
     "status": "completed"
    },
    "tags": []
   },
   "outputs": [],
   "source": [
    "users_meta['age'] = normalize_column(users_meta['age'])\n",
    "items_meta['duration'] = normalize_column(items_meta['duration'])"
   ]
  },
  {
   "cell_type": "code",
   "execution_count": 8,
   "id": "58ef7bca",
   "metadata": {
    "ExecuteTime": {
     "end_time": "2024-11-24T13:21:21.195410300Z",
     "start_time": "2024-11-24T13:21:19.985964600Z"
    },
    "collapsed": false,
    "execution": {
     "iopub.execute_input": "2024-11-25T04:46:37.014782Z",
     "iopub.status.busy": "2024-11-25T04:46:37.014202Z",
     "iopub.status.idle": "2024-11-25T04:46:38.556885Z",
     "shell.execute_reply": "2024-11-25T04:46:38.556091Z"
    },
    "papermill": {
     "duration": 1.549084,
     "end_time": "2024-11-25T04:46:38.558952",
     "exception": false,
     "start_time": "2024-11-25T04:46:37.009868",
     "status": "completed"
    },
    "tags": []
   },
   "outputs": [],
   "source": [
    "num_users = train['user_id'].nunique()\n",
    "num_items = train['item_id'].nunique()\n",
    "num_sources = items_meta['source_id'].nunique()"
   ]
  },
  {
   "cell_type": "code",
   "execution_count": 9,
   "id": "470571c0",
   "metadata": {
    "ExecuteTime": {
     "end_time": "2024-11-24T13:21:22.003090800Z",
     "start_time": "2024-11-24T13:21:21.202913300Z"
    },
    "collapsed": false,
    "execution": {
     "iopub.execute_input": "2024-11-25T04:46:38.567300Z",
     "iopub.status.busy": "2024-11-25T04:46:38.566992Z",
     "iopub.status.idle": "2024-11-25T04:46:40.327981Z",
     "shell.execute_reply": "2024-11-25T04:46:40.327261Z"
    },
    "papermill": {
     "duration": 1.767279,
     "end_time": "2024-11-25T04:46:40.330024",
     "exception": false,
     "start_time": "2024-11-25T04:46:38.562745",
     "status": "completed"
    },
    "tags": []
   },
   "outputs": [],
   "source": [
    "user_embedding = EmbeddingLayer(num_users, 256).to(device)\n",
    "item_embedding = EmbeddingLayer(num_items, 256).to(device)\n",
    "source_embedding = EmbeddingLayer(num_sources, 256).to(device)"
   ]
  },
  {
   "cell_type": "code",
   "execution_count": 10,
   "id": "0655459d",
   "metadata": {
    "ExecuteTime": {
     "end_time": "2024-11-24T13:21:22.015997500Z",
     "start_time": "2024-11-24T13:21:22.007046300Z"
    },
    "collapsed": false,
    "execution": {
     "iopub.execute_input": "2024-11-25T04:46:40.338807Z",
     "iopub.status.busy": "2024-11-25T04:46:40.338514Z",
     "iopub.status.idle": "2024-11-25T04:46:40.342533Z",
     "shell.execute_reply": "2024-11-25T04:46:40.341740Z"
    },
    "papermill": {
     "duration": 0.010217,
     "end_time": "2024-11-25T04:46:40.344145",
     "exception": false,
     "start_time": "2024-11-25T04:46:40.333928",
     "status": "completed"
    },
    "tags": []
   },
   "outputs": [],
   "source": [
    "input_dim = (1 + # gender\n",
    "             1 + # age\n",
    "             1 + # duration\n",
    "             user_embedding.embedding.embedding_dim + \n",
    "             item_embedding.embedding.embedding_dim + \n",
    "             source_embedding.embedding.embedding_dim +\n",
    "             32 # embeddings\n",
    "             )"
   ]
  },
  {
   "cell_type": "code",
   "execution_count": 11,
   "id": "b8381bb7",
   "metadata": {
    "ExecuteTime": {
     "end_time": "2024-11-24T13:21:22.048996600Z",
     "start_time": "2024-11-24T13:21:22.023043400Z"
    },
    "collapsed": false,
    "execution": {
     "iopub.execute_input": "2024-11-25T04:46:40.352509Z",
     "iopub.status.busy": "2024-11-25T04:46:40.351944Z",
     "iopub.status.idle": "2024-11-25T04:46:40.455316Z",
     "shell.execute_reply": "2024-11-25T04:46:40.454566Z"
    },
    "papermill": {
     "duration": 0.109637,
     "end_time": "2024-11-25T04:46:40.457385",
     "exception": false,
     "start_time": "2024-11-25T04:46:40.347748",
     "status": "completed"
    },
    "tags": []
   },
   "outputs": [],
   "source": [
    "class DCN(nn.Module):\n",
    "    def __init__(self, input_dim, num_cross_layers):\n",
    "        super(DCN, self).__init__()\n",
    "        self.input_dim = input_dim\n",
    "        self.num_cross_layers = num_cross_layers\n",
    "        \n",
    "        # Параметры для слоев пересечения\n",
    "        self.cross_weights = nn.ParameterList(\n",
    "            [nn.Parameter(torch.randn(input_dim, 1)) for _ in range(num_cross_layers)]\n",
    "        )\n",
    "        self.cross_biases = nn.ParameterList(\n",
    "            [nn.Parameter(torch.randn(input_dim)) for _ in range(num_cross_layers)]\n",
    "        )\n",
    "        \n",
    "    def forward(self, x):\n",
    "        # Инициализируем x0\n",
    "        x0 = x\n",
    "        for i in range(self.num_cross_layers):\n",
    "            x = x0 * (x @ self.cross_weights[i]) + self.cross_biases[i] + x\n",
    "        return x\n",
    "\n",
    "class DCNWithMLP(nn.Module):\n",
    "    def __init__(self, input_dim, num_cross_layers=3, hidden_dim=2048, output_dim=3):\n",
    "        super(DCNWithMLP, self).__init__()\n",
    "        \n",
    "        # Нормализация входных данных\n",
    "        self.batch_norm = nn.BatchNorm1d(input_dim)\n",
    "        \n",
    "        # DCN модуль\n",
    "        self.dcn = DCN(input_dim, num_cross_layers)\n",
    "        \n",
    "        # MLP модуль\n",
    "        self.fc1 = nn.Linear(input_dim, hidden_dim)\n",
    "        self.fc2 = nn.Linear(hidden_dim, 2048)\n",
    "        self.fc3 = nn.Linear(2048, 1024)\n",
    "        self.fc4 = nn.Linear(1024, 512)\n",
    "        self.fc5 = nn.Linear(512, 512)\n",
    "        self.fc6 = nn.Linear(512, 256)\n",
    "        self.fc7 = nn.Linear(256, 256)\n",
    "        self.fc8 = nn.Linear(256, 128)\n",
    "        self.fc9 = nn.Linear(128, output_dim)\n",
    "        self.softplus = nn.Softplus()\n",
    "    \n",
    "    def forward(self, x):\n",
    "        # Применяем нормализацию входных данных\n",
    "        # x = self.batch_norm(x)\n",
    "        \n",
    "        # Пропускаем через DCN\n",
    "        # x = self.dcn(x)\n",
    "        \n",
    "        # Пропускаем через MLP\n",
    "        x = self.softplus(self.fc1(x))\n",
    "        x = self.softplus(self.fc2(x))\n",
    "        x = self.softplus(self.fc3(x))\n",
    "        x = self.softplus(self.fc4(x))\n",
    "        x = self.softplus(self.fc5(x))\n",
    "        x = self.softplus(self.fc6(x))\n",
    "        x = self.softplus(self.fc7(x))\n",
    "        x = self.softplus(self.fc8(x))\n",
    "        x = self.fc9(x)\n",
    "        return x\n",
    "\n",
    "# Определяем параметры\n",
    "num_cross_layers = NUM_CROSS_LAYERS  # Количество слоев DCN\n",
    "\n",
    "# Создаем модель\n",
    "model = DCNWithMLP(input_dim, num_cross_layers).to(device)"
   ]
  },
  {
   "cell_type": "code",
   "execution_count": 12,
   "id": "ae46951b",
   "metadata": {
    "ExecuteTime": {
     "end_time": "2024-11-24T13:21:22.797616500Z",
     "start_time": "2024-11-24T13:21:22.049997800Z"
    },
    "collapsed": false,
    "execution": {
     "iopub.execute_input": "2024-11-25T04:46:40.465946Z",
     "iopub.status.busy": "2024-11-25T04:46:40.465691Z",
     "iopub.status.idle": "2024-11-25T04:46:41.656166Z",
     "shell.execute_reply": "2024-11-25T04:46:41.655167Z"
    },
    "papermill": {
     "duration": 1.197018,
     "end_time": "2024-11-25T04:46:41.658294",
     "exception": false,
     "start_time": "2024-11-25T04:46:40.461276",
     "status": "completed"
    },
    "tags": []
   },
   "outputs": [],
   "source": [
    "# Кросс-энтропийная функция потерь для многоклассовой классификации\n",
    "criterion = nn.CrossEntropyLoss()\n",
    "\n",
    "# Оптимизатор\n",
    "optimizer = Adam(list(model.parameters()) +\n",
    "                 list(user_embedding.parameters()) +\n",
    "                 list(item_embedding.parameters()) +\n",
    "                 list(source_embedding.parameters()), lr=LR)"
   ]
  },
  {
   "cell_type": "code",
   "execution_count": 13,
   "id": "1f380f4f",
   "metadata": {
    "ExecuteTime": {
     "end_time": "2024-11-24T13:21:23.031837Z",
     "start_time": "2024-11-24T13:21:22.802658900Z"
    },
    "collapsed": false,
    "execution": {
     "iopub.execute_input": "2024-11-25T04:46:41.667203Z",
     "iopub.status.busy": "2024-11-25T04:46:41.666754Z",
     "iopub.status.idle": "2024-11-25T04:46:42.029401Z",
     "shell.execute_reply": "2024-11-25T04:46:42.028660Z"
    },
    "papermill": {
     "duration": 0.36947,
     "end_time": "2024-11-25T04:46:42.031697",
     "exception": false,
     "start_time": "2024-11-25T04:46:41.662227",
     "status": "completed"
    },
    "tags": []
   },
   "outputs": [],
   "source": [
    "# Преобразуем embeddings в массив и храним в tensor\n",
    "item_embeddings_array = torch.tensor(\n",
    "    np.stack(items_meta['embeddings'].values), \n",
    "    device=device, \n",
    "    dtype=torch.float32\n",
    ")\n",
    "\n",
    "# Сохраняем индексы для быстрого доступа\n",
    "item_id_to_index = {item: idx for idx, item in enumerate(items_meta.index)}"
   ]
  },
  {
   "cell_type": "code",
   "execution_count": 14,
   "id": "b5312a03",
   "metadata": {
    "ExecuteTime": {
     "start_time": "2024-11-24T13:21:23.041819600Z"
    },
    "collapsed": false,
    "execution": {
     "iopub.execute_input": "2024-11-25T04:46:42.041350Z",
     "iopub.status.busy": "2024-11-25T04:46:42.041026Z",
     "iopub.status.idle": "2024-11-25T06:17:05.276364Z",
     "shell.execute_reply": "2024-11-25T06:17:05.275182Z"
    },
    "is_executing": true,
    "papermill": {
     "duration": 5423.242956,
     "end_time": "2024-11-25T06:17:05.279089",
     "exception": false,
     "start_time": "2024-11-25T04:46:42.036133",
     "status": "completed"
    },
    "tags": []
   },
   "outputs": [
    {
     "name": "stderr",
     "output_type": "stream",
     "text": [
      "Epoch 1/3: 100%|██████████| 8891/8891 [30:19<00:00,  4.89batch/s, batch_loss=0.130457, mean_loss=0.133235]\n"
     ]
    },
    {
     "name": "stdout",
     "output_type": "stream",
     "text": [
      "Epoch [1/3], Mean Loss: 0.1332\n"
     ]
    },
    {
     "name": "stderr",
     "output_type": "stream",
     "text": [
      "Epoch 2/3: 100%|██████████| 8891/8891 [30:21<00:00,  4.88batch/s, batch_loss=0.129136, mean_loss=0.125161]\n"
     ]
    },
    {
     "name": "stdout",
     "output_type": "stream",
     "text": [
      "Epoch [2/3], Mean Loss: 0.1252\n"
     ]
    },
    {
     "name": "stderr",
     "output_type": "stream",
     "text": [
      "Epoch 3/3: 100%|██████████| 8891/8891 [29:42<00:00,  4.99batch/s, batch_loss=0.127979, mean_loss=0.123919]"
     ]
    },
    {
     "name": "stdout",
     "output_type": "stream",
     "text": [
      "Epoch [3/3], Mean Loss: 0.1239\n"
     ]
    },
    {
     "name": "stderr",
     "output_type": "stream",
     "text": [
      "\n"
     ]
    }
   ],
   "source": [
    "num_samples = len(train)\n",
    "num_batches = (num_samples + BATCH_SIZE - 1) // BATCH_SIZE\n",
    "user_embedding_weights_before = user_embedding.embedding.weight.clone().detach().cpu()\n",
    "\n",
    "for epoch in range(EPOCHS):\n",
    "    running_loss = 0.0  # Накопленный лосс для средней величины\n",
    "    with tqdm(range(num_batches), desc=f\"Epoch {epoch+1}/{EPOCHS}\", unit=\"batch\") as t:\n",
    "        for batch_idx in t:\n",
    "            start_idx = batch_idx * BATCH_SIZE\n",
    "            end_idx = min(start_idx + BATCH_SIZE, num_samples)\n",
    "            \n",
    "            batch = train.iloc[start_idx:end_idx]\n",
    "\n",
    "            batch_user_ids = torch.tensor(batch['user_id'].values, dtype=torch.long, device=device)\n",
    "            batch_item_ids = torch.tensor(batch['item_id'].values, dtype=torch.long, device=device)\n",
    "            batch_source_ids = torch.tensor(items_meta.loc[batch['item_id'].values, 'source_id'].cat.codes.values, dtype=torch.long, device=device)\n",
    "            batch_age_ids = torch.tensor(users_meta.loc[batch['user_id'].values, 'age'].values, dtype=torch.float32, device=device).unsqueeze(1)\n",
    "            batch_duration_ids = torch.tensor(items_meta.loc[batch['item_id'].values, 'duration'].values, dtype=torch.float32, device=device).unsqueeze(1)\n",
    "            batch_gender_ids = torch.tensor(users_meta.loc[batch['user_id'].values, 'gender'].cat.codes.values, dtype=torch.float32, device=device).unsqueeze(1)\n",
    "\n",
    "            user_emb = user_embedding(batch_user_ids)\n",
    "            item_emb = item_embedding(batch_item_ids)\n",
    "            source_emb = source_embedding(batch_source_ids)\n",
    "\n",
    "            item_indices = batch_item_ids.cpu().numpy()\n",
    "            embeddings = torch.tensor(\n",
    "                np.stack(items_meta.loc[item_indices, 'embeddings'].values), \n",
    "                device=device, \n",
    "                dtype=torch.float32\n",
    "            )\n",
    "\n",
    "            inputs = torch.cat((\n",
    "                user_emb,\n",
    "                item_emb,\n",
    "                source_emb,\n",
    "                batch_age_ids,\n",
    "                batch_duration_ids,\n",
    "                batch_gender_ids,\n",
    "                embeddings\n",
    "            ), dim=1).float()\n",
    "\n",
    "            targets = torch.tensor(batch['target'].values, dtype=torch.long, device=device)\n",
    "\n",
    "            optimizer.zero_grad()\n",
    "            outputs = model(inputs)\n",
    "            loss = criterion(outputs, targets)\n",
    "            loss.backward()\n",
    "            optimizer.step()\n",
    "\n",
    "            batch_loss = loss.item()  # Лосс для текущего батча\n",
    "            running_loss += batch_loss  # Накопление общего лосса\n",
    "\n",
    "            # Обновляем tqdm выводом текущего и среднего лосса\n",
    "            t.set_postfix(\n",
    "                batch_loss=f\"{batch_loss:.6f}\",\n",
    "                mean_loss=f\"{running_loss / (batch_idx + 1):.6f}\"\n",
    "            )  \n",
    "\n",
    "    # Средний лосс после эпохи\n",
    "    epoch_loss = running_loss / num_batches\n",
    "    print(f\"Epoch [{epoch+1}/{EPOCHS}], Mean Loss: {epoch_loss:.4f}\")"
   ]
  },
  {
   "cell_type": "code",
   "execution_count": 15,
   "id": "812445df",
   "metadata": {
    "collapsed": false,
    "execution": {
     "iopub.execute_input": "2024-11-25T06:17:10.412189Z",
     "iopub.status.busy": "2024-11-25T06:17:10.411827Z",
     "iopub.status.idle": "2024-11-25T06:17:11.585194Z",
     "shell.execute_reply": "2024-11-25T06:17:11.584275Z"
    },
    "is_executing": true,
    "papermill": {
     "duration": 3.735999,
     "end_time": "2024-11-25T06:17:11.587001",
     "exception": false,
     "start_time": "2024-11-25T06:17:07.851002",
     "status": "completed"
    },
    "tags": []
   },
   "outputs": [
    {
     "name": "stdout",
     "output_type": "stream",
     "text": [
      "Модель и эмбеддинги сохранены в /kaggle/working/3.1.3_DCN_MLP.pth\n"
     ]
    }
   ],
   "source": [
    "# Сохраняем обучаемую модель и эмбеддинги\n",
    "state = {\n",
    "    \"model_state_dict\": model.state_dict(),\n",
    "    \"user_embedding_state_dict\": user_embedding.state_dict(),\n",
    "    \"item_embedding_state_dict\": item_embedding.state_dict(),\n",
    "    \"source_embedding_state_dict\": source_embedding.state_dict()\n",
    "}\n",
    "\n",
    "save_path = f'{models_folder}{model_path}'\n",
    "torch.save(state, save_path)\n",
    "print(f\"Модель и эмбеддинги сохранены в {save_path}\")"
   ]
  }
 ],
 "metadata": {
  "kaggle": {
   "accelerator": "gpu",
   "dataSources": [
    {
     "datasetId": 6155403,
     "sourceId": 10000346,
     "sourceType": "datasetVersion"
    }
   ],
   "dockerImageVersionId": 30787,
   "isGpuEnabled": true,
   "isInternetEnabled": true,
   "language": "python",
   "sourceType": "notebook"
  },
  "kernelspec": {
   "display_name": "Python 3",
   "language": "python",
   "name": "python3"
  },
  "language_info": {
   "codemirror_mode": {
    "name": "ipython",
    "version": 3
   },
   "file_extension": ".py",
   "mimetype": "text/x-python",
   "name": "python",
   "nbconvert_exporter": "python",
   "pygments_lexer": "ipython3",
   "version": "3.10.14"
  },
  "papermill": {
   "default_parameters": {},
   "duration": 5460.653933,
   "end_time": "2024-11-25T06:17:15.604943",
   "environment_variables": {},
   "exception": null,
   "input_path": "__notebook__.ipynb",
   "output_path": "__notebook__.ipynb",
   "parameters": {},
   "start_time": "2024-11-25T04:46:14.951010",
   "version": "2.6.0"
  }
 },
 "nbformat": 4,
 "nbformat_minor": 5
}
