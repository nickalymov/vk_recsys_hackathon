{
 "cells": [
  {
   "cell_type": "code",
   "execution_count": null,
   "id": "initial_id",
   "metadata": {
    "collapsed": true
   },
   "outputs": [],
   "source": [
    "# paths\n",
    "train_parquet = 'train_interactions.parquet'\n",
    "models_folder = 'C:/Users/Николай/PycharmProjects/VKRecSys/B.Processing/Модели/'\n",
    "model_path = '3.1_DCN_MLP.pth'\n",
    "custom_data_folder = 'C:/Users/Николай/PycharmProjects/VKRecSys/custom_data/'\n",
    "orig_data_folder = 'C:/Users/Николай/PycharmProjects/VKRecSys/data/'\n",
    "\n",
    "# model params\n",
    "BATCH_SIZE = 16384 \n",
    "NUM_CROSS_LAYERS = 1\n",
    "LR = 0.001\n",
    "EPOCHS = 2"
   ]
  },
  {
   "cell_type": "code",
   "outputs": [],
   "source": [
    "import numpy as np\n",
    "import torch\n",
    "from torch.utils.data import Dataset, DataLoader\n",
    "import torch.nn as nn\n",
    "from torch.optim import Adam\n",
    "import torch.nn.functional as F\n",
    "import pandas as pd\n",
    "from sklearn.model_selection import StratifiedKFold\n",
    "from sklearn.preprocessing import LabelEncoder\n",
    "import torch.nn as nn\n",
    "import torch.optim as optim\n",
    "from tqdm import tqdm"
   ],
   "metadata": {
    "collapsed": false
   },
   "id": "1441261c96e8fc0e",
   "execution_count": null
  },
  {
   "cell_type": "code",
   "outputs": [],
   "source": [
    "device = torch.device(\"cuda\" if torch.cuda.is_available() else \"cpu\")\n",
    "\n",
    "torch.manual_seed(42)  \n",
    "torch.cuda.manual_seed_all(42)  \n",
    "np.random.seed(42)  "
   ],
   "metadata": {
    "collapsed": false
   },
   "id": "55a52c7110e13c7c",
   "execution_count": null
  },
  {
   "cell_type": "code",
   "outputs": [],
   "source": [
    "train = pd.read_parquet(f'{orig_data_folder}{train_parquet}', engine='pyarrow')\n",
    "train['like'] = train['like'] + train['dislike'].replace({1: -1})\n",
    "train.drop(columns=['dislike'], inplace=True)\n",
    "train['like'] = train['like'].astype('int8')\n",
    "train.rename(columns={'like' : 'target'}, inplace=True)\n",
    "train['target'] = train['target'].replace({-1:0, 0:1, 1:2})\n",
    "\n",
    "items_meta = pd.read_parquet(f'{orig_data_folder}items_meta.parquet', engine='pyarrow')\n",
    "items_meta['item_id'] = items_meta['item_id'].astype('category')\n",
    "items_meta['source_id'] = items_meta['source_id'].astype('category')\n",
    "items_meta.set_index('item_id', inplace=True)\n",
    "\n",
    "# users_meta\n",
    "users_meta = pd.read_parquet(f'{orig_data_folder}users_meta.parquet', engine='pyarrow')\n",
    "users_meta['user_id'] = users_meta['user_id'].astype('category')\n",
    "users_meta['gender'] = users_meta['gender'].astype('category')\n",
    "users_meta['age'] = users_meta['age'].replace({1:0, 2:1})\n",
    "users_meta.set_index('user_id', inplace=True)\n",
    "\n",
    "# Преобразуем embeddings в словарь\n",
    "item_embeddings_dict = items_meta['embeddings'].to_dict()"
   ],
   "metadata": {
    "collapsed": false
   },
   "id": "458de5e76ceea2d",
   "execution_count": null
  },
  {
   "cell_type": "code",
   "outputs": [],
   "source": [
    "class EmbeddingLayer(nn.Module):\n",
    "    def __init__(self, num_embeddings, embedding_dim):\n",
    "        super(EmbeddingLayer, self).__init__()\n",
    "        self.embedding = nn.Embedding(num_embeddings, embedding_dim)\n",
    "        \n",
    "    def forward(self, x):\n",
    "        return self.embedding(x)"
   ],
   "metadata": {
    "collapsed": false
   },
   "id": "35b0a9883ae2a0eb",
   "execution_count": null
  },
  {
   "cell_type": "code",
   "outputs": [],
   "source": [
    "def normalize_column(column):\n",
    "    return (column - column.min()) / (column.max() - column.min())"
   ],
   "metadata": {
    "collapsed": false
   },
   "id": "814f7ac780f630de",
   "execution_count": null
  },
  {
   "cell_type": "code",
   "outputs": [],
   "source": [
    "users_meta['age'] = normalize_column(users_meta['age'])\n",
    "items_meta['duration'] = normalize_column(items_meta['duration'])"
   ],
   "metadata": {
    "collapsed": false
   },
   "id": "ba03f4b5eb0ce6b6",
   "execution_count": null
  },
  {
   "cell_type": "code",
   "outputs": [],
   "source": [
    "num_users = train['user_id'].nunique()\n",
    "num_items = train['item_id'].nunique()\n",
    "num_sources = items_meta['source_id'].nunique()"
   ],
   "metadata": {
    "collapsed": false
   },
   "id": "2bf5f1f274146d64",
   "execution_count": null
  },
  {
   "cell_type": "code",
   "outputs": [],
   "source": [
    "user_embedding = EmbeddingLayer(num_users, 32).to(device)\n",
    "item_embedding = EmbeddingLayer(num_items, 32).to(device)\n",
    "source_embedding = EmbeddingLayer(num_sources, 32).to(device)"
   ],
   "metadata": {
    "collapsed": false
   },
   "id": "4a77daed7aafd591",
   "execution_count": null
  },
  {
   "cell_type": "code",
   "outputs": [],
   "source": [
    "input_dim = (1 + # gender\n",
    "             1 + # age\n",
    "             1 + # duration\n",
    "             user_embedding.embedding.embedding_dim + \n",
    "             item_embedding.embedding.embedding_dim + \n",
    "             source_embedding.embedding.embedding_dim +\n",
    "             32 # embeddings\n",
    "             )"
   ],
   "metadata": {
    "collapsed": false
   },
   "id": "8b936df4ebcd46b7",
   "execution_count": null
  },
  {
   "cell_type": "code",
   "outputs": [],
   "source": [
    "class DCN(nn.Module):\n",
    "    def __init__(self, input_dim, num_cross_layers):\n",
    "        super(DCN, self).__init__()\n",
    "        self.input_dim = input_dim\n",
    "        self.num_cross_layers = num_cross_layers\n",
    "        \n",
    "        # Параметры для слоев пересечения\n",
    "        self.cross_weights = nn.ParameterList(\n",
    "            [nn.Parameter(torch.randn(input_dim, 1)) for _ in range(num_cross_layers)]\n",
    "        )\n",
    "        self.cross_biases = nn.ParameterList(\n",
    "            [nn.Parameter(torch.randn(input_dim)) for _ in range(num_cross_layers)]\n",
    "        )\n",
    "        \n",
    "    def forward(self, x):\n",
    "        # Инициализируем x0\n",
    "        x0 = x\n",
    "        for i in range(self.num_cross_layers):\n",
    "            x = x0 * (x @ self.cross_weights[i]) + self.cross_biases[i] + x\n",
    "        return x\n",
    "\n",
    "class DCNWithMLP(nn.Module):\n",
    "    def __init__(self, input_dim, num_cross_layers=3, hidden_dim=2048, output_dim=3):\n",
    "        super(DCNWithMLP, self).__init__()\n",
    "        \n",
    "        # Нормализация входных данных\n",
    "        self.batch_norm = nn.BatchNorm1d(input_dim)\n",
    "        \n",
    "        # DCN модуль\n",
    "        self.dcn = DCN(input_dim, num_cross_layers)\n",
    "        \n",
    "        # MLP модуль\n",
    "        self.fc1 = nn.Linear(input_dim, hidden_dim)\n",
    "        self.fc2 = nn.Linear(hidden_dim, 1024)\n",
    "        self.fc3 = nn.Linear(1024, 512)\n",
    "        self.fc4 = nn.Linear(512, 256)\n",
    "        self.fc5 = nn.Linear(256, 128)\n",
    "        self.fc6 = nn.Linear(128, 64)\n",
    "        self.fc7 = nn.Linear(64, 32)\n",
    "        self.fc8 = nn.Linear(32, 16)\n",
    "        self.fc9 = nn.Linear(16, output_dim)\n",
    "        self.relu = nn.ReLU()\n",
    "    \n",
    "    def forward(self, x):\n",
    "        # Применяем нормализацию входных данных\n",
    "        # x = self.batch_norm(x)\n",
    "        \n",
    "        # Пропускаем через DCN\n",
    "        x = self.dcn(x)\n",
    "        \n",
    "        # Пропускаем через MLP\n",
    "        x = self.relu(self.fc1(x))\n",
    "        x = self.relu(self.fc2(x))\n",
    "        x = self.relu(self.fc3(x))\n",
    "        x = self.relu(self.fc4(x))\n",
    "        x = self.relu(self.fc5(x))\n",
    "        x = self.relu(self.fc6(x))\n",
    "        x = self.relu(self.fc7(x))\n",
    "        x = self.relu(self.fc8(x))\n",
    "        x = self.fc9(x)\n",
    "        return x\n",
    "\n",
    "# Определяем параметры\n",
    "num_cross_layers = NUM_CROSS_LAYERS  # Количество слоев DCN\n",
    "\n",
    "# Создаем модель\n",
    "model = DCNWithMLP(input_dim, num_cross_layers).to(device)"
   ],
   "metadata": {
    "collapsed": false
   },
   "id": "96fd0016ffc1a505",
   "execution_count": null
  },
  {
   "cell_type": "code",
   "outputs": [],
   "source": [
    "# Кросс-энтропийная функция потерь для многоклассовой классификации\n",
    "criterion = nn.CrossEntropyLoss()\n",
    "\n",
    "# Оптимизатор\n",
    "optimizer = Adam(list(model.parameters()) +\n",
    "                 list(user_embedding.parameters()) +\n",
    "                 list(item_embedding.parameters()) +\n",
    "                 list(source_embedding.parameters()), lr=LR)"
   ],
   "metadata": {
    "collapsed": false
   },
   "id": "b2dd93ac83da8e01",
   "execution_count": null
  },
  {
   "cell_type": "code",
   "outputs": [],
   "source": [
    "# Преобразуем embeddings в массив и храним в tensor\n",
    "item_embeddings_array = torch.tensor(\n",
    "    np.stack(items_meta['embeddings'].values), \n",
    "    device=device, \n",
    "    dtype=torch.float32\n",
    ")\n",
    "\n",
    "# Сохраняем индексы для быстрого доступа\n",
    "item_id_to_index = {item: idx for idx, item in enumerate(items_meta.index)}"
   ],
   "metadata": {
    "collapsed": false
   },
   "id": "e77a360c4ee0bd22",
   "execution_count": null
  },
  {
   "cell_type": "code",
   "outputs": [],
   "source": [
    "num_samples = len(train)\n",
    "num_batches = (num_samples + BATCH_SIZE - 1) // BATCH_SIZE\n",
    "user_embedding_weights_before = user_embedding.embedding.weight.clone().detach().cpu()\n",
    "\n",
    "for epoch in range(EPOCHS):\n",
    "    running_loss = 0.0  # Накопленный лосс для средней величины\n",
    "    with tqdm(range(num_batches), desc=f\"Epoch {epoch+1}/{EPOCHS}\", unit=\"batch\") as t:\n",
    "        for batch_idx in t:\n",
    "            start_idx = batch_idx * BATCH_SIZE\n",
    "            end_idx = min(start_idx + BATCH_SIZE, num_samples)\n",
    "\n",
    "            batch = train.iloc[start_idx:end_idx]\n",
    "\n",
    "            batch_user_ids = torch.tensor(batch['user_id'].values, dtype=torch.long, device=device)\n",
    "            batch_item_ids = torch.tensor(batch['item_id'].values, dtype=torch.long, device=device)\n",
    "            batch_source_ids = torch.tensor(items_meta.loc[batch['item_id'].values, 'source_id'].cat.codes.values, dtype=torch.long, device=device)\n",
    "            batch_age_ids = torch.tensor(users_meta.loc[batch['user_id'].values, 'age'].values, dtype=torch.float32, device=device).unsqueeze(1)\n",
    "            batch_duration_ids = torch.tensor(items_meta.loc[batch['item_id'].values, 'duration'].values, dtype=torch.float32, device=device).unsqueeze(1)\n",
    "            batch_gender_ids = torch.tensor(users_meta.loc[batch['user_id'].values, 'gender'].cat.codes.values, dtype=torch.float32, device=device).unsqueeze(1)\n",
    "\n",
    "            user_emb = user_embedding(batch_user_ids)\n",
    "            item_emb = item_embedding(batch_item_ids)\n",
    "            source_emb = source_embedding(batch_source_ids)\n",
    "\n",
    "            item_indices = batch_item_ids.cpu().numpy()\n",
    "            embeddings = torch.tensor(\n",
    "                np.stack(items_meta.loc[item_indices, 'embeddings'].values), \n",
    "                device=device, \n",
    "                dtype=torch.float32\n",
    "            )\n",
    "\n",
    "            inputs = torch.cat((\n",
    "                user_emb,\n",
    "                item_emb,\n",
    "                source_emb,\n",
    "                batch_age_ids,\n",
    "                batch_duration_ids,\n",
    "                batch_gender_ids,\n",
    "                embeddings\n",
    "            ), dim=1).float()\n",
    "\n",
    "            targets = torch.tensor(batch['target'].values, dtype=torch.long, device=device)\n",
    "\n",
    "            optimizer.zero_grad()\n",
    "            outputs = model(inputs)\n",
    "            loss = criterion(outputs, targets)\n",
    "            loss.backward()\n",
    "            optimizer.step()\n",
    "\n",
    "            batch_loss = loss.item()  # Лосс для текущего батча\n",
    "            running_loss += batch_loss  # Накопление общего лосса\n",
    "\n",
    "            # Обновляем tqdm выводом текущего и среднего лосса\n",
    "            t.set_postfix(\n",
    "                batch_loss=f\"{batch_loss:.6f}\",\n",
    "                mean_loss=f\"{running_loss / (batch_idx + 1):.6f}\"\n",
    "            )\n",
    "\n",
    "    # Средний лосс после эпохи\n",
    "    epoch_loss = running_loss / num_batches\n",
    "    print(f\"Epoch [{epoch+1}/{EPOCHS}], Mean Loss: {epoch_loss:.4f}\")"
   ],
   "metadata": {
    "collapsed": false
   },
   "id": "af6511730b7a7cc8",
   "execution_count": null
  },
  {
   "cell_type": "code",
   "outputs": [],
   "source": [
    "# Сохраняем обучаемую модель и эмбеддинги\n",
    "state = {\n",
    "    \"model_state_dict\": model.state_dict(),\n",
    "    \"user_embedding_state_dict\": user_embedding.state_dict(),\n",
    "    \"item_embedding_state_dict\": item_embedding.state_dict(),\n",
    "    \"source_embedding_state_dict\": source_embedding.state_dict()\n",
    "}\n",
    "\n",
    "save_path = f'{models_folder}{model_path}'\n",
    "torch.save(state, save_path)\n",
    "print(f\"Модель и эмбеддинги сохранены в {save_path}\")"
   ],
   "metadata": {
    "collapsed": false
   },
   "id": "1b6c41d2a310b389",
   "execution_count": null
  }
 ],
 "metadata": {
  "kernelspec": {
   "display_name": "Python 3",
   "language": "python",
   "name": "python3"
  },
  "language_info": {
   "codemirror_mode": {
    "name": "ipython",
    "version": 2
   },
   "file_extension": ".py",
   "mimetype": "text/x-python",
   "name": "python",
   "nbconvert_exporter": "python",
   "pygments_lexer": "ipython2",
   "version": "2.7.6"
  }
 },
 "nbformat": 4,
 "nbformat_minor": 5
}
