{
 "cells": [
  {
   "cell_type": "code",
   "execution_count": 1,
   "id": "initial_id",
   "metadata": {
    "collapsed": true,
    "ExecuteTime": {
     "end_time": "2024-11-20T14:46:06.908233300Z",
     "start_time": "2024-11-20T14:46:06.180235400Z"
    }
   },
   "outputs": [],
   "source": [
    "import pandas as pd\n",
    "\n",
    "import warnings\n",
    "warnings.filterwarnings(\"ignore\")"
   ]
  },
  {
   "cell_type": "code",
   "outputs": [],
   "source": [
    "data_folder = 'C:/Users/Николай/PycharmProjects/VKRecSys/data/'\n",
    "\n",
    "# items_meta \n",
    "items_meta = pd.read_parquet(f'{data_folder}items_meta.parquet', engine='pyarrow')\n",
    "items_meta['item_id'] = items_meta['item_id'].astype('category')\n",
    "items_meta['source_id'] = items_meta['source_id'].astype('category')\n",
    "items_meta.set_index('item_id', inplace=True)\n",
    "\n",
    "# users_meta\n",
    "users_meta = pd.read_parquet(f'{data_folder}users_meta.parquet', engine='pyarrow')\n",
    "users_meta['user_id'] = users_meta['user_id'].astype('category')\n",
    "users_meta['age'] = users_meta['age'].astype('category')\n",
    "users_meta['gender'] = users_meta['gender'].astype('category')\n",
    "users_meta.set_index('user_id', inplace=True)\n",
    "\n",
    "train = pd.read_parquet(f'{data_folder}train_interactions.parquet', engine='pyarrow')\n",
    "train['like'] = train['like'] + train['dislike'].replace({1: -1})\n",
    "train.drop(columns=['dislike'], inplace=True)\n",
    "train['like'] = train['like'].astype('int8')\n",
    "train.rename(columns={'like' : 'target'}, inplace=True)\n",
    "\n",
    "test = pd.read_csv(f'{data_folder}test_pairs.csv')\n",
    "\n",
    "train['user_id'] = train['user_id'].astype('category')\n",
    "train['item_id'] = train['item_id'].astype('category')\n",
    "\n",
    "test['user_id'] = test['user_id'].astype('category')\n",
    "test['item_id'] = test['item_id'].astype('category')"
   ],
   "metadata": {
    "collapsed": false,
    "ExecuteTime": {
     "end_time": "2024-11-20T14:46:14.561359200Z",
     "start_time": "2024-11-20T14:46:06.913233700Z"
    }
   },
   "id": "d32b224fde923698",
   "execution_count": 2
  },
  {
   "cell_type": "code",
   "outputs": [
    {
     "name": "stdout",
     "output_type": "stream",
     "text": [
      "Размер train: 1683.099609375 мб\n",
      "user_id      category\n",
      "item_id      category\n",
      "timespent       uint8\n",
      "target           int8\n",
      "share           uint8\n",
      "bookmarks       uint8\n",
      "dtype: object\n"
     ]
    }
   ],
   "source": [
    "memory_usage = train.memory_usage(deep=True).sum()\n",
    "memory_usage_mb = memory_usage / (1024 * 1024)\n",
    "print(f\"Размер train: {memory_usage_mb} мб\")\n",
    "print(train.dtypes)"
   ],
   "metadata": {
    "collapsed": false,
    "ExecuteTime": {
     "end_time": "2024-11-20T14:46:14.578397Z",
     "start_time": "2024-11-20T14:46:14.565359600Z"
    }
   },
   "id": "f3d0d9a795768800",
   "execution_count": 3
  },
  {
   "cell_type": "code",
   "outputs": [
    {
     "name": "stdout",
     "output_type": "stream",
     "text": [
      "Размер test: 20.448028564453125 мб\n",
      "user_id    category\n",
      "item_id    category\n",
      "dtype: object\n"
     ]
    }
   ],
   "source": [
    "memory_usage = test.memory_usage(deep=True).sum()\n",
    "memory_usage_mb = memory_usage / (1024 * 1024)\n",
    "print(f\"Размер test: {memory_usage_mb} мб\")\n",
    "print(test.dtypes)"
   ],
   "metadata": {
    "collapsed": false,
    "ExecuteTime": {
     "end_time": "2024-11-20T14:46:14.623394500Z",
     "start_time": "2024-11-20T14:46:14.579397400Z"
    }
   },
   "id": "963634ab8c7121cb",
   "execution_count": 4
  },
  {
   "cell_type": "code",
   "outputs": [],
   "source": [
    "CONFIG = {\n",
    "    # Всегда True\n",
    "    'user_info' : True,\n",
    "    'item_info' : True,\n",
    "    'source_info' : True,\n",
    "    'item_duration' : True,\n",
    "    \n",
    "    # U. пользователя\n",
    "    'age' : True,\n",
    "    'gender' : True,\n",
    "    'user_like_ratio' : True,\n",
    "    'user_dislike_ratio' : True,\n",
    "    'user_ignore_ratio' : True,\n",
    "    'user_share_ratio' : True,\n",
    "    'user_bookmark_ratio' : True,\n",
    "    'user_avg_spent_time' : True,\n",
    "    'user_view_ratio' : True,\n",
    "    'user_full_view_ratio' : True,\n",
    "    \n",
    "    # I. клипа\n",
    "    'item_like_ratio' : True,\n",
    "    'item_dislike_ratio' : True,\n",
    "    'item_ignore_ratio' : True,\n",
    "    'item_share_ratio' : True,\n",
    "    'item_bookmark_ratio' : True,\n",
    "    'item_avg_spent_time_ratio' : True,\n",
    "    'item_view_ratio' : True,\n",
    "    'item_full_view_ratio' : True,\n",
    "    \n",
    "    # S. источника\n",
    "    'source_id' : True,\n",
    "    'source_like_ratio' : True,\n",
    "    'source_dislike_ratio' : True,\n",
    "    'source_ignore_ratio' : True,\n",
    "    'source_share_ratio' : True,\n",
    "    'source_bookmark_ratio' : True,\n",
    "    'source_avg_spent_time_ratio' : True,\n",
    "    'source_view_ratio' : True,\n",
    "    'source_full_view_ratio' : True\n",
    "}"
   ],
   "metadata": {
    "collapsed": false,
    "ExecuteTime": {
     "end_time": "2024-11-20T14:46:14.625394100Z",
     "start_time": "2024-11-20T14:46:14.593395400Z"
    }
   },
   "id": "e8325dc8765c1d9f",
   "execution_count": 5
  },
  {
   "cell_type": "code",
   "outputs": [],
   "source": [
    "user_info = train.groupby('user_id').agg(\n",
    "    likes=('target', lambda x: (x == 1).sum()),\n",
    "    dislikes=('target', lambda x: (x == -1).sum()),\n",
    "    ignores=('target', lambda x: (x == 0).sum()),\n",
    "    shares=('share', lambda x: (x == 1).sum()),\n",
    "    bookmarks=('bookmarks', lambda x: (x == 1).sum()),\n",
    "    count_target=('target', 'count'),\n",
    ")\n",
    "\n",
    "user_info['user_like_ratio'] = user_info['likes'] / user_info['count_target']\n",
    "user_info['user_dislike_ratio'] = user_info['dislikes'] / user_info['count_target']\n",
    "user_info['user_ignore_ratio'] = user_info['ignores'] / user_info['count_target']\n",
    "user_info['user_share_ratio'] = user_info['shares'] / user_info['count_target']\n",
    "user_info['user_bookmark_ratio'] = user_info['bookmarks'] / user_info['count_target']\n",
    "\n",
    "user_info.drop(columns=['likes', 'dislikes', 'ignores', 'shares', 'bookmarks', 'count_target'], inplace=True)"
   ],
   "metadata": {
    "collapsed": false,
    "ExecuteTime": {
     "end_time": "2024-11-20T14:47:46.525101400Z",
     "start_time": "2024-11-20T14:46:14.609394400Z"
    }
   },
   "id": "e032c0bed7f1a558",
   "execution_count": 6
  },
  {
   "cell_type": "code",
   "outputs": [],
   "source": [
    "item_info = train.groupby('item_id').agg(\n",
    "    likes=('target', lambda x: (x == 1).sum()),  \n",
    "    dislikes=('target', lambda x: (x == -1).sum()),   \n",
    "    ignores=('target', lambda x: (x == 0).sum()),\n",
    "    shares=('share', lambda x: (x == 1).sum()),\n",
    "    bookmarks=('bookmarks', lambda x: (x == 1).sum()),\n",
    "    count_item_id=('item_id', lambda x: x.count())\n",
    ")\n",
    "\n",
    "item_info['item_like_ratio'] = item_info['likes'] / item_info['count_item_id']\n",
    "item_info['item_dislike_ratio'] = item_info['dislikes'] / item_info['count_item_id']\n",
    "item_info['item_ignore_ratio'] = item_info['ignores'] / item_info['count_item_id']\n",
    "item_info['item_share_ratio'] = item_info['shares'] / item_info['count_item_id']\n",
    "item_info['item_bookmark_ratio'] = item_info['bookmarks'] / item_info['count_item_id']\n",
    "\n",
    "item_info.drop(columns=['likes', 'dislikes', 'ignores', 'shares', 'bookmarks', 'count_item_id'], inplace=True)"
   ],
   "metadata": {
    "collapsed": false,
    "ExecuteTime": {
     "end_time": "2024-11-20T14:50:17.355554500Z",
     "start_time": "2024-11-20T14:47:46.530103300Z"
    }
   },
   "id": "35cb5f6216aafaeb",
   "execution_count": 7
  },
  {
   "cell_type": "code",
   "outputs": [],
   "source": [
    "train['item_duration'] = train['item_id'].map(items_meta['duration']).astype('uint8')\n",
    "test['item_duration'] = test['item_id'].map(items_meta['duration']).astype('uint8')"
   ],
   "metadata": {
    "collapsed": false,
    "ExecuteTime": {
     "end_time": "2024-11-20T14:50:18.798127600Z",
     "start_time": "2024-11-20T14:50:17.361637800Z"
    }
   },
   "id": "35c16b261bedadbe",
   "execution_count": 8
  },
  {
   "cell_type": "code",
   "outputs": [],
   "source": [
    "train['source_id'] = train['item_id'].map(items_meta['source_id']).astype('category')\n",
    "test['source_id'] = test['item_id'].map(items_meta['source_id']).astype('category')"
   ],
   "metadata": {
    "collapsed": false,
    "ExecuteTime": {
     "end_time": "2024-11-20T14:50:19.779989700Z",
     "start_time": "2024-11-20T14:50:18.804126700Z"
    }
   },
   "id": "748785a86529dc43",
   "execution_count": 9
  },
  {
   "cell_type": "code",
   "outputs": [],
   "source": [
    "if CONFIG.get('age', False):\n",
    "    def age(train_df, test_df, users_meta_df):\n",
    "\n",
    "        train_df['age'] = train_df['user_id'].map(users_meta_df['age'])\n",
    "        test_df['age'] = test_df['user_id'].map(users_meta_df['age'])\n",
    "        \n",
    "        return train_df, test_df\n",
    "    \n",
    "    train, test = age(train, test, users_meta) "
   ],
   "metadata": {
    "collapsed": false,
    "ExecuteTime": {
     "end_time": "2024-11-20T14:50:20.584964500Z",
     "start_time": "2024-11-20T14:50:19.780989400Z"
    }
   },
   "id": "dac4ba792fea263",
   "execution_count": 10
  },
  {
   "cell_type": "code",
   "outputs": [],
   "source": [
    "if CONFIG.get('gender', False):\n",
    "    def gender(train_df, test_df, users_meta_df):\n",
    "\n",
    "        train_df['gender'] = train_df['user_id'].map(users_meta_df['gender'])\n",
    "        test_df['gender'] = test_df['user_id'].map(users_meta_df['gender'])\n",
    "        \n",
    "        return train_df, test_df\n",
    "    \n",
    "    train, test = gender(train, test, users_meta)"
   ],
   "metadata": {
    "collapsed": false,
    "ExecuteTime": {
     "end_time": "2024-11-20T14:50:21.376026Z",
     "start_time": "2024-11-20T14:50:20.589561500Z"
    }
   },
   "id": "c7bd01677c87beb3",
   "execution_count": 11
  },
  {
   "cell_type": "code",
   "outputs": [],
   "source": [
    "if CONFIG.get('user_like_ratio', False):\n",
    "    train['user_like_ratio'] = train['user_id'].map(user_info['user_like_ratio']).astype('float16')\n",
    "    test['user_like_ratio'] = test['user_id'].map(user_info['user_like_ratio']).astype('float16')"
   ],
   "metadata": {
    "collapsed": false,
    "ExecuteTime": {
     "end_time": "2024-11-20T14:50:23.237612900Z",
     "start_time": "2024-11-20T14:50:21.382534700Z"
    }
   },
   "id": "8dd0effb8ee29ed5",
   "execution_count": 12
  },
  {
   "cell_type": "code",
   "outputs": [],
   "source": [
    "if CONFIG.get('user_dislike_ratio', False):\n",
    "    train['user_dislike_ratio'] = train['user_id'].map(user_info['user_dislike_ratio']).astype('float16')\n",
    "    test['user_dislike_ratio'] = test['user_id'].map(user_info['user_dislike_ratio']).astype('float16')"
   ],
   "metadata": {
    "collapsed": false,
    "ExecuteTime": {
     "end_time": "2024-11-20T14:50:25.077668800Z",
     "start_time": "2024-11-20T14:50:23.237612900Z"
    }
   },
   "id": "6d7745065bc47241",
   "execution_count": 13
  },
  {
   "cell_type": "code",
   "outputs": [],
   "source": [
    "if CONFIG.get('user_ignore_ratio', False):\n",
    "    train['user_ignore_ratio'] = train['user_id'].map(user_info['user_ignore_ratio']).astype('float16')\n",
    "    test['user_ignore_ratio'] = test['user_id'].map(user_info['user_ignore_ratio']).astype('float16')"
   ],
   "metadata": {
    "collapsed": false,
    "ExecuteTime": {
     "end_time": "2024-11-20T14:50:26.697143900Z",
     "start_time": "2024-11-20T14:50:25.087672700Z"
    }
   },
   "id": "1c8dc77e15c5e524",
   "execution_count": 14
  },
  {
   "cell_type": "code",
   "outputs": [],
   "source": [
    "if CONFIG.get('user_share_ratio', False):\n",
    "    train['user_share_ratio'] = train['user_id'].map(user_info['user_share_ratio']).astype('float16')\n",
    "    test['user_share_ratio'] = test['user_id'].map(user_info['user_share_ratio']).astype('float16')"
   ],
   "metadata": {
    "collapsed": false,
    "ExecuteTime": {
     "end_time": "2024-11-20T14:50:28.472598100Z",
     "start_time": "2024-11-20T14:50:26.703974100Z"
    }
   },
   "id": "d1cc599e9e965b9a",
   "execution_count": 15
  },
  {
   "cell_type": "code",
   "outputs": [],
   "source": [
    "if CONFIG.get('user_bookmark_ratio', False):\n",
    "    train['user_bookmark_ratio'] = train['user_id'].map(user_info['user_bookmark_ratio']).astype('float16')\n",
    "    test['user_bookmark_ratio'] = test['user_id'].map(user_info['user_bookmark_ratio']).astype('float16')"
   ],
   "metadata": {
    "collapsed": false,
    "ExecuteTime": {
     "end_time": "2024-11-20T14:50:30.293582900Z",
     "start_time": "2024-11-20T14:50:28.472598100Z"
    }
   },
   "id": "cc4890eb6f0c113",
   "execution_count": 16
  },
  {
   "cell_type": "code",
   "outputs": [],
   "source": [
    "if CONFIG.get('user_avg_spent_time', False):\n",
    "    train['view_percentage'] = train['timespent'] / train['item_duration']\n",
    "\n",
    "    user_avg_spent_time = train.groupby('user_id')['view_percentage'].mean()\n",
    "    user_avg_spent_time.rename('user_avg_spent_time_ratio', inplace=True)\n",
    "    \n",
    "    train = train.merge(user_avg_spent_time, left_on='user_id', right_index=True, how='left')\n",
    "    test = test.merge(user_avg_spent_time, left_on='user_id', right_index=True, how='left')\n",
    "    test['user_id'] = test['user_id'].astype('category')\n",
    "    train.drop(columns=['view_percentage'], inplace=True)\n",
    "    \n",
    "    train['user_avg_spent_time_ratio'] = train['user_avg_spent_time_ratio'].astype('float16')\n",
    "    test['user_avg_spent_time_ratio'] = test['user_avg_spent_time_ratio'].astype('float16')"
   ],
   "metadata": {
    "collapsed": false,
    "ExecuteTime": {
     "end_time": "2024-11-20T14:50:47.092544700Z",
     "start_time": "2024-11-20T14:50:30.295583600Z"
    }
   },
   "id": "a8942522f22f0eaa",
   "execution_count": 17
  },
  {
   "cell_type": "code",
   "outputs": [],
   "source": [
    "if CONFIG.get('user_view_ratio', False):\n",
    "    user_view_count = train.groupby('user_id').agg(\n",
    "        user_view_ratio =('user_id', 'count')\n",
    "    )\n",
    "\n",
    "    # Рассчитываем user_view_ratio для train, исключая текущее видео\n",
    "    train = train.merge(user_view_count[['user_view_ratio']], left_on='user_id', right_index=True,  how='left')\n",
    "    train['user_view_ratio'] /= len(items_meta)\n",
    "    \n",
    "    test = test.merge(user_view_count[['user_view_ratio']], left_on='user_id', right_index=True,  how='left')\n",
    "    test['user_id'] = test['user_id'].astype('category')\n",
    "    test['user_view_ratio'] /= len(items_meta)\n",
    "    \n",
    "    train['user_view_ratio'] = train['user_view_ratio'].astype('float16')\n",
    "    test['user_view_ratio'] = test['user_view_ratio'].astype('float16')"
   ],
   "metadata": {
    "collapsed": false,
    "ExecuteTime": {
     "end_time": "2024-11-20T14:51:00.028627Z",
     "start_time": "2024-11-20T14:50:47.094543300Z"
    }
   },
   "id": "39f16b10ef77a672",
   "execution_count": 18
  },
  {
   "cell_type": "code",
   "outputs": [],
   "source": [
    "if CONFIG.get('user_full_view_ratio', False):\n",
    "    \n",
    "    train['full_view'] = (train['item_duration'] <= train['timespent'])\n",
    "    train['full_view'] = train['full_view'].astype(int)\n",
    "    \n",
    "    user_view_count = train.groupby('user_id').agg(\n",
    "        user_view_ratio = ('user_id', 'count'),\n",
    "        user_full_viewed = ('full_view', lambda x: (x == 1).sum()),\n",
    "    )\n",
    "    \n",
    "    user_view_count['user_full_view_ratio'] = user_view_count['user_full_viewed'] / user_view_count['user_view_ratio']\n",
    "\n",
    "    train = train.merge(user_view_count[['user_full_view_ratio']], left_on='user_id', right_index=True,  how='left')\n",
    "    \n",
    "    test = test.merge(user_view_count[['user_full_view_ratio']], left_on='user_id', right_index=True,  how='left')\n",
    "    test['user_id'] = test['user_id'].astype('category')\n",
    "    \n",
    "    train.drop(columns=['full_view'], inplace=True)\n",
    "    \n",
    "    train['user_full_view_ratio'] = train['user_full_view_ratio'].astype('float16')\n",
    "    test['user_full_view_ratio'] = test['user_full_view_ratio'].astype('float16')"
   ],
   "metadata": {
    "collapsed": false,
    "ExecuteTime": {
     "end_time": "2024-11-20T14:51:36.495438300Z",
     "start_time": "2024-11-20T14:51:00.030629900Z"
    }
   },
   "id": "e0dd553eb9640e2a",
   "execution_count": 19
  },
  {
   "cell_type": "code",
   "outputs": [],
   "source": [
    "if CONFIG.get('item_like_ratio', False):\n",
    "    train['item_like_ratio'] = train['item_id'].map(item_info['item_like_ratio']).astype('float16')\n",
    "    test['item_like_ratio'] = test['item_id'].map(item_info['item_like_ratio']).astype('float16')"
   ],
   "metadata": {
    "collapsed": false,
    "ExecuteTime": {
     "end_time": "2024-11-20T14:51:38.196601300Z",
     "start_time": "2024-11-20T14:51:36.499438200Z"
    }
   },
   "id": "9251ef9033e155a2",
   "execution_count": 20
  },
  {
   "cell_type": "code",
   "outputs": [],
   "source": [
    "if CONFIG.get('item_dislike_ratio', False):\n",
    "    train['item_dislike_ratio'] = train['item_id'].map(item_info['item_dislike_ratio']).astype('float16')\n",
    "    test['item_dislike_ratio'] = test['item_id'].map(item_info['item_dislike_ratio']).astype('float16')"
   ],
   "metadata": {
    "collapsed": false,
    "ExecuteTime": {
     "end_time": "2024-11-20T14:51:40.246370300Z",
     "start_time": "2024-11-20T14:51:38.198870900Z"
    }
   },
   "id": "d5435d7cbb079455",
   "execution_count": 21
  },
  {
   "cell_type": "code",
   "outputs": [],
   "source": [
    "if CONFIG.get('item_ignore_ratio', False):\n",
    "    train['item_ignore_ratio'] = train['item_id'].map(item_info['item_ignore_ratio']).astype('float16')\n",
    "    test['item_ignore_ratio'] = test['item_id'].map(item_info['item_ignore_ratio']).astype('float16')"
   ],
   "metadata": {
    "collapsed": false,
    "ExecuteTime": {
     "end_time": "2024-11-20T14:51:41.926720Z",
     "start_time": "2024-11-20T14:51:40.254076500Z"
    }
   },
   "id": "dc57b81fb94ca03a",
   "execution_count": 22
  },
  {
   "cell_type": "code",
   "outputs": [],
   "source": [
    "if CONFIG.get('item_share_ratio', False):\n",
    "    train['item_share_ratio'] = train['item_id'].map(item_info['item_share_ratio']).astype('float16')\n",
    "    test['item_share_ratio'] = test['item_id'].map(item_info['item_share_ratio']).astype('float16')"
   ],
   "metadata": {
    "collapsed": false,
    "ExecuteTime": {
     "end_time": "2024-11-20T14:51:43.718719700Z",
     "start_time": "2024-11-20T14:51:41.933755Z"
    }
   },
   "id": "aa5d4ff9cf59eb96",
   "execution_count": 23
  },
  {
   "cell_type": "code",
   "outputs": [],
   "source": [
    "if CONFIG.get('item_bookmark_ratio', False):\n",
    "    train['item_bookmark_ratio'] = train['item_id'].map(item_info['item_bookmark_ratio']).astype('float16')\n",
    "    test['item_bookmark_ratio'] = test['item_id'].map(item_info['item_bookmark_ratio']).astype('float16')"
   ],
   "metadata": {
    "collapsed": false,
    "ExecuteTime": {
     "end_time": "2024-11-20T14:51:45.853591700Z",
     "start_time": "2024-11-20T14:51:43.723724800Z"
    }
   },
   "id": "ad02b590e577bc8d",
   "execution_count": 24
  },
  {
   "cell_type": "code",
   "outputs": [],
   "source": [
    "if CONFIG.get('item_avg_spent_time_ratio', False):\n",
    "    \n",
    "    train['view_percentage'] = train['timespent'] / train['item_duration']\n",
    "    \n",
    "    user_avg_spent_time = train.groupby('item_id')['view_percentage'].mean()\n",
    "    user_avg_spent_time.rename('item_avg_spent_time_ratio', inplace=True)\n",
    "    \n",
    "    train = train.merge(user_avg_spent_time, left_on='item_id', right_index=True, how='left')\n",
    "    test = test.merge(user_avg_spent_time, left_on='item_id', right_index=True, how='left')\n",
    "    test['item_id'] = test['item_id'].astype('category')\n",
    "    train.drop(columns=['view_percentage'], inplace=True)\n",
    "\n",
    "    train['item_avg_spent_time_ratio'] = train['item_avg_spent_time_ratio'].astype('float16')\n",
    "    test['item_avg_spent_time_ratio'] = test['item_avg_spent_time_ratio'].astype('float16')"
   ],
   "metadata": {
    "collapsed": false,
    "ExecuteTime": {
     "end_time": "2024-11-20T14:52:08.551319200Z",
     "start_time": "2024-11-20T14:51:45.858581600Z"
    }
   },
   "id": "b90dc44c362b19a",
   "execution_count": 25
  },
  {
   "cell_type": "code",
   "outputs": [],
   "source": [
    "if CONFIG.get('item_view_ratio', False):\n",
    "    item_view_count = train.groupby('item_id').agg(\n",
    "        item_view_ratio =('item_id', 'count')\n",
    "    )\n",
    "\n",
    "    train = train.merge(item_view_count[['item_view_ratio']], left_on='item_id', right_index=True,  how='left')\n",
    "    train['item_view_ratio'] /= len(users_meta)\n",
    "    \n",
    "    test = test.merge(item_view_count[['item_view_ratio']], left_on='item_id', right_index=True,  how='left')\n",
    "    test['item_id'] = test['item_id'].astype('category')\n",
    "    test['item_view_ratio'] /= len(users_meta)\n",
    "    \n",
    "    train['item_view_ratio'] = train['item_view_ratio'].astype('float16')\n",
    "    test['item_view_ratio'] = test['item_view_ratio'].astype('float16')"
   ],
   "metadata": {
    "collapsed": false,
    "ExecuteTime": {
     "end_time": "2024-11-20T14:52:23.831124100Z",
     "start_time": "2024-11-20T14:52:08.561319900Z"
    }
   },
   "id": "5c16ff07ddd117ec",
   "execution_count": 26
  },
  {
   "cell_type": "code",
   "outputs": [],
   "source": [
    "if CONFIG.get('item_full_view_ratio', False):\n",
    "    \n",
    "    train['full_view'] = (train['item_duration'] <= train['timespent'])\n",
    "    train['full_view'] = train['full_view'].astype(int)\n",
    "\n",
    "    item_view_count = train.groupby('item_id').agg(\n",
    "        item_view_ratio=('item_id', 'count'),\n",
    "        item_full_viewed=('full_view', lambda x: (x == 1).sum()),\n",
    "    )\n",
    "\n",
    "    item_view_count['item_full_view_ratio'] = item_view_count['item_full_viewed'] / item_view_count['item_view_ratio']\n",
    "\n",
    "    train = train.merge(item_view_count[['item_full_view_ratio']], left_on='item_id', right_index=True, how='left')\n",
    "\n",
    "    test = test.merge(item_view_count[['item_full_view_ratio']], left_on='item_id', right_index=True, how='left')\n",
    "    test['item_id'] = test['item_id'].astype('category')\n",
    "\n",
    "    train.drop(columns=['full_view'], inplace=True)\n",
    "    \n",
    "    train['item_full_view_ratio'] = train['item_full_view_ratio'].astype('float16')\n",
    "    test['item_full_view_ratio'] = test['item_full_view_ratio'].astype('float16')"
   ],
   "metadata": {
    "collapsed": false,
    "ExecuteTime": {
     "end_time": "2024-11-20T14:53:14.281239200Z",
     "start_time": "2024-11-20T14:52:23.839125100Z"
    }
   },
   "id": "ee2f99b0fced8f84",
   "execution_count": 27
  },
  {
   "cell_type": "code",
   "outputs": [],
   "source": [
    "if CONFIG.get('source_like_ratio', False):\n",
    "    \n",
    "    source_like_ratio = train.groupby('source_id')['item_like_ratio'].mean()\n",
    "    source_like_ratio.rename('source_like_ratio', inplace=True)\n",
    "    \n",
    "    train['source_like_ratio'] = train['source_id'].map(source_like_ratio).astype('float16')\n",
    "    test['source_like_ratio'] = test['source_id'].map(source_like_ratio).astype('float16')\n",
    "    \n",
    "    del source_like_ratio"
   ],
   "metadata": {
    "collapsed": false,
    "ExecuteTime": {
     "end_time": "2024-11-20T14:53:16.957086400Z",
     "start_time": "2024-11-20T14:53:14.300633500Z"
    }
   },
   "id": "a7ab7905044b4b75",
   "execution_count": 28
  },
  {
   "cell_type": "code",
   "outputs": [],
   "source": [
    "if CONFIG.get('source_dislike_ratio', False):\n",
    "    source_dislike_ratio = train.groupby('source_id')['item_dislike_ratio'].mean()\n",
    "    source_dislike_ratio.rename('source_dislike_ratio', inplace=True)\n",
    "    \n",
    "    train['source_dislike_ratio'] = train['source_id'].map(source_dislike_ratio).astype('float16')\n",
    "    test['source_dislike_ratio'] = test['source_id'].map(source_dislike_ratio).astype('float16')\n",
    "    \n",
    "    del source_dislike_ratio"
   ],
   "metadata": {
    "collapsed": false,
    "ExecuteTime": {
     "end_time": "2024-11-20T14:53:20.055515Z",
     "start_time": "2024-11-20T14:53:16.957086400Z"
    }
   },
   "id": "e00a0e5ac2697007",
   "execution_count": 29
  },
  {
   "cell_type": "code",
   "outputs": [],
   "source": [
    "if CONFIG.get('source_ignore_ratio', False):\n",
    "    source_ignore_ratio = train.groupby('source_id')['item_ignore_ratio'].mean()\n",
    "    source_ignore_ratio.rename('source_ignore_ratio', inplace=True)\n",
    "    \n",
    "    train['source_ignore_ratio'] = train['source_id'].map(source_ignore_ratio).astype('float16')\n",
    "    test['source_ignore_ratio'] = test['source_id'].map(source_ignore_ratio).astype('float16')\n",
    "    \n",
    "    del source_ignore_ratio"
   ],
   "metadata": {
    "collapsed": false,
    "ExecuteTime": {
     "end_time": "2024-11-20T14:53:22.611665500Z",
     "start_time": "2024-11-20T14:53:20.055515Z"
    }
   },
   "id": "c01a9873abb8bca4",
   "execution_count": 30
  },
  {
   "cell_type": "code",
   "outputs": [],
   "source": [
    "if CONFIG.get('source_share_ratio', False):\n",
    "    source_share_ratio = train.groupby('source_id')['item_share_ratio'].mean()\n",
    "    source_share_ratio.rename('source_share_ratio', inplace=True)\n",
    "    \n",
    "    train['source_share_ratio'] = train['source_id'].map(source_share_ratio).astype('float16')\n",
    "    test['source_share_ratio'] = test['source_id'].map(source_share_ratio).astype('float16')\n",
    "    \n",
    "    del source_share_ratio"
   ],
   "metadata": {
    "collapsed": false,
    "ExecuteTime": {
     "end_time": "2024-11-20T14:53:25.194825200Z",
     "start_time": "2024-11-20T14:53:22.613664600Z"
    }
   },
   "id": "ea6cacba11e92bd6",
   "execution_count": 31
  },
  {
   "cell_type": "code",
   "outputs": [],
   "source": [
    "if CONFIG.get('source_bookmark_ratio', False):\n",
    "    \n",
    "    source_bookmark_ratio = train.groupby('source_id')['item_bookmark_ratio'].mean()\n",
    "    source_bookmark_ratio.rename('source_bookmark_ratio', inplace=True)\n",
    "    \n",
    "    train['source_bookmark_ratio'] = train['source_id'].map(source_bookmark_ratio).astype('float16')\n",
    "    test['source_bookmark_ratio'] = test['source_id'].map(source_bookmark_ratio).astype('float16')\n",
    "    \n",
    "    del source_bookmark_ratio"
   ],
   "metadata": {
    "collapsed": false,
    "ExecuteTime": {
     "end_time": "2024-11-20T14:53:28.127099200Z",
     "start_time": "2024-11-20T14:53:25.200824200Z"
    }
   },
   "id": "fd25d61e49cd9513",
   "execution_count": 32
  },
  {
   "cell_type": "code",
   "outputs": [],
   "source": [
    "if CONFIG.get('source_avg_spent_time_ratio', False):\n",
    "    \n",
    "    source_avg_spent_time_ratio = train.groupby('source_id')['item_avg_spent_time_ratio'].mean()\n",
    "    source_avg_spent_time_ratio.rename('source_avg_spent_time_ratio', inplace=True)\n",
    "    \n",
    "    train['source_avg_spent_time_ratio'] = train['source_id'].map(source_avg_spent_time_ratio).astype('float16')\n",
    "    test['source_avg_spent_time_ratio'] = test['source_id'].map(source_avg_spent_time_ratio).astype('float16')\n",
    "    \n",
    "    del source_avg_spent_time_ratio"
   ],
   "metadata": {
    "collapsed": false,
    "ExecuteTime": {
     "end_time": "2024-11-20T14:53:30.647979400Z",
     "start_time": "2024-11-20T14:53:28.127099200Z"
    }
   },
   "id": "b1becf31d3c3b11b",
   "execution_count": 33
  },
  {
   "cell_type": "code",
   "outputs": [],
   "source": [
    "if CONFIG.get('source_view_ratio', False):\n",
    "    \n",
    "    source_view_ratio = train.groupby('source_id')['item_view_ratio'].mean()\n",
    "    source_view_ratio.rename('source_view_ratio', inplace=True)\n",
    "    \n",
    "    train['source_view_ratio'] = train['source_id'].map(source_view_ratio).astype('float16')\n",
    "    test['source_view_ratio'] = test['source_id'].map(source_view_ratio).astype('float16')\n",
    "    \n",
    "    del source_view_ratio"
   ],
   "metadata": {
    "collapsed": false,
    "ExecuteTime": {
     "end_time": "2024-11-20T14:53:33.131318700Z",
     "start_time": "2024-11-20T14:53:30.654978800Z"
    }
   },
   "id": "e69e805e32ac29e",
   "execution_count": 34
  },
  {
   "cell_type": "code",
   "outputs": [],
   "source": [
    "if CONFIG.get('source_full_view_ratio', False):\n",
    "    \n",
    "    source_full_view_ratio = train.groupby('source_id')['item_full_view_ratio'].mean()\n",
    "    source_full_view_ratio.rename('source_full_view_ratio', inplace=True)\n",
    "    \n",
    "    train['source_full_view_ratio'] = train['source_id'].map(source_full_view_ratio).astype('float16')\n",
    "    test['source_full_view_ratio'] = test['source_id'].map(source_full_view_ratio).astype('float16')\n",
    "    \n",
    "    del source_full_view_ratio"
   ],
   "metadata": {
    "collapsed": false,
    "ExecuteTime": {
     "end_time": "2024-11-20T14:53:35.640049600Z",
     "start_time": "2024-11-20T14:53:33.139318Z"
    }
   },
   "id": "ea03119997652fc5",
   "execution_count": 35
  },
  {
   "cell_type": "code",
   "outputs": [
    {
     "data": {
      "text/plain": "34"
     },
     "execution_count": 36,
     "metadata": {},
     "output_type": "execute_result"
    }
   ],
   "source": [
    "len(train.columns)"
   ],
   "metadata": {
    "collapsed": false,
    "ExecuteTime": {
     "end_time": "2024-11-20T14:53:35.687048900Z",
     "start_time": "2024-11-20T14:53:35.648046800Z"
    }
   },
   "id": "4bf3c15ca68177cc",
   "execution_count": 36
  },
  {
   "cell_type": "code",
   "outputs": [
    {
     "data": {
      "text/plain": "30"
     },
     "execution_count": 37,
     "metadata": {},
     "output_type": "execute_result"
    }
   ],
   "source": [
    "len(test.columns)"
   ],
   "metadata": {
    "collapsed": false,
    "ExecuteTime": {
     "end_time": "2024-11-20T14:53:35.702048700Z",
     "start_time": "2024-11-20T14:53:35.689048800Z"
    }
   },
   "id": "e1429ab7d5d00b2d",
   "execution_count": 37
  },
  {
   "cell_type": "code",
   "outputs": [],
   "source": [
    "train.drop(columns=['timespent', 'share', 'bookmarks'], inplace=True)"
   ],
   "metadata": {
    "collapsed": false,
    "ExecuteTime": {
     "end_time": "2024-11-20T14:53:45.610669300Z",
     "start_time": "2024-11-20T14:53:35.706048500Z"
    }
   },
   "id": "e5c739f6bb7cea09",
   "execution_count": 38
  },
  {
   "cell_type": "code",
   "outputs": [],
   "source": [
    "custom_data_folder = 'C:/Users/Николай/PycharmProjects/VKRecSys/custom_data/'"
   ],
   "metadata": {
    "collapsed": false,
    "ExecuteTime": {
     "end_time": "2024-11-20T14:53:45.630395400Z",
     "start_time": "2024-11-20T14:53:45.622395300Z"
    }
   },
   "id": "6133fc930feba0b1",
   "execution_count": 39
  },
  {
   "cell_type": "code",
   "outputs": [],
   "source": [
    "train.to_parquet(f'{custom_data_folder}av1_train.parquet', index=False)"
   ],
   "metadata": {
    "collapsed": false,
    "ExecuteTime": {
     "end_time": "2024-11-20T15:01:06.482425800Z",
     "start_time": "2024-11-20T14:59:16.829739600Z"
    }
   },
   "id": "96544ffca105286d",
   "execution_count": 41
  },
  {
   "cell_type": "code",
   "outputs": [],
   "source": [
    "test.to_parquet(f'{custom_data_folder}av1_test.parquet', index=False)"
   ],
   "metadata": {
    "collapsed": false,
    "ExecuteTime": {
     "end_time": "2024-11-20T15:01:07.959941700Z",
     "start_time": "2024-11-20T15:01:06.485423Z"
    }
   },
   "id": "e5ad27b393afffbd",
   "execution_count": 42
  }
 ],
 "metadata": {
  "kernelspec": {
   "display_name": "Python 3",
   "language": "python",
   "name": "python3"
  },
  "language_info": {
   "codemirror_mode": {
    "name": "ipython",
    "version": 2
   },
   "file_extension": ".py",
   "mimetype": "text/x-python",
   "name": "python",
   "nbconvert_exporter": "python",
   "pygments_lexer": "ipython2",
   "version": "2.7.6"
  }
 },
 "nbformat": 4,
 "nbformat_minor": 5
}
