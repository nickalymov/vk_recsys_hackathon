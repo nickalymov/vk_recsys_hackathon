{
 "cells": [
  {
   "cell_type": "code",
   "execution_count": 1,
   "id": "initial_id",
   "metadata": {
    "collapsed": true,
    "ExecuteTime": {
     "end_time": "2024-11-21T06:37:59.359900200Z",
     "start_time": "2024-11-21T06:37:59.089900300Z"
    }
   },
   "outputs": [],
   "source": [
    "import pandas as pd\n",
    "\n",
    "import warnings\n",
    "warnings.filterwarnings(\"ignore\")"
   ]
  },
  {
   "cell_type": "code",
   "outputs": [],
   "source": [
    "data_folder = 'C:/Users/Николай/PycharmProjects/VKRecSys/data/'\n",
    "\n",
    "# items_meta \n",
    "items_meta = pd.read_parquet(f'{data_folder}items_meta.parquet', engine='pyarrow')\n",
    "items_meta['item_id'] = items_meta['item_id'].astype('category')\n",
    "items_meta['source_id'] = items_meta['source_id'].astype('category')\n",
    "items_meta.set_index('item_id', inplace=True)\n",
    "\n",
    "# users_meta\n",
    "users_meta = pd.read_parquet(f'{data_folder}users_meta.parquet', engine='pyarrow')\n",
    "users_meta['user_id'] = users_meta['user_id'].astype('category')\n",
    "users_meta['age'] = users_meta['age'].astype('category')\n",
    "users_meta['gender'] = users_meta['gender'].astype('category')\n",
    "users_meta.set_index('user_id', inplace=True)\n",
    "\n",
    "train = pd.read_parquet(f'{data_folder}train_interactions.parquet', engine='pyarrow')\n",
    "train['like'] = train['like'] + train['dislike'].replace({1: -1})\n",
    "train.drop(columns=['dislike'], inplace=True)\n",
    "train['like'] = train['like'].astype('int8')\n",
    "train.rename(columns={'like' : 'target'}, inplace=True)\n",
    "\n",
    "test = pd.read_csv(f'{data_folder}test_pairs.csv')\n",
    "\n",
    "train['user_id'] = train['user_id'].astype('category')\n",
    "train['item_id'] = train['item_id'].astype('category')\n",
    "\n",
    "test['user_id'] = test['user_id'].astype('category')\n",
    "test['item_id'] = test['item_id'].astype('category')"
   ],
   "metadata": {
    "collapsed": false,
    "ExecuteTime": {
     "end_time": "2024-11-21T06:38:07.105400900Z",
     "start_time": "2024-11-21T06:37:59.361900500Z"
    }
   },
   "id": "d32b224fde923698",
   "execution_count": 2
  },
  {
   "cell_type": "code",
   "outputs": [
    {
     "name": "stdout",
     "output_type": "stream",
     "text": [
      "Размер train: 1683.099609375 мб\n",
      "user_id      category\n",
      "item_id      category\n",
      "timespent       uint8\n",
      "target           int8\n",
      "share           uint8\n",
      "bookmarks       uint8\n",
      "dtype: object\n"
     ]
    }
   ],
   "source": [
    "memory_usage = train.memory_usage(deep=True).sum()\n",
    "memory_usage_mb = memory_usage / (1024 * 1024)\n",
    "print(f\"Размер train: {memory_usage_mb} мб\")\n",
    "print(train.dtypes)"
   ],
   "metadata": {
    "collapsed": false,
    "ExecuteTime": {
     "end_time": "2024-11-21T06:38:07.149402600Z",
     "start_time": "2024-11-21T06:38:07.113401Z"
    }
   },
   "id": "f3d0d9a795768800",
   "execution_count": 3
  },
  {
   "cell_type": "code",
   "outputs": [
    {
     "name": "stdout",
     "output_type": "stream",
     "text": [
      "Размер test: 20.448028564453125 мб\n",
      "user_id    category\n",
      "item_id    category\n",
      "dtype: object\n"
     ]
    }
   ],
   "source": [
    "memory_usage = test.memory_usage(deep=True).sum()\n",
    "memory_usage_mb = memory_usage / (1024 * 1024)\n",
    "print(f\"Размер test: {memory_usage_mb} мб\")\n",
    "print(test.dtypes)"
   ],
   "metadata": {
    "collapsed": false,
    "ExecuteTime": {
     "end_time": "2024-11-21T06:38:07.150403400Z",
     "start_time": "2024-11-21T06:38:07.135401600Z"
    }
   },
   "id": "963634ab8c7121cb",
   "execution_count": 4
  },
  {
   "cell_type": "code",
   "outputs": [],
   "source": [
    "CONFIG = {\n",
    "    # U. пользователя\n",
    "    'age' : True,\n",
    "    'gender' : False,\n",
    "    \n",
    "    # I. клипа\n",
    "    'item_duration' : True,\n",
    "    'item_embeddings' : False,\n",
    "    \n",
    "    # S. источника\n",
    "    'source_id' : False\n",
    "}   "
   ],
   "metadata": {
    "collapsed": false,
    "ExecuteTime": {
     "end_time": "2024-11-21T06:38:07.182402300Z",
     "start_time": "2024-11-21T06:38:07.150403400Z"
    }
   },
   "id": "e8325dc8765c1d9f",
   "execution_count": 5
  },
  {
   "cell_type": "code",
   "outputs": [],
   "source": [
    "if CONFIG.get('age', False):\n",
    "    train['age'] = train['user_id'].map(users_meta['age'])\n",
    "    test['age'] = test['user_id'].map(users_meta['age'])"
   ],
   "metadata": {
    "collapsed": false,
    "ExecuteTime": {
     "end_time": "2024-11-21T06:38:07.962741100Z",
     "start_time": "2024-11-21T06:38:07.166403400Z"
    }
   },
   "id": "dac4ba792fea263",
   "execution_count": 6
  },
  {
   "cell_type": "code",
   "outputs": [],
   "source": [
    "if CONFIG.get('gender', False):\n",
    "    train['gender'] = train['user_id'].map(users_meta['gender'])\n",
    "    test['gender'] = test['user_id'].map(users_meta['gender'])"
   ],
   "metadata": {
    "collapsed": false,
    "ExecuteTime": {
     "end_time": "2024-11-21T06:38:07.983741600Z",
     "start_time": "2024-11-21T06:38:07.964742200Z"
    }
   },
   "id": "c7bd01677c87beb3",
   "execution_count": 7
  },
  {
   "cell_type": "code",
   "outputs": [],
   "source": [
    "if CONFIG.get('item_duration', False):\n",
    "    train['item_duration'] = train['item_id'].map(items_meta['duration']).astype('uint8')\n",
    "    test['item_duration'] = test['item_id'].map(items_meta['duration']).astype('uint8')"
   ],
   "metadata": {
    "collapsed": false,
    "ExecuteTime": {
     "end_time": "2024-11-21T06:38:09.674413300Z",
     "start_time": "2024-11-21T06:38:07.980743800Z"
    }
   },
   "id": "35c16b261bedadbe",
   "execution_count": 8
  },
  {
   "cell_type": "code",
   "outputs": [],
   "source": [
    "if CONFIG.get('item_embeddings', False):\n",
    "    train = train.merge(items_meta[['embeddings']], left_on='item_id', right_index=True,  how='left')\n",
    "    test = test.merge(items_meta[['embeddings']], left_on='item_id', right_index=True,  how='left')"
   ],
   "metadata": {
    "collapsed": false,
    "ExecuteTime": {
     "end_time": "2024-11-21T06:38:09.692413500Z",
     "start_time": "2024-11-21T06:38:09.675413800Z"
    }
   },
   "id": "5087fea0ddc6b10f",
   "execution_count": 9
  },
  {
   "cell_type": "code",
   "outputs": [],
   "source": [
    "if CONFIG.get('source_id', False):   \n",
    "    train['source_id'] = train['item_id'].map(items_meta['source_id']).astype('category')\n",
    "    test['source_id'] = test['item_id'].map(items_meta['source_id']).astype('category')"
   ],
   "metadata": {
    "collapsed": false,
    "ExecuteTime": {
     "end_time": "2024-11-21T06:38:09.706414700Z",
     "start_time": "2024-11-21T06:38:09.691414Z"
    }
   },
   "id": "748785a86529dc43",
   "execution_count": 10
  },
  {
   "cell_type": "code",
   "outputs": [
    {
     "data": {
      "text/plain": "8"
     },
     "execution_count": 11,
     "metadata": {},
     "output_type": "execute_result"
    }
   ],
   "source": [
    "len(train.columns)"
   ],
   "metadata": {
    "collapsed": false,
    "ExecuteTime": {
     "end_time": "2024-11-21T06:38:09.719414Z",
     "start_time": "2024-11-21T06:38:09.703416Z"
    }
   },
   "id": "4bf3c15ca68177cc",
   "execution_count": 11
  },
  {
   "cell_type": "code",
   "outputs": [
    {
     "data": {
      "text/plain": "4"
     },
     "execution_count": 12,
     "metadata": {},
     "output_type": "execute_result"
    }
   ],
   "source": [
    "len(test.columns)"
   ],
   "metadata": {
    "collapsed": false,
    "ExecuteTime": {
     "end_time": "2024-11-21T06:38:09.747412800Z",
     "start_time": "2024-11-21T06:38:09.720414100Z"
    }
   },
   "id": "e1429ab7d5d00b2d",
   "execution_count": 12
  },
  {
   "cell_type": "code",
   "outputs": [],
   "source": [
    "train.drop(columns=['timespent', 'share', 'bookmarks'], inplace=True)"
   ],
   "metadata": {
    "collapsed": false,
    "ExecuteTime": {
     "end_time": "2024-11-21T06:38:10.260411400Z",
     "start_time": "2024-11-21T06:38:09.736412700Z"
    }
   },
   "id": "e5c739f6bb7cea09",
   "execution_count": 13
  },
  {
   "cell_type": "code",
   "outputs": [],
   "source": [
    "custom_data_folder = 'C:/Users/Николай/PycharmProjects/VKRecSys/custom_data/'"
   ],
   "metadata": {
    "collapsed": false,
    "ExecuteTime": {
     "end_time": "2024-11-21T06:38:10.276412100Z",
     "start_time": "2024-11-21T06:38:10.262411400Z"
    }
   },
   "id": "6133fc930feba0b1",
   "execution_count": 14
  },
  {
   "cell_type": "code",
   "outputs": [],
   "source": [
    "train.to_parquet(f'{custom_data_folder}fv2_train.parquet', index=False)"
   ],
   "metadata": {
    "collapsed": false,
    "ExecuteTime": {
     "end_time": "2024-11-21T06:38:23.009220600Z",
     "start_time": "2024-11-21T06:38:10.277412100Z"
    }
   },
   "id": "96544ffca105286d",
   "execution_count": 15
  },
  {
   "cell_type": "code",
   "outputs": [],
   "source": [
    "test.to_parquet(f'{custom_data_folder}fv2_test.parquet', index=False)"
   ],
   "metadata": {
    "collapsed": false,
    "ExecuteTime": {
     "end_time": "2024-11-21T06:38:23.151230900Z",
     "start_time": "2024-11-21T06:38:23.011217800Z"
    }
   },
   "id": "e5ad27b393afffbd",
   "execution_count": 16
  },
  {
   "cell_type": "code",
   "outputs": [
    {
     "data": {
      "text/plain": "Index(['user_id', 'item_id', 'target', 'age', 'item_duration'], dtype='object')"
     },
     "execution_count": 17,
     "metadata": {},
     "output_type": "execute_result"
    }
   ],
   "source": [
    "train.columns"
   ],
   "metadata": {
    "collapsed": false,
    "ExecuteTime": {
     "end_time": "2024-11-21T06:38:23.167279800Z",
     "start_time": "2024-11-21T06:38:23.152299400Z"
    }
   },
   "id": "f5b2044e910eb65f",
   "execution_count": 17
  },
  {
   "cell_type": "code",
   "outputs": [
    {
     "data": {
      "text/plain": "Index(['user_id', 'item_id', 'age', 'item_duration'], dtype='object')"
     },
     "execution_count": 18,
     "metadata": {},
     "output_type": "execute_result"
    }
   ],
   "source": [
    "test.columns"
   ],
   "metadata": {
    "collapsed": false,
    "ExecuteTime": {
     "end_time": "2024-11-21T06:38:23.194233400Z",
     "start_time": "2024-11-21T06:38:23.169221900Z"
    }
   },
   "id": "f1d629174a289b58",
   "execution_count": 18
  },
  {
   "cell_type": "code",
   "outputs": [
    {
     "data": {
      "text/plain": "  user_id item_id  target age  item_duration\n0    3810  138979       0  36             54\n1  101874  331160       0  52              6\n2  150332   73709       0  24             16\n3    4982  189745       0  40             25\n4  149601  289643       0  34             23",
      "text/html": "<div>\n<style scoped>\n    .dataframe tbody tr th:only-of-type {\n        vertical-align: middle;\n    }\n\n    .dataframe tbody tr th {\n        vertical-align: top;\n    }\n\n    .dataframe thead th {\n        text-align: right;\n    }\n</style>\n<table border=\"1\" class=\"dataframe\">\n  <thead>\n    <tr style=\"text-align: right;\">\n      <th></th>\n      <th>user_id</th>\n      <th>item_id</th>\n      <th>target</th>\n      <th>age</th>\n      <th>item_duration</th>\n    </tr>\n  </thead>\n  <tbody>\n    <tr>\n      <th>0</th>\n      <td>3810</td>\n      <td>138979</td>\n      <td>0</td>\n      <td>36</td>\n      <td>54</td>\n    </tr>\n    <tr>\n      <th>1</th>\n      <td>101874</td>\n      <td>331160</td>\n      <td>0</td>\n      <td>52</td>\n      <td>6</td>\n    </tr>\n    <tr>\n      <th>2</th>\n      <td>150332</td>\n      <td>73709</td>\n      <td>0</td>\n      <td>24</td>\n      <td>16</td>\n    </tr>\n    <tr>\n      <th>3</th>\n      <td>4982</td>\n      <td>189745</td>\n      <td>0</td>\n      <td>40</td>\n      <td>25</td>\n    </tr>\n    <tr>\n      <th>4</th>\n      <td>149601</td>\n      <td>289643</td>\n      <td>0</td>\n      <td>34</td>\n      <td>23</td>\n    </tr>\n  </tbody>\n</table>\n</div>"
     },
     "execution_count": 19,
     "metadata": {},
     "output_type": "execute_result"
    }
   ],
   "source": [
    "train.head()"
   ],
   "metadata": {
    "collapsed": false,
    "ExecuteTime": {
     "end_time": "2024-11-21T06:38:23.227215500Z",
     "start_time": "2024-11-21T06:38:23.184219700Z"
    }
   },
   "id": "aba05a8954d6ddd7",
   "execution_count": 19
  },
  {
   "cell_type": "code",
   "outputs": [],
   "source": [],
   "metadata": {
    "collapsed": false,
    "ExecuteTime": {
     "end_time": "2024-11-21T06:38:23.247216500Z",
     "start_time": "2024-11-21T06:38:23.214218100Z"
    }
   },
   "id": "fbda91f1055a3793",
   "execution_count": 19
  }
 ],
 "metadata": {
  "kernelspec": {
   "display_name": "Python 3",
   "language": "python",
   "name": "python3"
  },
  "language_info": {
   "codemirror_mode": {
    "name": "ipython",
    "version": 2
   },
   "file_extension": ".py",
   "mimetype": "text/x-python",
   "name": "python",
   "nbconvert_exporter": "python",
   "pygments_lexer": "ipython2",
   "version": "2.7.6"
  }
 },
 "nbformat": 4,
 "nbformat_minor": 5
}
