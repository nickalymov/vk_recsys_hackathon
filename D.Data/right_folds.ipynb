{
 "cells": [
  {
   "cell_type": "code",
   "outputs": [],
   "source": [
    "import pandas as pd\n",
    "import numpy as np\n",
    "from sklearn.model_selection import StratifiedKFold\n",
    "from tqdm import tqdm\n",
    "import warnings\n",
    "warnings.filterwarnings(\"ignore\")"
   ],
   "metadata": {
    "collapsed": false,
    "ExecuteTime": {
     "end_time": "2024-11-02T13:21:49.046606700Z",
     "start_time": "2024-11-02T13:21:47.687999700Z"
    }
   },
   "id": "e70a42273e32f013",
   "execution_count": 1
  },
  {
   "cell_type": "code",
   "outputs": [],
   "source": [
    "data_folder = 'C:/Users/Николай/PycharmProjects/VKRecSys/data/'\n",
    "train = pd.read_parquet(f'{data_folder}train_interactions.parquet', engine='pyarrow')\n",
    "train['like'] = train['like'] + train['dislike'].replace({1: -1})\n",
    "train.drop(columns=['dislike'], inplace=True)\n",
    "train['like'] = train['like'].astype('int8')\n",
    "train.rename(columns={'like' : 'target'}, inplace=True)"
   ],
   "metadata": {
    "collapsed": false,
    "ExecuteTime": {
     "end_time": "2024-11-02T13:21:52.785195400Z",
     "start_time": "2024-11-02T13:21:49.048608700Z"
    }
   },
   "id": "2659778b521b2777",
   "execution_count": 2
  },
  {
   "cell_type": "code",
   "outputs": [],
   "source": [
    "train = train.sort_values(by='user_id')"
   ],
   "metadata": {
    "collapsed": false,
    "ExecuteTime": {
     "end_time": "2024-11-02T13:22:30.449388300Z",
     "start_time": "2024-11-02T13:21:52.786218600Z"
    }
   },
   "id": "3565e41c449beb65",
   "execution_count": 3
  },
  {
   "cell_type": "code",
   "outputs": [],
   "source": [
    "# Добавляем столбец для фолда\n",
    "train['fold'] = -1\n",
    "\n",
    "# Инициализируем tqdm\n",
    "tqdm.pandas()"
   ],
   "metadata": {
    "collapsed": false,
    "ExecuteTime": {
     "end_time": "2024-11-02T13:22:30.700488Z",
     "start_time": "2024-11-02T13:22:30.451359100Z"
    }
   },
   "id": "c110bd137a781a26",
   "execution_count": 4
  },
  {
   "cell_type": "code",
   "outputs": [
    {
     "name": "stderr",
     "output_type": "stream",
     "text": [
      "Processing users:   5%|▌         | 9908/183404 [00:36<03:37, 796.82it/s] "
     ]
    },
    {
     "name": "stdout",
     "output_type": "stream",
     "text": [
      "1\n"
     ]
    },
    {
     "name": "stderr",
     "output_type": "stream",
     "text": [
      "Processing users:  62%|██████▏   | 114463/183404 [03:05<01:20, 852.44it/s]"
     ]
    },
    {
     "name": "stdout",
     "output_type": "stream",
     "text": [
      "1\n"
     ]
    },
    {
     "name": "stderr",
     "output_type": "stream",
     "text": [
      "Processing users:  94%|█████████▍| 172727/183404 [04:24<00:12, 880.54it/s]"
     ]
    },
    {
     "name": "stdout",
     "output_type": "stream",
     "text": [
      "1\n"
     ]
    },
    {
     "name": "stderr",
     "output_type": "stream",
     "text": [
      "Processing users:  98%|█████████▊| 180439/183404 [04:33<00:03, 891.92it/s]"
     ]
    },
    {
     "name": "stdout",
     "output_type": "stream",
     "text": [
      "1\n"
     ]
    },
    {
     "name": "stderr",
     "output_type": "stream",
     "text": [
      "Processing users: 100%|██████████| 183404/183404 [04:36<00:00, 662.34it/s]\n"
     ]
    }
   ],
   "source": [
    "# Группируем по user_id\n",
    "for user, group in tqdm(train.groupby('user_id'), desc=\"Processing users\"):\n",
    "    \n",
    "    counts = group['target'].value_counts()\n",
    "    \n",
    "    # Проверка количества записей в группе\n",
    "    if counts.max() < 4:\n",
    "        print(1)\n",
    "        # Если записей меньше 4, назначаем все в один фолд (например, 0)\n",
    "        train.loc[group.index, 'fold'] = 0\n",
    "    else:\n",
    "        # Стратифицированная разбивка на 4 фолда\n",
    "        skf = StratifiedKFold(n_splits=4, shuffle=True, random_state=42)\n",
    "        \n",
    "        # Получаем индексы для каждого фолда\n",
    "        for fold, (train_index, test_index) in enumerate(skf.split(group, group['target'])):\n",
    "            train.loc[group.index[test_index], 'fold'] = fold"
   ],
   "metadata": {
    "collapsed": true,
    "ExecuteTime": {
     "end_time": "2024-11-02T13:27:14.054073400Z",
     "start_time": "2024-11-02T13:22:30.703471Z"
    }
   },
   "id": "initial_id",
   "execution_count": 5
  },
  {
   "cell_type": "code",
   "outputs": [
    {
     "data": {
      "text/plain": "1    58\n0    58\n2    58\n3    57\nName: fold, dtype: int64"
     },
     "execution_count": 6,
     "metadata": {},
     "output_type": "execute_result"
    }
   ],
   "source": [
    "train[(train['user_id']==13)&(train['target']==0)]['fold'].value_counts()"
   ],
   "metadata": {
    "collapsed": false,
    "ExecuteTime": {
     "end_time": "2024-11-02T13:27:14.704774Z",
     "start_time": "2024-11-02T13:27:14.062077400Z"
    }
   },
   "id": "ee40bfe3b016c97",
   "execution_count": 6
  },
  {
   "cell_type": "code",
   "outputs": [
    {
     "data": {
      "text/plain": "0    3\n1    3\nName: target, dtype: int64"
     },
     "execution_count": 7,
     "metadata": {},
     "output_type": "execute_result"
    }
   ],
   "source": [
    "train[train['user_id']==114331]['target'].value_counts()"
   ],
   "metadata": {
    "collapsed": false,
    "ExecuteTime": {
     "end_time": "2024-11-02T13:27:14.797772900Z",
     "start_time": "2024-11-02T13:27:14.703820100Z"
    }
   },
   "id": "13fad49c7cb4beea",
   "execution_count": 7
  },
  {
   "cell_type": "code",
   "outputs": [
    {
     "data": {
      "text/plain": "0    36485824\n1    36439626\n2    36393988\n3    36347844\nName: fold, dtype: int64"
     },
     "execution_count": 8,
     "metadata": {},
     "output_type": "execute_result"
    }
   ],
   "source": [
    "train['fold'].value_counts()"
   ],
   "metadata": {
    "collapsed": false,
    "ExecuteTime": {
     "end_time": "2024-11-02T13:27:15.322794400Z",
     "start_time": "2024-11-02T13:27:14.797772900Z"
    }
   },
   "id": "c54dbb7adb080238",
   "execution_count": 8
  },
  {
   "cell_type": "code",
   "outputs": [],
   "source": [
    "series = train['fold']"
   ],
   "metadata": {
    "collapsed": false,
    "ExecuteTime": {
     "end_time": "2024-11-02T13:27:15.354817100Z",
     "start_time": "2024-11-02T13:27:15.338817400Z"
    }
   },
   "id": "e89a15b2faa843f6",
   "execution_count": 9
  },
  {
   "cell_type": "code",
   "outputs": [],
   "source": [
    "series.to_csv('data/fold.csv', index=False)"
   ],
   "metadata": {
    "collapsed": false,
    "ExecuteTime": {
     "end_time": "2024-11-02T13:27:50.304078500Z",
     "start_time": "2024-11-02T13:27:15.353805800Z"
    }
   },
   "id": "fb86bbbfa55d7502",
   "execution_count": 10
  },
  {
   "cell_type": "code",
   "outputs": [
    {
     "data": {
      "text/plain": "34594896     2\n134531857    0\n113378626    1\n49135032     1\n19151932     0\n            ..\n138686636    1\n112040078    1\n112039761    1\n145121692    0\n18701593     3\nName: fold, Length: 145667282, dtype: int64"
     },
     "execution_count": 11,
     "metadata": {},
     "output_type": "execute_result"
    }
   ],
   "source": [
    "series"
   ],
   "metadata": {
    "collapsed": false,
    "ExecuteTime": {
     "end_time": "2024-11-02T13:28:21.686990800Z",
     "start_time": "2024-11-02T13:28:21.662971500Z"
    }
   },
   "id": "b7d1e88adf0b233b",
   "execution_count": 11
  },
  {
   "cell_type": "code",
   "outputs": [],
   "source": [],
   "metadata": {
    "collapsed": false
   },
   "id": "69b659a63d42589a"
  }
 ],
 "metadata": {
  "kernelspec": {
   "display_name": "Python 3",
   "language": "python",
   "name": "python3"
  },
  "language_info": {
   "codemirror_mode": {
    "name": "ipython",
    "version": 2
   },
   "file_extension": ".py",
   "mimetype": "text/x-python",
   "name": "python",
   "nbconvert_exporter": "python",
   "pygments_lexer": "ipython2",
   "version": "2.7.6"
  }
 },
 "nbformat": 4,
 "nbformat_minor": 5
}
