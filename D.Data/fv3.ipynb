{
 "cells": [
  {
   "cell_type": "code",
   "execution_count": 1,
   "id": "initial_id",
   "metadata": {
    "collapsed": true,
    "ExecuteTime": {
     "end_time": "2024-11-24T09:03:51.014695500Z",
     "start_time": "2024-11-24T09:03:50.753598200Z"
    }
   },
   "outputs": [],
   "source": [
    "import pandas as pd\n",
    "\n",
    "import warnings\n",
    "warnings.filterwarnings(\"ignore\")"
   ]
  },
  {
   "cell_type": "code",
   "outputs": [],
   "source": [
    "data_folder = 'C:/Users/Николай/PycharmProjects/VKRecSys/data/'\n",
    "\n",
    "# items_meta \n",
    "items_meta = pd.read_parquet(f'{data_folder}items_meta.parquet', engine='pyarrow')\n",
    "items_meta['item_id'] = items_meta['item_id'].astype('category')\n",
    "items_meta['source_id'] = items_meta['source_id'].astype('category')\n",
    "items_meta.set_index('item_id', inplace=True)\n",
    "\n",
    "# users_meta\n",
    "users_meta = pd.read_parquet(f'{data_folder}users_meta.parquet', engine='pyarrow')\n",
    "users_meta['user_id'] = users_meta['user_id'].astype('category')\n",
    "users_meta['age'] = users_meta['age'].astype('category')\n",
    "users_meta['gender'] = users_meta['gender'].astype('category')\n",
    "users_meta.set_index('user_id', inplace=True)\n",
    "\n",
    "train = pd.read_parquet(f'{data_folder}train_interactions.parquet', engine='pyarrow')\n",
    "train['like'] = train['like'] + train['dislike'].replace({1: -1})\n",
    "train.drop(columns=['dislike'], inplace=True)\n",
    "train['like'] = train['like'].astype('int8')\n",
    "train.rename(columns={'like' : 'target'}, inplace=True)\n",
    "\n",
    "test = pd.read_csv(f'{data_folder}test_pairs.csv')\n",
    "\n",
    "train['user_id'] = train['user_id'].astype('category')\n",
    "train['item_id'] = train['item_id'].astype('category')\n",
    "\n",
    "test['user_id'] = test['user_id'].astype('category')\n",
    "test['item_id'] = test['item_id'].astype('category')"
   ],
   "metadata": {
    "collapsed": false,
    "ExecuteTime": {
     "end_time": "2024-11-24T09:03:58.188576500Z",
     "start_time": "2024-11-24T09:03:51.015663700Z"
    }
   },
   "id": "d32b224fde923698",
   "execution_count": 2
  },
  {
   "cell_type": "code",
   "outputs": [
    {
     "name": "stdout",
     "output_type": "stream",
     "text": [
      "Размер train: 1683.099609375 мб\n",
      "user_id      category\n",
      "item_id      category\n",
      "timespent       uint8\n",
      "target           int8\n",
      "share           uint8\n",
      "bookmarks       uint8\n",
      "dtype: object\n"
     ]
    }
   ],
   "source": [
    "memory_usage = train.memory_usage(deep=True).sum()\n",
    "memory_usage_mb = memory_usage / (1024 * 1024)\n",
    "print(f\"Размер train: {memory_usage_mb} мб\")\n",
    "print(train.dtypes)"
   ],
   "metadata": {
    "collapsed": false,
    "ExecuteTime": {
     "end_time": "2024-11-24T09:03:58.211472900Z",
     "start_time": "2024-11-24T09:03:58.189603400Z"
    }
   },
   "id": "f3d0d9a795768800",
   "execution_count": 3
  },
  {
   "cell_type": "code",
   "outputs": [
    {
     "name": "stdout",
     "output_type": "stream",
     "text": [
      "Размер test: 20.448028564453125 мб\n",
      "user_id    category\n",
      "item_id    category\n",
      "dtype: object\n"
     ]
    }
   ],
   "source": [
    "memory_usage = test.memory_usage(deep=True).sum()\n",
    "memory_usage_mb = memory_usage / (1024 * 1024)\n",
    "print(f\"Размер test: {memory_usage_mb} мб\")\n",
    "print(test.dtypes)"
   ],
   "metadata": {
    "collapsed": false,
    "ExecuteTime": {
     "end_time": "2024-11-24T09:03:58.229471300Z",
     "start_time": "2024-11-24T09:03:58.208473100Z"
    }
   },
   "id": "963634ab8c7121cb",
   "execution_count": 4
  },
  {
   "cell_type": "code",
   "outputs": [],
   "source": [
    "CONFIG = {\n",
    "    # U. пользователя\n",
    "    'age' : True,\n",
    "    'gender' : True,\n",
    "    \n",
    "    # I. клипа\n",
    "    'duration' : True,\n",
    "    'embeddings' : True,\n",
    "    \n",
    "    # S. источника\n",
    "    'source_id' : True\n",
    "}   "
   ],
   "metadata": {
    "collapsed": false,
    "ExecuteTime": {
     "end_time": "2024-11-24T09:03:58.242471300Z",
     "start_time": "2024-11-24T09:03:58.221471700Z"
    }
   },
   "id": "e8325dc8765c1d9f",
   "execution_count": 5
  },
  {
   "cell_type": "code",
   "outputs": [],
   "source": [
    "if CONFIG.get('age', False):\n",
    "    train['age'] = train['user_id'].map(users_meta['age'])\n",
    "    test['age'] = test['user_id'].map(users_meta['age'])"
   ],
   "metadata": {
    "collapsed": false,
    "ExecuteTime": {
     "end_time": "2024-11-24T09:03:59.168107100Z",
     "start_time": "2024-11-24T09:03:58.237471100Z"
    }
   },
   "id": "dac4ba792fea263",
   "execution_count": 6
  },
  {
   "cell_type": "code",
   "outputs": [],
   "source": [
    "if CONFIG.get('gender', False):\n",
    "    train['gender'] = train['user_id'].map(users_meta['gender'])\n",
    "    test['gender'] = test['user_id'].map(users_meta['gender'])"
   ],
   "metadata": {
    "collapsed": false,
    "ExecuteTime": {
     "end_time": "2024-11-24T09:04:00.028203600Z",
     "start_time": "2024-11-24T09:03:59.169073500Z"
    }
   },
   "id": "c7bd01677c87beb3",
   "execution_count": 7
  },
  {
   "cell_type": "code",
   "outputs": [],
   "source": [
    "if CONFIG.get('duration', False):\n",
    "    train['duration'] = train['item_id'].map(items_meta['duration']).astype('uint8')\n",
    "    test['duration'] = test['item_id'].map(items_meta['duration']).astype('uint8')"
   ],
   "metadata": {
    "collapsed": false,
    "ExecuteTime": {
     "end_time": "2024-11-24T09:04:01.646225Z",
     "start_time": "2024-11-24T09:04:00.026160800Z"
    }
   },
   "id": "35c16b261bedadbe",
   "execution_count": 8
  },
  {
   "cell_type": "code",
   "outputs": [],
   "source": [
    "if CONFIG.get('embeddings', False):\n",
    "    train = train.merge(items_meta[['embeddings']], left_on='item_id', right_index=True,  how='left')\n",
    "    test = test.merge(items_meta[['embeddings']], left_on='item_id', right_index=True,  how='left')"
   ],
   "metadata": {
    "collapsed": false,
    "ExecuteTime": {
     "end_time": "2024-11-24T09:04:21.547618400Z",
     "start_time": "2024-11-24T09:04:01.648262900Z"
    }
   },
   "id": "5087fea0ddc6b10f",
   "execution_count": 9
  },
  {
   "cell_type": "code",
   "outputs": [],
   "source": [
    "if CONFIG.get('source_id', False):   \n",
    "    train['source_id'] = train['item_id'].map(items_meta['source_id']).astype('category')\n",
    "    test['source_id'] = test['item_id'].map(items_meta['source_id']).astype('category')"
   ],
   "metadata": {
    "collapsed": false,
    "ExecuteTime": {
     "end_time": "2024-11-24T09:04:22.824734100Z",
     "start_time": "2024-11-24T09:04:21.554580300Z"
    }
   },
   "id": "748785a86529dc43",
   "execution_count": 10
  },
  {
   "cell_type": "code",
   "outputs": [
    {
     "data": {
      "text/plain": "11"
     },
     "execution_count": 11,
     "metadata": {},
     "output_type": "execute_result"
    }
   ],
   "source": [
    "len(train.columns)"
   ],
   "metadata": {
    "collapsed": false,
    "ExecuteTime": {
     "end_time": "2024-11-24T09:04:22.839753900Z",
     "start_time": "2024-11-24T09:04:22.828751400Z"
    }
   },
   "id": "4bf3c15ca68177cc",
   "execution_count": 11
  },
  {
   "cell_type": "code",
   "outputs": [
    {
     "data": {
      "text/plain": "7"
     },
     "execution_count": 12,
     "metadata": {},
     "output_type": "execute_result"
    }
   ],
   "source": [
    "len(test.columns)"
   ],
   "metadata": {
    "collapsed": false,
    "ExecuteTime": {
     "end_time": "2024-11-24T09:04:22.861829600Z",
     "start_time": "2024-11-24T09:04:22.840751Z"
    }
   },
   "id": "e1429ab7d5d00b2d",
   "execution_count": 12
  },
  {
   "cell_type": "code",
   "outputs": [],
   "source": [
    "train.drop(columns=['timespent', 'share', 'bookmarks'], inplace=True)"
   ],
   "metadata": {
    "collapsed": false,
    "ExecuteTime": {
     "end_time": "2024-11-24T09:04:25.022498700Z",
     "start_time": "2024-11-24T09:04:23.006852200Z"
    }
   },
   "id": "e5c739f6bb7cea09",
   "execution_count": 13
  },
  {
   "cell_type": "code",
   "outputs": [],
   "source": [
    "custom_data_folder = 'C:/Users/Николай/PycharmProjects/VKRecSys/custom_data/'"
   ],
   "metadata": {
    "collapsed": false,
    "ExecuteTime": {
     "end_time": "2024-11-24T09:04:25.040506400Z",
     "start_time": "2024-11-24T09:04:25.024427800Z"
    }
   },
   "id": "6133fc930feba0b1",
   "execution_count": 14
  },
  {
   "cell_type": "code",
   "outputs": [],
   "source": [
    "train.to_parquet(f'{custom_data_folder}fv3_train.parquet', index=False)"
   ],
   "metadata": {
    "collapsed": false,
    "is_executing": true,
    "ExecuteTime": {
     "start_time": "2024-11-24T09:04:25.040506400Z"
    }
   },
   "id": "96544ffca105286d",
   "execution_count": null
  },
  {
   "cell_type": "code",
   "outputs": [],
   "source": [
    "test.to_parquet(f'{custom_data_folder}fv3_test.parquet', index=False)"
   ],
   "metadata": {
    "collapsed": false,
    "is_executing": true
   },
   "id": "e5ad27b393afffbd",
   "execution_count": null
  }
 ],
 "metadata": {
  "kernelspec": {
   "display_name": "Python 3",
   "language": "python",
   "name": "python3"
  },
  "language_info": {
   "codemirror_mode": {
    "name": "ipython",
    "version": 2
   },
   "file_extension": ".py",
   "mimetype": "text/x-python",
   "name": "python",
   "nbconvert_exporter": "python",
   "pygments_lexer": "ipython2",
   "version": "2.7.6"
  }
 },
 "nbformat": 4,
 "nbformat_minor": 5
}
